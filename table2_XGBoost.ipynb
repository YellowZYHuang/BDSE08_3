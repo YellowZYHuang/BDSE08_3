{
 "cells": [
  {
   "cell_type": "code",
   "execution_count": 1,
   "metadata": {},
   "outputs": [],
   "source": [
    "import pandas as pd\n",
    "import numpy as np\n",
    "\n",
    "import matplotlib.pyplot as plt\n",
    "%matplotlib inline\n",
    "import seaborn as sns\n",
    "sns.set()\n",
    "\n",
    "from sklearn.model_selection import train_test_split\n",
    "from sklearn.metrics import accuracy_score"
   ]
  },
  {
   "cell_type": "code",
   "execution_count": 2,
   "metadata": {},
   "outputs": [
    {
     "data": {
      "text/plain": [
       "'0.7.post3'"
      ]
     },
     "execution_count": 2,
     "metadata": {},
     "output_type": "execute_result"
    }
   ],
   "source": [
    "import xgboost as xgb\n",
    "xgb.__version__"
   ]
  },
  {
   "cell_type": "code",
   "execution_count": 31,
   "metadata": {},
   "outputs": [],
   "source": [
    "df=pd.read_csv('dataset/table_2_f99.csv') # 載入資料"
   ]
  },
  {
   "cell_type": "code",
   "execution_count": 32,
   "metadata": {},
   "outputs": [
    {
     "data": {
      "text/html": [
       "<div>\n",
       "<style scoped>\n",
       "    .dataframe tbody tr th:only-of-type {\n",
       "        vertical-align: middle;\n",
       "    }\n",
       "\n",
       "    .dataframe tbody tr th {\n",
       "        vertical-align: top;\n",
       "    }\n",
       "\n",
       "    .dataframe thead th {\n",
       "        text-align: right;\n",
       "    }\n",
       "</style>\n",
       "<table border=\"1\" class=\"dataframe\">\n",
       "  <thead>\n",
       "    <tr style=\"text-align: right;\">\n",
       "      <th></th>\n",
       "      <th>user</th>\n",
       "      <th>time_stamp</th>\n",
       "      <th>adgroup_id</th>\n",
       "      <th>pid</th>\n",
       "      <th>clk</th>\n",
       "      <th>cate_id</th>\n",
       "      <th>campaign_id</th>\n",
       "      <th>customer</th>\n",
       "      <th>price</th>\n",
       "      <th>cms_segid</th>\n",
       "      <th>...</th>\n",
       "      <th>buy_1</th>\n",
       "      <th>pv_2</th>\n",
       "      <th>cart_2</th>\n",
       "      <th>fav_2</th>\n",
       "      <th>buy_2</th>\n",
       "      <th>pv_3</th>\n",
       "      <th>cart_3</th>\n",
       "      <th>fav_3</th>\n",
       "      <th>buy_3</th>\n",
       "      <th>brand_New</th>\n",
       "    </tr>\n",
       "  </thead>\n",
       "  <tbody>\n",
       "    <tr>\n",
       "      <th>0</th>\n",
       "      <td>1000027</td>\n",
       "      <td>1494494716</td>\n",
       "      <td>246645</td>\n",
       "      <td>430548_1007</td>\n",
       "      <td>0</td>\n",
       "      <td>6208</td>\n",
       "      <td>195222</td>\n",
       "      <td>199819</td>\n",
       "      <td>62.0</td>\n",
       "      <td>0</td>\n",
       "      <td>...</td>\n",
       "      <td>0</td>\n",
       "      <td>0</td>\n",
       "      <td>0</td>\n",
       "      <td>0</td>\n",
       "      <td>0</td>\n",
       "      <td>0</td>\n",
       "      <td>0</td>\n",
       "      <td>0</td>\n",
       "      <td>0</td>\n",
       "      <td>442562</td>\n",
       "    </tr>\n",
       "    <tr>\n",
       "      <th>1</th>\n",
       "      <td>1000027</td>\n",
       "      <td>1494368981</td>\n",
       "      <td>206359</td>\n",
       "      <td>430548_1007</td>\n",
       "      <td>0</td>\n",
       "      <td>6208</td>\n",
       "      <td>157711</td>\n",
       "      <td>180976</td>\n",
       "      <td>63.0</td>\n",
       "      <td>0</td>\n",
       "      <td>...</td>\n",
       "      <td>0</td>\n",
       "      <td>0</td>\n",
       "      <td>0</td>\n",
       "      <td>0</td>\n",
       "      <td>0</td>\n",
       "      <td>0</td>\n",
       "      <td>0</td>\n",
       "      <td>0</td>\n",
       "      <td>0</td>\n",
       "      <td>437825</td>\n",
       "    </tr>\n",
       "    <tr>\n",
       "      <th>2</th>\n",
       "      <td>1000033</td>\n",
       "      <td>1494040741</td>\n",
       "      <td>693435</td>\n",
       "      <td>430548_1007</td>\n",
       "      <td>0</td>\n",
       "      <td>4280</td>\n",
       "      <td>144854</td>\n",
       "      <td>126331</td>\n",
       "      <td>39.0</td>\n",
       "      <td>0</td>\n",
       "      <td>...</td>\n",
       "      <td>0</td>\n",
       "      <td>54</td>\n",
       "      <td>3</td>\n",
       "      <td>1</td>\n",
       "      <td>0</td>\n",
       "      <td>97</td>\n",
       "      <td>3</td>\n",
       "      <td>0</td>\n",
       "      <td>0</td>\n",
       "      <td>146115</td>\n",
       "    </tr>\n",
       "  </tbody>\n",
       "</table>\n",
       "<p>3 rows × 31 columns</p>\n",
       "</div>"
      ],
      "text/plain": [
       "      user  time_stamp  adgroup_id          pid  clk  cate_id  campaign_id  \\\n",
       "0  1000027  1494494716      246645  430548_1007    0     6208       195222   \n",
       "1  1000027  1494368981      206359  430548_1007    0     6208       157711   \n",
       "2  1000033  1494040741      693435  430548_1007    0     4280       144854   \n",
       "\n",
       "   customer  price  cms_segid    ...      buy_1  pv_2  cart_2  fav_2  buy_2  \\\n",
       "0    199819   62.0          0    ...          0     0       0      0      0   \n",
       "1    180976   63.0          0    ...          0     0       0      0      0   \n",
       "2    126331   39.0          0    ...          0    54       3      1      0   \n",
       "\n",
       "   pv_3  cart_3 fav_3  buy_3  brand_New  \n",
       "0     0       0     0      0     442562  \n",
       "1     0       0     0      0     437825  \n",
       "2    97       3     0      0     146115  \n",
       "\n",
       "[3 rows x 31 columns]"
      ]
     },
     "execution_count": 32,
     "metadata": {},
     "output_type": "execute_result"
    }
   ],
   "source": [
    "df.head(3)"
   ]
  },
  {
   "cell_type": "code",
   "execution_count": 33,
   "metadata": {},
   "outputs": [
    {
     "data": {
      "text/plain": [
       "(26557961, 31)"
      ]
     },
     "execution_count": 33,
     "metadata": {},
     "output_type": "execute_result"
    }
   ],
   "source": [
    "df.shape"
   ]
  },
  {
   "cell_type": "code",
   "execution_count": 34,
   "metadata": {},
   "outputs": [
    {
     "data": {
      "text/plain": [
       "Index(['user', 'time_stamp', 'adgroup_id', 'pid', 'clk', 'cate_id',\n",
       "       'campaign_id', 'customer', 'price', 'cms_segid', 'cms_group_id',\n",
       "       'final_gender_code', 'age_level', 'pvalue_level', 'shopping_level',\n",
       "       'occupation', 'new_user_class_level', 'user_cate', 'pv_1', 'cart_1',\n",
       "       'fav_1', 'buy_1', 'pv_2', 'cart_2', 'fav_2', 'buy_2', 'pv_3', 'cart_3',\n",
       "       'fav_3', 'buy_3', 'brand_New'],\n",
       "      dtype='object')"
      ]
     },
     "execution_count": 34,
     "metadata": {},
     "output_type": "execute_result"
    }
   ],
   "source": [
    "df.columns"
   ]
  },
  {
   "cell_type": "code",
   "execution_count": 36,
   "metadata": {},
   "outputs": [],
   "source": [
    "df = df.drop(columns=['user_cate'])"
   ]
  },
  {
   "cell_type": "code",
   "execution_count": 37,
   "metadata": {},
   "outputs": [],
   "source": [
    "# 除了最後一欄位是目標，其餘欄位皆為用來預測目標的特徵\n",
    "target=df['clk']\n",
    "x=df.drop(columns=['clk'])"
   ]
  },
  {
   "cell_type": "code",
   "execution_count": 38,
   "metadata": {},
   "outputs": [],
   "source": [
    "# 以pd.factorize()方法，將類別資料編碼為dummy code\n",
    "dataEncoded=pd.DataFrame()\n",
    "encInfo={}\n",
    "for col in x.columns:\n",
    "    facorized=pd.factorize(x[col])\n",
    "\n",
    "    dataEncoded[col]=facorized[0]\n",
    "    encInfo[col]=facorized[1]"
   ]
  },
  {
   "cell_type": "code",
   "execution_count": 39,
   "metadata": {},
   "outputs": [],
   "source": [
    "# 以scikit-learn內建的train, test split, 將資料分成70%訓練，30%測試\n",
    "trainX,testX,trainY,testY=train_test_split(dataEncoded,target,\n",
    "                                           test_size=0.3)"
   ]
  },
  {
   "cell_type": "code",
   "execution_count": 40,
   "metadata": {},
   "outputs": [
    {
     "name": "stdout",
     "output_type": "stream",
     "text": [
      "size of the train data (x):\t (18590572, 29)\n",
      "size of the train data (x):\t (18590572,)\n",
      "size of the test data (y):\t (7967389, 29)\n",
      "size of the test data (y):\t (7967389,)\n"
     ]
    }
   ],
   "source": [
    "# 確認一下資料形狀\n",
    "print('size of the train data (x):\\t',trainX.shape)\n",
    "print('size of the train data (x):\\t',trainY.shape)\n",
    "print('size of the test data (y):\\t',testX.shape)\n",
    "print('size of the test data (y):\\t',testY.shape)"
   ]
  },
  {
   "cell_type": "code",
   "execution_count": 41,
   "metadata": {},
   "outputs": [],
   "source": [
    "# 將資料存成xgboost要求的型態\n",
    "data_train = xgb.DMatrix( trainX, label=trainY)\n",
    "data_test  = xgb.DMatrix( testX, label=testY)"
   ]
  },
  {
   "cell_type": "markdown",
   "metadata": {},
   "source": [
    "### 2. 訓練資料"
   ]
  },
  {
   "cell_type": "code",
   "execution_count": 42,
   "metadata": {},
   "outputs": [
    {
     "name": "stdout",
     "output_type": "stream",
     "text": [
      "CPU times: user 1h 28min 33s, sys: 7min 44s, total: 1h 36min 18s\n",
      "Wall time: 4min\n"
     ]
    }
   ],
   "source": [
    "%%time\n",
    "\n",
    "#給予模型參數，告知演算法該如何訓練模型\n",
    "param = {}\n",
    "param['objective'] = 'reg:linear' # 做線性回歸\n",
    "param['tree_method'] = 'hist'\n",
    "param['silent']=1\n",
    "param['max_depth']=10\n",
    "eval_list  = [(data_train,'train'),(data_test,'test')]\n",
    "num_round = 50\n",
    "eval_history={}\n",
    "\n",
    "# 訓練模型\n",
    "model = xgb.train( param, data_train, num_round,eval_list,\n",
    "                  evals_result=eval_history,verbose_eval=False)"
   ]
  },
  {
   "cell_type": "code",
   "execution_count": 43,
   "metadata": {},
   "outputs": [],
   "source": [
    "rmse_train=eval_history['train']['rmse']\n",
    "rmse_test=eval_history['test']['rmse']"
   ]
  },
  {
   "cell_type": "code",
   "execution_count": 44,
   "metadata": {},
   "outputs": [
    {
     "data": {
      "image/png": "[encoded data removed]",
      "text/plain": [
       "<Figure size 432x288 with 1 Axes>"
      ]
     },
     "metadata": {
      "needs_background": "light"
     },
     "output_type": "display_data"
    }
   ],
   "source": [
    "plt.plot(rmse_train,ms=10,marker='.',label='train_eval')\n",
    "plt.plot(rmse_test,ms=10,marker='v',label='test_eval')\n",
    "plt.legend()\n",
    "plt.show()"
   ]
  },
  {
   "cell_type": "code",
   "execution_count": 45,
   "metadata": {},
   "outputs": [
    {
     "data": {
      "text/plain": [
       "'[0]\\teval-rmse:0.219172'"
      ]
     },
     "execution_count": 45,
     "metadata": {},
     "output_type": "execute_result"
    }
   ],
   "source": [
    "# 檢視最後rms error\n",
    "model.eval(data_test)"
   ]
  },
  {
   "cell_type": "code",
   "execution_count": 63,
   "metadata": {},
   "outputs": [
    {
     "data": {
      "text/plain": [
       "<matplotlib.axes._subplots.AxesSubplot at 0x7fece9b8bcc0>"
      ]
     },
     "execution_count": 63,
     "metadata": {},
     "output_type": "execute_result"
    },
    {
     "data": {
      "image/png": "[encoded data removed]",
      "text/plain": [
       "<Figure size 432x288 with 1 Axes>"
      ]
     },
     "metadata": {
      "needs_background": "light"
     },
     "output_type": "display_data"
    }
   ],
   "source": [
    "from xgboost import plot_importance\n",
    "plt = plot_importance(model,height=0.8)\n",
    "plt"
   ]
  },
  {
   "cell_type": "markdown",
   "metadata": {},
   "source": [
    "R2"
   ]
  },
  {
   "cell_type": "code",
   "execution_count": 61,
   "metadata": {},
   "outputs": [
    {
     "data": {
      "text/plain": [
       "0.01635284003932269"
      ]
     },
     "execution_count": 61,
     "metadata": {},
     "output_type": "execute_result"
    }
   ],
   "source": [
    "from sklearn.metrics import r2_score\n",
    "testY_pred=model.predict(data_test)\n",
    "r2_score(testY, testY_pred)"
   ]
  },
  {
   "cell_type": "code",
   "execution_count": 62,
   "metadata": {},
   "outputs": [
    {
     "data": {
      "text/plain": [
       "0.02828204261060674"
      ]
     },
     "execution_count": 62,
     "metadata": {},
     "output_type": "execute_result"
    }
   ],
   "source": [
    "trainY_pred = model.predict(data_train)\n",
    "r2_score(trainY, trainY_pred)"
   ]
  }
 ],
 "metadata": {
  "kernelspec": {
   "display_name": "Python 3",
   "language": "python",
   "name": "python3"
  },
  "language_info": {
   "codemirror_mode": {
    "name": "ipython",
    "version": 3
   },
   "file_extension": ".py",
   "mimetype": "text/x-python",
   "name": "python",
   "nbconvert_exporter": "python",
   "pygments_lexer": "ipython3",
   "version": "3.6.5"
  }
 },
 "nbformat": 4,
 "nbformat_minor": 2
}
