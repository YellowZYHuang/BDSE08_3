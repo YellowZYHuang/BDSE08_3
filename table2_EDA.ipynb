{
 "cells": [
  {
   "cell_type": "code",
   "execution_count": 1,
   "metadata": {},
   "outputs": [],
   "source": [
    "import pandas as pd\n",
    "import matplotlib.pyplot as plt\n",
    "import seaborn as sns\n",
    "sns.set()\n",
    "import numpy as np\n",
    "from scipy import stats"
   ]
  },
  {
   "cell_type": "code",
   "execution_count": 2,
   "metadata": {},
   "outputs": [],
   "source": [
    "from pyspark.sql import SparkSession\n",
    "from pyspark.sql.functions import isnull\n",
    "from pyspark.sql.types import DoubleType, IntegerType"
   ]
  },
  {
   "cell_type": "code",
   "execution_count": 3,
   "metadata": {},
   "outputs": [],
   "source": [
    "spark = SparkSession.builder.master(\"yarn\").config('spark.executor.instances','30').appName(\"hope10\").getOrCreate()"
   ]
  },
  {
   "cell_type": "code",
   "execution_count": 4,
   "metadata": {},
   "outputs": [],
   "source": [
    "df_tb2 = spark.read.csv(\"/user/spark/share/output/table2_eda\",header=True)"
   ]
  },
  {
   "cell_type": "code",
   "execution_count": null,
   "metadata": {},
   "outputs": [],
   "source": [
    "## 查看第一筆資料內容 方式1\n",
    "df_tb2.take(1)"
   ]
  },
  {
   "cell_type": "code",
   "execution_count": null,
   "metadata": {},
   "outputs": [],
   "source": [
    "## 查看第一筆資料內容 方式2\n",
    "df_tb2.show(1)"
   ]
  },
  {
   "cell_type": "code",
   "execution_count": null,
   "metadata": {},
   "outputs": [],
   "source": [
    "df_tb2.count()"
   ]
  },
  {
   "cell_type": "code",
   "execution_count": 5,
   "metadata": {},
   "outputs": [
    {
     "name": "stdout",
     "output_type": "stream",
     "text": [
      "root\n",
      " |-- user: string (nullable = true)\n",
      " |-- time_stamp: string (nullable = true)\n",
      " |-- adgroup_id: string (nullable = true)\n",
      " |-- pid: string (nullable = true)\n",
      " |-- clk: string (nullable = true)\n",
      " |-- cate_id: string (nullable = true)\n",
      " |-- campaign_id: string (nullable = true)\n",
      " |-- customer: string (nullable = true)\n",
      " |-- brand: string (nullable = true)\n",
      " |-- price: string (nullable = true)\n",
      " |-- cms_segid: string (nullable = true)\n",
      " |-- cms_group_id: string (nullable = true)\n",
      " |-- final_gender_code: string (nullable = true)\n",
      " |-- age_level: string (nullable = true)\n",
      " |-- pvalue_level: string (nullable = true)\n",
      " |-- shopping_level: string (nullable = true)\n",
      " |-- occupation: string (nullable = true)\n",
      " |-- new_user_class_level: string (nullable = true)\n",
      " |-- user_cate: string (nullable = true)\n",
      " |-- pv_1: string (nullable = true)\n",
      " |-- cart_1: string (nullable = true)\n",
      " |-- fav_1: string (nullable = true)\n",
      " |-- buy_1: string (nullable = true)\n",
      " |-- pv_2: string (nullable = true)\n",
      " |-- cart_2: string (nullable = true)\n",
      " |-- fav_2: string (nullable = true)\n",
      " |-- buy_2: string (nullable = true)\n",
      " |-- pv_3: string (nullable = true)\n",
      " |-- cart_3: string (nullable = true)\n",
      " |-- fav_3: string (nullable = true)\n",
      " |-- buy_3: string (nullable = true)\n",
      "\n"
     ]
    }
   ],
   "source": [
    "df_tb2.printSchema()"
   ]
  },
  {
   "cell_type": "code",
   "execution_count": null,
   "metadata": {},
   "outputs": [],
   "source": [
    "null_cnt = []\n",
    "for col in df_tb2.columns:\n",
    "    isnull_c = df_tb2.filter(isnull(col)).count()\n",
    "    NULL_c = df_tb2.filter(df_tb2[col]=='NULL').count()\n",
    "    null_cnt.append(isnull_c+NULL_c)\n",
    "    print(isnull_c,\"&\",NULL_c,\" ----> \",col)"
   ]
  },
  {
   "cell_type": "code",
   "execution_count": null,
   "metadata": {},
   "outputs": [],
   "source": [
    "plt.figure(figsize=(15,6))\n",
    "sns.barplot( df_tb2.columns, null_cnt, palette=\"PuBuGn\") \n",
    "plt.title('Number of Missing Value')\n",
    "plt.ylabel('count')\n",
    "plt.xlabel('column')\n",
    "plt.xticks(rotation=90);"
   ]
  },
  {
   "cell_type": "markdown",
   "metadata": {},
   "source": [
    "Colormap  is not recognized. Possible values are: Accent, Accent_r, Blues, Blues_r, BrBG, BrBG_r, BuGn, BuGn_r, BuPu, BuPu_r, CMRmap, CMRmap_r, Dark2, Dark2_r, GnBu, GnBu_r, Greens, Greens_r, Greys, Greys_r, OrRd, OrRd_r, Oranges, Oranges_r, PRGn, PRGn_r, Paired, Paired_r, Pastel1, Pastel1_r, Pastel2, Pastel2_r, PiYG, PiYG_r, PuBu, PuBuGn, PuBuGn_r, PuBu_r, PuOr, PuOr_r, PuRd, PuRd_r, Purples, Purples_r, RdBu, RdBu_r, RdGy, RdGy_r, RdPu, RdPu_r, RdYlBu, RdYlBu_r, RdYlGn, RdYlGn_r, Reds, Reds_r, Set1, Set1_r, Set2, Set2_r, Set3, Set3_r, Spectral, Spectral_r, Wistia, Wistia_r, YlGn, YlGnBu, YlGnBu_r, YlGn_r, YlOrBr, YlOrBr_r, YlOrRd, YlOrRd_r, afmhot, afmhot_r, autumn, autumn_r, binary, binary_r, bone, bone_r, brg, brg_r, bwr, bwr_r, cividis, cividis_r, cool, cool_r, coolwarm, coolwarm_r, copper, copper_r, cubehelix, cubehelix_r, flag, flag_r, gist_earth, gist_earth_r, gist_gray, gist_gray_r, gist_heat, gist_heat_r, gist_ncar, gist_ncar_r, gist_rainbow, gist_rainbow_r, gist_stern, gist_stern_r, gist_yarg, gist_yarg_r, gnuplot, gnuplot2, gnuplot2_r, gnuplot_r, gray, gray_r, hot, hot_r, hsv, hsv_r, icefire, icefire_r, inferno, inferno_r, jet, jet_r, magma, magma_r, mako, mako_r, nipy_spectral, nipy_spectral_r, ocean, ocean_r, pink, pink_r, plasma, plasma_r, prism, prism_r, rainbow, rainbow_r, rocket, rocket_r, seismic, seismic_r, spring, spring_r, summer, summer_r, tab10, tab10_r, tab20, tab20_r, tab20b, tab20b_r, tab20c, tab20c_r, terrain, terrain_r, twilight, twilight_r, twilight_shifted, twilight_shifted_r, viridis, viridis_r, vlag, vlag_r, winter, winter_r"
   ]
  },
  {
   "cell_type": "markdown",
   "metadata": {},
   "source": [
    "## 重複值"
   ]
  },
  {
   "cell_type": "markdown",
   "metadata": {},
   "source": [
    "### 以 age_level 欄位為例"
   ]
  },
  {
   "cell_type": "code",
   "execution_count": 6,
   "metadata": {},
   "outputs": [],
   "source": [
    "dist_age_level = df_tb2.select('age_level').groupby('age_level').count().sort('age_level', ascending=True)"
   ]
  },
  {
   "cell_type": "code",
   "execution_count": 7,
   "metadata": {},
   "outputs": [
    {
     "name": "stdout",
     "output_type": "stream",
     "text": [
      "+---------+-------+\n",
      "|age_level|  count|\n",
      "+---------+-------+\n",
      "|     null|1528526|\n",
      "|        0|   9189|\n",
      "|        1|1379703|\n",
      "|        2|4567837|\n",
      "|        3|7573614|\n",
      "|        4|6406045|\n",
      "|        5|4652618|\n",
      "|        6| 440429|\n",
      "+---------+-------+\n",
      "\n"
     ]
    }
   ],
   "source": [
    "dist_age_level.show()"
   ]
  },
  {
   "cell_type": "code",
   "execution_count": 8,
   "metadata": {},
   "outputs": [],
   "source": [
    "dist_age_level = dist_age_level.toPandas()"
   ]
  },
  {
   "cell_type": "code",
   "execution_count": 9,
   "metadata": {},
   "outputs": [],
   "source": [
    "dist_age_level_x = dist_age_level['age_level'].tolist()\n",
    "dist_age_level_y = dist_age_level['count'].tolist()"
   ]
  },
  {
   "cell_type": "code",
   "execution_count": 10,
   "metadata": {},
   "outputs": [
    {
     "name": "stdout",
     "output_type": "stream",
     "text": [
      "[None, '0', '1', '2', '3', '4', '5', '6']\n",
      "[1528526, 9189, 1379703, 4567837, 7573614, 6406045, 4652618, 440429]\n"
     ]
    }
   ],
   "source": [
    "print(dist_age_level_x)\n",
    "print(dist_age_level_y)"
   ]
  },
  {
   "cell_type": "code",
   "execution_count": 11,
   "metadata": {},
   "outputs": [
    {
     "data": {
      "text/plain": [
       "Text(0.5, 0, 'User')"
      ]
     },
     "execution_count": 11,
     "metadata": {},
     "output_type": "execute_result"
    },
    {
     "data": {
      "image/png": "[encoded data removed]",
      "text/plain": [
       "<Figure size 720x432 with 1 Axes>"
      ]
     },
     "metadata": {
      "needs_background": "light"
     },
     "output_type": "display_data"
    }
   ],
   "source": [
    "plt.figure(figsize=(10,6))\n",
    "sns.barplot( dist_age_level_x, dist_age_level_y, palette=\"CMRmap\") \n",
    "plt.title('Frequency of age_level')\n",
    "plt.ylabel('count')\n",
    "plt.xlabel('User')"
   ]
  },
  {
   "cell_type": "code",
   "execution_count": null,
   "metadata": {},
   "outputs": [],
   "source": [
    "plt.figure(figsize=(10,6))\n",
    "sns.scatterplot(dist_age_level_x,dist_age_level_y, s = 100) \n",
    "plt.title('Frequency of User')\n",
    "plt.ylabel('count')\n",
    "plt.xlabel('User')"
   ]
  },
  {
   "cell_type": "markdown",
   "metadata": {},
   "source": [
    "### output frequency to csv"
   ]
  },
  {
   "cell_type": "code",
   "execution_count": null,
   "metadata": {},
   "outputs": [],
   "source": [
    "# for col in df_tb2.columns:\n",
    "#     PATH = 'output/eda/distinct_cnt/'+col+'.csv'\n",
    "#     df_tb2.select(col).groupby(col).count().sort(col, ascending=True).toPandas().to_csv(PATH,index = False)"
   ]
  },
  {
   "cell_type": "code",
   "execution_count": null,
   "metadata": {},
   "outputs": [],
   "source": [
    "# df_tb2.select('user').groupby('user').count().sort('user', ascending=True).toPandas().to_csv('output/eda/distinct_count/user.csv',index = False)\n",
    "# df_tb2.select('time_stamp').groupby('time_stamp').count().sort('time_stamp', ascending=True).toPandas().to_csv('output/eda/distinct_count/time_stamp.csv',index = False)\n",
    "# df_tb2.select('adgroup_id').groupby('adgroup_id').count().sort('adgroup_id', ascending=True).toPandas().to_csv('output/eda/distinct_count/adgroup_id.csv',index = False)\n",
    "# df_tb2.select('pid').groupby('pid').count().sort('pid', ascending=True).toPandas().to_csv('output/eda/distinct_count/pid.csv',index = False)\n",
    "# ......."
   ]
  },
  {
   "cell_type": "markdown",
   "metadata": {},
   "source": [
    "### not using"
   ]
  },
  {
   "cell_type": "code",
   "execution_count": null,
   "metadata": {},
   "outputs": [],
   "source": []
  },
  {
   "cell_type": "code",
   "execution_count": null,
   "metadata": {},
   "outputs": [],
   "source": [
    "tb2_describe = df_tb2.describe()"
   ]
  },
  {
   "cell_type": "code",
   "execution_count": null,
   "metadata": {},
   "outputs": [],
   "source": [
    "df_tb2.describe()"
   ]
  },
  {
   "cell_type": "code",
   "execution_count": null,
   "metadata": {},
   "outputs": [],
   "source": [
    "pd_tb2_describe = tb2_describe.toPandas()"
   ]
  },
  {
   "cell_type": "code",
   "execution_count": null,
   "metadata": {},
   "outputs": [],
   "source": [
    "pd_tb2_describe"
   ]
  },
  {
   "cell_type": "code",
   "execution_count": null,
   "metadata": {},
   "outputs": [],
   "source": [
    "pd_tb2_describe.iloc[:,-10:-1]"
   ]
  },
  {
   "cell_type": "code",
   "execution_count": null,
   "metadata": {},
   "outputs": [],
   "source": [
    "pd_tb2_describe.iloc[:,10]"
   ]
  },
  {
   "cell_type": "code",
   "execution_count": null,
   "metadata": {},
   "outputs": [],
   "source": []
  }
 ],
 "metadata": {
  "kernelspec": {
   "display_name": "Python 3",
   "language": "python",
   "name": "python3"
  },
  "language_info": {
   "codemirror_mode": {
    "name": "ipython",
    "version": 3
   },
   "file_extension": ".py",
   "mimetype": "text/x-python",
   "name": "python",
   "nbconvert_exporter": "python",
   "pygments_lexer": "ipython3",
   "version": "3.6.6"
  }
 },
 "nbformat": 4,
 "nbformat_minor": 2
}
