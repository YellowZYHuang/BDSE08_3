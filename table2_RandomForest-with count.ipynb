{
 "cells": [
  {
   "cell_type": "code",
   "execution_count": 231,
   "metadata": {},
   "outputs": [],
   "source": [
    "import pandas as pd\n",
    "import matplotlib.pyplot as plt\n",
    "%matplotlib inline\n",
    "import seaborn as sns\n",
    "sns.set()\n",
    "import numpy as np\n",
    "import re\n",
    "from sklearn.metrics import roc_curve, auc\n"
   ]
  },
  {
   "cell_type": "code",
   "execution_count": 2,
   "metadata": {},
   "outputs": [],
   "source": [
    "df=pd.read_csv('dataset/table_2_f99.csv') # 載入資料"
   ]
  },
  {
   "cell_type": "code",
   "execution_count": 3,
   "metadata": {},
   "outputs": [
    {
     "name": "stdout",
     "output_type": "stream",
     "text": [
      "<class 'pandas.core.frame.DataFrame'>\n",
      "RangeIndex: 26557961 entries, 0 to 26557960\n",
      "Data columns (total 31 columns):\n",
      "user                    int64\n",
      "time_stamp              int64\n",
      "adgroup_id              int64\n",
      "pid                     object\n",
      "clk                     int64\n",
      "cate_id                 int64\n",
      "campaign_id             int64\n",
      "customer                int64\n",
      "price                   float64\n",
      "cms_segid               int64\n",
      "cms_group_id            int64\n",
      "final_gender_code       int64\n",
      "age_level               int64\n",
      "pvalue_level            int64\n",
      "shopping_level          int64\n",
      "occupation              int64\n",
      "new_user_class_level    int64\n",
      "user_cate               object\n",
      "pv_1                    int64\n",
      "cart_1                  int64\n",
      "fav_1                   int64\n",
      "buy_1                   int64\n",
      "pv_2                    int64\n",
      "cart_2                  int64\n",
      "fav_2                   int64\n",
      "buy_2                   int64\n",
      "pv_3                    int64\n",
      "cart_3                  int64\n",
      "fav_3                   int64\n",
      "buy_3                   int64\n",
      "brand_New               int64\n",
      "dtypes: float64(1), int64(28), object(2)\n",
      "memory usage: 6.1+ GB\n"
     ]
    }
   ],
   "source": [
    "df.info()"
   ]
  },
  {
   "cell_type": "code",
   "execution_count": 11,
   "metadata": {},
   "outputs": [
    {
     "data": {
      "text/plain": [
       "Index(['user', 'adgroup_id', 'pid', 'clk', 'cate_id', 'campaign_id',\n",
       "       'customer', 'price', 'cms_segid', 'cms_group_id', 'final_gender_code',\n",
       "       'age_level', 'pvalue_level', 'shopping_level', 'occupation',\n",
       "       'new_user_class_level', 'user_cate', 'pv_1', 'cart_1', 'fav_1', 'buy_1',\n",
       "       'pv_2', 'cart_2', 'fav_2', 'buy_2', 'pv_3', 'cart_3', 'fav_3', 'buy_3',\n",
       "       'brand_New'],\n",
       "      dtype='object')"
      ]
     },
     "execution_count": 11,
     "metadata": {},
     "output_type": "execute_result"
    }
   ],
   "source": [
    "df.columns"
   ]
  },
  {
   "cell_type": "markdown",
   "metadata": {},
   "source": [
    "## 重新選取feature"
   ]
  },
  {
   "cell_type": "code",
   "execution_count": 10,
   "metadata": {},
   "outputs": [],
   "source": [
    "df = df.drop('time_stamp', axis = 1)"
   ]
  },
  {
   "cell_type": "code",
   "execution_count": 25,
   "metadata": {},
   "outputs": [
    {
     "data": {
      "text/plain": [
       "(3192, 30)"
      ]
     },
     "execution_count": 25,
     "metadata": {},
     "output_type": "execute_result"
    }
   ],
   "source": [
    "df_10k = df[df.loc[:,'user']<109]\n",
    "df_10k.shape"
   ]
  },
  {
   "cell_type": "code",
   "execution_count": 19,
   "metadata": {},
   "outputs": [],
   "source": [
    "df_10k.to_csv('df_10k.csv',index = False)"
   ]
  },
  {
   "cell_type": "code",
   "execution_count": 26,
   "metadata": {},
   "outputs": [],
   "source": [
    "df_10k=pd.read_csv('dataset/table3_10k.csv')"
   ]
  },
  {
   "cell_type": "code",
   "execution_count": 27,
   "metadata": {},
   "outputs": [
    {
     "data": {
      "text/plain": [
       "(2690, 33)"
      ]
     },
     "execution_count": 27,
     "metadata": {},
     "output_type": "execute_result"
    }
   ],
   "source": [
    "df_10k.shape"
   ]
  },
  {
   "cell_type": "code",
   "execution_count": 28,
   "metadata": {},
   "outputs": [
    {
     "data": {
      "text/plain": [
       "Index(['user', 'adgroup_id', 'pid', 'clk', 'cate_id', 'campaign_id',\n",
       "       'customer', 'price', 'cms_segid', 'cms_group_id', 'final_gender_code',\n",
       "       'age_level', 'pvalue_level', 'shopping_level', 'occupation',\n",
       "       'new_user_class_level', 'user_cate', 'pv_1', 'cart_1', 'fav_1', 'buy_1',\n",
       "       'pv_2', 'cart_2', 'fav_2', 'buy_2', 'pv_3', 'cart_3', 'fav_3', 'buy_3',\n",
       "       'brand_New', 'user_ad_clk', 'cnt_clk', 'cnt_nonclk'],\n",
       "      dtype='object')"
      ]
     },
     "execution_count": 28,
     "metadata": {},
     "output_type": "execute_result"
    }
   ],
   "source": [
    "df_10k.columns"
   ]
  },
  {
   "cell_type": "code",
   "execution_count": 29,
   "metadata": {},
   "outputs": [
    {
     "name": "stdout",
     "output_type": "stream",
     "text": [
      "<class 'pandas.core.frame.DataFrame'>\n",
      "RangeIndex: 2690 entries, 0 to 2689\n",
      "Data columns (total 33 columns):\n",
      "user                    2690 non-null int64\n",
      "adgroup_id              2690 non-null int64\n",
      "pid                     2690 non-null object\n",
      "clk                     2690 non-null int64\n",
      "cate_id                 2690 non-null int64\n",
      "campaign_id             2690 non-null int64\n",
      "customer                2690 non-null int64\n",
      "price                   2690 non-null float64\n",
      "cms_segid               2690 non-null int64\n",
      "cms_group_id            2690 non-null int64\n",
      "final_gender_code       2690 non-null int64\n",
      "age_level               2690 non-null int64\n",
      "pvalue_level            2690 non-null int64\n",
      "shopping_level          2690 non-null int64\n",
      "occupation              2690 non-null int64\n",
      "new_user_class_level    2690 non-null int64\n",
      "user_cate               2690 non-null object\n",
      "pv_1                    2690 non-null int64\n",
      "cart_1                  2690 non-null int64\n",
      "fav_1                   2690 non-null int64\n",
      "buy_1                   2690 non-null int64\n",
      "pv_2                    2690 non-null int64\n",
      "cart_2                  2690 non-null int64\n",
      "fav_2                   2690 non-null int64\n",
      "buy_2                   2690 non-null int64\n",
      "pv_3                    2690 non-null int64\n",
      "cart_3                  2690 non-null int64\n",
      "fav_3                   2690 non-null int64\n",
      "buy_3                   2690 non-null int64\n",
      "brand_New               2690 non-null int64\n",
      "user_ad_clk             2690 non-null object\n",
      "cnt_clk                 2690 non-null int64\n",
      "cnt_nonclk              2690 non-null int64\n",
      "dtypes: float64(1), int64(29), object(3)\n",
      "memory usage: 693.6+ KB\n"
     ]
    }
   ],
   "source": [
    "df_10k.info()"
   ]
  },
  {
   "cell_type": "markdown",
   "metadata": {},
   "source": [
    "## 整理表格"
   ]
  },
  {
   "cell_type": "code",
   "execution_count": 36,
   "metadata": {
    "scrolled": true
   },
   "outputs": [],
   "source": [
    "to_Obj =['user', 'adgroup_id', 'pid', 'clk', 'cate_id',\n",
    "       'campaign_id', 'customer', 'cms_segid', 'cms_group_id',\n",
    "       'final_gender_code', 'age_level', 'pvalue_level', 'shopping_level',\n",
    "       'occupation', 'new_user_class_level', 'user_cate','brand_New']\n",
    "for col in to_Obj:\n",
    "    df_10k[col]=df_10k[col].astype(str)\n"
   ]
  },
  {
   "cell_type": "code",
   "execution_count": 37,
   "metadata": {},
   "outputs": [],
   "source": [
    "to_int8 =['pv_1', 'cart_1',\n",
    "       'fav_1', 'buy_1', 'pv_2', 'cart_2', 'fav_2', 'buy_2', 'pv_3', 'cart_3',\n",
    "       'fav_3', 'buy_3','cnt_clk','cnt_nonclk']\n",
    "for col in to_int8:\n",
    "    df_10k[col]=df_10k[col].astype(np.int8)\n"
   ]
  },
  {
   "cell_type": "code",
   "execution_count": 39,
   "metadata": {},
   "outputs": [],
   "source": [
    "df_10k = df_10k.drop('user_ad_clk', axis = 1)"
   ]
  },
  {
   "cell_type": "code",
   "execution_count": 47,
   "metadata": {},
   "outputs": [
    {
     "name": "stdout",
     "output_type": "stream",
     "text": [
      "<class 'pandas.core.frame.DataFrame'>\n",
      "RangeIndex: 2690 entries, 0 to 2689\n",
      "Data columns (total 32 columns):\n",
      "user                    2690 non-null object\n",
      "adgroup_id              2690 non-null object\n",
      "pid                     2690 non-null object\n",
      "clk                     2690 non-null object\n",
      "cate_id                 2690 non-null object\n",
      "campaign_id             2690 non-null object\n",
      "customer                2690 non-null object\n",
      "price                   2690 non-null float64\n",
      "cms_segid               2690 non-null object\n",
      "cms_group_id            2690 non-null object\n",
      "final_gender_code       2690 non-null object\n",
      "age_level               2690 non-null object\n",
      "pvalue_level            2690 non-null object\n",
      "shopping_level          2690 non-null object\n",
      "occupation              2690 non-null object\n",
      "new_user_class_level    2690 non-null object\n",
      "user_cate               2690 non-null object\n",
      "pv_1                    2690 non-null int8\n",
      "cart_1                  2690 non-null int8\n",
      "fav_1                   2690 non-null int8\n",
      "buy_1                   2690 non-null int8\n",
      "pv_2                    2690 non-null int8\n",
      "cart_2                  2690 non-null int8\n",
      "fav_2                   2690 non-null int8\n",
      "buy_2                   2690 non-null int8\n",
      "pv_3                    2690 non-null int8\n",
      "cart_3                  2690 non-null int8\n",
      "fav_3                   2690 non-null int8\n",
      "buy_3                   2690 non-null int8\n",
      "brand_New               2690 non-null object\n",
      "cnt_clk                 2690 non-null int8\n",
      "cnt_nonclk              2690 non-null int8\n",
      "dtypes: float64(1), int8(14), object(17)\n",
      "memory usage: 415.1+ KB\n"
     ]
    }
   ],
   "source": [
    "df_10k.info()"
   ]
  },
  {
   "cell_type": "code",
   "execution_count": 42,
   "metadata": {},
   "outputs": [],
   "source": [
    "def trainTestValSplit(df):\n",
    "    # 將資料切分為訓練(70%),測試(15%)和驗證(15%)三份。\n",
    "    train=df.sample(frac=0.7)\n",
    "    test=df.drop( train.index )\n",
    "    val=test.sample(frac=0.5)\n",
    "    test=test.drop( val.index)\n",
    "    return train,test,val\n",
    "\n",
    "def dfXYSplit(df,targetName):\n",
    "    # 將特徵和目標變數切成兩份資料。\n",
    "    \n",
    "    dfX=df.drop(columns=targetName)\n",
    "    dfY=df[targetName]\n",
    "    \n",
    "    return dfX,dfY"
   ]
  },
  {
   "cell_type": "code",
   "execution_count": 49,
   "metadata": {},
   "outputs": [],
   "source": [
    "df_10k = df_10k.drop('cnt_clk',axis = 1)"
   ]
  },
  {
   "cell_type": "code",
   "execution_count": 72,
   "metadata": {},
   "outputs": [],
   "source": [
    "df_10k = df_10k.drop('cnt_nonclk',axis = 1)"
   ]
  },
  {
   "cell_type": "code",
   "execution_count": 200,
   "metadata": {},
   "outputs": [
    {
     "ename": "ValueError",
     "evalue": "labels ['user_cate'] not contained in axis",
     "output_type": "error",
     "traceback": [
      "\u001b[0;31m---------------------------------------------------------------------------\u001b[0m",
      "\u001b[0;31mValueError\u001b[0m                                Traceback (most recent call last)",
      "\u001b[0;32m<ipython-input-200-f0e6b046f10f>\u001b[0m in \u001b[0;36m<module>\u001b[0;34m()\u001b[0m\n\u001b[0;32m----> 1\u001b[0;31m \u001b[0mdf_10k\u001b[0m \u001b[0;34m=\u001b[0m \u001b[0mdf_10k\u001b[0m\u001b[0;34m.\u001b[0m\u001b[0mdrop\u001b[0m\u001b[0;34m(\u001b[0m\u001b[0;34m'user_cate'\u001b[0m\u001b[0;34m,\u001b[0m\u001b[0maxis\u001b[0m \u001b[0;34m=\u001b[0m \u001b[0;36m1\u001b[0m\u001b[0;34m)\u001b[0m\u001b[0;34m\u001b[0m\u001b[0m\n\u001b[0m",
      "\u001b[0;32m/opt/intel/intelpython3/lib/python3.6/site-packages/pandas/core/generic.py\u001b[0m in \u001b[0;36mdrop\u001b[0;34m(self, labels, axis, index, columns, level, inplace, errors)\u001b[0m\n\u001b[1;32m   2528\u001b[0m         \u001b[0;32mfor\u001b[0m \u001b[0maxis\u001b[0m\u001b[0;34m,\u001b[0m \u001b[0mlabels\u001b[0m \u001b[0;32min\u001b[0m \u001b[0maxes\u001b[0m\u001b[0;34m.\u001b[0m\u001b[0mitems\u001b[0m\u001b[0;34m(\u001b[0m\u001b[0;34m)\u001b[0m\u001b[0;34m:\u001b[0m\u001b[0;34m\u001b[0m\u001b[0m\n\u001b[1;32m   2529\u001b[0m             \u001b[0;32mif\u001b[0m \u001b[0mlabels\u001b[0m \u001b[0;32mis\u001b[0m \u001b[0;32mnot\u001b[0m \u001b[0;32mNone\u001b[0m\u001b[0;34m:\u001b[0m\u001b[0;34m\u001b[0m\u001b[0m\n\u001b[0;32m-> 2530\u001b[0;31m                 \u001b[0mobj\u001b[0m \u001b[0;34m=\u001b[0m \u001b[0mobj\u001b[0m\u001b[0;34m.\u001b[0m\u001b[0m_drop_axis\u001b[0m\u001b[0;34m(\u001b[0m\u001b[0mlabels\u001b[0m\u001b[0;34m,\u001b[0m \u001b[0maxis\u001b[0m\u001b[0;34m,\u001b[0m \u001b[0mlevel\u001b[0m\u001b[0;34m=\u001b[0m\u001b[0mlevel\u001b[0m\u001b[0;34m,\u001b[0m \u001b[0merrors\u001b[0m\u001b[0;34m=\u001b[0m\u001b[0merrors\u001b[0m\u001b[0;34m)\u001b[0m\u001b[0;34m\u001b[0m\u001b[0m\n\u001b[0m\u001b[1;32m   2531\u001b[0m \u001b[0;34m\u001b[0m\u001b[0m\n\u001b[1;32m   2532\u001b[0m         \u001b[0;32mif\u001b[0m \u001b[0minplace\u001b[0m\u001b[0;34m:\u001b[0m\u001b[0;34m\u001b[0m\u001b[0m\n",
      "\u001b[0;32m/opt/intel/intelpython3/lib/python3.6/site-packages/pandas/core/generic.py\u001b[0m in \u001b[0;36m_drop_axis\u001b[0;34m(self, labels, axis, level, errors)\u001b[0m\n\u001b[1;32m   2560\u001b[0m                 \u001b[0mnew_axis\u001b[0m \u001b[0;34m=\u001b[0m \u001b[0maxis\u001b[0m\u001b[0;34m.\u001b[0m\u001b[0mdrop\u001b[0m\u001b[0;34m(\u001b[0m\u001b[0mlabels\u001b[0m\u001b[0;34m,\u001b[0m \u001b[0mlevel\u001b[0m\u001b[0;34m=\u001b[0m\u001b[0mlevel\u001b[0m\u001b[0;34m,\u001b[0m \u001b[0merrors\u001b[0m\u001b[0;34m=\u001b[0m\u001b[0merrors\u001b[0m\u001b[0;34m)\u001b[0m\u001b[0;34m\u001b[0m\u001b[0m\n\u001b[1;32m   2561\u001b[0m             \u001b[0;32melse\u001b[0m\u001b[0;34m:\u001b[0m\u001b[0;34m\u001b[0m\u001b[0m\n\u001b[0;32m-> 2562\u001b[0;31m                 \u001b[0mnew_axis\u001b[0m \u001b[0;34m=\u001b[0m \u001b[0maxis\u001b[0m\u001b[0;34m.\u001b[0m\u001b[0mdrop\u001b[0m\u001b[0;34m(\u001b[0m\u001b[0mlabels\u001b[0m\u001b[0;34m,\u001b[0m \u001b[0merrors\u001b[0m\u001b[0;34m=\u001b[0m\u001b[0merrors\u001b[0m\u001b[0;34m)\u001b[0m\u001b[0;34m\u001b[0m\u001b[0m\n\u001b[0m\u001b[1;32m   2563\u001b[0m             \u001b[0mdropped\u001b[0m \u001b[0;34m=\u001b[0m \u001b[0mself\u001b[0m\u001b[0;34m.\u001b[0m\u001b[0mreindex\u001b[0m\u001b[0;34m(\u001b[0m\u001b[0;34m**\u001b[0m\u001b[0;34m{\u001b[0m\u001b[0maxis_name\u001b[0m\u001b[0;34m:\u001b[0m \u001b[0mnew_axis\u001b[0m\u001b[0;34m}\u001b[0m\u001b[0;34m)\u001b[0m\u001b[0;34m\u001b[0m\u001b[0m\n\u001b[1;32m   2564\u001b[0m             \u001b[0;32mtry\u001b[0m\u001b[0;34m:\u001b[0m\u001b[0;34m\u001b[0m\u001b[0m\n",
      "\u001b[0;32m/opt/intel/intelpython3/lib/python3.6/site-packages/pandas/core/indexes/base.py\u001b[0m in \u001b[0;36mdrop\u001b[0;34m(self, labels, errors)\u001b[0m\n\u001b[1;32m   3742\u001b[0m             \u001b[0;32mif\u001b[0m \u001b[0merrors\u001b[0m \u001b[0;34m!=\u001b[0m \u001b[0;34m'ignore'\u001b[0m\u001b[0;34m:\u001b[0m\u001b[0;34m\u001b[0m\u001b[0m\n\u001b[1;32m   3743\u001b[0m                 raise ValueError('labels %s not contained in axis' %\n\u001b[0;32m-> 3744\u001b[0;31m                                  labels[mask])\n\u001b[0m\u001b[1;32m   3745\u001b[0m             \u001b[0mindexer\u001b[0m \u001b[0;34m=\u001b[0m \u001b[0mindexer\u001b[0m\u001b[0;34m[\u001b[0m\u001b[0;34m~\u001b[0m\u001b[0mmask\u001b[0m\u001b[0;34m]\u001b[0m\u001b[0;34m\u001b[0m\u001b[0m\n\u001b[1;32m   3746\u001b[0m         \u001b[0;32mreturn\u001b[0m \u001b[0mself\u001b[0m\u001b[0;34m.\u001b[0m\u001b[0mdelete\u001b[0m\u001b[0;34m(\u001b[0m\u001b[0mindexer\u001b[0m\u001b[0;34m)\u001b[0m\u001b[0;34m\u001b[0m\u001b[0m\n",
      "\u001b[0;31mValueError\u001b[0m: labels ['user_cate'] not contained in axis"
     ]
    }
   ],
   "source": [
    "df_10k = df_10k.drop('user_cate',axis = 1)"
   ]
  },
  {
   "cell_type": "code",
   "execution_count": 201,
   "metadata": {},
   "outputs": [
    {
     "data": {
      "text/plain": [
       "Index(['user', 'adgroup_id', 'pid', 'clk', 'cate_id', 'campaign_id',\n",
       "       'customer', 'price', 'cms_segid', 'cms_group_id', 'final_gender_code',\n",
       "       'age_level', 'pvalue_level', 'shopping_level', 'occupation',\n",
       "       'new_user_class_level', 'pv_1', 'cart_1', 'fav_1', 'buy_1', 'pv_2',\n",
       "       'cart_2', 'fav_2', 'buy_2', 'pv_3', 'cart_3', 'fav_3', 'buy_3',\n",
       "       'brand_New'],\n",
       "      dtype='object')"
      ]
     },
     "execution_count": 201,
     "metadata": {},
     "output_type": "execute_result"
    }
   ],
   "source": [
    "df_10k.columns"
   ]
  },
  {
   "cell_type": "code",
   "execution_count": 202,
   "metadata": {},
   "outputs": [],
   "source": [
    "# train,test,val=trainTestValSplit(df)    #將整份data分成 train set, test set, validation set 三份\n",
    "\n",
    "# trainX,trainY=dfXYSplit(train,\"clk\")    #將training set 分成trainX & trainY\n",
    "# testX,testY=dfXYSplit(test,\"clk\")       #將test set 分成trainX & trainY\n",
    "# valX,valY=dfXYSplit(val,\"clk\")          #將validation set 分成trainX & trainY"
   ]
  },
  {
   "cell_type": "code",
   "execution_count": 203,
   "metadata": {},
   "outputs": [],
   "source": [
    "train,test,val=trainTestValSplit(df_10k)    #將整份data分成 train set, test set, validation set 三份\n",
    "\n",
    "trainX,trainY=dfXYSplit(train,\"clk\")    #將training set 分成trainX & trainY\n",
    "testX,testY=dfXYSplit(test,\"clk\")       #將test set 分成trainX & trainY\n",
    "valX,valY=dfXYSplit(val,\"clk\")          #將validation set 分成trainX & trainY"
   ]
  },
  {
   "cell_type": "code",
   "execution_count": 204,
   "metadata": {},
   "outputs": [
    {
     "data": {
      "text/plain": [
       "Index(['user', 'adgroup_id', 'pid', 'cate_id', 'campaign_id', 'customer',\n",
       "       'price', 'cms_segid', 'cms_group_id', 'final_gender_code', 'age_level',\n",
       "       'pvalue_level', 'shopping_level', 'occupation', 'new_user_class_level',\n",
       "       'pv_1', 'cart_1', 'fav_1', 'buy_1', 'pv_2', 'cart_2', 'fav_2', 'buy_2',\n",
       "       'pv_3', 'cart_3', 'fav_3', 'buy_3', 'brand_New'],\n",
       "      dtype='object')"
      ]
     },
     "execution_count": 204,
     "metadata": {},
     "output_type": "execute_result"
    }
   ],
   "source": [
    "trainX.columns"
   ]
  },
  {
   "cell_type": "markdown",
   "metadata": {},
   "source": [
    "### Decision Tree"
   ]
  },
  {
   "cell_type": "code",
   "execution_count": 205,
   "metadata": {},
   "outputs": [],
   "source": [
    "from sklearn import tree\n",
    "from sklearn.metrics import classification_report"
   ]
  },
  {
   "cell_type": "code",
   "execution_count": 206,
   "metadata": {},
   "outputs": [
    {
     "name": "stdout",
     "output_type": "stream",
     "text": [
      "CPU times: user 36 ms, sys: 12 ms, total: 48 ms\n",
      "Wall time: 47 ms\n"
     ]
    }
   ],
   "source": [
    "%%time\n",
    "clf=tree.DecisionTreeClassifier(class_weight=\"balanced\",criterion='gini', max_depth=4,\n",
    "            max_features=None, max_leaf_nodes=None,\n",
    "            min_impurity_decrease=0.0, min_impurity_split=None,\n",
    "            min_samples_leaf=1, min_samples_split=2,\n",
    "            min_weight_fraction_leaf=0.0, presort=False, random_state=None,\n",
    "            splitter='best')\n",
    "model=clf.fit(trainX,trainY)"
   ]
  },
  {
   "cell_type": "code",
   "execution_count": 207,
   "metadata": {},
   "outputs": [
    {
     "name": "stdout",
     "output_type": "stream",
     "text": [
      "             precision    recall  f1-score   support\n",
      "\n",
      "          0       0.98      0.46      0.63       380\n",
      "          1       0.09      0.87      0.16        23\n",
      "\n",
      "avg / total       0.93      0.49      0.60       403\n",
      "\n",
      "             precision    recall  f1-score   support\n",
      "\n",
      "          0       0.97      0.51      0.67       380\n",
      "          1       0.08      0.71      0.15        24\n",
      "\n",
      "avg / total       0.91      0.52      0.64       404\n",
      "\n",
      "CPU times: user 28 ms, sys: 0 ns, total: 28 ms\n",
      "Wall time: 22.9 ms\n"
     ]
    }
   ],
   "source": [
    "%%time\n",
    "testPredY=model.predict(testX)\n",
    "valPredY=model.predict(valX)\n",
    "\n",
    "print( classification_report(testY,testPredY) )\n",
    "print( classification_report(valY,valPredY) )"
   ]
  },
  {
   "cell_type": "code",
   "execution_count": 208,
   "metadata": {},
   "outputs": [
    {
     "data": {
      "text/plain": [
       "DecisionTreeClassifier(class_weight=None, criterion='gini', max_depth=None,\n",
       "            max_features=None, max_leaf_nodes=None,\n",
       "            min_impurity_decrease=0.0, min_impurity_split=None,\n",
       "            min_samples_leaf=1, min_samples_split=2,\n",
       "            min_weight_fraction_leaf=0.0, presort=False, random_state=None,\n",
       "            splitter='best')"
      ]
     },
     "execution_count": 208,
     "metadata": {},
     "output_type": "execute_result"
    }
   ],
   "source": [
    "tree.DecisionTreeClassifier()"
   ]
  },
  {
   "cell_type": "markdown",
   "metadata": {},
   "source": [
    "### Random Forest"
   ]
  },
  {
   "cell_type": "code",
   "execution_count": 209,
   "metadata": {},
   "outputs": [],
   "source": [
    "from sklearn.metrics import classification_report\n",
    "from sklearn import tree\n",
    "from sklearn.ensemble.forest import RandomForestClassifier"
   ]
  },
  {
   "cell_type": "code",
   "execution_count": 210,
   "metadata": {},
   "outputs": [],
   "source": [
    "trainXNew = np.concatenate([trainX,valX],axis=0)\n",
    "trainYNew = np.concatenate([trainY,valY],axis=0)"
   ]
  },
  {
   "cell_type": "code",
   "execution_count": 211,
   "metadata": {},
   "outputs": [],
   "source": [
    "assert valX.shape[0]+trainX.shape[0] == trainXNew.shape[0]\n",
    "assert valY.shape[0]+trainY.shape[0] == trainYNew.shape[0]"
   ]
  },
  {
   "cell_type": "markdown",
   "metadata": {},
   "source": [
    "max_depth=5"
   ]
  },
  {
   "cell_type": "code",
   "execution_count": 212,
   "metadata": {},
   "outputs": [],
   "source": [
    "clf = RandomForestClassifier(bootstrap=True, class_weight='balanced',\n",
    "            criterion='gini', max_depth=4, max_features='auto',\n",
    "            max_leaf_nodes=None, min_impurity_decrease=0.0,\n",
    "            min_impurity_split=None, min_samples_leaf=1,\n",
    "            min_samples_split=2, min_weight_fraction_leaf=0.0,\n",
    "            n_estimators=100, n_jobs=1, oob_score=True, random_state=None,\n",
    "            verbose=0, warm_start=False)\n",
    "model=clf.fit(trainX,trainY)"
   ]
  },
  {
   "cell_type": "code",
   "execution_count": 213,
   "metadata": {},
   "outputs": [
    {
     "data": {
      "text/plain": [
       "0.7259691980881572"
      ]
     },
     "execution_count": 213,
     "metadata": {},
     "output_type": "execute_result"
    }
   ],
   "source": [
    "model.oob_score_"
   ]
  },
  {
   "cell_type": "code",
   "execution_count": 214,
   "metadata": {
    "scrolled": false
   },
   "outputs": [
    {
     "name": "stdout",
     "output_type": "stream",
     "text": [
      "             precision    recall  f1-score   support\n",
      "\n",
      "          0       0.96      0.76      0.85       380\n",
      "          1       0.12      0.52      0.19        23\n",
      "\n",
      "avg / total       0.92      0.75      0.81       403\n",
      "\n",
      "             precision    recall  f1-score   support\n",
      "\n",
      "          0       0.94      0.73      0.82       380\n",
      "          1       0.06      0.29      0.11        24\n",
      "\n",
      "avg / total       0.89      0.71      0.78       404\n",
      "\n",
      "CPU times: user 60 ms, sys: 0 ns, total: 60 ms\n",
      "Wall time: 56.6 ms\n"
     ]
    }
   ],
   "source": [
    "%%time\n",
    "testPredY=model.predict(testX)\n",
    "valPredY=model.predict(valX)\n",
    "\n",
    "print( classification_report(testY,testPredY) )\n",
    "print( classification_report(valY,valPredY) )"
   ]
  },
  {
   "cell_type": "code",
   "execution_count": 252,
   "metadata": {},
   "outputs": [
    {
     "data": {
      "text/plain": [
       "5       0\n",
       "13      1\n",
       "14      0\n",
       "19      0\n",
       "24      0\n",
       "26      0\n",
       "31      0\n",
       "32      1\n",
       "35      0\n",
       "36      0\n",
       "38      0\n",
       "40      0\n",
       "41      0\n",
       "42      0\n",
       "43      0\n",
       "60      0\n",
       "62      1\n",
       "68      0\n",
       "70      1\n",
       "71      0\n",
       "78      0\n",
       "99      0\n",
       "109     0\n",
       "112     0\n",
       "120     0\n",
       "129     0\n",
       "136     0\n",
       "137     0\n",
       "141     0\n",
       "147     0\n",
       "       ..\n",
       "2469    0\n",
       "2519    0\n",
       "2522    0\n",
       "2526    0\n",
       "2532    0\n",
       "2536    0\n",
       "2543    0\n",
       "2545    0\n",
       "2548    0\n",
       "2551    0\n",
       "2553    0\n",
       "2554    0\n",
       "2561    0\n",
       "2570    0\n",
       "2582    1\n",
       "2592    0\n",
       "2593    0\n",
       "2599    0\n",
       "2601    0\n",
       "2604    0\n",
       "2608    0\n",
       "2609    0\n",
       "2613    0\n",
       "2629    1\n",
       "2635    0\n",
       "2636    0\n",
       "2647    1\n",
       "2658    0\n",
       "2664    0\n",
       "2686    0\n",
       "Name: clk, Length: 403, dtype: int64"
      ]
     },
     "execution_count": 252,
     "metadata": {},
     "output_type": "execute_result"
    }
   ],
   "source": [
    "test.loc[:,'clk'].astype(int)"
   ]
  },
  {
   "cell_type": "code",
   "execution_count": 72,
   "metadata": {},
   "outputs": [],
   "source": [
    "df_10k = df_10k.drop('cnt_nonclk',axis = 1)"
   ]
  },
  {
   "cell_type": "code",
   "execution_count": 215,
   "metadata": {},
   "outputs": [
    {
     "data": {
      "text/plain": [
       "array([0.08337546, 0.07220797, 0.0057132 , 0.04544019, 0.0466074 ,\n",
       "       0.0418004 , 0.05347669, 0.03297646, 0.04644359, 0.01784894,\n",
       "       0.03277461, 0.03854585, 0.02118557, 0.00943933, 0.10203337,\n",
       "       0.03074343, 0.00591055, 0.00084269, 0.        , 0.06169449,\n",
       "       0.00998613, 0.02156419, 0.        , 0.14985999, 0.02593448,\n",
       "       0.01175773, 0.0040668 , 0.0277705 ])"
      ]
     },
     "execution_count": 215,
     "metadata": {},
     "output_type": "execute_result"
    }
   ],
   "source": [
    "model.feature_importances_"
   ]
  },
  {
   "cell_type": "code",
   "execution_count": 216,
   "metadata": {},
   "outputs": [
    {
     "data": {
      "image/png": "[encoded data removed]",
      "text/plain": [
       "<Figure size 1296x576 with 1 Axes>"
      ]
     },
     "metadata": {
      "needs_background": "light"
     },
     "output_type": "display_data"
    }
   ],
   "source": [
    "features = trainX.columns\n",
    "importances = model.feature_importances_\n",
    "indices = np.argsort(importances)\n",
    "plt.figure(figsize=(18,8))\n",
    "plt.title('Feature Importances')\n",
    "plt.barh(range(len(indices)), importances[indices], color='b', align='center')\n",
    "plt.yticks(range(len(indices)), [features[i] for i in indices])\n",
    "plt.xlabel('Relative Importance')\n",
    "plt.show()"
   ]
  },
  {
   "cell_type": "code",
   "execution_count": 257,
   "metadata": {},
   "outputs": [],
   "source": [
    "trueY = [1,0,0,1,0,0]\n",
    "predY = [0.8,0.2,0.1,0.7,0.2,0.1]"
   ]
  },
  {
   "cell_type": "code",
   "execution_count": 262,
   "metadata": {},
   "outputs": [
    {
     "ename": "ValueError",
     "evalue": "continuous format is not supported",
     "output_type": "error",
     "traceback": [
      "\u001b[0;31m---------------------------------------------------------------------------\u001b[0m",
      "\u001b[0;31mValueError\u001b[0m                                Traceback (most recent call last)",
      "\u001b[0;32m<ipython-input-262-cc167bae6ac8>\u001b[0m in \u001b[0;36m<module>\u001b[0;34m()\u001b[0m\n\u001b[0;32m----> 1\u001b[0;31m \u001b[0mfpr\u001b[0m\u001b[0;34m,\u001b[0m \u001b[0mtpr\u001b[0m\u001b[0;34m,\u001b[0m \u001b[0mthresholds\u001b[0m \u001b[0;34m=\u001b[0m \u001b[0mroc_curve\u001b[0m\u001b[0;34m(\u001b[0m\u001b[0mpredY\u001b[0m\u001b[0;34m,\u001b[0m \u001b[0mtrueY\u001b[0m\u001b[0;34m)\u001b[0m\u001b[0;34m\u001b[0m\u001b[0m\n\u001b[0m\u001b[1;32m      2\u001b[0m \u001b[0mroc_auc\u001b[0m \u001b[0;34m=\u001b[0m \u001b[0mauc\u001b[0m\u001b[0;34m(\u001b[0m\u001b[0mfpr\u001b[0m\u001b[0;34m,\u001b[0m \u001b[0mtpr\u001b[0m\u001b[0;34m)\u001b[0m\u001b[0;34m\u001b[0m\u001b[0m\n\u001b[1;32m      3\u001b[0m \u001b[0;34m\u001b[0m\u001b[0m\n\u001b[1;32m      4\u001b[0m \u001b[0;31m# plt.figure()\u001b[0m\u001b[0;34m\u001b[0m\u001b[0;34m\u001b[0m\u001b[0m\n\u001b[1;32m      5\u001b[0m \u001b[0;31m# plt.plot(fpr, tpr, color='darkorange', lw=1, label='ROC curve (area = %0.2f)' % roc_auc)\u001b[0m\u001b[0;34m\u001b[0m\u001b[0;34m\u001b[0m\u001b[0m\n",
      "\u001b[0;32m/opt/intel/intelpython3/lib/python3.6/site-packages/sklearn/metrics/ranking.py\u001b[0m in \u001b[0;36mroc_curve\u001b[0;34m(y_true, y_score, pos_label, sample_weight, drop_intermediate)\u001b[0m\n\u001b[1;32m    532\u001b[0m     \"\"\"\n\u001b[1;32m    533\u001b[0m     fps, tps, thresholds = _binary_clf_curve(\n\u001b[0;32m--> 534\u001b[0;31m         y_true, y_score, pos_label=pos_label, sample_weight=sample_weight)\n\u001b[0m\u001b[1;32m    535\u001b[0m \u001b[0;34m\u001b[0m\u001b[0m\n\u001b[1;32m    536\u001b[0m     \u001b[0;31m# Attempt to drop thresholds corresponding to points in between and\u001b[0m\u001b[0;34m\u001b[0m\u001b[0;34m\u001b[0m\u001b[0m\n",
      "\u001b[0;32m/opt/intel/intelpython3/lib/python3.6/site-packages/sklearn/metrics/ranking.py\u001b[0m in \u001b[0;36m_binary_clf_curve\u001b[0;34m(y_true, y_score, pos_label, sample_weight)\u001b[0m\n\u001b[1;32m    316\u001b[0m     if not (y_type == \"binary\" or\n\u001b[1;32m    317\u001b[0m             (y_type == \"multiclass\" and pos_label is not None)):\n\u001b[0;32m--> 318\u001b[0;31m         \u001b[0;32mraise\u001b[0m \u001b[0mValueError\u001b[0m\u001b[0;34m(\u001b[0m\u001b[0;34m\"{0} format is not supported\"\u001b[0m\u001b[0;34m.\u001b[0m\u001b[0mformat\u001b[0m\u001b[0;34m(\u001b[0m\u001b[0my_type\u001b[0m\u001b[0;34m)\u001b[0m\u001b[0;34m)\u001b[0m\u001b[0;34m\u001b[0m\u001b[0m\n\u001b[0m\u001b[1;32m    319\u001b[0m \u001b[0;34m\u001b[0m\u001b[0m\n\u001b[1;32m    320\u001b[0m     \u001b[0mcheck_consistent_length\u001b[0m\u001b[0;34m(\u001b[0m\u001b[0my_true\u001b[0m\u001b[0;34m,\u001b[0m \u001b[0my_score\u001b[0m\u001b[0;34m,\u001b[0m \u001b[0msample_weight\u001b[0m\u001b[0;34m)\u001b[0m\u001b[0;34m\u001b[0m\u001b[0m\n",
      "\u001b[0;31mValueError\u001b[0m: continuous format is not supported"
     ]
    }
   ],
   "source": [
    "fpr, tpr, thresholds = roc_curve(predY, trueY)\n",
    "roc_auc = auc(fpr, tpr)\n",
    "\n",
    "# plt.figure()\n",
    "# plt.plot(fpr, tpr, color='darkorange', lw=1, label='ROC curve (area = %0.2f)' % roc_auc)\n",
    "# plt.plot([0, 1], [0, 1], color='navy', lw=lw, linestyle='--')\n",
    "# plt.xlim([0.0, 1.0])\n",
    "# plt.ylim([0.0, 1.05])\n",
    "# plt.xlabel('False Positive Rate')\n",
    "# plt.ylabel('True Positive Rate')\n",
    "# plt.title('Receiver operating characteristic')\n",
    "# plt.legend(loc=\"lower right\")\n",
    "# plt.show()"
   ]
  },
  {
   "cell_type": "code",
   "execution_count": null,
   "metadata": {},
   "outputs": [],
   "source": []
  },
  {
   "cell_type": "code",
   "execution_count": null,
   "metadata": {},
   "outputs": [],
   "source": []
  },
  {
   "cell_type": "code",
   "execution_count": null,
   "metadata": {},
   "outputs": [],
   "source": []
  },
  {
   "cell_type": "markdown",
   "metadata": {},
   "source": [
    "n_estimators"
   ]
  },
  {
   "cell_type": "code",
   "execution_count": 217,
   "metadata": {},
   "outputs": [],
   "source": [
    "clf = RandomForestClassifier(bootstrap=True, class_weight='balanced',\n",
    "            criterion='gini', max_depth=5, max_features='auto',\n",
    "            max_leaf_nodes=None, min_impurity_decrease=0.0,\n",
    "            min_impurity_split=None, min_samples_leaf=1,\n",
    "            min_samples_split=2, min_weight_fraction_leaf=0.0,\n",
    "            n_estimators=150, n_jobs=1, oob_score=True, random_state=None,\n",
    "            verbose=0, warm_start=False)\n",
    "model=clf.fit(trainX,trainY)"
   ]
  },
  {
   "cell_type": "code",
   "execution_count": 218,
   "metadata": {},
   "outputs": [
    {
     "data": {
      "text/plain": [
       "RandomForestClassifier(bootstrap=True, class_weight='balanced',\n",
       "            criterion='gini', max_depth=5, max_features='auto',\n",
       "            max_leaf_nodes=None, min_impurity_decrease=0.0,\n",
       "            min_impurity_split=None, min_samples_leaf=1,\n",
       "            min_samples_split=2, min_weight_fraction_leaf=0.0,\n",
       "            n_estimators=150, n_jobs=1, oob_score=True, random_state=None,\n",
       "            verbose=0, warm_start=False)"
      ]
     },
     "execution_count": 218,
     "metadata": {},
     "output_type": "execute_result"
    }
   ],
   "source": [
    "model"
   ]
  },
  {
   "cell_type": "code",
   "execution_count": 184,
   "metadata": {},
   "outputs": [
    {
     "data": {
      "text/plain": [
       "0.7785448751991503"
      ]
     },
     "execution_count": 184,
     "metadata": {},
     "output_type": "execute_result"
    }
   ],
   "source": [
    "model.oob_score_"
   ]
  },
  {
   "cell_type": "code",
   "execution_count": 219,
   "metadata": {
    "scrolled": false
   },
   "outputs": [
    {
     "name": "stdout",
     "output_type": "stream",
     "text": [
      "             precision    recall  f1-score   support\n",
      "\n",
      "          0       0.96      0.82      0.89       380\n",
      "          1       0.13      0.43      0.20        23\n",
      "\n",
      "avg / total       0.91      0.80      0.85       403\n",
      "\n",
      "             precision    recall  f1-score   support\n",
      "\n",
      "          0       0.94      0.79      0.86       380\n",
      "          1       0.07      0.25      0.11        24\n",
      "\n",
      "avg / total       0.89      0.76      0.82       404\n",
      "\n",
      "CPU times: user 68 ms, sys: 4 ms, total: 72 ms\n",
      "Wall time: 71.8 ms\n"
     ]
    }
   ],
   "source": [
    "%%time\n",
    "testPredY=model.predict(testX)\n",
    "valPredY=model.predict(valX)\n",
    "\n",
    "print( classification_report(testY,testPredY) )\n",
    "print( classification_report(valY,valPredY) )"
   ]
  },
  {
   "cell_type": "code",
   "execution_count": 220,
   "metadata": {},
   "outputs": [
    {
     "data": {
      "text/plain": [
       "Index(['user', 'adgroup_id', 'pid', 'cate_id', 'campaign_id', 'customer',\n",
       "       'price', 'cms_segid', 'cms_group_id', 'final_gender_code', 'age_level',\n",
       "       'pvalue_level', 'shopping_level', 'occupation', 'new_user_class_level',\n",
       "       'pv_1', 'cart_1', 'fav_1', 'buy_1', 'pv_2', 'cart_2', 'fav_2', 'buy_2',\n",
       "       'pv_3', 'cart_3', 'fav_3', 'buy_3', 'brand_New'],\n",
       "      dtype='object')"
      ]
     },
     "execution_count": 220,
     "metadata": {},
     "output_type": "execute_result"
    }
   ],
   "source": [
    "testX.columns"
   ]
  },
  {
   "cell_type": "code",
   "execution_count": 221,
   "metadata": {},
   "outputs": [
    {
     "data": {
      "text/plain": [
       "array([0.09539332, 0.0696553 , 0.00676277, 0.06926729, 0.05212744,\n",
       "       0.04691526, 0.06204635, 0.02034618, 0.05274958, 0.01251474,\n",
       "       0.02592151, 0.03365663, 0.01824284, 0.00768995, 0.09201709,\n",
       "       0.0302006 , 0.00673674, 0.00193553, 0.        , 0.05841432,\n",
       "       0.01339861, 0.02163288, 0.        , 0.11718891, 0.02827928,\n",
       "       0.012556  , 0.00354889, 0.040802  ])"
      ]
     },
     "execution_count": 221,
     "metadata": {},
     "output_type": "execute_result"
    }
   ],
   "source": [
    "model.feature_importances_"
   ]
  },
  {
   "cell_type": "code",
   "execution_count": 222,
   "metadata": {},
   "outputs": [
    {
     "data": {
      "image/png": "[encoded data removed]",
      "text/plain": [
       "<Figure size 1296x576 with 1 Axes>"
      ]
     },
     "metadata": {
      "needs_background": "light"
     },
     "output_type": "display_data"
    }
   ],
   "source": [
    "features = trainX.columns\n",
    "importances = model.feature_importances_\n",
    "indices = np.argsort(importances)\n",
    "plt.figure(figsize=(18,8))\n",
    "plt.title('Feature Importances')\n",
    "plt.barh(range(len(indices)), importances[indices], color='b', align='center')\n",
    "plt.yticks(range(len(indices)), [features[i] for i in indices])\n",
    "plt.xlabel('Relative Importance')\n",
    "plt.show()"
   ]
  },
  {
   "cell_type": "markdown",
   "metadata": {},
   "source": [
    "gridsearch"
   ]
  },
  {
   "cell_type": "code",
   "execution_count": 223,
   "metadata": {},
   "outputs": [],
   "source": [
    "from sklearn.model_selection import GridSearchCV"
   ]
  },
  {
   "cell_type": "code",
   "execution_count": 224,
   "metadata": {},
   "outputs": [],
   "source": [
    "clf = RandomForestClassifier(n_jobs=-1)"
   ]
  },
  {
   "cell_type": "code",
   "execution_count": 225,
   "metadata": {},
   "outputs": [],
   "source": [
    "param_grid = { \n",
    "    'n_estimators': [50, 100],\n",
    "    'max_features': ['auto', 'sqrt', 'log2'],\n",
    "    'max_depth' : [4,5,6,7,8],\n",
    "    'criterion' :['gini', 'entropy'],\n",
    "    \n",
    "}"
   ]
  },
  {
   "cell_type": "code",
   "execution_count": 226,
   "metadata": {},
   "outputs": [
    {
     "data": {
      "text/plain": [
       "GridSearchCV(cv=5, error_score='raise',\n",
       "       estimator=RandomForestClassifier(bootstrap=True, class_weight=None, criterion='gini',\n",
       "            max_depth=None, max_features='auto', max_leaf_nodes=None,\n",
       "            min_impurity_decrease=0.0, min_impurity_split=None,\n",
       "            min_samples_leaf=1, min_samples_split=2,\n",
       "            min_weight_fraction_leaf=0.0, n_estimators=10, n_jobs=-1,\n",
       "            oob_score=False, random_state=None, verbose=0,\n",
       "            warm_start=False),\n",
       "       fit_params=None, iid=True, n_jobs=1,\n",
       "       param_grid={'n_estimators': [50, 100], 'max_features': ['auto', 'sqrt', 'log2'], 'max_depth': [4, 5, 6, 7, 8], 'criterion': ['gini', 'entropy']},\n",
       "       pre_dispatch='2*n_jobs', refit=True, return_train_score='warn',\n",
       "       scoring=None, verbose=0)"
      ]
     },
     "execution_count": 226,
     "metadata": {},
     "output_type": "execute_result"
    }
   ],
   "source": [
    "CV_rfc = GridSearchCV(estimator=clf, param_grid=param_grid, cv= 5)\n",
    "CV_rfc.fit(trainX, trainY)"
   ]
  },
  {
   "cell_type": "code",
   "execution_count": 227,
   "metadata": {},
   "outputs": [
    {
     "name": "stdout",
     "output_type": "stream",
     "text": [
      "             precision    recall  f1-score   support\n",
      "\n",
      "          0       0.94      0.98      0.96       380\n",
      "          1       0.00      0.00      0.00        23\n",
      "\n",
      "avg / total       0.89      0.92      0.90       403\n",
      "\n",
      "             precision    recall  f1-score   support\n",
      "\n",
      "          0       0.94      0.99      0.96       380\n",
      "          1       0.00      0.00      0.00        24\n",
      "\n",
      "avg / total       0.88      0.93      0.91       404\n",
      "\n"
     ]
    }
   ],
   "source": [
    "model=clf.fit(trainX,trainY)\n",
    "\n",
    "testPredY=model.predict(testX)\n",
    "valPredY=model.predict(valX)\n",
    "\n",
    "print( classification_report(testY,testPredY) )\n",
    "print( classification_report(valY,valPredY) )"
   ]
  },
  {
   "cell_type": "code",
   "execution_count": 228,
   "metadata": {},
   "outputs": [
    {
     "data": {
      "text/plain": [
       "{'criterion': 'gini',\n",
       " 'max_depth': 4,\n",
       " 'max_features': 'auto',\n",
       " 'n_estimators': 50}"
      ]
     },
     "execution_count": 228,
     "metadata": {},
     "output_type": "execute_result"
    }
   ],
   "source": [
    "CV_rfc.best_params_"
   ]
  },
  {
   "cell_type": "code",
   "execution_count": 229,
   "metadata": {},
   "outputs": [],
   "source": [
    "rfc1=RandomForestClassifier(max_features='auto', n_estimators= 50, max_depth=4, criterion='gini')"
   ]
  },
  {
   "cell_type": "code",
   "execution_count": 230,
   "metadata": {},
   "outputs": [
    {
     "name": "stdout",
     "output_type": "stream",
     "text": [
      "             precision    recall  f1-score   support\n",
      "\n",
      "          0       0.94      0.99      0.97       380\n",
      "          1       0.00      0.00      0.00        23\n",
      "\n",
      "avg / total       0.89      0.93      0.91       403\n",
      "\n",
      "             precision    recall  f1-score   support\n",
      "\n",
      "          0       0.94      0.99      0.97       380\n",
      "          1       0.00      0.00      0.00        24\n",
      "\n",
      "avg / total       0.88      0.94      0.91       404\n",
      "\n"
     ]
    }
   ],
   "source": [
    "model=clf.fit(trainX,trainY)\n",
    "\n",
    "testPredY=model.predict(testX)\n",
    "valPredY=model.predict(valX)\n",
    "\n",
    "print( classification_report(testY,testPredY) )\n",
    "print( classification_report(valY,valPredY) )"
   ]
  },
  {
   "cell_type": "code",
   "execution_count": null,
   "metadata": {},
   "outputs": [],
   "source": []
  },
  {
   "cell_type": "code",
   "execution_count": null,
   "metadata": {},
   "outputs": [],
   "source": []
  },
  {
   "cell_type": "code",
   "execution_count": null,
   "metadata": {},
   "outputs": [],
   "source": []
  }
 ],
 "metadata": {
  "kernelspec": {
   "display_name": "Python 3",
   "language": "python",
   "name": "python3"
  },
  "language_info": {
   "codemirror_mode": {
    "name": "ipython",
    "version": 3
   },
   "file_extension": ".py",
   "mimetype": "text/x-python",
   "name": "python",
   "nbconvert_exporter": "python",
   "pygments_lexer": "ipython3",
   "version": "3.6.5"
  }
 },
 "nbformat": 4,
 "nbformat_minor": 2
}
