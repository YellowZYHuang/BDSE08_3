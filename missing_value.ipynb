{
 "cells": [
  {
   "cell_type": "markdown",
   "metadata": {},
   "source": [
    "from bokeh.io import show, output_file\n",
    "from bokeh.models import ColumnDataSource\n",
    "from bokeh.palettes import Spectral6\n",
    "from bokeh.plotting import figure\n",
    "from bokeh.transform import factor_cmap\n",
    "\n",
    "output_file(\"bar_colormapped.html\")\n",
    "\n",
    "fruits = ['Apples', 'Pears', 'Nectarines', 'Plums', 'Grapes', 'Strawberries']\n",
    "counts = [5, 3, 4, 2, 4, 6]\n",
    "\n",
    "source = ColumnDataSource(data=dict(fruits=fruits, counts=counts))\n",
    "\n",
    "p = figure(x_range=fruits, plot_height=350, toolbar_location=None, title=\"Fruit Counts\")\n",
    "p.vbar(x='fruits', top='counts', width=0.9, source=source, legend=\"fruits\",\n",
    "       line_color='white', fill_color=factor_cmap('fruits', palette=Spectral6, factors=fruits))\n",
    "\n",
    "p.xgrid.grid_line_color = None\n",
    "p.y_range.start = 0\n",
    "p.y_range.end = 9\n",
    "p.legend.orientation = \"horizontal\"\n",
    "p.legend.location = \"top_center\"\n",
    "\n",
    "show(p)"
   ]
  },
  {
   "cell_type": "code",
   "execution_count": 1,
   "metadata": {},
   "outputs": [],
   "source": [
    "from bokeh.io import show, output_file\n",
    "from bokeh.models import ColumnDataSource\n",
    "from bokeh.palettes import Spectral6\n",
    "from bokeh.plotting import figure\n",
    "from bokeh.transform import factor_cmap\n",
    "import numpy as np\n",
    "import math as math"
   ]
  },
  {
   "cell_type": "code",
   "execution_count": 2,
   "metadata": {},
   "outputs": [],
   "source": [
    "col_nullcnt_y = [0,0,0,0,0,0,0,0,8291694,0,1528526,1528526,1528526,1528526,14552798, \\\n",
    "                 1528526,1528526,8224829,0,1141355,1141355,1141355,1141355,1141355,1141355,\\\n",
    "                 1141355,1141355,1141355,1141355,1141355,1141355]\n",
    "col_nullcnt_x = ['user', 'time_stamp', 'adgroup_id', 'pid', 'clk', 'cate_id', 'campaign_id', 'customer', 'brand',\\\n",
    "               'price', 'cms_segid', 'cms_group_id', 'final_gender_code', 'age_level', 'pvalue_level', 'shopping_level',\\\n",
    "               'occupation', 'new_user_class_level', 'user_cate', 'pv_1', 'cart_1', 'fav_1', 'buy_1', 'pv_2', 'cart_2',\\\n",
    "               'fav_2', 'buy_2', 'pv_3', 'cart_3', 'fav_3', 'buy_3']"
   ]
  },
  {
   "cell_type": "code",
   "execution_count": 1,
   "metadata": {},
   "outputs": [
    {
     "ename": "NameError",
     "evalue": "name 'ColumnDataSource' is not defined",
     "output_type": "error",
     "traceback": [
      "\u001b[0;31m---------------------------------------------------------------------------\u001b[0m",
      "\u001b[0;31mNameError\u001b[0m                                 Traceback (most recent call last)",
      "\u001b[0;32m<ipython-input-1-d5d00e2b5c01>\u001b[0m in \u001b[0;36m<module>\u001b[0;34m()\u001b[0m\n\u001b[1;32m      1\u001b[0m \u001b[0mTOOLS\u001b[0m\u001b[0;34m=\u001b[0m\u001b[0;34m\"hover,crosshair,pan,wheel_zoom,zoom_in,zoom_out,box_zoom,undo,redo,reset,tap,save,box_select,poly_select,lasso_select,\"\u001b[0m\u001b[0;34m\u001b[0m\u001b[0m\n\u001b[0;32m----> 2\u001b[0;31m \u001b[0msource\u001b[0m \u001b[0;34m=\u001b[0m \u001b[0mColumnDataSource\u001b[0m\u001b[0;34m(\u001b[0m\u001b[0mdata\u001b[0m\u001b[0;34m=\u001b[0m\u001b[0mdict\u001b[0m\u001b[0;34m(\u001b[0m\u001b[0mcol_nullcnt_x\u001b[0m\u001b[0;34m=\u001b[0m\u001b[0mcol_nullcnt_x\u001b[0m\u001b[0;34m,\u001b[0m \u001b[0mcol_nullcnt_y\u001b[0m\u001b[0;34m=\u001b[0m\u001b[0mcol_nullcnt_y\u001b[0m\u001b[0;34m)\u001b[0m\u001b[0;34m)\u001b[0m\u001b[0;34m\u001b[0m\u001b[0m\n\u001b[0m\u001b[1;32m      3\u001b[0m \u001b[0;31m# N = 4000\u001b[0m\u001b[0;34m\u001b[0m\u001b[0;34m\u001b[0m\u001b[0m\n\u001b[1;32m      4\u001b[0m \u001b[0;31m# x = np.random.random(size=N) * 100\u001b[0m\u001b[0;34m\u001b[0m\u001b[0;34m\u001b[0m\u001b[0m\n\u001b[1;32m      5\u001b[0m \u001b[0;31m# y = np.random.random(size=N) * 100\u001b[0m\u001b[0;34m\u001b[0m\u001b[0;34m\u001b[0m\u001b[0m\n",
      "\u001b[0;31mNameError\u001b[0m: name 'ColumnDataSource' is not defined"
     ]
    }
   ],
   "source": [
    "TOOLS=\"hover,crosshair,pan,wheel_zoom,zoom_in,zoom_out,box_zoom,undo,redo,reset,tap,save,box_select,poly_select,lasso_select,\"\n",
    "source = ColumnDataSource(data=dict(col_nullcnt_x=col_nullcnt_x, col_nullcnt_y=col_nullcnt_y))\n",
    "# N = 4000\n",
    "# x = np.random.random(size=N) * 100\n",
    "# y = np.random.random(size=N) * 100\n",
    "# radii = np.random.random(size=N) * 1.5\n",
    "# colors = [\n",
    "#     \"#%02x%02x%02x\" % (int(r), int(g), 150) for r, g in zip(50+2*x, 30+2*y)\n",
    "# ]\n",
    "colors = [\"#92c5de\", \"#d1e5f0\",\"#92c5de\", \"#92c5de\", \"#d1e5f0\", \"#2166ac\",\n",
    "          \"#92c5de\", \"#d1e5f0\",\"#92c5de\", \"#92c5de\", \"#d1e5f0\", \"#2166ac\",\n",
    "          \"#92c5de\", \"#d1e5f0\",\"#92c5de\", \"#92c5de\", \"#d1e5f0\", \"#2166ac\",\n",
    "          \"#92c5de\", \"#d1e5f0\",\"#92c5de\", \"#92c5de\", \"#d1e5f0\", \"#2166ac\",\n",
    "          \"#92c5de\", \"#d1e5f0\",\"#92c5de\", \"#92c5de\", \"#d1e5f0\", \"#2166ac\",\"#92c5de\"]\n",
    "\n",
    "\n",
    "p = figure(x_range=col_nullcnt_x, title=\"Missing Value Counts\",tools=TOOLS)\n",
    "p.vbar(x='col_nullcnt_x', top='col_nullcnt_y', width=0.9, source=source, legend=\"column\",\n",
    "       line_color='white', fill_color=factor_cmap('col_nullcnt_x', palette=colors, factors=col_nullcnt_x))\n",
    "p.plot_width = 1200\n",
    "p.xgrid.grid_line_color = None\n",
    "p.y_range.end = 26000000\n",
    "p.legend.orientation = \"horizontal\"\n",
    "p.xaxis.major_label_orientation = math.pi/2\n",
    "p.hover.tooltips = [\n",
    "    (\"column\", \"@col_nullcnt_x\"),\n",
    "    (\"Missing Value:\", \"@col_nullcnt_y\"),\n",
    "]\n",
    "output_file(\"bar_missing.html\",mode = 'inline')\n",
    "p.title_location = \"above\"\n",
    "p.title.align = \"center\"\n",
    "p.title.text_font_size = '16pt'\n",
    "show(p)"
   ]
  }
 ],
 "metadata": {
  "kernelspec": {
   "display_name": "Python 3",
   "language": "python",
   "name": "python3"
  },
  "language_info": {
   "codemirror_mode": {
    "name": "ipython",
    "version": 3
   },
   "file_extension": ".py",
   "mimetype": "text/x-python",
   "name": "python",
   "nbconvert_exporter": "python",
   "pygments_lexer": "ipython3",
   "version": "3.6.3"
  }
 },
 "nbformat": 4,
 "nbformat_minor": 2
}
