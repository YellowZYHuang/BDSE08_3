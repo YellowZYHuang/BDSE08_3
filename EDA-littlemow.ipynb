{
 "cells": [
  {
   "cell_type": "code",
   "execution_count": 1,
   "metadata": {},
   "outputs": [],
   "source": [
    "import pandas as pd\n",
    "import matplotlib.pyplot as plt\n",
    "import seaborn as sns\n",
    "sns.set()\n",
    "import numpy as np\n",
    "from scipy import stats"
   ]
  },
  {
   "cell_type": "code",
   "execution_count": 2,
   "metadata": {},
   "outputs": [],
   "source": [
    "from pyspark.sql import SparkSession\n",
    "from pyspark.sql.functions import isnull\n",
    "from pyspark.sql.types import *"
   ]
  },
  {
   "cell_type": "code",
   "execution_count": 3,
   "metadata": {},
   "outputs": [],
   "source": [
    "spark = SparkSession.builder.master(\"yarn\").config('spark.executor.instances','10').appName(\"littlemow1\").getOrCreate()"
   ]
  },
  {
   "cell_type": "code",
   "execution_count": 4,
   "metadata": {},
   "outputs": [],
   "source": [
    "df_tb2_1 = spark.read.csv(\"/user/spark/share/output/table2/lovefengyi/table_2_f99.csv\",header=True)"
   ]
  },
  {
   "cell_type": "code",
   "execution_count": 5,
   "metadata": {},
   "outputs": [
    {
     "data": {
      "text/plain": [
       "26557961"
      ]
     },
     "execution_count": 5,
     "metadata": {},
     "output_type": "execute_result"
    }
   ],
   "source": [
    "df_tb2_1.count()"
   ]
  },
  {
   "cell_type": "code",
   "execution_count": 6,
   "metadata": {},
   "outputs": [
    {
     "name": "stdout",
     "output_type": "stream",
     "text": [
      "+---------+\n",
      "| sum(clk)|\n",
      "+---------+\n",
      "|1366056.0|\n",
      "+---------+\n",
      "\n"
     ]
    }
   ],
   "source": [
    "df_tb2_1.agg({\"clk\":\"sum\"}).show()"
   ]
  },
  {
   "cell_type": "code",
   "execution_count": 7,
   "metadata": {},
   "outputs": [
    {
     "name": "stdout",
     "output_type": "stream",
     "text": [
      "+------+-----+\n",
      "|  user|count|\n",
      "+------+-----+\n",
      "|265028|   81|\n",
      "|265187|   12|\n",
      "|272702|    6|\n",
      "|287067|   21|\n",
      "|289164|   12|\n",
      "|295107|    3|\n",
      "|320350|  136|\n",
      "| 32558|   38|\n",
      "|336362|    3|\n",
      "|345644|   34|\n",
      "| 34635|   35|\n",
      "|364751|   15|\n",
      "|374258|  134|\n",
      "|378819|   94|\n",
      "| 38672|  122|\n",
      "|388098|    5|\n",
      "| 38986|   15|\n",
      "|390667|   18|\n",
      "|398355|    3|\n",
      "|404848|    3|\n",
      "+------+-----+\n",
      "only showing top 20 rows\n",
      "\n"
     ]
    }
   ],
   "source": [
    "df_tb2_1.select('user').groupby('user').count().show()"
   ]
  },
  {
   "cell_type": "code",
   "execution_count": 8,
   "metadata": {},
   "outputs": [],
   "source": [
    "df_tb2_1.createOrReplaceTempView(\"TABLE2_1\")"
   ]
  },
  {
   "cell_type": "code",
   "execution_count": 9,
   "metadata": {},
   "outputs": [
    {
     "name": "stdout",
     "output_type": "stream",
     "text": [
      "+-------+----------+----------+-----------+---+-------+-----------+--------+-----+---------+------------+-----------------+---------+------------+--------------+----------+--------------------+------------+----+------+-----+-----+----+------+-----+-----+----+------+-----+-----+---------+\n",
      "|   user|time_stamp|adgroup_id|        pid|clk|cate_id|campaign_id|customer|price|cms_segid|cms_group_id|final_gender_code|age_level|pvalue_level|shopping_level|occupation|new_user_class_level|   user_cate|pv_1|cart_1|fav_1|buy_1|pv_2|cart_2|fav_2|buy_2|pv_3|cart_3|fav_3|buy_3|brand_New|\n",
      "+-------+----------+----------+-----------+---+-------+-----------+--------+-----+---------+------------+-----------------+---------+------------+--------------+----------+--------------------+------------+----+------+-----+-----+----+------+-----+-----+----+------+-----+-----+---------+\n",
      "|1000027|1494494716|    246645|430548_1007|  0|   6208|     195222|  199819| 62.0|        0|           4|                2|        4|   999999999|             3|         0|           999999999|1000027_6208|   0|     0|    0|    0|   0|     0|    0|    0|   0|     0|    0|    0|   442562|\n",
      "|1000027|1494368981|    206359|430548_1007|  0|   6208|     157711|  180976| 63.0|        0|           4|                2|        4|   999999999|             3|         0|           999999999|1000027_6208|   0|     0|    0|    0|   0|     0|    0|    0|   0|     0|    0|    0|   437825|\n",
      "|1000033|1494040741|    693435|430548_1007|  0|   4280|     144854|  126331| 39.0|        0|           1|                2|        1|   999999999|             3|         0|                   2|1000033_4280|   4|     0|    0|    0|  54|     3|    1|    0|  97|     3|    0|    0|   146115|\n",
      "|1000033|1494206862|    504290|430548_1007|  0|   4280|      33221|  115805|19.58|        0|           1|                2|        1|   999999999|             3|         0|                   2|1000033_4280|   4|     0|    0|    0|  54|     3|    1|    0|  97|     3|    0|    0|999999999|\n",
      "|1000033|1494206862|    674996|430548_1007|  0|   4280|     342290|  193793|109.0|        0|           1|                2|        1|   999999999|             3|         0|                   2|1000033_4280|   4|     0|    0|    0|  54|     3|    1|    0|  97|     3|    0|    0|999999999|\n",
      "|1000087|1494220473|    699402|430548_1007|  0|    385|      63448|  108662|139.0|        0|           8|                1|        2|   999999999|             3|         1|                   2| 1000087_385|   0|     0|    0|    0|   0|     0|    0|    0|  13|     0|    0|    0|999999999|\n",
      "|1000101|1494649077|    138339|430539_1007|  0|   5471|     242455|  180976| 99.0|       81|          10|                1|        4|           2|             3|         0|                   4|1000101_5471|   0|     0|    0|    0|   4|     0|    0|    0|   2|     0|    0|    0|   192954|\n",
      "|1000119|1494481248|    781956|430548_1007|  0|   2206|      70350|  147632|100.0|        0|           2|                2|        2|   999999999|             3|         1|                   2|1000119_2206|   0|     0|    0|    0|   0|     0|    0|    0|  17|     3|    1|    0|   326778|\n",
      "|1000119|1494412137|    305800|430548_1007|  0|   2206|      37014|    3216| 12.9|        0|           2|                2|        2|   999999999|             3|         1|                   2|1000119_2206|   0|     0|    0|    0|   0|     0|    0|    0|  17|     3|    1|    0|     8787|\n",
      "|1000126|1494598496|    603544|430539_1007|  0|   4288|     298353|  161442| 39.8|        8|           2|                2|        2|           2|             3|         0|                   4|1000126_4288|   1|     0|    0|    0|   2|     0|    0|    0|   0|     0|    0|    0|999999999|\n",
      "|1000128|1494660754|    470032|430548_1007|  0|   4600|      83952|  156358|899.0|        0|           8|                1|        2|   999999999|             2|         0|           999999999|1000128_4600|   0|     0|    0|    0|   0|     0|    0|    0|   5|     0|    0|    0|   382573|\n",
      "|1000128|1494564967|    705270|430548_1007|  0|   4600|      52848|  125126|399.0|        0|           8|                1|        2|   999999999|             2|         0|           999999999|1000128_4600|   0|     0|    0|    0|   0|     0|    0|    0|   5|     0|    0|    0|   108681|\n",
      "|1000128|1494660602|    297865|430548_1007|  0|   4600|     408690|   63542|199.0|        0|           8|                1|        2|   999999999|             2|         0|           999999999|1000128_4600|   0|     0|    0|    0|   0|     0|    0|    0|   5|     0|    0|    0|   108681|\n",
      "|1000128|1494564967|    590706|430548_1007|  0|   4600|     109285|  132047| 99.0|        0|           8|                1|        2|   999999999|             2|         0|           999999999|1000128_4600|   0|     0|    0|    0|   0|     0|    0|    0|   5|     0|    0|    0|   435932|\n",
      "|1000174|1494267136|    531811|430539_1007|  0|   8198|     350614|  184209| 88.0|       90|          11|                1|        5|           2|             3|         0|                   1|1000174_8198|   2|     0|    0|    0|   0|     0|    0|    0|   5|     0|    0|    0|   194267|\n",
      "|1000210|1494223888|    680137|430539_1007|  0|   4281|      49408|  131788|698.0|       20|           3|                2|        3|           2|             3|         0|                   3|1000210_4281|   0|     0|    0|    0|   0|     0|    0|    0|  47|     3|    0|    1|   257287|\n",
      "|1000231|1494142182|    181359|430548_1007|  0|   6813|      55504|  137122| 48.0|        0|           3|                2|        3|           1|             1|         0|           999999999|1000231_6813|   0|     0|    0|    0|  14|     0|    0|    0|   1|     0|    0|    0|   433270|\n",
      "|1000231|1494023350|    175874|430548_1007|  0|   6813|      17875|   60819| 25.0|        0|           3|                2|        3|           1|             1|         0|           999999999|1000231_6813|   0|     0|    0|    0|  14|     0|    0|    0|   1|     0|    0|    0|999999999|\n",
      "|1000234|1494485152|    665476|430539_1007|  0|   6261|     280968|  168326|188.0|       44|           5|                2|        5|           2|             3|         0|                   2|1000234_6261|   0|     0|    0|    0|  12|     0|    0|    0|   2|     0|    0|    0|   123353|\n",
      "|1000271|1494563745|    740102|430548_1007|  0|   6300|     127489|  163318|128.0|       41|           5|                2|        5|           1|             3|         0|                   1|1000271_6300|   1|     0|    0|    0|   0|     0|    0|    0|  15|     1|    0|    0|999999999|\n",
      "+-------+----------+----------+-----------+---+-------+-----------+--------+-----+---------+------------+-----------------+---------+------------+--------------+----------+--------------------+------------+----+------+-----+-----+----+------+-----+-----+----+------+-----+-----+---------+\n",
      "only showing top 20 rows\n",
      "\n"
     ]
    }
   ],
   "source": [
    "sqlTB2_1=spark.sql(\"SELECT * FROM TABLE2_1 \")\n",
    "sqlTB2_1.show()"
   ]
  },
  {
   "cell_type": "code",
   "execution_count": 10,
   "metadata": {},
   "outputs": [
    {
     "name": "stdout",
     "output_type": "stream",
     "text": [
      "+--------------------+\n",
      "|count(DISTINCT user)|\n",
      "+--------------------+\n",
      "|             1141729|\n",
      "+--------------------+\n",
      "\n"
     ]
    }
   ],
   "source": [
    "sql_user_count=spark.sql(\"SELECT count(distinct user) FROM TABLE2_1 \")\n",
    "sql_user_count.show()"
   ]
  },
  {
   "cell_type": "code",
   "execution_count": 85,
   "metadata": {},
   "outputs": [
    {
     "name": "stdout",
     "output_type": "stream",
     "text": [
      "+-------+------------+------------+------------+--------------+------------+------------+\n",
      "|   user|      gender|   age_level|pvalue_level|shopping_level|  occupation|  city_level|\n",
      "+-------+------------+------------+------------+--------------+------------+------------+\n",
      "| 911768|         2.0|         5.0|         2.0|           3.0|         0.0|         3.0|\n",
      "| 914397|         2.0|         2.0|         1.0|           3.0|         0.0|         2.0|\n",
      "| 915290|9.99999999E8|9.99999999E8|9.99999999E8|  9.99999999E8|9.99999999E8|9.99999999E8|\n",
      "| 942375|9.99999999E8|9.99999999E8|9.99999999E8|  9.99999999E8|9.99999999E8|9.99999999E8|\n",
      "| 952492|         2.0|         4.0|9.99999999E8|           1.0|         0.0|9.99999999E8|\n",
      "| 959855|9.99999999E8|9.99999999E8|9.99999999E8|  9.99999999E8|9.99999999E8|9.99999999E8|\n",
      "| 961483|         2.0|         5.0|         2.0|           3.0|         0.0|         3.0|\n",
      "| 963643|         2.0|         4.0|9.99999999E8|           3.0|         0.0|         2.0|\n",
      "| 965348|         2.0|         2.0|         2.0|           3.0|         1.0|         4.0|\n",
      "|  96713|         2.0|         4.0|         1.0|           3.0|         0.0|         2.0|\n",
      "| 973966|         2.0|         3.0|         2.0|           3.0|         0.0|         4.0|\n",
      "| 977296|         1.0|         4.0|         2.0|           3.0|         0.0|         3.0|\n",
      "| 981608|         2.0|         3.0|         2.0|           3.0|         0.0|         4.0|\n",
      "| 982050|         1.0|         2.0|         1.0|           3.0|         0.0|         4.0|\n",
      "| 982078|         1.0|         3.0|         1.0|           3.0|         0.0|         4.0|\n",
      "| 983986|         2.0|         2.0|         2.0|           3.0|         0.0|         2.0|\n",
      "| 984447|         2.0|         2.0|         2.0|           3.0|         0.0|         3.0|\n",
      "| 995436|         1.0|         4.0|         2.0|           3.0|         0.0|         2.0|\n",
      "|1011359|         2.0|         3.0|         1.0|           3.0|         0.0|         2.0|\n",
      "| 102745|         2.0|         2.0|9.99999999E8|           3.0|         0.0|         1.0|\n",
      "+-------+------------+------------+------------+--------------+------------+------------+\n",
      "only showing top 20 rows\n",
      "\n"
     ]
    }
   ],
   "source": [
    "sql_user_profile=spark.sql(\"SELECT user, mean(final_gender_code) as gender, mean(age_level) as age_level, mean(pvalue_level) as pvalue_level, mean(shopping_level) as shopping_level, mean(occupation) as occupation, mean(new_user_class_level) as city_level  FROM TABLE2_1 GROUP BY user\")\n",
    "sql_user_profile.show()"
   ]
  },
  {
   "cell_type": "code",
   "execution_count": 93,
   "metadata": {},
   "outputs": [
    {
     "name": "stdout",
     "output_type": "stream",
     "text": [
      "+------------+\n",
      "|  city_level|\n",
      "+------------+\n",
      "|         1.0|\n",
      "|         4.0|\n",
      "|         3.0|\n",
      "|         2.0|\n",
      "|9.99999999E8|\n",
      "+------------+\n",
      "\n"
     ]
    }
   ],
   "source": [
    "sql_user_profile.select(\"city_level\").distinct().show()"
   ]
  },
  {
   "cell_type": "code",
   "execution_count": 94,
   "metadata": {},
   "outputs": [
    {
     "data": {
      "text/plain": [
       "1141729"
      ]
     },
     "execution_count": 94,
     "metadata": {},
     "output_type": "execute_result"
    }
   ],
   "source": [
    "sql_user_profile.count()"
   ]
  },
  {
   "cell_type": "code",
   "execution_count": 134,
   "metadata": {},
   "outputs": [],
   "source": [
    "user_age_level=sql_user_profile.select('age_level').groupby('age_level').count().sort('age_level',ascending=True)"
   ]
  },
  {
   "cell_type": "code",
   "execution_count": 135,
   "metadata": {},
   "outputs": [
    {
     "name": "stdout",
     "output_type": "stream",
     "text": [
      "+------------+------+\n",
      "|   age_level| count|\n",
      "+------------+------+\n",
      "|         0.0|   501|\n",
      "|         1.0| 65568|\n",
      "|         2.0|189617|\n",
      "|         3.0|307340|\n",
      "|         4.0|261751|\n",
      "|         5.0|214462|\n",
      "|         6.0| 22529|\n",
      "|9.99999999E8| 79961|\n",
      "+------------+------+\n",
      "\n"
     ]
    }
   ],
   "source": [
    "user_age_level.show()"
   ]
  },
  {
   "cell_type": "code",
   "execution_count": 136,
   "metadata": {},
   "outputs": [],
   "source": [
    "user_age_level=user_age_level.na.replace({9.99999999E8:999})"
   ]
  },
  {
   "cell_type": "code",
   "execution_count": 137,
   "metadata": {},
   "outputs": [
    {
     "name": "stdout",
     "output_type": "stream",
     "text": [
      "+---------+------+\n",
      "|age_level| count|\n",
      "+---------+------+\n",
      "|      0.0|   501|\n",
      "|      1.0| 65568|\n",
      "|      2.0|189617|\n",
      "|      3.0|307340|\n",
      "|      4.0|261751|\n",
      "|      5.0|214462|\n",
      "|      6.0| 22529|\n",
      "|    999.0| 79961|\n",
      "+---------+------+\n",
      "\n"
     ]
    }
   ],
   "source": [
    "user_age_level.show()"
   ]
  },
  {
   "cell_type": "code",
   "execution_count": 138,
   "metadata": {},
   "outputs": [
    {
     "name": "stdout",
     "output_type": "stream",
     "text": [
      "root\n",
      " |-- age_level: double (nullable = true)\n",
      " |-- count: long (nullable = true)\n",
      "\n"
     ]
    }
   ],
   "source": [
    "user_age_level.printSchema()"
   ]
  },
  {
   "cell_type": "code",
   "execution_count": 139,
   "metadata": {},
   "outputs": [],
   "source": [
    "user_age_level=user_age_level.withColumn(\"age_level\",user_age_level[\"age_level\"].cast(StringType()))"
   ]
  },
  {
   "cell_type": "code",
   "execution_count": 140,
   "metadata": {},
   "outputs": [
    {
     "name": "stdout",
     "output_type": "stream",
     "text": [
      "root\n",
      " |-- age_level: string (nullable = true)\n",
      " |-- count: long (nullable = true)\n",
      "\n"
     ]
    }
   ],
   "source": [
    "user_age_level.printSchema()"
   ]
  },
  {
   "cell_type": "code",
   "execution_count": 141,
   "metadata": {},
   "outputs": [],
   "source": [
    "user_age_level=user_age_level.na.replace(['0.0','1.0','2.0','3.0','4.0','5.0','6.0'],['0','1','2','3','4','5','6'],'age_level')"
   ]
  },
  {
   "cell_type": "code",
   "execution_count": 143,
   "metadata": {},
   "outputs": [],
   "source": [
    "user_age_level=user_age_level.na.replace({'999.0':'unknown'})"
   ]
  },
  {
   "cell_type": "code",
   "execution_count": 144,
   "metadata": {},
   "outputs": [
    {
     "name": "stdout",
     "output_type": "stream",
     "text": [
      "+---------+------+\n",
      "|age_level| count|\n",
      "+---------+------+\n",
      "|        0|   501|\n",
      "|        1| 65568|\n",
      "|        2|189617|\n",
      "|        3|307340|\n",
      "|        4|261751|\n",
      "|        5|214462|\n",
      "|        6| 22529|\n",
      "|  unknown| 79961|\n",
      "+---------+------+\n",
      "\n"
     ]
    }
   ],
   "source": [
    "user_age_level.show()"
   ]
  },
  {
   "cell_type": "code",
   "execution_count": 145,
   "metadata": {},
   "outputs": [],
   "source": [
    "user_age_level_pa=user_age_level.toPandas()"
   ]
  },
  {
   "cell_type": "code",
   "execution_count": 146,
   "metadata": {},
   "outputs": [],
   "source": [
    "user_age_level_pa_x=user_age_level_pa['age_level'].tolist()\n",
    "user_age_level_pa_y=user_age_level_pa['count'].tolist()"
   ]
  },
  {
   "cell_type": "code",
   "execution_count": 148,
   "metadata": {},
   "outputs": [
    {
     "data": {
      "text/plain": [
       "Text(0.5, 0, 'age_level')"
      ]
     },
     "execution_count": 148,
     "metadata": {},
     "output_type": "execute_result"
    },
    {
     "data": {
      "image/png": "[encoded data removed]",
      "text/plain": [
       "<Figure size 720x432 with 1 Axes>"
      ]
     },
     "metadata": {
      "needs_background": "light"
     },
     "output_type": "display_data"
    }
   ],
   "source": [
    "plt.figure(figsize=(10,6))\n",
    "sns.barplot( user_age_level_pa_x, user_age_level_pa_y, palette=\"CMRmap\") \n",
    "plt.title('Distribution of Ages')\n",
    "plt.ylabel('populations')\n",
    "plt.xlabel('age_level')"
   ]
  },
  {
   "cell_type": "code",
   "execution_count": 149,
   "metadata": {},
   "outputs": [],
   "source": [
    "user_pvalue_level=sql_user_profile.select('pvalue_level').groupby('pvalue_level').count().sort('pvalue_level',ascending=True)"
   ]
  },
  {
   "cell_type": "code",
   "execution_count": 150,
   "metadata": {},
   "outputs": [
    {
     "name": "stdout",
     "output_type": "stream",
     "text": [
      "+------------+------+\n",
      "|pvalue_level| count|\n",
      "+------------+------+\n",
      "|         1.0|154436|\n",
      "|         2.0|293656|\n",
      "|         3.0| 37759|\n",
      "|9.99999999E8|655878|\n",
      "+------------+------+\n",
      "\n"
     ]
    }
   ],
   "source": [
    "user_pvalue_level.show()"
   ]
  },
  {
   "cell_type": "code",
   "execution_count": 151,
   "metadata": {},
   "outputs": [],
   "source": [
    "user_pvalue_level=user_pvalue_level.na.replace({9.99999999E8:999})"
   ]
  },
  {
   "cell_type": "code",
   "execution_count": 152,
   "metadata": {},
   "outputs": [
    {
     "name": "stdout",
     "output_type": "stream",
     "text": [
      "+------------+------+\n",
      "|pvalue_level| count|\n",
      "+------------+------+\n",
      "|         1.0|154436|\n",
      "|         2.0|293656|\n",
      "|         3.0| 37759|\n",
      "|       999.0|655878|\n",
      "+------------+------+\n",
      "\n"
     ]
    }
   ],
   "source": [
    "user_pvalue_level.show()"
   ]
  },
  {
   "cell_type": "code",
   "execution_count": 153,
   "metadata": {},
   "outputs": [],
   "source": [
    "user_pvalue_level=user_pvalue_level.withColumn(\"pvalue_level\",user_pvalue_level[\"pvalue_level\"].cast(StringType()))"
   ]
  },
  {
   "cell_type": "code",
   "execution_count": 154,
   "metadata": {},
   "outputs": [
    {
     "name": "stdout",
     "output_type": "stream",
     "text": [
      "root\n",
      " |-- pvalue_level: string (nullable = true)\n",
      " |-- count: long (nullable = true)\n",
      "\n"
     ]
    }
   ],
   "source": [
    "user_pvalue_level.printSchema()"
   ]
  },
  {
   "cell_type": "code",
   "execution_count": 155,
   "metadata": {},
   "outputs": [],
   "source": [
    "user_pvalue_level=user_pvalue_level.na.replace(['1.0','2.0','3.0','999.0'],['1','2','3','unknown'],'pvalue_level')"
   ]
  },
  {
   "cell_type": "code",
   "execution_count": 156,
   "metadata": {},
   "outputs": [
    {
     "name": "stdout",
     "output_type": "stream",
     "text": [
      "+------------+------+\n",
      "|pvalue_level| count|\n",
      "+------------+------+\n",
      "|           1|154436|\n",
      "|           2|293656|\n",
      "|           3| 37759|\n",
      "|     unknown|655878|\n",
      "+------------+------+\n",
      "\n"
     ]
    }
   ],
   "source": [
    "user_pvalue_level.show()"
   ]
  },
  {
   "cell_type": "code",
   "execution_count": 157,
   "metadata": {},
   "outputs": [],
   "source": [
    "user_pvalue_level_pa=user_pvalue_level.toPandas()"
   ]
  },
  {
   "cell_type": "code",
   "execution_count": 158,
   "metadata": {},
   "outputs": [],
   "source": [
    "user_pvalue_level_pa_x=user_pvalue_level_pa['pvalue_level'].tolist()\n",
    "user_pvalue_level_pa_y=user_pvalue_level_pa['count'].tolist()"
   ]
  },
  {
   "cell_type": "code",
   "execution_count": 159,
   "metadata": {},
   "outputs": [
    {
     "data": {
      "text/plain": [
       "Text(0.5, 0, 'pvalue_level')"
      ]
     },
     "execution_count": 159,
     "metadata": {},
     "output_type": "execute_result"
    },
    {
     "data": {
      "image/png": "[encoded data removed]",
      "text/plain": [
       "<Figure size 720x432 with 1 Axes>"
      ]
     },
     "metadata": {
      "needs_background": "light"
     },
     "output_type": "display_data"
    }
   ],
   "source": [
    "plt.figure(figsize=(10,6))\n",
    "sns.barplot( user_pvalue_level_pa_x, user_pvalue_level_pa_y, palette=\"CMRmap\") \n",
    "plt.title('Distribution of pvalues')\n",
    "plt.ylabel('populations')\n",
    "plt.xlabel('pvalue_level')"
   ]
  },
  {
   "cell_type": "code",
   "execution_count": 160,
   "metadata": {},
   "outputs": [],
   "source": [
    "user_shopping_level=sql_user_profile.select('shopping_level').groupby('shopping_level').count().sort('shopping_level',ascending=True)"
   ]
  },
  {
   "cell_type": "code",
   "execution_count": 161,
   "metadata": {},
   "outputs": [
    {
     "name": "stdout",
     "output_type": "stream",
     "text": [
      "+--------------+------+\n",
      "|shopping_level| count|\n",
      "+--------------+------+\n",
      "|           1.0| 74612|\n",
      "|           2.0|151411|\n",
      "|           3.0|835745|\n",
      "|  9.99999999E8| 79961|\n",
      "+--------------+------+\n",
      "\n"
     ]
    }
   ],
   "source": [
    "user_shopping_level.show()"
   ]
  },
  {
   "cell_type": "code",
   "execution_count": 162,
   "metadata": {},
   "outputs": [],
   "source": [
    "user_shopping_level=user_shopping_level.na.replace({9.99999999E8:999})"
   ]
  },
  {
   "cell_type": "code",
   "execution_count": 163,
   "metadata": {},
   "outputs": [
    {
     "name": "stdout",
     "output_type": "stream",
     "text": [
      "+--------------+------+\n",
      "|shopping_level| count|\n",
      "+--------------+------+\n",
      "|           1.0| 74612|\n",
      "|           2.0|151411|\n",
      "|           3.0|835745|\n",
      "|         999.0| 79961|\n",
      "+--------------+------+\n",
      "\n"
     ]
    }
   ],
   "source": [
    "user_shopping_level.show()"
   ]
  },
  {
   "cell_type": "code",
   "execution_count": 164,
   "metadata": {},
   "outputs": [],
   "source": [
    "user_shopping_level=user_shopping_level.withColumn(\"shopping_level\",user_shopping_level[\"shopping_level\"].cast(StringType()))"
   ]
  },
  {
   "cell_type": "code",
   "execution_count": 165,
   "metadata": {},
   "outputs": [
    {
     "name": "stdout",
     "output_type": "stream",
     "text": [
      "root\n",
      " |-- shopping_level: string (nullable = true)\n",
      " |-- count: long (nullable = true)\n",
      "\n"
     ]
    }
   ],
   "source": [
    "user_shopping_level.printSchema()"
   ]
  },
  {
   "cell_type": "code",
   "execution_count": 166,
   "metadata": {},
   "outputs": [],
   "source": [
    "user_shopping_level=user_shopping_level.na.replace(['1.0','2.0','3.0','999.0'],['1','2','3','unknown'],'shopping_level')"
   ]
  },
  {
   "cell_type": "code",
   "execution_count": 167,
   "metadata": {},
   "outputs": [
    {
     "name": "stdout",
     "output_type": "stream",
     "text": [
      "+--------------+------+\n",
      "|shopping_level| count|\n",
      "+--------------+------+\n",
      "|             1| 74612|\n",
      "|             2|151411|\n",
      "|             3|835745|\n",
      "|       unknown| 79961|\n",
      "+--------------+------+\n",
      "\n"
     ]
    }
   ],
   "source": [
    "user_shopping_level.show()"
   ]
  },
  {
   "cell_type": "code",
   "execution_count": 168,
   "metadata": {},
   "outputs": [],
   "source": [
    "user_shopping_level_pa=user_shopping_level.toPandas()"
   ]
  },
  {
   "cell_type": "code",
   "execution_count": 169,
   "metadata": {},
   "outputs": [],
   "source": [
    "user_shopping_level_pa_x=user_shopping_level_pa['shopping_level'].tolist()\n",
    "user_shopping_level_pa_y=user_shopping_level_pa['count'].tolist()"
   ]
  },
  {
   "cell_type": "code",
   "execution_count": 170,
   "metadata": {},
   "outputs": [
    {
     "data": {
      "text/plain": [
       "Text(0.5, 0, 'shopping_level')"
      ]
     },
     "execution_count": 170,
     "metadata": {},
     "output_type": "execute_result"
    },
    {
     "data": {
      "image/png": "[encoded data removed]",
      "text/plain": [
       "<Figure size 720x432 with 1 Axes>"
      ]
     },
     "metadata": {
      "needs_background": "light"
     },
     "output_type": "display_data"
    }
   ],
   "source": [
    "plt.figure(figsize=(10,6))\n",
    "sns.barplot( user_shopping_level_pa_x, user_shopping_level_pa_y, palette=\"CMRmap\") \n",
    "plt.title('Distribution of shopping_values')\n",
    "plt.ylabel('populations')\n",
    "plt.xlabel('shopping_level')"
   ]
  },
  {
   "cell_type": "code",
   "execution_count": 171,
   "metadata": {},
   "outputs": [],
   "source": [
    "user_education=sql_user_profile.select('occupation').groupby('occupation').count().sort('occupation',ascending=True)"
   ]
  },
  {
   "cell_type": "code",
   "execution_count": 172,
   "metadata": {},
   "outputs": [
    {
     "name": "stdout",
     "output_type": "stream",
     "text": [
      "+------------+-------+\n",
      "|  occupation|  count|\n",
      "+------------+-------+\n",
      "|         0.0|1002064|\n",
      "|         1.0|  59704|\n",
      "|9.99999999E8|  79961|\n",
      "+------------+-------+\n",
      "\n"
     ]
    }
   ],
   "source": [
    "user_education.show()"
   ]
  },
  {
   "cell_type": "code",
   "execution_count": 173,
   "metadata": {},
   "outputs": [],
   "source": [
    "user_education=user_education.na.replace({9.99999999E8:999})"
   ]
  },
  {
   "cell_type": "code",
   "execution_count": 174,
   "metadata": {},
   "outputs": [
    {
     "name": "stdout",
     "output_type": "stream",
     "text": [
      "+----------+-------+\n",
      "|occupation|  count|\n",
      "+----------+-------+\n",
      "|       0.0|1002064|\n",
      "|       1.0|  59704|\n",
      "|     999.0|  79961|\n",
      "+----------+-------+\n",
      "\n"
     ]
    }
   ],
   "source": [
    "user_education.show()"
   ]
  },
  {
   "cell_type": "code",
   "execution_count": 175,
   "metadata": {},
   "outputs": [],
   "source": [
    "user_education=user_education.withColumn(\"occupation\",user_education[\"occupation\"].cast(StringType()))"
   ]
  },
  {
   "cell_type": "code",
   "execution_count": 176,
   "metadata": {},
   "outputs": [
    {
     "name": "stdout",
     "output_type": "stream",
     "text": [
      "root\n",
      " |-- occupation: string (nullable = true)\n",
      " |-- count: long (nullable = true)\n",
      "\n"
     ]
    }
   ],
   "source": [
    "user_education.printSchema()"
   ]
  },
  {
   "cell_type": "code",
   "execution_count": 177,
   "metadata": {},
   "outputs": [],
   "source": [
    "user_education=user_education.na.replace(['0.0','1.0','999.0'],['not-college student','college student','unknown'],'occupation')"
   ]
  },
  {
   "cell_type": "code",
   "execution_count": 178,
   "metadata": {},
   "outputs": [
    {
     "name": "stdout",
     "output_type": "stream",
     "text": [
      "+-------------------+-------+\n",
      "|         occupation|  count|\n",
      "+-------------------+-------+\n",
      "|not-college student|1002064|\n",
      "|    college student|  59704|\n",
      "|            unknown|  79961|\n",
      "+-------------------+-------+\n",
      "\n"
     ]
    }
   ],
   "source": [
    "user_education.show()"
   ]
  },
  {
   "cell_type": "code",
   "execution_count": 179,
   "metadata": {},
   "outputs": [],
   "source": [
    "user_education_pa=user_education.toPandas()"
   ]
  },
  {
   "cell_type": "code",
   "execution_count": 180,
   "metadata": {},
   "outputs": [],
   "source": [
    "user_education_pa_x=user_education_pa['occupation'].tolist()\n",
    "user_education_pa_y=user_education_pa['count'].tolist()"
   ]
  },
  {
   "cell_type": "code",
   "execution_count": 181,
   "metadata": {},
   "outputs": [
    {
     "data": {
      "text/plain": [
       "Text(0.5, 0, 'whether college student?')"
      ]
     },
     "execution_count": 181,
     "metadata": {},
     "output_type": "execute_result"
    },
    {
     "data": {
      "image/png": "[encoded data removed]",
      "text/plain": [
       "<Figure size 720x432 with 1 Axes>"
      ]
     },
     "metadata": {
      "needs_background": "light"
     },
     "output_type": "display_data"
    }
   ],
   "source": [
    "plt.figure(figsize=(10,6))\n",
    "sns.barplot( user_education_pa_x, user_education_pa_y, palette=\"CMRmap\",) \n",
    "plt.title('Distribution of college student')\n",
    "plt.ylabel('populations')\n",
    "plt.xlabel('whether college student?')"
   ]
  },
  {
   "cell_type": "code",
   "execution_count": 182,
   "metadata": {},
   "outputs": [],
   "source": [
    "user_city_level=sql_user_profile.select('city_level').groupby('city_level').count().sort('city_level',ascending=True)"
   ]
  },
  {
   "cell_type": "code",
   "execution_count": 183,
   "metadata": {},
   "outputs": [
    {
     "name": "stdout",
     "output_type": "stream",
     "text": [
      "+------------+------+\n",
      "|  city_level| count|\n",
      "+------------+------+\n",
      "|         1.0| 80548|\n",
      "|         2.0|324420|\n",
      "|         3.0|173047|\n",
      "|         4.0|138833|\n",
      "|9.99999999E8|424881|\n",
      "+------------+------+\n",
      "\n"
     ]
    }
   ],
   "source": [
    "user_city_level.show()"
   ]
  },
  {
   "cell_type": "code",
   "execution_count": 184,
   "metadata": {},
   "outputs": [],
   "source": [
    "user_city_level=user_city_level.na.replace({9.99999999E8:999})"
   ]
  },
  {
   "cell_type": "code",
   "execution_count": 185,
   "metadata": {},
   "outputs": [
    {
     "name": "stdout",
     "output_type": "stream",
     "text": [
      "+----------+------+\n",
      "|city_level| count|\n",
      "+----------+------+\n",
      "|       1.0| 80548|\n",
      "|       2.0|324420|\n",
      "|       3.0|173047|\n",
      "|       4.0|138833|\n",
      "|     999.0|424881|\n",
      "+----------+------+\n",
      "\n"
     ]
    }
   ],
   "source": [
    "user_city_level.show()"
   ]
  },
  {
   "cell_type": "code",
   "execution_count": 186,
   "metadata": {},
   "outputs": [],
   "source": [
    "user_city_level=user_city_level.withColumn(\"city_level\",user_city_level[\"city_level\"].cast(StringType()))"
   ]
  },
  {
   "cell_type": "code",
   "execution_count": 187,
   "metadata": {},
   "outputs": [
    {
     "name": "stdout",
     "output_type": "stream",
     "text": [
      "root\n",
      " |-- city_level: string (nullable = true)\n",
      " |-- count: long (nullable = true)\n",
      "\n"
     ]
    }
   ],
   "source": [
    "user_city_level.printSchema()"
   ]
  },
  {
   "cell_type": "code",
   "execution_count": 190,
   "metadata": {},
   "outputs": [],
   "source": [
    "user_city_level=user_city_level.na.replace(['1.0','2.0','3.0','4.0','999.0'],['1','2','3','4','unknown'],'city_level')"
   ]
  },
  {
   "cell_type": "code",
   "execution_count": 191,
   "metadata": {},
   "outputs": [
    {
     "name": "stdout",
     "output_type": "stream",
     "text": [
      "+----------+------+\n",
      "|city_level| count|\n",
      "+----------+------+\n",
      "|         1| 80548|\n",
      "|         2|324420|\n",
      "|         3|173047|\n",
      "|         4|138833|\n",
      "|   unknown|424881|\n",
      "+----------+------+\n",
      "\n"
     ]
    }
   ],
   "source": [
    "user_city_level.show()"
   ]
  },
  {
   "cell_type": "code",
   "execution_count": 192,
   "metadata": {},
   "outputs": [],
   "source": [
    "user_city_level_pa=user_city_level.toPandas()"
   ]
  },
  {
   "cell_type": "code",
   "execution_count": 193,
   "metadata": {},
   "outputs": [],
   "source": [
    "user_city_level_pa_x=user_city_level_pa['city_level'].tolist()\n",
    "user_city_level_pa_y=user_city_level_pa['count'].tolist()"
   ]
  },
  {
   "cell_type": "code",
   "execution_count": 195,
   "metadata": {},
   "outputs": [
    {
     "data": {
      "text/plain": [
       "Text(0.5, 0, 'city_level')"
      ]
     },
     "execution_count": 195,
     "metadata": {},
     "output_type": "execute_result"
    },
    {
     "data": {
      "image/png": "[encoded data removed]",
      "text/plain": [
       "<Figure size 720x432 with 1 Axes>"
      ]
     },
     "metadata": {
      "needs_background": "light"
     },
     "output_type": "display_data"
    }
   ],
   "source": [
    "plt.figure(figsize=(10,6))\n",
    "sns.barplot( user_city_level_pa_x, user_city_level_pa_y, palette=\"CMRmap\",) \n",
    "plt.title('Distribution of city')\n",
    "plt.ylabel('populations')\n",
    "plt.xlabel('city_level')"
   ]
  },
  {
   "cell_type": "code",
   "execution_count": 201,
   "metadata": {},
   "outputs": [
    {
     "name": "stdout",
     "output_type": "stream",
     "text": [
      "+-------+------------+------------+------------+--------------+------------+------------+\n",
      "|   user|      gender|   age_level|pvalue_level|shopping_level|  occupation|  city_level|\n",
      "+-------+------------+------------+------------+--------------+------------+------------+\n",
      "|1009562|         2.0|         2.0|         2.0|           3.0|         1.0|         3.0|\n",
      "|1016518|         2.0|         3.0|         2.0|           2.0|         0.0|9.99999999E8|\n",
      "|1019329|9.99999999E8|9.99999999E8|9.99999999E8|  9.99999999E8|9.99999999E8|9.99999999E8|\n",
      "|1024757|         2.0|         3.0|         2.0|           3.0|         0.0|         2.0|\n",
      "|1037103|         2.0|         3.0|9.99999999E8|           3.0|         0.0|         1.0|\n",
      "|1061977|9.99999999E8|9.99999999E8|9.99999999E8|  9.99999999E8|9.99999999E8|9.99999999E8|\n",
      "|1073482|         2.0|         4.0|9.99999999E8|           3.0|         0.0|         2.0|\n",
      "|1074070|         1.0|         4.0|         2.0|           3.0|         0.0|         2.0|\n",
      "|1074159|         2.0|         4.0|9.99999999E8|           3.0|         0.0|         1.0|\n",
      "|1082303|         2.0|         6.0|9.99999999E8|           3.0|         0.0|         3.0|\n",
      "|1085151|         1.0|         1.0|         3.0|           3.0|         0.0|9.99999999E8|\n",
      "|1092362|         2.0|         3.0|         2.0|           3.0|         0.0|         3.0|\n",
      "|1094379|         1.0|         2.0|9.99999999E8|           1.0|         0.0|9.99999999E8|\n",
      "|1102816|         2.0|         5.0|9.99999999E8|           3.0|         0.0|         2.0|\n",
      "|1103354|         1.0|         3.0|         3.0|           3.0|         0.0|         2.0|\n",
      "|1108050|         2.0|         2.0|         2.0|           3.0|         1.0|         3.0|\n",
      "|1109275|         2.0|         4.0|         2.0|           3.0|         0.0|         3.0|\n",
      "|1114663|9.99999999E8|9.99999999E8|9.99999999E8|  9.99999999E8|9.99999999E8|9.99999999E8|\n",
      "|1130121|         2.0|         2.0|9.99999999E8|           3.0|         0.0|9.99999999E8|\n",
      "|1141237|         1.0|         4.0|         1.0|           3.0|         0.0|9.99999999E8|\n",
      "+-------+------------+------------+------------+--------------+------------+------------+\n",
      "only showing top 20 rows\n",
      "\n"
     ]
    }
   ],
   "source": [
    "sql_user_profile.show()"
   ]
  },
  {
   "cell_type": "code",
   "execution_count": 204,
   "metadata": {},
   "outputs": [
    {
     "name": "stdout",
     "output_type": "stream",
     "text": [
      "+-------+------+---------+------------+--------------+----------+------------+-------+-----+-----------+---------+\n",
      "|   user|gender|age_level|pvalue_level|shopping_level|occupation|  city_level|   user|count|unclk_count|clk_count|\n",
      "+-------+------+---------+------------+--------------+----------+------------+-------+-----+-----------+---------+\n",
      "| 100010|   2.0|      2.0|9.99999999E8|           3.0|       1.0|         4.0| 100010|    3|          3|        0|\n",
      "|1000240|   2.0|      4.0|         2.0|           3.0|       0.0|         3.0|1000240|    3|          3|        0|\n",
      "|1000280|   2.0|      5.0|         2.0|           3.0|       0.0|         2.0|1000280|    3|          3|        0|\n",
      "|1000665|   2.0|      3.0|         1.0|           3.0|       0.0|         4.0|1000665|   17|         16|        1|\n",
      "|1000795|   2.0|      2.0|         2.0|           3.0|       0.0|         3.0|1000795|   72|         67|        5|\n",
      "|1000839|   1.0|      4.0|         2.0|           3.0|       0.0|         3.0|1000839|    7|          7|        0|\n",
      "|1000888|   1.0|      4.0|9.99999999E8|           3.0|       0.0|         4.0|1000888|   24|         22|        2|\n",
      "| 100140|   2.0|      3.0|         2.0|           3.0|       0.0|         2.0| 100140|    6|          5|        1|\n",
      "|1001866|   2.0|      5.0|9.99999999E8|           3.0|       0.0|         3.0|1001866|    5|          5|        0|\n",
      "|1002011|   1.0|      5.0|9.99999999E8|           3.0|       0.0|         2.0|1002011|   20|         16|        4|\n",
      "|1002185|   2.0|      3.0|9.99999999E8|           3.0|       0.0|         3.0|1002185|  272|        265|        7|\n",
      "| 100227|   2.0|      3.0|9.99999999E8|           2.0|       0.0|9.99999999E8| 100227|   10|         10|        0|\n",
      "|1002442|   2.0|      5.0|9.99999999E8|           3.0|       0.0|         2.0|1002442|    3|          3|        0|\n",
      "| 100263|   2.0|      2.0|         2.0|           2.0|       0.0|         2.0| 100263|    9|          8|        1|\n",
      "|1002783|   2.0|      3.0|9.99999999E8|           3.0|       0.0|         2.0|1002783|    3|          3|        0|\n",
      "|1002883|   1.0|      3.0|         2.0|           3.0|       1.0|         2.0|1002883|    5|          5|        0|\n",
      "|1002887|   2.0|      3.0|         2.0|           3.0|       0.0|         1.0|1002887|   18|         17|        1|\n",
      "| 100320|   1.0|      2.0|9.99999999E8|           2.0|       0.0|9.99999999E8| 100320|    6|          6|        0|\n",
      "|1003202|   1.0|      5.0|         3.0|           3.0|       0.0|         2.0|1003202|    6|          6|        0|\n",
      "|1003366|   1.0|      4.0|         1.0|           3.0|       0.0|         4.0|1003366|   36|         31|        5|\n",
      "+-------+------+---------+------------+--------------+----------+------------+-------+-----+-----------+---------+\n",
      "only showing top 20 rows\n",
      "\n"
     ]
    }
   ],
   "source": [
    "user_profile_clk =sql_user_profile.join(user_unclk_clk_2,(sql_user_profile.user == user_unclk_clk_2.user) ,'inner')\n",
    "user_profile_clk.show()"
   ]
  },
  {
   "cell_type": "code",
   "execution_count": 205,
   "metadata": {},
   "outputs": [
    {
     "data": {
      "text/plain": [
       "1141729"
      ]
     },
     "execution_count": 205,
     "metadata": {},
     "output_type": "execute_result"
    }
   ],
   "source": [
    "user_profile_clk.count()"
   ]
  },
  {
   "cell_type": "code",
   "execution_count": 206,
   "metadata": {},
   "outputs": [],
   "source": [
    "user_profile_clk=user_profile_clk.withColumnRenamed('count','sum_unclk_clk')"
   ]
  },
  {
   "cell_type": "code",
   "execution_count": 207,
   "metadata": {},
   "outputs": [
    {
     "name": "stdout",
     "output_type": "stream",
     "text": [
      "+-------+------+---------+------------+--------------+----------+------------+-------+-------------+-----------+---------+\n",
      "|   user|gender|age_level|pvalue_level|shopping_level|occupation|  city_level|   user|sum_unclk_clk|unclk_count|clk_count|\n",
      "+-------+------+---------+------------+--------------+----------+------------+-------+-------------+-----------+---------+\n",
      "| 100010|   2.0|      2.0|9.99999999E8|           3.0|       1.0|         4.0| 100010|            3|          3|        0|\n",
      "|1000240|   2.0|      4.0|         2.0|           3.0|       0.0|         3.0|1000240|            3|          3|        0|\n",
      "|1000280|   2.0|      5.0|         2.0|           3.0|       0.0|         2.0|1000280|            3|          3|        0|\n",
      "|1000665|   2.0|      3.0|         1.0|           3.0|       0.0|         4.0|1000665|           17|         16|        1|\n",
      "|1000795|   2.0|      2.0|         2.0|           3.0|       0.0|         3.0|1000795|           72|         67|        5|\n",
      "|1000839|   1.0|      4.0|         2.0|           3.0|       0.0|         3.0|1000839|            7|          7|        0|\n",
      "|1000888|   1.0|      4.0|9.99999999E8|           3.0|       0.0|         4.0|1000888|           24|         22|        2|\n",
      "| 100140|   2.0|      3.0|         2.0|           3.0|       0.0|         2.0| 100140|            6|          5|        1|\n",
      "|1001866|   2.0|      5.0|9.99999999E8|           3.0|       0.0|         3.0|1001866|            5|          5|        0|\n",
      "|1002011|   1.0|      5.0|9.99999999E8|           3.0|       0.0|         2.0|1002011|           20|         16|        4|\n",
      "|1002185|   2.0|      3.0|9.99999999E8|           3.0|       0.0|         3.0|1002185|          272|        265|        7|\n",
      "| 100227|   2.0|      3.0|9.99999999E8|           2.0|       0.0|9.99999999E8| 100227|           10|         10|        0|\n",
      "|1002442|   2.0|      5.0|9.99999999E8|           3.0|       0.0|         2.0|1002442|            3|          3|        0|\n",
      "| 100263|   2.0|      2.0|         2.0|           2.0|       0.0|         2.0| 100263|            9|          8|        1|\n",
      "|1002783|   2.0|      3.0|9.99999999E8|           3.0|       0.0|         2.0|1002783|            3|          3|        0|\n",
      "|1002883|   1.0|      3.0|         2.0|           3.0|       1.0|         2.0|1002883|            5|          5|        0|\n",
      "|1002887|   2.0|      3.0|         2.0|           3.0|       0.0|         1.0|1002887|           18|         17|        1|\n",
      "| 100320|   1.0|      2.0|9.99999999E8|           2.0|       0.0|9.99999999E8| 100320|            6|          6|        0|\n",
      "|1003202|   1.0|      5.0|         3.0|           3.0|       0.0|         2.0|1003202|            6|          6|        0|\n",
      "|1003366|   1.0|      4.0|         1.0|           3.0|       0.0|         4.0|1003366|           36|         31|        5|\n",
      "+-------+------+---------+------------+--------------+----------+------------+-------+-------------+-----------+---------+\n",
      "only showing top 20 rows\n",
      "\n"
     ]
    }
   ],
   "source": [
    "user_profile_clk.show()"
   ]
  },
  {
   "cell_type": "code",
   "execution_count": 209,
   "metadata": {},
   "outputs": [],
   "source": [
    "gender_clk_distr=user_profile_clk.select('gender').where('clk_count!=0').groupby('gender').count()"
   ]
  },
  {
   "cell_type": "code",
   "execution_count": 211,
   "metadata": {},
   "outputs": [
    {
     "name": "stdout",
     "output_type": "stream",
     "text": [
      "+------------+------+\n",
      "|      gender| count|\n",
      "+------------+------+\n",
      "|         1.0|137344|\n",
      "|         2.0|323562|\n",
      "|9.99999999E8| 30741|\n",
      "+------------+------+\n",
      "\n"
     ]
    }
   ],
   "source": [
    "gender_clk_distr.show()"
   ]
  },
  {
   "cell_type": "code",
   "execution_count": 212,
   "metadata": {},
   "outputs": [
    {
     "name": "stdout",
     "output_type": "stream",
     "text": [
      "+----------+\n",
      "|sum(count)|\n",
      "+----------+\n",
      "|    491647|\n",
      "+----------+\n",
      "\n"
     ]
    }
   ],
   "source": [
    "gender_clk_distr.agg({\"count\":\"sum\"}).show()"
   ]
  },
  {
   "cell_type": "code",
   "execution_count": 213,
   "metadata": {},
   "outputs": [],
   "source": [
    "gender_clk_distr=gender_clk_distr.withColumn(\"gender\",gender_clk_distr[\"gender\"].cast(StringType()))"
   ]
  },
  {
   "cell_type": "code",
   "execution_count": 214,
   "metadata": {},
   "outputs": [
    {
     "name": "stdout",
     "output_type": "stream",
     "text": [
      "root\n",
      " |-- gender: string (nullable = true)\n",
      " |-- count: long (nullable = false)\n",
      "\n"
     ]
    }
   ],
   "source": [
    "gender_clk_distr.printSchema()"
   ]
  },
  {
   "cell_type": "code",
   "execution_count": 222,
   "metadata": {},
   "outputs": [],
   "source": [
    "gender_clk_distr=gender_clk_distr.na.replace(['1','2'],['Male','Female'],'gender')"
   ]
  },
  {
   "cell_type": "code",
   "execution_count": 223,
   "metadata": {},
   "outputs": [
    {
     "name": "stdout",
     "output_type": "stream",
     "text": [
      "+-------+------+\n",
      "| gender| count|\n",
      "+-------+------+\n",
      "|   Male|137344|\n",
      "| Female|323562|\n",
      "|unknown| 30741|\n",
      "+-------+------+\n",
      "\n"
     ]
    }
   ],
   "source": [
    "gender_clk_distr.show()"
   ]
  },
  {
   "cell_type": "code",
   "execution_count": 224,
   "metadata": {},
   "outputs": [],
   "source": [
    "gender_clk_distr_pa=gender_clk_distr.toPandas()"
   ]
  },
  {
   "cell_type": "code",
   "execution_count": 225,
   "metadata": {},
   "outputs": [],
   "source": [
    "gender_clk_distr_pa_x=gender_clk_distr_pa['gender'].tolist()\n",
    "gender_clk_distr_pa_y=gender_clk_distr_pa['count'].tolist()"
   ]
  },
  {
   "cell_type": "code",
   "execution_count": 226,
   "metadata": {},
   "outputs": [
    {
     "data": {
      "text/plain": [
       "Text(0.5, 0, 'gender')"
      ]
     },
     "execution_count": 226,
     "metadata": {},
     "output_type": "execute_result"
    },
    {
     "data": {
      "image/png": "[encoded data removed]",
      "text/plain": [
       "<Figure size 720x432 with 1 Axes>"
      ]
     },
     "metadata": {
      "needs_background": "light"
     },
     "output_type": "display_data"
    }
   ],
   "source": [
    "plt.figure(figsize=(10,6))\n",
    "sns.barplot( gender_clk_distr_pa_x, gender_clk_distr_pa_y, palette=\"CMRmap\",) \n",
    "plt.title('Distribution of gender on ad-click')\n",
    "plt.ylabel('populations')\n",
    "plt.xlabel('gender')"
   ]
  },
  {
   "cell_type": "code",
   "execution_count": 231,
   "metadata": {},
   "outputs": [
    {
     "name": "stdout",
     "output_type": "stream",
     "text": [
      "[36.38087821210701, 47.28703355932253, 4.49264962711052]\n"
     ]
    }
   ],
   "source": [
    "gender_clk_distr_pa_y1=[137344/377517*100,323562/684251*100,30741/684251*100]\n",
    "print(gender_clk_distr_pa_y1)"
   ]
  },
  {
   "cell_type": "code",
   "execution_count": 233,
   "metadata": {},
   "outputs": [
    {
     "data": {
      "text/plain": [
       "Text(0.5, 0, 'gender')"
      ]
     },
     "execution_count": 233,
     "metadata": {},
     "output_type": "execute_result"
    },
    {
     "data": {
      "image/png": "[encoded data removed]",
      "text/plain": [
       "<Figure size 720x432 with 1 Axes>"
      ]
     },
     "metadata": {
      "needs_background": "light"
     },
     "output_type": "display_data"
    }
   ],
   "source": [
    "plt.figure(figsize=(10,6))\n",
    "sns.barplot( gender_clk_distr_pa_x, gender_clk_distr_pa_y1, palette=\"CMRmap\",) \n",
    "plt.title('Distribution on ad-click in gender')\n",
    "plt.ylabel('%')\n",
    "plt.xlabel('gender')"
   ]
  },
  {
   "cell_type": "code",
   "execution_count": 49,
   "metadata": {},
   "outputs": [],
   "source": [
    "user_gender_distr=sql_user_profile.select('gender').groupby(\"gender\").count().sort('gender',ascending=True)"
   ]
  },
  {
   "cell_type": "code",
   "execution_count": 50,
   "metadata": {},
   "outputs": [
    {
     "name": "stdout",
     "output_type": "stream",
     "text": [
      "+------------+------+\n",
      "|      gender| count|\n",
      "+------------+------+\n",
      "|         1.0|377517|\n",
      "|         2.0|684251|\n",
      "|9.99999999E8| 79961|\n",
      "+------------+------+\n",
      "\n"
     ]
    }
   ],
   "source": [
    "user_gender_distr.show()"
   ]
  },
  {
   "cell_type": "code",
   "execution_count": 54,
   "metadata": {},
   "outputs": [],
   "source": [
    "user_gender_distr1=user_gender_distr.toPandas()"
   ]
  },
  {
   "cell_type": "code",
   "execution_count": 62,
   "metadata": {},
   "outputs": [
    {
     "data": {
      "image/png": "[encoded data removed]",
      "text/plain": [
       "<Figure size 432x288 with 1 Axes>"
      ]
     },
     "metadata": {},
     "output_type": "display_data"
    }
   ],
   "source": [
    "labels = 'Male', 'Female', 'Unknown'\n",
    "sizes = [377517,684251,79961]\n",
    "colors = ['gold', 'yellowgreen', 'lightcoral']\n",
    "explode = (0, 0, 0)  # explode 1st slice\n",
    " \n",
    "# Plot\n",
    "plt.pie(sizes, explode=explode, labels=labels, colors=colors,\n",
    "        autopct='%1.1f%%', shadow=True, startangle=140)\n",
    " \n",
    "plt.axis('equal')\n",
    "plt.title('Distribution of Gender')\n",
    "plt.show()"
   ]
  },
  {
   "cell_type": "code",
   "execution_count": 13,
   "metadata": {},
   "outputs": [
    {
     "name": "stdout",
     "output_type": "stream",
     "text": [
      "+-------+-----+\n",
      "|   user|count|\n",
      "+-------+-----+\n",
      "| 658554| 3669|\n",
      "| 794330| 3364|\n",
      "| 557358| 3097|\n",
      "| 551180| 2992|\n",
      "| 189185| 2543|\n",
      "| 945639| 2513|\n",
      "| 983136| 2510|\n",
      "|1056557| 2493|\n",
      "|1080890| 2486|\n",
      "| 323309| 2362|\n",
      "| 297960| 2353|\n",
      "|1009067| 2312|\n",
      "| 826763| 2282|\n",
      "| 433096| 2238|\n",
      "| 570179| 2234|\n",
      "| 432055| 2220|\n",
      "| 326341| 2198|\n",
      "| 941724| 2180|\n",
      "| 249257| 2149|\n",
      "| 341347| 2127|\n",
      "+-------+-----+\n",
      "only showing top 20 rows\n",
      "\n"
     ]
    }
   ],
   "source": [
    "user_unclk_count=df_tb2_1.select('user').where('clk=0').groupby('user').count()\n",
    "user_unclk_count.select('user','count').sort('count',ascending=False).show()"
   ]
  },
  {
   "cell_type": "code",
   "execution_count": 14,
   "metadata": {},
   "outputs": [
    {
     "name": "stdout",
     "output_type": "stream",
     "text": [
      "+-------+-----------------+-----------------+\n",
      "|summary|             user|            count|\n",
      "+-------+-----------------+-----------------+\n",
      "|  count|          1137376|          1137376|\n",
      "|   mean|570822.9740209043|22.14914417044144|\n",
      "| stddev|329591.1108389241|63.30795309545503|\n",
      "|    min|                1|                1|\n",
      "|    25%|         285817.0|                3|\n",
      "|    50%|         571073.0|                6|\n",
      "|    75%|         856265.0|               19|\n",
      "|    max|           999999|             3669|\n",
      "+-------+-----------------+-----------------+\n",
      "\n"
     ]
    }
   ],
   "source": [
    "user_unclk_count.summary().show()"
   ]
  },
  {
   "cell_type": "code",
   "execution_count": 15,
   "metadata": {},
   "outputs": [],
   "source": [
    "user_profile1=df_tb2_1.select('user').groupby('user').count()"
   ]
  },
  {
   "cell_type": "code",
   "execution_count": 16,
   "metadata": {},
   "outputs": [
    {
     "data": {
      "text/plain": [
       "1141729"
      ]
     },
     "execution_count": 16,
     "metadata": {},
     "output_type": "execute_result"
    }
   ],
   "source": [
    "user_profile1.count()"
   ]
  },
  {
   "cell_type": "code",
   "execution_count": 17,
   "metadata": {},
   "outputs": [
    {
     "data": {
      "text/plain": [
       "1137376"
      ]
     },
     "execution_count": 17,
     "metadata": {},
     "output_type": "execute_result"
    }
   ],
   "source": [
    "user_unclk_count.count()"
   ]
  },
  {
   "cell_type": "code",
   "execution_count": 18,
   "metadata": {},
   "outputs": [
    {
     "name": "stdout",
     "output_type": "stream",
     "text": [
      "+----------+-----------+\n",
      "|unclk_user|unclk_count|\n",
      "+----------+-----------+\n",
      "|    658554|       3669|\n",
      "|    794330|       3364|\n",
      "|    557358|       3097|\n",
      "|    551180|       2992|\n",
      "|    189185|       2543|\n",
      "|    945639|       2513|\n",
      "|    983136|       2510|\n",
      "|   1056557|       2493|\n",
      "|   1080890|       2486|\n",
      "|    323309|       2362|\n",
      "|    297960|       2353|\n",
      "|   1009067|       2312|\n",
      "|    826763|       2282|\n",
      "|    433096|       2238|\n",
      "|    570179|       2234|\n",
      "|    432055|       2220|\n",
      "|    326341|       2198|\n",
      "|    941724|       2180|\n",
      "|    249257|       2149|\n",
      "|    341347|       2127|\n",
      "+----------+-----------+\n",
      "only showing top 20 rows\n",
      "\n"
     ]
    }
   ],
   "source": [
    "user_unclk_count=user_unclk_count.withColumnRenamed('user','unclk_user')\n",
    "user_unclk_count=user_unclk_count.withColumnRenamed('count','unclk_count')\n",
    "user_unclk_count.sort('unclk_count',ascending=False).show()"
   ]
  },
  {
   "cell_type": "code",
   "execution_count": 22,
   "metadata": {},
   "outputs": [],
   "source": [
    "?user_profile1.join"
   ]
  },
  {
   "cell_type": "code",
   "execution_count": 19,
   "metadata": {},
   "outputs": [
    {
     "name": "stdout",
     "output_type": "stream",
     "text": [
      "+-------+-----+----------+-----------+\n",
      "|   user|count|unclk_user|unclk_count|\n",
      "+-------+-----+----------+-----------+\n",
      "| 100010|    3|    100010|          3|\n",
      "|1000240|    3|   1000240|          3|\n",
      "|1000280|    3|   1000280|          3|\n",
      "|1000665|   17|   1000665|         16|\n",
      "|1000795|   72|   1000795|         67|\n",
      "|1000839|    7|   1000839|          7|\n",
      "|1000888|   24|   1000888|         22|\n",
      "| 100140|    6|    100140|          5|\n",
      "|1001866|    5|   1001866|          5|\n",
      "|1002011|   20|   1002011|         16|\n",
      "|1002185|  272|   1002185|        265|\n",
      "| 100227|   10|    100227|         10|\n",
      "|1002442|    3|   1002442|          3|\n",
      "| 100263|    9|    100263|          8|\n",
      "|1002783|    3|   1002783|          3|\n",
      "|1002883|    5|   1002883|          5|\n",
      "|1002887|   18|   1002887|         17|\n",
      "| 100320|    6|    100320|          6|\n",
      "|1003202|    6|   1003202|          6|\n",
      "|1003366|   36|   1003366|         31|\n",
      "+-------+-----+----------+-----------+\n",
      "only showing top 20 rows\n",
      "\n"
     ]
    }
   ],
   "source": [
    "user_unclk =user_profile1.join(user_unclk_count,(user_unclk_count.unclk_user == user_profile1.user) ,'left_outer')\n",
    "user_unclk.show()"
   ]
  },
  {
   "cell_type": "code",
   "execution_count": 20,
   "metadata": {},
   "outputs": [
    {
     "data": {
      "text/plain": [
       "1141729"
      ]
     },
     "execution_count": 20,
     "metadata": {},
     "output_type": "execute_result"
    }
   ],
   "source": [
    "user_unclk.count()"
   ]
  },
  {
   "cell_type": "code",
   "execution_count": 21,
   "metadata": {},
   "outputs": [],
   "source": [
    "user_unclk=user_unclk.na.fill({'unclk_user':'NULL'})"
   ]
  },
  {
   "cell_type": "code",
   "execution_count": 22,
   "metadata": {},
   "outputs": [
    {
     "name": "stdout",
     "output_type": "stream",
     "text": [
      "+----------+\n",
      "|unclk_user|\n",
      "+----------+\n",
      "|      NULL|\n",
      "|      NULL|\n",
      "|      NULL|\n",
      "|      NULL|\n",
      "|      NULL|\n",
      "|      NULL|\n",
      "|      NULL|\n",
      "|      NULL|\n",
      "|      NULL|\n",
      "|      NULL|\n",
      "|      NULL|\n",
      "|      NULL|\n",
      "|      NULL|\n",
      "|      NULL|\n",
      "|      NULL|\n",
      "|      NULL|\n",
      "|      NULL|\n",
      "|      NULL|\n",
      "|      NULL|\n",
      "|      NULL|\n",
      "+----------+\n",
      "only showing top 20 rows\n",
      "\n"
     ]
    }
   ],
   "source": [
    "user_unclk.select(\"unclk_user\").where('unclk_user == \"NULL\"').show()"
   ]
  },
  {
   "cell_type": "code",
   "execution_count": 23,
   "metadata": {},
   "outputs": [
    {
     "name": "stdout",
     "output_type": "stream",
     "text": [
      "+-------+-----+\n",
      "|   user|count|\n",
      "+-------+-----+\n",
      "| 928284|  170|\n",
      "| 569318|  165|\n",
      "|1060021|  152|\n",
      "|1054172|  147|\n",
      "|1058909|  140|\n",
      "| 490430|  131|\n",
      "| 853650|  127|\n",
      "|1005110|  126|\n",
      "| 529160|  121|\n",
      "|1096948|  120|\n",
      "| 220960|  120|\n",
      "|  40010|  117|\n",
      "| 413706|  115|\n",
      "| 401318|  114|\n",
      "| 525363|  113|\n",
      "| 143166|  112|\n",
      "| 432055|  111|\n",
      "| 728105|  110|\n",
      "| 341347|  110|\n",
      "| 373309|  109|\n",
      "+-------+-----+\n",
      "only showing top 20 rows\n",
      "\n"
     ]
    }
   ],
   "source": [
    "user_clk_count=df_tb2_1.select('user').where('clk=1').groupby('user').count()\n",
    "user_clk_count.select('user','count').sort('count',ascending=False).show()"
   ]
  },
  {
   "cell_type": "code",
   "execution_count": 24,
   "metadata": {},
   "outputs": [
    {
     "name": "stdout",
     "output_type": "stream",
     "text": [
      "+-------+-----------------+------------------+\n",
      "|summary|             user|             count|\n",
      "+-------+-----------------+------------------+\n",
      "|  count|           491647|            491647|\n",
      "|   mean|568215.6743923994|2.7785301242558176|\n",
      "| stddev|329789.9854768546| 4.031329373032298|\n",
      "|    min|            10000|                 1|\n",
      "|    25%|         282610.0|                 1|\n",
      "|    50%|         565872.0|                 2|\n",
      "|    75%|         852354.0|                 3|\n",
      "|    max|           999996|               170|\n",
      "+-------+-----------------+------------------+\n",
      "\n"
     ]
    }
   ],
   "source": [
    "user_clk_count.summary().show()"
   ]
  },
  {
   "cell_type": "code",
   "execution_count": 25,
   "metadata": {},
   "outputs": [
    {
     "name": "stdout",
     "output_type": "stream",
     "text": [
      "+--------+---------+\n",
      "|clk_user|clk_count|\n",
      "+--------+---------+\n",
      "|  928284|      170|\n",
      "|  569318|      165|\n",
      "| 1060021|      152|\n",
      "| 1054172|      147|\n",
      "| 1058909|      140|\n",
      "|  490430|      131|\n",
      "|  853650|      127|\n",
      "| 1005110|      126|\n",
      "|  529160|      121|\n",
      "| 1096948|      120|\n",
      "|  220960|      120|\n",
      "|   40010|      117|\n",
      "|  413706|      115|\n",
      "|  401318|      114|\n",
      "|  525363|      113|\n",
      "|  143166|      112|\n",
      "|  432055|      111|\n",
      "|  728105|      110|\n",
      "|  341347|      110|\n",
      "|  373309|      109|\n",
      "+--------+---------+\n",
      "only showing top 20 rows\n",
      "\n"
     ]
    }
   ],
   "source": [
    "user_clk_count=user_clk_count.withColumnRenamed('user','clk_user')\n",
    "user_clk_count=user_clk_count.withColumnRenamed('count','clk_count')\n",
    "user_clk_count.sort('clk_count',ascending=False).show()"
   ]
  },
  {
   "cell_type": "code",
   "execution_count": 64,
   "metadata": {},
   "outputs": [
    {
     "data": {
      "text/plain": [
       "491647"
      ]
     },
     "execution_count": 64,
     "metadata": {},
     "output_type": "execute_result"
    }
   ],
   "source": [
    "user_clk_count.count()"
   ]
  },
  {
   "cell_type": "code",
   "execution_count": 27,
   "metadata": {},
   "outputs": [
    {
     "name": "stdout",
     "output_type": "stream",
     "text": [
      "+-------+-----+----------+-----------+--------+---------+\n",
      "|   user|count|unclk_user|unclk_count|clk_user|clk_count|\n",
      "+-------+-----+----------+-----------+--------+---------+\n",
      "| 100010|    3|    100010|          3|    null|     null|\n",
      "|1000240|    3|   1000240|          3|    null|     null|\n",
      "|1000280|    3|   1000280|          3|    null|     null|\n",
      "|1000665|   17|   1000665|         16| 1000665|        1|\n",
      "|1000795|   72|   1000795|         67| 1000795|        5|\n",
      "|1000839|    7|   1000839|          7|    null|     null|\n",
      "|1000888|   24|   1000888|         22| 1000888|        2|\n",
      "| 100140|    6|    100140|          5|  100140|        1|\n",
      "|1001866|    5|   1001866|          5|    null|     null|\n",
      "|1002011|   20|   1002011|         16| 1002011|        4|\n",
      "|1002185|  272|   1002185|        265| 1002185|        7|\n",
      "| 100227|   10|    100227|         10|    null|     null|\n",
      "|1002442|    3|   1002442|          3|    null|     null|\n",
      "| 100263|    9|    100263|          8|  100263|        1|\n",
      "|1002783|    3|   1002783|          3|    null|     null|\n",
      "|1002883|    5|   1002883|          5|    null|     null|\n",
      "|1002887|   18|   1002887|         17| 1002887|        1|\n",
      "| 100320|    6|    100320|          6|    null|     null|\n",
      "|1003202|    6|   1003202|          6|    null|     null|\n",
      "|1003366|   36|   1003366|         31| 1003366|        5|\n",
      "+-------+-----+----------+-----------+--------+---------+\n",
      "only showing top 20 rows\n",
      "\n"
     ]
    }
   ],
   "source": [
    "user_unclk_clk =user_unclk.join(user_clk_count,(user_clk_count.clk_user == user_unclk.user) ,'left_outer')\n",
    "user_unclk_clk.show()"
   ]
  },
  {
   "cell_type": "code",
   "execution_count": 28,
   "metadata": {},
   "outputs": [
    {
     "data": {
      "text/plain": [
       "1141729"
      ]
     },
     "execution_count": 28,
     "metadata": {},
     "output_type": "execute_result"
    }
   ],
   "source": [
    "user_unclk_clk.count()"
   ]
  },
  {
   "cell_type": "code",
   "execution_count": 29,
   "metadata": {},
   "outputs": [],
   "source": [
    "user_unclk_clk=user_unclk_clk.na.fill({'clk_user':'NULL','clk_count':0,'unclk_count':0})"
   ]
  },
  {
   "cell_type": "code",
   "execution_count": 30,
   "metadata": {},
   "outputs": [
    {
     "name": "stdout",
     "output_type": "stream",
     "text": [
      "+-------+-----+----------+-----------+--------+---------+\n",
      "|   user|count|unclk_user|unclk_count|clk_user|clk_count|\n",
      "+-------+-----+----------+-----------+--------+---------+\n",
      "| 100010|    3|    100010|          3|    NULL|        0|\n",
      "|1000240|    3|   1000240|          3|    NULL|        0|\n",
      "|1000280|    3|   1000280|          3|    NULL|        0|\n",
      "|1000665|   17|   1000665|         16| 1000665|        1|\n",
      "|1000795|   72|   1000795|         67| 1000795|        5|\n",
      "|1000839|    7|   1000839|          7|    NULL|        0|\n",
      "|1000888|   24|   1000888|         22| 1000888|        2|\n",
      "| 100140|    6|    100140|          5|  100140|        1|\n",
      "|1001866|    5|   1001866|          5|    NULL|        0|\n",
      "|1002011|   20|   1002011|         16| 1002011|        4|\n",
      "|1002185|  272|   1002185|        265| 1002185|        7|\n",
      "| 100227|   10|    100227|         10|    NULL|        0|\n",
      "|1002442|    3|   1002442|          3|    NULL|        0|\n",
      "| 100263|    9|    100263|          8|  100263|        1|\n",
      "|1002783|    3|   1002783|          3|    NULL|        0|\n",
      "|1002883|    5|   1002883|          5|    NULL|        0|\n",
      "|1002887|   18|   1002887|         17| 1002887|        1|\n",
      "| 100320|    6|    100320|          6|    NULL|        0|\n",
      "|1003202|    6|   1003202|          6|    NULL|        0|\n",
      "|1003366|   36|   1003366|         31| 1003366|        5|\n",
      "+-------+-----+----------+-----------+--------+---------+\n",
      "only showing top 20 rows\n",
      "\n"
     ]
    }
   ],
   "source": [
    "user_unclk_clk.show()"
   ]
  },
  {
   "cell_type": "code",
   "execution_count": 202,
   "metadata": {},
   "outputs": [],
   "source": [
    "user_unclk_clk_2=user_unclk_clk.drop('unclk_user','clk_user')"
   ]
  },
  {
   "cell_type": "code",
   "execution_count": 203,
   "metadata": {
    "scrolled": true
   },
   "outputs": [
    {
     "name": "stdout",
     "output_type": "stream",
     "text": [
      "+-------+-----+-----------+---------+\n",
      "|   user|count|unclk_count|clk_count|\n",
      "+-------+-----+-----------+---------+\n",
      "| 100010|    3|          3|        0|\n",
      "|1000240|    3|          3|        0|\n",
      "|1000280|    3|          3|        0|\n",
      "|1000665|   17|         16|        1|\n",
      "|1000795|   72|         67|        5|\n",
      "|1000839|    7|          7|        0|\n",
      "|1000888|   24|         22|        2|\n",
      "| 100140|    6|          5|        1|\n",
      "|1001866|    5|          5|        0|\n",
      "|1002011|   20|         16|        4|\n",
      "|1002185|  272|        265|        7|\n",
      "| 100227|   10|         10|        0|\n",
      "|1002442|    3|          3|        0|\n",
      "| 100263|    9|          8|        1|\n",
      "|1002783|    3|          3|        0|\n",
      "|1002883|    5|          5|        0|\n",
      "|1002887|   18|         17|        1|\n",
      "| 100320|    6|          6|        0|\n",
      "|1003202|    6|          6|        0|\n",
      "|1003366|   36|         31|        5|\n",
      "+-------+-----+-----------+---------+\n",
      "only showing top 20 rows\n",
      "\n"
     ]
    }
   ],
   "source": [
    "user_unclk_clk_2.show()"
   ]
  },
  {
   "cell_type": "code",
   "execution_count": 35,
   "metadata": {},
   "outputs": [],
   "source": [
    "user_unclk_clk_1.coalesce(1).write.format(\"csv\").save(\"/user/littlemow/user_unclk_clk.csv\",header=\"true\")"
   ]
  },
  {
   "cell_type": "code",
   "execution_count": 40,
   "metadata": {},
   "outputs": [],
   "source": [
    "user_unclk_clk_1=pd.read_csv(\"/home/littlemow/user_unclk_clk.csv/user_unclk_clk.csv\")"
   ]
  },
  {
   "cell_type": "code",
   "execution_count": 41,
   "metadata": {},
   "outputs": [
    {
     "name": "stdout",
     "output_type": "stream",
     "text": [
      "<class 'pandas.core.frame.DataFrame'>\n",
      "RangeIndex: 1141729 entries, 0 to 1141728\n",
      "Data columns (total 4 columns):\n",
      "user           1141729 non-null int64\n",
      "count          1141729 non-null int64\n",
      "unclk_count    1141729 non-null int64\n",
      "clk_count      1141729 non-null int64\n",
      "dtypes: int64(4)\n",
      "memory usage: 34.8 MB\n"
     ]
    }
   ],
   "source": [
    "user_unclk_clk_1.info()"
   ]
  },
  {
   "cell_type": "code",
   "execution_count": 43,
   "metadata": {},
   "outputs": [],
   "source": [
    "user_unclk_clk_1_x=user_unclk_clk_1['unclk_count'].tolist()\n",
    "user_unclk_clk_1_y=user_unclk_clk_1['clk_count'].tolist()"
   ]
  },
  {
   "cell_type": "code",
   "execution_count": 48,
   "metadata": {},
   "outputs": [
    {
     "data": {
      "text/plain": [
       "Text(0.5, 1.0, 'ad-click record of users')"
      ]
     },
     "execution_count": 48,
     "metadata": {},
     "output_type": "execute_result"
    },
    {
     "data": {
      "image/png": "[encoded data removed]",
      "text/plain": [
       "<Figure size 432x288 with 1 Axes>"
      ]
     },
     "metadata": {
      "needs_background": "light"
     },
     "output_type": "display_data"
    }
   ],
   "source": [
    "plt.scatter(user_unclk_clk_1_x, user_unclk_clk_1_y, s=1)\n",
    "plt.ylabel('clk_count')\n",
    "plt.xlabel('unclk_count')\n",
    "plt.title('ad-click record of users')"
   ]
  },
  {
   "cell_type": "code",
   "execution_count": 63,
   "metadata": {},
   "outputs": [
    {
     "name": "stdout",
     "output_type": "stream",
     "text": [
      "+-------+---+\n",
      "|   user|clk|\n",
      "+-------+---+\n",
      "|1000087|  0|\n",
      "|1000101|  0|\n",
      "|1000128|  0|\n",
      "|1000128|  0|\n",
      "|1000128|  0|\n",
      "|1000128|  0|\n",
      "|1000174|  0|\n",
      "|1000576|  0|\n",
      "|1000576|  0|\n",
      "|1000576|  0|\n",
      "|1000576|  0|\n",
      "|1000576|  0|\n",
      "|1000576|  1|\n",
      "|1000576|  0|\n",
      "|1000576|  0|\n",
      "|1000576|  0|\n",
      "|1000619|  0|\n",
      "|1000619|  0|\n",
      "|1000654|  0|\n",
      "|1000654|  0|\n",
      "+-------+---+\n",
      "only showing top 20 rows\n",
      "\n"
     ]
    }
   ],
   "source": [
    "df_tb2_1.select('user','clk').where('final_gender_code == 1').show()"
   ]
  },
  {
   "cell_type": "code",
   "execution_count": 66,
   "metadata": {},
   "outputs": [
    {
     "name": "stdout",
     "output_type": "stream",
     "text": [
      "root\n",
      " |-- user: string (nullable = true)\n",
      " |-- time_stamp: string (nullable = true)\n",
      " |-- adgroup_id: string (nullable = true)\n",
      " |-- pid: string (nullable = true)\n",
      " |-- clk: string (nullable = true)\n",
      " |-- cate_id: string (nullable = true)\n",
      " |-- campaign_id: string (nullable = true)\n",
      " |-- customer: string (nullable = true)\n",
      " |-- price: string (nullable = true)\n",
      " |-- cms_segid: string (nullable = true)\n",
      " |-- cms_group_id: string (nullable = true)\n",
      " |-- final_gender_code: string (nullable = true)\n",
      " |-- age_level: string (nullable = true)\n",
      " |-- pvalue_level: string (nullable = true)\n",
      " |-- shopping_level: string (nullable = true)\n",
      " |-- occupation: string (nullable = true)\n",
      " |-- new_user_class_level: string (nullable = true)\n",
      " |-- user_cate: string (nullable = true)\n",
      " |-- pv_1: string (nullable = true)\n",
      " |-- cart_1: string (nullable = true)\n",
      " |-- fav_1: string (nullable = true)\n",
      " |-- buy_1: string (nullable = true)\n",
      " |-- pv_2: string (nullable = true)\n",
      " |-- cart_2: string (nullable = true)\n",
      " |-- fav_2: string (nullable = true)\n",
      " |-- buy_2: string (nullable = true)\n",
      " |-- pv_3: string (nullable = true)\n",
      " |-- cart_3: string (nullable = true)\n",
      " |-- fav_3: string (nullable = true)\n",
      " |-- buy_3: string (nullable = true)\n",
      " |-- brand_New: string (nullable = true)\n",
      "\n"
     ]
    }
   ],
   "source": [
    "df_tb2_1.printSchema()"
   ]
  },
  {
   "cell_type": "code",
   "execution_count": 79,
   "metadata": {},
   "outputs": [
    {
     "name": "stdout",
     "output_type": "stream",
     "text": [
      "+--------------------------------------+\n",
      "|avg(CAST(final_gender_code AS DOUBLE))|\n",
      "+--------------------------------------+\n",
      "|                  5.7554344689691275E7|\n",
      "+--------------------------------------+\n",
      "\n"
     ]
    }
   ],
   "source": [
    "df_tb2_1.selectExpr(\"mean(final_gender_code)\").show()"
   ]
  },
  {
   "cell_type": "code",
   "execution_count": 117,
   "metadata": {},
   "outputs": [
    {
     "data": {
      "text/plain": [
       "1141729"
      ]
     },
     "execution_count": 117,
     "metadata": {},
     "output_type": "execute_result"
    }
   ],
   "source": [
    "user_unclk_clk.count()"
   ]
  },
  {
   "cell_type": "code",
   "execution_count": 126,
   "metadata": {},
   "outputs": [
    {
     "data": {
      "text/plain": [
       "1141729"
      ]
     },
     "execution_count": 126,
     "metadata": {},
     "output_type": "execute_result"
    }
   ],
   "source": [
    "user_count=df_tb2_1.select('user').groupby('user').count()\n",
    "user_count.select('user').count()"
   ]
  },
  {
   "cell_type": "code",
   "execution_count": 141,
   "metadata": {},
   "outputs": [
    {
     "name": "stdout",
     "output_type": "stream",
     "text": [
      "+----+\n",
      "|user|\n",
      "+----+\n",
      "+----+\n",
      "\n"
     ]
    }
   ],
   "source": [
    "user_count.select('user').where('user == \"null\"').show()"
   ]
  },
  {
   "cell_type": "code",
   "execution_count": 128,
   "metadata": {},
   "outputs": [
    {
     "name": "stdout",
     "output_type": "stream",
     "text": [
      "+----------+-----------+--------+---------+-------+-----+\n",
      "|unclk_user|unclk_count|clk_user|clk_count|   user|count|\n",
      "+----------+-----------+--------+---------+-------+-----+\n",
      "|    100010|          3|    NULL|        0| 100010|    3|\n",
      "|   1000240|          3|    NULL|        0|1000240|    3|\n",
      "|   1000280|          3|    NULL|        0|1000280|    3|\n",
      "|   1000665|         16| 1000665|        1|1000665|   17|\n",
      "|   1000795|         67| 1000795|        5|1000795|   72|\n",
      "|   1000839|          7|    NULL|        0|1000839|    7|\n",
      "|   1000888|         22| 1000888|        2|1000888|   24|\n",
      "|    100140|          5|  100140|        1| 100140|    6|\n",
      "|   1001866|          5|    NULL|        0|1001866|    5|\n",
      "|   1002011|         16| 1002011|        4|1002011|   20|\n",
      "|   1002185|        265| 1002185|        7|1002185|  272|\n",
      "|    100227|         10|    NULL|        0| 100227|   10|\n",
      "|   1002442|          3|    NULL|        0|1002442|    3|\n",
      "|    100263|          8|  100263|        1| 100263|    9|\n",
      "|   1002783|          3|    NULL|        0|1002783|    3|\n",
      "|   1002883|          5|    NULL|        0|1002883|    5|\n",
      "|   1002887|         17| 1002887|        1|1002887|   18|\n",
      "|    100320|          6|    NULL|        0| 100320|    6|\n",
      "|   1003202|          6|    NULL|        0|1003202|    6|\n",
      "|   1003366|         31| 1003366|        5|1003366|   36|\n",
      "+----------+-----------+--------+---------+-------+-----+\n",
      "only showing top 20 rows\n",
      "\n"
     ]
    }
   ],
   "source": [
    "user_unclk_clk = user_unclk_clk.join(user_count,(user_unclk_clk.unclk_user == user_count.user ) ,'outer')\n",
    "user_unclk_clk.show()"
   ]
  },
  {
   "cell_type": "code",
   "execution_count": 148,
   "metadata": {},
   "outputs": [],
   "source": [
    "?user_unclk_clk.join"
   ]
  },
  {
   "cell_type": "code",
   "execution_count": 138,
   "metadata": {},
   "outputs": [],
   "source": [
    "user1=user_unclk_clk.select('user').groupby('user').count().sort('user', ascending=False)"
   ]
  },
  {
   "cell_type": "code",
   "execution_count": 140,
   "metadata": {},
   "outputs": [
    {
     "name": "stdout",
     "output_type": "stream",
     "text": [
      "+------+-----+\n",
      "|  user|count|\n",
      "+------+-----+\n",
      "|  null| 4353|\n",
      "|886936|    1|\n",
      "|886953|    1|\n",
      "|886952|    1|\n",
      "|886951|    1|\n",
      "|886950|    1|\n",
      "| 88695|    1|\n",
      "|886949|    1|\n",
      "|886948|    1|\n",
      "|886947|    1|\n",
      "|886946|    1|\n",
      "|886945|    1|\n",
      "|886944|    1|\n",
      "|886943|    1|\n",
      "|886942|    1|\n",
      "|886941|    1|\n",
      "|886940|    1|\n",
      "| 88694|    1|\n",
      "|886939|    1|\n",
      "|886938|    1|\n",
      "+------+-----+\n",
      "only showing top 20 rows\n",
      "\n"
     ]
    }
   ],
   "source": [
    "user1.select('user','count').sort('count', ascending=False).show()"
   ]
  },
  {
   "cell_type": "code",
   "execution_count": 99,
   "metadata": {},
   "outputs": [
    {
     "ename": "AssertionError",
     "evalue": "col should be Column",
     "output_type": "error",
     "traceback": [
      "\u001b[0;31m---------------------------------------------------------------------------\u001b[0m",
      "\u001b[0;31mAssertionError\u001b[0m                            Traceback (most recent call last)",
      "\u001b[0;32m<ipython-input-99-1064505dff65>\u001b[0m in \u001b[0;36m<module>\u001b[0;34m\u001b[0m\n\u001b[1;32m      1\u001b[0m \u001b[0muser_unclk_clk\u001b[0m\u001b[0;34m=\u001b[0m\u001b[0muser_unclk_clk\u001b[0m\u001b[0;34m.\u001b[0m\u001b[0mna\u001b[0m\u001b[0;34m.\u001b[0m\u001b[0mfill\u001b[0m\u001b[0;34m(\u001b[0m\u001b[0;34m{\u001b[0m\u001b[0;34m'unclk_user'\u001b[0m\u001b[0;34m:\u001b[0m\u001b[0;34m'NULL'\u001b[0m\u001b[0;34m}\u001b[0m\u001b[0;34m)\u001b[0m\u001b[0;34m\u001b[0m\u001b[0m\n\u001b[0;32m----> 2\u001b[0;31m \u001b[0muser_unclk_clk\u001b[0m\u001b[0;34m.\u001b[0m\u001b[0mwhere\u001b[0m\u001b[0;34m(\u001b[0m\u001b[0;34m'unclk_user = \"NULL\"'\u001b[0m\u001b[0;34m)\u001b[0m\u001b[0;34m.\u001b[0m\u001b[0mwithColumn\u001b[0m\u001b[0;34m(\u001b[0m\u001b[0;34m'unclk_user'\u001b[0m\u001b[0;34m,\u001b[0m\u001b[0;34m'clk_user'\u001b[0m\u001b[0;34m)\u001b[0m\u001b[0;34m.\u001b[0m\u001b[0mshow\u001b[0m\u001b[0;34m(\u001b[0m\u001b[0;34m)\u001b[0m\u001b[0;34m\u001b[0m\u001b[0m\n\u001b[0m",
      "\u001b[0;32m/usr/local/lib/python3.6/dist-packages/pyspark/sql/dataframe.py\u001b[0m in \u001b[0;36mwithColumn\u001b[0;34m(self, colName, col)\u001b[0m\n\u001b[1;32m   1846\u001b[0m \u001b[0;34m\u001b[0m\u001b[0m\n\u001b[1;32m   1847\u001b[0m         \"\"\"\n\u001b[0;32m-> 1848\u001b[0;31m         \u001b[0;32massert\u001b[0m \u001b[0misinstance\u001b[0m\u001b[0;34m(\u001b[0m\u001b[0mcol\u001b[0m\u001b[0;34m,\u001b[0m \u001b[0mColumn\u001b[0m\u001b[0;34m)\u001b[0m\u001b[0;34m,\u001b[0m \u001b[0;34m\"col should be Column\"\u001b[0m\u001b[0;34m\u001b[0m\u001b[0m\n\u001b[0m\u001b[1;32m   1849\u001b[0m         \u001b[0;32mreturn\u001b[0m \u001b[0mDataFrame\u001b[0m\u001b[0;34m(\u001b[0m\u001b[0mself\u001b[0m\u001b[0;34m.\u001b[0m\u001b[0m_jdf\u001b[0m\u001b[0;34m.\u001b[0m\u001b[0mwithColumn\u001b[0m\u001b[0;34m(\u001b[0m\u001b[0mcolName\u001b[0m\u001b[0;34m,\u001b[0m \u001b[0mcol\u001b[0m\u001b[0;34m.\u001b[0m\u001b[0m_jc\u001b[0m\u001b[0;34m)\u001b[0m\u001b[0;34m,\u001b[0m \u001b[0mself\u001b[0m\u001b[0;34m.\u001b[0m\u001b[0msql_ctx\u001b[0m\u001b[0;34m)\u001b[0m\u001b[0;34m\u001b[0m\u001b[0m\n\u001b[1;32m   1850\u001b[0m \u001b[0;34m\u001b[0m\u001b[0m\n",
      "\u001b[0;31mAssertionError\u001b[0m: col should be Column"
     ]
    }
   ],
   "source": [
    "user_unclk_clk=user_unclk_clk.na.fill({'unclk_user':'NULL'})\n",
    "user_unclk_clk.where('unclk_user = \"NULL\"').withColumn('unclk_user','clk_user').show()"
   ]
  },
  {
   "cell_type": "code",
   "execution_count": 101,
   "metadata": {},
   "outputs": [
    {
     "ename": "TypeError",
     "evalue": "unhashable type: 'Column'",
     "output_type": "error",
     "traceback": [
      "\u001b[0;31m---------------------------------------------------------------------------\u001b[0m",
      "\u001b[0;31mTypeError\u001b[0m                                 Traceback (most recent call last)",
      "\u001b[0;32m<ipython-input-101-8459ba69ab94>\u001b[0m in \u001b[0;36m<module>\u001b[0;34m\u001b[0m\n\u001b[0;32m----> 1\u001b[0;31m \u001b[0muser_unclk_clk\u001b[0m\u001b[0;34m.\u001b[0m\u001b[0mwhere\u001b[0m\u001b[0;34m(\u001b[0m\u001b[0;34m'unclk_user = \"NULL\"'\u001b[0m\u001b[0;34m)\u001b[0m\u001b[0;34m.\u001b[0m\u001b[0mreplace\u001b[0m\u001b[0;34m(\u001b[0m\u001b[0;34m[\u001b[0m\u001b[0muser_unclk_clk\u001b[0m\u001b[0;34m.\u001b[0m\u001b[0munclk_user\u001b[0m\u001b[0;34m]\u001b[0m\u001b[0;34m,\u001b[0m\u001b[0;34m[\u001b[0m\u001b[0muser_unclk_clk\u001b[0m\u001b[0;34m.\u001b[0m\u001b[0mclk_user\u001b[0m\u001b[0;34m]\u001b[0m\u001b[0;34m,\u001b[0m\u001b[0;34m'unclk_user'\u001b[0m\u001b[0;34m)\u001b[0m\u001b[0;34m\u001b[0m\u001b[0m\n\u001b[0m",
      "\u001b[0;32m/usr/local/lib/python3.6/dist-packages/pyspark/sql/dataframe.py\u001b[0m in \u001b[0;36mreplace\u001b[0;34m(self, to_replace, value, subset)\u001b[0m\n\u001b[1;32m   1655\u001b[0m             \u001b[0;32mif\u001b[0m \u001b[0misinstance\u001b[0m\u001b[0;34m(\u001b[0m\u001b[0mvalue\u001b[0m\u001b[0;34m,\u001b[0m \u001b[0;34m(\u001b[0m\u001b[0mfloat\u001b[0m\u001b[0;34m,\u001b[0m \u001b[0mint\u001b[0m\u001b[0;34m,\u001b[0m \u001b[0mlong\u001b[0m\u001b[0;34m,\u001b[0m \u001b[0mbasestring\u001b[0m\u001b[0;34m)\u001b[0m\u001b[0;34m)\u001b[0m \u001b[0;32mor\u001b[0m \u001b[0mvalue\u001b[0m \u001b[0;32mis\u001b[0m \u001b[0;32mNone\u001b[0m\u001b[0;34m:\u001b[0m\u001b[0;34m\u001b[0m\u001b[0m\n\u001b[1;32m   1656\u001b[0m                 \u001b[0mvalue\u001b[0m \u001b[0;34m=\u001b[0m \u001b[0;34m[\u001b[0m\u001b[0mvalue\u001b[0m \u001b[0;32mfor\u001b[0m \u001b[0m_\u001b[0m \u001b[0;32min\u001b[0m \u001b[0mrange\u001b[0m\u001b[0;34m(\u001b[0m\u001b[0mlen\u001b[0m\u001b[0;34m(\u001b[0m\u001b[0mto_replace\u001b[0m\u001b[0;34m)\u001b[0m\u001b[0;34m)\u001b[0m\u001b[0;34m]\u001b[0m\u001b[0;34m\u001b[0m\u001b[0m\n\u001b[0;32m-> 1657\u001b[0;31m             \u001b[0mrep_dict\u001b[0m \u001b[0;34m=\u001b[0m \u001b[0mdict\u001b[0m\u001b[0;34m(\u001b[0m\u001b[0mzip\u001b[0m\u001b[0;34m(\u001b[0m\u001b[0mto_replace\u001b[0m\u001b[0;34m,\u001b[0m \u001b[0mvalue\u001b[0m\u001b[0;34m)\u001b[0m\u001b[0;34m)\u001b[0m\u001b[0;34m\u001b[0m\u001b[0m\n\u001b[0m\u001b[1;32m   1658\u001b[0m \u001b[0;34m\u001b[0m\u001b[0m\n\u001b[1;32m   1659\u001b[0m         \u001b[0;32mif\u001b[0m \u001b[0misinstance\u001b[0m\u001b[0;34m(\u001b[0m\u001b[0msubset\u001b[0m\u001b[0;34m,\u001b[0m \u001b[0mbasestring\u001b[0m\u001b[0;34m)\u001b[0m\u001b[0;34m:\u001b[0m\u001b[0;34m\u001b[0m\u001b[0m\n",
      "\u001b[0;31mTypeError\u001b[0m: unhashable type: 'Column'"
     ]
    }
   ],
   "source": []
  },
  {
   "cell_type": "code",
   "execution_count": 6,
   "metadata": {},
   "outputs": [
    {
     "name": "stdout",
     "output_type": "stream",
     "text": [
      "root\n",
      " |-- user: string (nullable = true)\n",
      " |-- time_stamp: string (nullable = true)\n",
      " |-- adgroup_id: string (nullable = true)\n",
      " |-- pid: string (nullable = true)\n",
      " |-- clk: string (nullable = true)\n",
      " |-- cate_id: string (nullable = true)\n",
      " |-- campaign_id: string (nullable = true)\n",
      " |-- customer: string (nullable = true)\n",
      " |-- price: string (nullable = true)\n",
      " |-- cms_segid: string (nullable = true)\n",
      " |-- cms_group_id: string (nullable = true)\n",
      " |-- final_gender_code: string (nullable = true)\n",
      " |-- age_level: string (nullable = true)\n",
      " |-- pvalue_level: string (nullable = true)\n",
      " |-- shopping_level: string (nullable = true)\n",
      " |-- occupation: string (nullable = true)\n",
      " |-- new_user_class_level: string (nullable = true)\n",
      " |-- user_cate: string (nullable = true)\n",
      " |-- pv_1: string (nullable = true)\n",
      " |-- cart_1: string (nullable = true)\n",
      " |-- fav_1: string (nullable = true)\n",
      " |-- buy_1: string (nullable = true)\n",
      " |-- pv_2: string (nullable = true)\n",
      " |-- cart_2: string (nullable = true)\n",
      " |-- fav_2: string (nullable = true)\n",
      " |-- buy_2: string (nullable = true)\n",
      " |-- pv_3: string (nullable = true)\n",
      " |-- cart_3: string (nullable = true)\n",
      " |-- fav_3: string (nullable = true)\n",
      " |-- buy_3: string (nullable = true)\n",
      " |-- brand_New: string (nullable = true)\n",
      "\n"
     ]
    }
   ],
   "source": [
    "df_tb2.printSchema()"
   ]
  },
  {
   "cell_type": "code",
   "execution_count": 7,
   "metadata": {},
   "outputs": [
    {
     "name": "stdout",
     "output_type": "stream",
     "text": [
      "0 & 0  ---->  user\n",
      "0 & 0  ---->  time_stamp\n",
      "0 & 0  ---->  adgroup_id\n",
      "0 & 0  ---->  pid\n",
      "0 & 0  ---->  clk\n",
      "0 & 0  ---->  cate_id\n",
      "0 & 0  ---->  campaign_id\n",
      "0 & 0  ---->  customer\n",
      "0 & 0  ---->  price\n",
      "0 & 0  ---->  cms_segid\n",
      "0 & 0  ---->  cms_group_id\n",
      "0 & 0  ---->  final_gender_code\n",
      "0 & 0  ---->  age_level\n",
      "0 & 0  ---->  pvalue_level\n",
      "0 & 0  ---->  shopping_level\n",
      "0 & 0  ---->  occupation\n",
      "0 & 0  ---->  new_user_class_level\n",
      "0 & 0  ---->  user_cate\n",
      "0 & 0  ---->  pv_1\n",
      "0 & 0  ---->  cart_1\n",
      "0 & 0  ---->  fav_1\n",
      "0 & 0  ---->  buy_1\n",
      "0 & 0  ---->  pv_2\n",
      "0 & 0  ---->  cart_2\n",
      "0 & 0  ---->  fav_2\n",
      "0 & 0  ---->  buy_2\n",
      "0 & 0  ---->  pv_3\n",
      "0 & 0  ---->  cart_3\n",
      "0 & 0  ---->  fav_3\n",
      "0 & 0  ---->  buy_3\n",
      "0 & 0  ---->  brand_New\n"
     ]
    }
   ],
   "source": [
    "null_cnt = []\n",
    "for col in df_tb2.columns:\n",
    "    isnull_c = df_tb2.filter(isnull(col)).count()\n",
    "    NULL_c = df_tb2.filter(df_tb2[col]=='NULL').count()\n",
    "    null_cnt.append(isnull_c+NULL_c)\n",
    "    print(isnull_c,\"&\",NULL_c,\" ----> \",col)"
   ]
  },
  {
   "cell_type": "code",
   "execution_count": 8,
   "metadata": {},
   "outputs": [],
   "source": [
    "dist_age_level = df_tb2.select('age_level').groupby('age_level').count().sort('age_level', ascending=True)"
   ]
  },
  {
   "cell_type": "code",
   "execution_count": 9,
   "metadata": {},
   "outputs": [
    {
     "name": "stdout",
     "output_type": "stream",
     "text": [
      "+---------+-------+\n",
      "|age_level|  count|\n",
      "+---------+-------+\n",
      "|        0|   9189|\n",
      "|        1|1379703|\n",
      "|        2|4567837|\n",
      "|        3|7573614|\n",
      "|        4|6406045|\n",
      "|        5|4652618|\n",
      "|        6| 440429|\n",
      "|999999999|1528526|\n",
      "+---------+-------+\n",
      "\n"
     ]
    }
   ],
   "source": [
    "dist_age_level.show()"
   ]
  },
  {
   "cell_type": "code",
   "execution_count": 10,
   "metadata": {},
   "outputs": [
    {
     "name": "stdout",
     "output_type": "stream",
     "text": [
      "['0', '1', '2', '3', '4', '5', '6', '999999999']\n",
      "[9189, 1379703, 4567837, 7573614, 6406045, 4652618, 440429, 1528526]\n"
     ]
    }
   ],
   "source": [
    "dist_age_level = dist_age_level.toPandas()\n",
    "dist_age_level_x = dist_age_level['age_level'].tolist()\n",
    "dist_age_level_y = dist_age_level['count'].tolist()\n",
    "print(dist_age_level_x)\n",
    "print(dist_age_level_y)"
   ]
  },
  {
   "cell_type": "code",
   "execution_count": 11,
   "metadata": {
    "collapsed": true
   },
   "outputs": [
    {
     "data": {
      "text/plain": [
       "Text(0.5, 0, 'User')"
      ]
     },
     "execution_count": 11,
     "metadata": {},
     "output_type": "execute_result"
    },
    {
     "data": {
      "image/png": "[encoded data removed]",
      "text/plain": [
       "<Figure size 720x432 with 1 Axes>"
      ]
     },
     "metadata": {
      "needs_background": "light"
     },
     "output_type": "display_data"
    }
   ],
   "source": [
    "plt.figure(figsize=(10,6))\n",
    "sns.barplot( dist_age_level_x, dist_age_level_y, palette=\"CMRmap\") \n",
    "plt.title('Frequency of age_level')\n",
    "plt.ylabel('count')\n",
    "plt.xlabel('User')"
   ]
  },
  {
   "cell_type": "code",
   "execution_count": 12,
   "metadata": {},
   "outputs": [
    {
     "name": "stdout",
     "output_type": "stream",
     "text": [
      "+-----------------+--------+\n",
      "|final_gender_code|   count|\n",
      "+-----------------+--------+\n",
      "|                1| 6880966|\n",
      "|                2|18148469|\n",
      "|        999999999| 1528526|\n",
      "+-----------------+--------+\n",
      "\n"
     ]
    }
   ],
   "source": [
    "dist_gender = df_tb2.select('final_gender_code').groupby('final_gender_code').count().sort('final_gender_code', ascending=True)\n",
    "dist_gender.show()"
   ]
  },
  {
   "cell_type": "code",
   "execution_count": 13,
   "metadata": {},
   "outputs": [],
   "source": [
    "dist_gender=dist_gender.replace('1', 'male','final_gender_code')\n",
    "dist_gender=dist_gender.replace('2', 'female','final_gender_code')\n",
    "dist_gender=dist_gender.replace('999999999', 'none','final_gender_code')"
   ]
  },
  {
   "cell_type": "code",
   "execution_count": 14,
   "metadata": {},
   "outputs": [
    {
     "name": "stdout",
     "output_type": "stream",
     "text": [
      "+-----------------+--------+\n",
      "|final_gender_code|   count|\n",
      "+-----------------+--------+\n",
      "|             male| 6880966|\n",
      "|           female|18148469|\n",
      "|             none| 1528526|\n",
      "+-----------------+--------+\n",
      "\n"
     ]
    }
   ],
   "source": [
    "dist_gender.show()"
   ]
  },
  {
   "cell_type": "code",
   "execution_count": 15,
   "metadata": {},
   "outputs": [],
   "source": [
    "dist_gender = dist_gender.toPandas()\n",
    "dist_gender_x = dist_gender['final_gender_code'].tolist()\n",
    "dist_gender_y = dist_gender['count'].tolist()"
   ]
  },
  {
   "cell_type": "code",
   "execution_count": 16,
   "metadata": {},
   "outputs": [
    {
     "data": {
      "text/plain": [
       "Text(0.5, 0, 'gender')"
      ]
     },
     "execution_count": 16,
     "metadata": {},
     "output_type": "execute_result"
    },
    {
     "data": {
      "image/png": "[encoded data removed]",
      "text/plain": [
       "<Figure size 720x432 with 1 Axes>"
      ]
     },
     "metadata": {
      "needs_background": "light"
     },
     "output_type": "display_data"
    }
   ],
   "source": [
    "plt.figure(figsize=(10,6))\n",
    "sns.barplot( dist_gender_x, dist_gender_y, palette=\"CMRmap\") \n",
    "plt.title('Frequency of gender')\n",
    "plt.ylabel('count')\n",
    "plt.xlabel('gender')"
   ]
  },
  {
   "cell_type": "code",
   "execution_count": 17,
   "metadata": {},
   "outputs": [
    {
     "name": "stdout",
     "output_type": "stream",
     "text": [
      "+-----------------+---------+-------+\n",
      "|final_gender_code|age_level|  count|\n",
      "+-----------------+---------+-------+\n",
      "|                1|        0|   3206|\n",
      "|                1|        1| 303144|\n",
      "|                1|        2| 884744|\n",
      "|                1|        3|1875669|\n",
      "|                1|        4|2018579|\n",
      "|                1|        5|1621222|\n",
      "|                1|        6| 174402|\n",
      "|                2|        0|   5983|\n",
      "|                2|        1|1076559|\n",
      "|                2|        2|3683093|\n",
      "|                2|        3|5697945|\n",
      "|                2|        4|4387466|\n",
      "|                2|        5|3031396|\n",
      "|                2|        6| 266027|\n",
      "|        999999999|999999999|1528526|\n",
      "+-----------------+---------+-------+\n",
      "\n"
     ]
    }
   ],
   "source": [
    "gender_age=df_tb2.select('final_gender_code','age_level').groupby('final_gender_code','age_level').count().sort('final_gender_code','age_level', ascending=True)\n",
    "gender_age.show()"
   ]
  },
  {
   "cell_type": "code",
   "execution_count": 18,
   "metadata": {},
   "outputs": [
    {
     "name": "stdout",
     "output_type": "stream",
     "text": [
      "+-----------------+---------+-------+\n",
      "|final_gender_code|age_level|  count|\n",
      "+-----------------+---------+-------+\n",
      "|             male|        0|   3206|\n",
      "|             male|        1| 303144|\n",
      "|             male|        2| 884744|\n",
      "|             male|        3|1875669|\n",
      "|             male|        4|2018579|\n",
      "|             male|        5|1621222|\n",
      "|             male|        6| 174402|\n",
      "|           female|        0|   5983|\n",
      "|           female|        1|1076559|\n",
      "|           female|        2|3683093|\n",
      "|           female|        3|5697945|\n",
      "|           female|        4|4387466|\n",
      "|           female|        5|3031396|\n",
      "|           female|        6| 266027|\n",
      "|        999999999|999999999|1528526|\n",
      "+-----------------+---------+-------+\n",
      "\n"
     ]
    }
   ],
   "source": [
    "gender_age=gender_age.replace('2', 'female','final_gender_code')\n",
    "gender_age=gender_age.replace('1', 'male','final_gender_code')\n",
    "gender_age.show()"
   ]
  },
  {
   "cell_type": "code",
   "execution_count": 27,
   "metadata": {},
   "outputs": [
    {
     "name": "stdout",
     "output_type": "stream",
     "text": [
      "+-----------------+---------+-------+\n",
      "|final_gender_code|age_level|  count|\n",
      "+-----------------+---------+-------+\n",
      "|             male|        0|   3206|\n",
      "|             male|        1| 303144|\n",
      "|             male|        2| 884744|\n",
      "|             male|        3|1875669|\n",
      "|             male|        4|2018579|\n",
      "|             male|        5|1621222|\n",
      "|             male|        6| 174402|\n",
      "|           female|        0|   5983|\n",
      "|           female|        1|1076559|\n",
      "|           female|        2|3683093|\n",
      "|           female|        3|5697945|\n",
      "|           female|        4|4387466|\n",
      "|           female|        5|3031396|\n",
      "|           female|        6| 266027|\n",
      "+-----------------+---------+-------+\n",
      "\n"
     ]
    }
   ],
   "source": [
    "gender_age.filter(gender_age.final_gender_code!='999999999').show()"
   ]
  },
  {
   "cell_type": "code",
   "execution_count": 28,
   "metadata": {},
   "outputs": [],
   "source": [
    "new_gender_age=gender_age.filter(gender_age.final_gender_code!='999999999')"
   ]
  },
  {
   "cell_type": "code",
   "execution_count": 29,
   "metadata": {},
   "outputs": [],
   "source": [
    "new_gender_age = new_gender_age.toPandas()"
   ]
  },
  {
   "cell_type": "code",
   "execution_count": 30,
   "metadata": {},
   "outputs": [
    {
     "data": {
      "text/plain": [
       "<seaborn.axisgrid.FacetGrid at 0x7f7478509c88>"
      ]
     },
     "execution_count": 30,
     "metadata": {},
     "output_type": "execute_result"
    },
    {
     "data": {
      "image/png": "[encoded data removed]",
      "text/plain": [
       "<Figure size 720x360 with 2 Axes>"
      ]
     },
     "metadata": {
      "needs_background": "light"
     },
     "output_type": "display_data"
    }
   ],
   "source": [
    "sns.catplot(data=new_gender_age,col=\"final_gender_code\",\n",
    "            x=\"age_level\",\n",
    "            y=\"count\",\n",
    "            kind=\"bar\")"
   ]
  },
  {
   "cell_type": "code",
   "execution_count": 88,
   "metadata": {},
   "outputs": [],
   "source": [
    "df_tb2=df_tb2.withColumn(\"time_stamp\",df_tb2[\"time_stamp\"].cast(IntegerType()))\n",
    "df_tb2=df_tb2.withColumn(\"price\",df_tb2[\"price\"].cast(DoubleType()))\n",
    "df_tb2=df_tb2.withColumn(\"clk\",df_tb2[\"clk\"].cast(IntegerType()))\n",
    "df_tb2=df_tb2.withColumn(\"pv_1\",df_tb2[\"pv_1\"].cast(IntegerType()))\n",
    "df_tb2=df_tb2.withColumn(\"pv_2\",df_tb2[\"pv_2\"].cast(IntegerType()))\n",
    "df_tb2=df_tb2.withColumn(\"pv_3\",df_tb2[\"pv_3\"].cast(IntegerType()))\n",
    "df_tb2=df_tb2.withColumn(\"cart_1\",df_tb2[\"cart_1\"].cast(IntegerType()))\n",
    "df_tb2=df_tb2.withColumn(\"cart_2\",df_tb2[\"cart_2\"].cast(IntegerType()))\n",
    "df_tb2=df_tb2.withColumn(\"cart_3\",df_tb2[\"cart_3\"].cast(IntegerType()))\n",
    "df_tb2=df_tb2.withColumn(\"fav_1\",df_tb2[\"fav_1\"].cast(IntegerType()))\n",
    "df_tb2=df_tb2.withColumn(\"fav_2\",df_tb2[\"fav_2\"].cast(IntegerType()))\n",
    "df_tb2=df_tb2.withColumn(\"fav_3\",df_tb2[\"fav_3\"].cast(IntegerType()))\n",
    "df_tb2=df_tb2.withColumn(\"buy_1\",df_tb2[\"buy_1\"].cast(IntegerType()))\n",
    "df_tb2=df_tb2.withColumn(\"buy_2\",df_tb2[\"buy_2\"].cast(IntegerType()))\n",
    "df_tb2=df_tb2.withColumn(\"buy_3\",df_tb2[\"buy_3\"].cast(IntegerType()))"
   ]
  },
  {
   "cell_type": "code",
   "execution_count": 89,
   "metadata": {},
   "outputs": [
    {
     "name": "stdout",
     "output_type": "stream",
     "text": [
      "root\n",
      " |-- user: string (nullable = true)\n",
      " |-- time_stamp: integer (nullable = true)\n",
      " |-- adgroup_id: string (nullable = true)\n",
      " |-- pid: string (nullable = true)\n",
      " |-- clk: integer (nullable = true)\n",
      " |-- cate_id: string (nullable = true)\n",
      " |-- campaign_id: string (nullable = true)\n",
      " |-- customer: string (nullable = true)\n",
      " |-- price: double (nullable = true)\n",
      " |-- cms_segid: string (nullable = true)\n",
      " |-- cms_group_id: string (nullable = true)\n",
      " |-- final_gender_code: string (nullable = true)\n",
      " |-- age_level: string (nullable = true)\n",
      " |-- pvalue_level: string (nullable = true)\n",
      " |-- shopping_level: string (nullable = true)\n",
      " |-- occupation: string (nullable = true)\n",
      " |-- new_user_class_level: string (nullable = true)\n",
      " |-- user_cate: string (nullable = true)\n",
      " |-- pv_1: integer (nullable = true)\n",
      " |-- cart_1: integer (nullable = true)\n",
      " |-- fav_1: integer (nullable = true)\n",
      " |-- buy_1: integer (nullable = true)\n",
      " |-- pv_2: integer (nullable = true)\n",
      " |-- cart_2: integer (nullable = true)\n",
      " |-- fav_2: integer (nullable = true)\n",
      " |-- buy_2: integer (nullable = true)\n",
      " |-- pv_3: integer (nullable = true)\n",
      " |-- cart_3: integer (nullable = true)\n",
      " |-- fav_3: integer (nullable = true)\n",
      " |-- buy_3: integer (nullable = true)\n",
      " |-- brand_New: string (nullable = true)\n",
      "\n"
     ]
    }
   ],
   "source": [
    "df_tb2.printSchema()"
   ]
  },
  {
   "cell_type": "code",
   "execution_count": 95,
   "metadata": {},
   "outputs": [],
   "source": [
    "df_tb_forcorr=df_tb2.select('time_stamp','clk','price','pv_1','cart_1','fav_1','buy_1','pv_2','cart_2','fav_2','buy_2','pv_3','cart_3','fav_3','buy_3')"
   ]
  },
  {
   "cell_type": "code",
   "execution_count": 96,
   "metadata": {},
   "outputs": [
    {
     "name": "stdout",
     "output_type": "stream",
     "text": [
      "+----------+---+-----+----+------+-----+-----+----+------+-----+-----+----+------+-----+-----+\n",
      "|time_stamp|clk|price|pv_1|cart_1|fav_1|buy_1|pv_2|cart_2|fav_2|buy_2|pv_3|cart_3|fav_3|buy_3|\n",
      "+----------+---+-----+----+------+-----+-----+----+------+-----+-----+----+------+-----+-----+\n",
      "|1494494716|  0| 62.0|   0|     0|    0|    0|   0|     0|    0|    0|   0|     0|    0|    0|\n",
      "|1494368981|  0| 63.0|   0|     0|    0|    0|   0|     0|    0|    0|   0|     0|    0|    0|\n",
      "|1494040741|  0| 39.0|   4|     0|    0|    0|  54|     3|    1|    0|  97|     3|    0|    0|\n",
      "|1494206862|  0|19.58|   4|     0|    0|    0|  54|     3|    1|    0|  97|     3|    0|    0|\n",
      "|1494206862|  0|109.0|   4|     0|    0|    0|  54|     3|    1|    0|  97|     3|    0|    0|\n",
      "|1494220473|  0|139.0|   0|     0|    0|    0|   0|     0|    0|    0|  13|     0|    0|    0|\n",
      "|1494649077|  0| 99.0|   0|     0|    0|    0|   4|     0|    0|    0|   2|     0|    0|    0|\n",
      "|1494481248|  0|100.0|   0|     0|    0|    0|   0|     0|    0|    0|  17|     3|    1|    0|\n",
      "|1494412137|  0| 12.9|   0|     0|    0|    0|   0|     0|    0|    0|  17|     3|    1|    0|\n",
      "|1494598496|  0| 39.8|   1|     0|    0|    0|   2|     0|    0|    0|   0|     0|    0|    0|\n",
      "|1494660754|  0|899.0|   0|     0|    0|    0|   0|     0|    0|    0|   5|     0|    0|    0|\n",
      "|1494564967|  0|399.0|   0|     0|    0|    0|   0|     0|    0|    0|   5|     0|    0|    0|\n",
      "|1494660602|  0|199.0|   0|     0|    0|    0|   0|     0|    0|    0|   5|     0|    0|    0|\n",
      "|1494564967|  0| 99.0|   0|     0|    0|    0|   0|     0|    0|    0|   5|     0|    0|    0|\n",
      "|1494267136|  0| 88.0|   2|     0|    0|    0|   0|     0|    0|    0|   5|     0|    0|    0|\n",
      "|1494223888|  0|698.0|   0|     0|    0|    0|   0|     0|    0|    0|  47|     3|    0|    1|\n",
      "|1494142182|  0| 48.0|   0|     0|    0|    0|  14|     0|    0|    0|   1|     0|    0|    0|\n",
      "|1494023350|  0| 25.0|   0|     0|    0|    0|  14|     0|    0|    0|   1|     0|    0|    0|\n",
      "|1494485152|  0|188.0|   0|     0|    0|    0|  12|     0|    0|    0|   2|     0|    0|    0|\n",
      "|1494563745|  0|128.0|   1|     0|    0|    0|   0|     0|    0|    0|  15|     1|    0|    0|\n",
      "+----------+---+-----+----+------+-----+-----+----+------+-----+-----+----+------+-----+-----+\n",
      "only showing top 20 rows\n",
      "\n"
     ]
    }
   ],
   "source": [
    "df_tb_forcorr.show()"
   ]
  },
  {
   "cell_type": "code",
   "execution_count": 99,
   "metadata": {},
   "outputs": [
    {
     "name": "stdout",
     "output_type": "stream",
     "text": [
      "-0.002252234355453912 ------> time_stamp\n",
      "1.0 ------> clk\n",
      "0.0003292122408241066 ------> price\n",
      "0.017376649081635092 ------> pv_1\n",
      "0.003529369453642056 ------> cart_1\n",
      "0.007813987186805258 ------> fav_1\n",
      "0.00047771613211008404 ------> buy_1\n",
      "0.020575517011502873 ------> pv_2\n",
      "0.005437666004785848 ------> cart_2\n",
      "0.00976111057086777 ------> fav_2\n",
      "0.0020811347253511772 ------> buy_2\n",
      "0.04852638611548271 ------> pv_3\n",
      "0.026937026827880156 ------> cart_3\n",
      "0.023666026846124365 ------> fav_3\n",
      "0.016124331155443143 ------> buy_3\n"
     ]
    }
   ],
   "source": [
    "for col in df_tb_forcorr.columns:\n",
    "    corr = df_tb_forcorr.stat.corr('clk',col)\n",
    "    print(corr, \"------>\" ,col)"
   ]
  },
  {
   "cell_type": "code",
   "execution_count": 101,
   "metadata": {},
   "outputs": [],
   "source": [
    "df_tb2_rela=df_tb_forcorr.select('clk','pv_1','cart_1','fav_1','buy_1','pv_2','cart_2','fav_2','buy_2','pv_3','cart_3','fav_3','buy_3').groupby('clk','pv_1','cart_1','fav_1','buy_1','pv_2','cart_2','fav_2','buy_2','pv_3','cart_3','fav_3','buy_3').count()"
   ]
  },
  {
   "cell_type": "code",
   "execution_count": 102,
   "metadata": {},
   "outputs": [
    {
     "name": "stdout",
     "output_type": "stream",
     "text": [
      "+---+----+------+-----+-----+----+------+-----+-----+----+------+-----+-----+-----+\n",
      "|clk|pv_1|cart_1|fav_1|buy_1|pv_2|cart_2|fav_2|buy_2|pv_3|cart_3|fav_3|buy_3|count|\n",
      "+---+----+------+-----+-----+----+------+-----+-----+----+------+-----+-----+-----+\n",
      "|  0|   0|     0|    0|    0|  16|     0|    0|    0|  11|     0|    0|    0|  919|\n",
      "|  1|   3|     0|    0|    0|   1|     0|    0|    0|   8|     2|    1|    0|    1|\n",
      "|  0|   2|     0|    0|    0|   1|     0|    0|    0|  10|     0|    0|    0| 1663|\n",
      "|  0|   8|     0|    0|    0|   1|     0|    0|    0|   3|     0|    0|    0|  864|\n",
      "|  0| 115|     0|    3|    0|   0|     0|    0|    0| 611|     0|   25|    0|    9|\n",
      "|  0|   0|     0|    0|    0|  25|     0|    1|    0|   0|     0|    0|    0|  708|\n",
      "|  0|   9|     0|    0|    0|   0|     0|    0|    0|  14|     0|    0|    0|  443|\n",
      "|  1|   7|     0|    0|    0|  29|     3|    0|    0|  49|     3|    0|    1|    1|\n",
      "|  0|  66|     0|    2|    0|   0|     0|    0|    0|  56|     0|    1|    0|    2|\n",
      "|  0|  29|     2|    0|    0|  55|     3|    0|    0|   0|     0|    0|    0|    1|\n",
      "|  1|   0|     0|    0|    0|   0|     0|    0|    0|  24|     1|    2|    0|   21|\n",
      "|  0|  31|     0|    0|    0|  38|     0|    0|    0|   3|     0|    0|    0|    1|\n",
      "|  0|   9|     0|    0|    0|   3|     0|    0|    0|   1|     0|    0|    0|  879|\n",
      "|  0|   5|     1|    0|    0|  44|     4|    0|    0|  10|     0|    0|    0|    1|\n",
      "|  0|   6|     0|    0|    0|  13|     0|    0|    0|   1|     0|    0|    0|  282|\n",
      "|  0|  10|     0|    1|    0|   0|     0|    0|    0|   4|     0|    2|    0|    4|\n",
      "|  0|  19|     0|    0|    0|   2|     0|    1|    0|   0|     0|    0|    0|    5|\n",
      "|  0|   0|     0|    0|    0|  10|     1|    0|    0|  28|     1|    0|    0|   37|\n",
      "|  0|  22|     0|    1|    0|   0|     0|    0|    0|  47|     0|    0|    0|    5|\n",
      "|  1|  17|     0|    0|    0|  11|     1|    0|    0|   6|     0|    0|    0|    2|\n",
      "+---+----+------+-----+-----+----+------+-----+-----+----+------+-----+-----+-----+\n",
      "only showing top 20 rows\n",
      "\n"
     ]
    }
   ],
   "source": [
    "df_tb2_rela.show()"
   ]
  },
  {
   "cell_type": "code",
   "execution_count": 103,
   "metadata": {},
   "outputs": [
    {
     "data": {
      "text/plain": [
       "1388935"
      ]
     },
     "execution_count": 103,
     "metadata": {},
     "output_type": "execute_result"
    }
   ],
   "source": [
    "df_tb2_rela.count()"
   ]
  },
  {
   "cell_type": "code",
   "execution_count": 105,
   "metadata": {},
   "outputs": [
    {
     "name": "stdout",
     "output_type": "stream",
     "text": [
      "+---+--------+\n",
      "|clk|   count|\n",
      "+---+--------+\n",
      "|  0|25191905|\n",
      "|  1| 1366056|\n",
      "+---+--------+\n",
      "\n"
     ]
    }
   ],
   "source": [
    "df_tb2_rela1=df_tb_forcorr.select('clk').groupby('clk').count().sort('clk', ascending=True)\n",
    "df_tb2_rela1.show()"
   ]
  },
  {
   "cell_type": "code",
   "execution_count": 110,
   "metadata": {},
   "outputs": [
    {
     "name": "stdout",
     "output_type": "stream",
     "text": [
      "+------+----+---+-----+\n",
      "|  user|pv_3|clk|count|\n",
      "+------+----+---+-----+\n",
      "|     1|   2|  0|    2|\n",
      "|     1|   5|  0|    2|\n",
      "|    10|   0|  0|    1|\n",
      "|    10|   4|  0|    1|\n",
      "|    10|   6|  0|    1|\n",
      "|   100|   0|  0|    3|\n",
      "|   100|   2|  0|    4|\n",
      "|   100|  11|  0|    8|\n",
      "|  1000|   0|  0|    1|\n",
      "|  1000|   1|  0|    1|\n",
      "|  1000|   5|  0|    4|\n",
      "|  1000|  22|  0|    3|\n",
      "| 10000|   0|  0|    4|\n",
      "| 10000|   1|  0|   11|\n",
      "| 10000|   4|  0|    2|\n",
      "| 10000|   6|  0|    2|\n",
      "| 10000|   6|  1|    1|\n",
      "| 10000|   8|  0|    1|\n",
      "| 10000|  15|  1|    1|\n",
      "|100000|   5|  0|    1|\n",
      "+------+----+---+-----+\n",
      "only showing top 20 rows\n",
      "\n"
     ]
    }
   ],
   "source": [
    "df_tb2_rela2=df_tb2.select('user','pv_3','clk').groupby('user','pv_3','clk').count().sort('user','pv_3','clk', ascending=True)\n",
    "df_tb2_rela2.show()"
   ]
  },
  {
   "cell_type": "code",
   "execution_count": 112,
   "metadata": {},
   "outputs": [
    {
     "name": "stdout",
     "output_type": "stream",
     "text": [
      "+---------+\n",
      "|max(pv_3)|\n",
      "+---------+\n",
      "|     5918|\n",
      "+---------+\n",
      "\n"
     ]
    }
   ],
   "source": [
    "df_tb2.agg({\"pv_3\":\"max\"}).show()"
   ]
  },
  {
   "cell_type": "code",
   "execution_count": 122,
   "metadata": {},
   "outputs": [
    {
     "name": "stdout",
     "output_type": "stream",
     "text": [
      "+----+\n",
      "|pv_3|\n",
      "+----+\n",
      "|   0|\n",
      "|   0|\n",
      "|   0|\n",
      "|   0|\n",
      "|   0|\n",
      "|   0|\n",
      "|   0|\n",
      "|   0|\n",
      "|   0|\n",
      "|   0|\n",
      "|   0|\n",
      "|   0|\n",
      "|   0|\n",
      "|   0|\n",
      "|   0|\n",
      "|   0|\n",
      "|   0|\n",
      "|   0|\n",
      "|   0|\n",
      "|   0|\n",
      "+----+\n",
      "only showing top 20 rows\n",
      "\n"
     ]
    }
   ],
   "source": [
    "df_tb2.select('pv_3').where(\"clk = 1\").sort('pv_3', ascending=True).show()"
   ]
  }
 ],
 "metadata": {
  "kernelspec": {
   "display_name": "Python 3",
   "language": "python",
   "name": "python3"
  },
  "language_info": {
   "codemirror_mode": {
    "name": "ipython",
    "version": 3
   },
   "file_extension": ".py",
   "mimetype": "text/x-python",
   "name": "python",
   "nbconvert_exporter": "python",
   "pygments_lexer": "ipython3",
   "version": "3.6.6"
  }
 },
 "nbformat": 4,
 "nbformat_minor": 2
}
