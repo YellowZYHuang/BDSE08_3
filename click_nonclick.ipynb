{
 "cells": [
  {
   "cell_type": "code",
   "execution_count": 1,
   "metadata": {},
   "outputs": [],
   "source": [
    "from math import sin\n",
    "from random import random\n",
    "\n",
    "from bokeh.io import output_file, show\n",
    "from bokeh.models import ColumnDataSource, HoverTool, LinearColorMapper\n",
    "from bokeh.palettes import plasma\n",
    "from bokeh.plotting import figure\n",
    "from bokeh.transform import transform"
   ]
  },
  {
   "cell_type": "code",
   "execution_count": 2,
   "metadata": {},
   "outputs": [],
   "source": [
    "import pandas as pd"
   ]
  },
  {
   "cell_type": "code",
   "execution_count": 3,
   "metadata": {},
   "outputs": [],
   "source": [
    "df = pd.read_csv('dataset/user_unclk_clk.csv')\n",
    "df = df.head(10000)"
   ]
  },
  {
   "cell_type": "code",
   "execution_count": 4,
   "metadata": {},
   "outputs": [
    {
     "name": "stdout",
     "output_type": "stream",
     "text": [
      "unclk_count: 10000\n",
      "clk_count: 10000\n",
      "user: 10000\n"
     ]
    }
   ],
   "source": [
    "unclk_count = df.loc[:,'unclk_count'].tolist()\n",
    "print(\"unclk_count:\", len(unclk_count))\n",
    "\n",
    "clk_count = df.loc[:,'clk_count'].tolist()\n",
    "print(\"clk_count:\", len(clk_count))\n",
    "\n",
    "user = df.loc[:,'user'].tolist()\n",
    "print(\"user:\",len(user))"
   ]
  },
  {
   "cell_type": "code",
   "execution_count": 5,
   "metadata": {},
   "outputs": [],
   "source": [
    "list_x = clk_count\n",
    "list_y = unclk_count\n",
    "desc = user\n",
    "TOOLS=\"hover,crosshair,pan,wheel_zoom,zoom_in,zoom_out,box_zoom,undo,redo,reset,tap,save,box_select,poly_select,lasso_select,\"\n",
    "\n",
    "source = ColumnDataSource(data=dict(x=list_x, y=list_y, desc=desc))\n",
    "hover = HoverTool(tooltips=[\n",
    "    (\"Click\", \"@x\"),\n",
    "    (\"Exposure\", \"@y\"),\n",
    "    ('user', '@desc'),\n",
    "])\n",
    "mapper = LinearColorMapper(palette=plasma(256), low=min(list_y), high=max(list_y))\n",
    "\n",
    "p = figure(plot_width=500, plot_height=500, tools=[hover,'pan','crosshair','box_zoom','wheel_zoom','reset'], title=\"#Click v.s #Non-Click\")\n",
    "p.circle('x', 'y', line_width = 0.3, size=6, source=source,\n",
    "         fill_color=transform('y', mapper))\n",
    "p.title_location = \"above\"\n",
    "p.title.align = \"center\"\n",
    "p.title.text_font_size = '16pt'\n",
    "p.xaxis.axis_label = 'Click'\n",
    "p.xaxis.axis_label_text_align = 'center'\n",
    "p.yaxis.axis_label = 'Exposure'\n",
    "p.yaxis.axis_label_text_align = 'center'\n",
    "output_file('clk_nonclk_3.html')\n",
    "show(p)"
   ]
  },
  {
   "cell_type": "code",
   "execution_count": null,
   "metadata": {},
   "outputs": [],
   "source": []
  }
 ],
 "metadata": {
  "kernelspec": {
   "display_name": "Python 3",
   "language": "python",
   "name": "python3"
  },
  "language_info": {
   "codemirror_mode": {
    "name": "ipython",
    "version": 3
   },
   "file_extension": ".py",
   "mimetype": "text/x-python",
   "name": "python",
   "nbconvert_exporter": "python",
   "pygments_lexer": "ipython3",
   "version": "3.6.5"
  }
 },
 "nbformat": 4,
 "nbformat_minor": 2
}
