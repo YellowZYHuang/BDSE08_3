{
 "cells": [
  {
   "cell_type": "code",
   "execution_count": 1,
   "metadata": {},
   "outputs": [],
   "source": [
    "from pyspark.sql import SparkSession"
   ]
  },
  {
   "cell_type": "code",
   "execution_count": 2,
   "metadata": {},
   "outputs": [],
   "source": [
    "spark = SparkSession.builder.master(\"yarn\").config('spark.executor.instances','100').appName(\"chiang_ct\").getOrCreate()"
   ]
  },
  {
   "cell_type": "code",
   "execution_count": 3,
   "metadata": {},
   "outputs": [
    {
     "name": "stdout",
     "output_type": "stream",
     "text": [
      "CPU times: user 4.82 ms, sys: 146 µs, total: 4.97 ms\n",
      "Wall time: 9.97 s\n"
     ]
    }
   ],
   "source": [
    "%time df = spark.read.csv(\"/user/spark/share/splitdata.csv\",header=True)"
   ]
  },
  {
   "cell_type": "code",
   "execution_count": 4,
   "metadata": {},
   "outputs": [],
   "source": [
    "df.createOrReplaceTempView('behavior')"
   ]
  },
  {
   "cell_type": "code",
   "execution_count": 5,
   "metadata": {},
   "outputs": [
    {
     "name": "stdout",
     "output_type": "stream",
     "text": [
      "CPU times: user 1.11 ms, sys: 0 ns, total: 1.11 ms\n",
      "Wall time: 64.5 ms\n",
      "CPU times: user 500 µs, sys: 0 ns, total: 500 µs\n",
      "Wall time: 6.79 ms\n",
      "CPU times: user 536 µs, sys: 0 ns, total: 536 µs\n",
      "Wall time: 15.3 ms\n",
      "CPU times: user 498 µs, sys: 0 ns, total: 498 µs\n",
      "Wall time: 11.3 ms\n"
     ]
    }
   ],
   "source": [
    "%time df_pv = spark.sql('select user_cate as user_cate_pv, count(*) as pv from behavior where btag = \"pv\" group by user_cate')\n",
    "%time df_cart = spark.sql('select user_cate as user_cate_cart, count(*) as cart from behavior where btag = \"cart\" group by user_cate')\n",
    "%time df_fav = spark.sql('select user_cate as user_cate_fav, count(*) as fav from behavior where btag = \"fav\" group by user_cate')\n",
    "%time df_buy = spark.sql('select user_cate as user_cate_buy, count(*) as buy from behavior where btag = \"buy\" group by user_cate')"
   ]
  },
  {
   "cell_type": "code",
   "execution_count": null,
   "metadata": {},
   "outputs": [],
   "source": [
    "%time df_pv.show() #just checking"
   ]
  },
  {
   "cell_type": "code",
   "execution_count": null,
   "metadata": {},
   "outputs": [],
   "source": []
  },
  {
   "cell_type": "code",
   "execution_count": null,
   "metadata": {},
   "outputs": [],
   "source": []
  },
  {
   "cell_type": "markdown",
   "metadata": {},
   "source": [
    "### join to cross_table"
   ]
  },
  {
   "cell_type": "code",
   "execution_count": 6,
   "metadata": {},
   "outputs": [],
   "source": [
    "df_user_cate = spark.sql(\"select distinct user_cate from behavior\") "
   ]
  },
  {
   "cell_type": "code",
   "execution_count": 8,
   "metadata": {},
   "outputs": [],
   "source": [
    "df_user_cate.select('user_cate').distinct().count() #just checking"
   ]
  },
  {
   "cell_type": "code",
   "execution_count": 9,
   "metadata": {},
   "outputs": [],
   "source": [
    "#join to crosstable for table 1 \n",
    "tb1_cross_all = df_user_cate.join(df_pv,(df_user_cate.user_cate == df_pv.user_cate_pv) ,'outer')\n",
    "tb1_cross_all = tb1_cross_all.join(df_cart,(tb1_cross_all.user_cate == df_cart.user_cate_cart) ,'outer')\n",
    "tb1_cross_all = tb1_cross_all.join(df_fav,(tb1_cross_all.user_cate == df_fav.user_cate_fav) ,'outer')\n",
    "tb1_cross_all = tb1_cross_all.join(df_buy,(tb1_cross_all.user_cate == df_buy.user_cate_buy) ,'outer')"
   ]
  },
  {
   "cell_type": "code",
   "execution_count": 10,
   "metadata": {},
   "outputs": [
    {
     "data": {
      "text/plain": [
       "['user_cate',\n",
       " 'user_cate_pv',\n",
       " 'pv',\n",
       " 'user_cate_cart',\n",
       " 'cart',\n",
       " 'user_cate_fav',\n",
       " 'fav',\n",
       " 'user_cate_buy',\n",
       " 'buy']"
      ]
     },
     "execution_count": 10,
     "metadata": {},
     "output_type": "execute_result"
    }
   ],
   "source": [
    "tb1_cross_all.columns #just for check"
   ]
  },
  {
   "cell_type": "code",
   "execution_count": 11,
   "metadata": {},
   "outputs": [],
   "source": [
    "tb1_cross_all = tb1_cross_all.drop('user_cate_pv','user_cate_cart','user_cate_fav','user_cate_buy')"
   ]
  },
  {
   "cell_type": "code",
   "execution_count": 12,
   "metadata": {},
   "outputs": [
    {
     "data": {
      "text/plain": [
       "['user_cate', 'pv', 'cart', 'fav', 'buy']"
      ]
     },
     "execution_count": 12,
     "metadata": {},
     "output_type": "execute_result"
    }
   ],
   "source": [
    "tb1_cross_all.columns #just for check"
   ]
  },
  {
   "cell_type": "code",
   "execution_count": 13,
   "metadata": {},
   "outputs": [
    {
     "name": "stdout",
     "output_type": "stream",
     "text": [
      "CPU times: user 90.4 ms, sys: 31.4 ms, total: 122 ms\n",
      "Wall time: 14min 49s\n"
     ]
    }
   ],
   "source": [
    "%time tb1_cross_all.write.csv(\"hdfs:///user/spark/share/output/table1/cross_all\",header=\"true\")"
   ]
  },
  {
   "cell_type": "code",
   "execution_count": 16,
   "metadata": {},
   "outputs": [],
   "source": [
    "tb1_cross_all.createOrReplaceTempView('be')"
   ]
  },
  {
   "cell_type": "code",
   "execution_count": 17,
   "metadata": {},
   "outputs": [
    {
     "name": "stdout",
     "output_type": "stream",
     "text": [
      "+---------+--------+-------+-------+\n",
      "|   sum_pv|sum_cart|sum_fav|sum_buy|\n",
      "+---------+--------+-------+-------+\n",
      "|688835878|15946033|9301837|9115919|\n",
      "+---------+--------+-------+-------+\n",
      "\n",
      "CPU times: user 78.7 ms, sys: 26 ms, total: 105 ms\n",
      "Wall time: 13min 20s\n"
     ]
    }
   ],
   "source": [
    "%time spark.sql(\"select sum(pv) as sum_pv, sum(cart) as sum_cart, sum(fav) as sum_fav, sum(buy) as sum_buy from be\").show()"
   ]
  },
  {
   "cell_type": "code",
   "execution_count": 20,
   "metadata": {},
   "outputs": [
    {
     "data": {
      "text/plain": [
       "723199667"
      ]
     },
     "execution_count": 20,
     "metadata": {},
     "output_type": "execute_result"
    }
   ],
   "source": [
    "688835878+15946033+9301837+9115919"
   ]
  }
 ],
 "metadata": {
  "kernelspec": {
   "display_name": "Python 3",
   "language": "python",
   "name": "python3"
  },
  "language_info": {
   "codemirror_mode": {
    "name": "ipython",
    "version": 3
   },
   "file_extension": ".py",
   "mimetype": "text/x-python",
   "name": "python",
   "nbconvert_exporter": "python",
   "pygments_lexer": "ipython3",
   "version": "3.6.6"
  }
 },
 "nbformat": 4,
 "nbformat_minor": 2
}
