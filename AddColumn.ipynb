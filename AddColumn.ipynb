{
 "cells": [
  {
   "cell_type": "code",
   "execution_count": 1,
   "metadata": {},
   "outputs": [],
   "source": [
    "from pyspark.sql import SparkSession"
   ]
  },
  {
   "cell_type": "code",
   "execution_count": 2,
   "metadata": {},
   "outputs": [],
   "source": [
    "spark = SparkSession.builder.master(\"yarn\").config('spark.executor.instances','20').appName(\"yellow\").getOrCreate()"
   ]
  },
  {
   "cell_type": "code",
   "execution_count": 3,
   "metadata": {},
   "outputs": [],
   "source": [
    "# read csv\n",
    "df = spark.read.csv(\"/user/spark/share/behavior_log.csv\",header=True)"
   ]
  },
  {
   "cell_type": "code",
   "execution_count": 7,
   "metadata": {},
   "outputs": [
    {
     "data": {
      "text/plain": [
       "NoneType"
      ]
     },
     "execution_count": 7,
     "metadata": {},
     "output_type": "execute_result"
    }
   ],
   "source": [
    "# turn type\n",
    "df.createOrReplaceTempView(\"new\")"
   ]
  },
  {
   "cell_type": "code",
   "execution_count": null,
   "metadata": {},
   "outputs": [],
   "source": [
    "# check read csv\n",
    "spark.sql('select count(*) from new').show()"
   ]
  },
  {
   "cell_type": "code",
   "execution_count": null,
   "metadata": {},
   "outputs": [],
   "source": [
    "# 2017/5/6 count\n",
    "spark.sql('select count(*) from new where time_stamp < 1494115199 and time_stamp > 1494028800').show()"
   ]
  },
  {
   "cell_type": "code",
   "execution_count": null,
   "metadata": {},
   "outputs": [],
   "source": [
    "# 2017/4/21 count\n",
    "spark.sql('select count(*) from new where time_stamp < 1492819199 and time_stamp > 1492732800').show()"
   ]
  },
  {
   "cell_type": "code",
   "execution_count": null,
   "metadata": {},
   "outputs": [],
   "source": [
    "# 2017/4/20 count\n",
    "spark.sql('select count(*) from new where time_stamp < 1492732799 and time_stamp > 1492646400').show()"
   ]
  },
  {
   "cell_type": "code",
   "execution_count": 5,
   "metadata": {},
   "outputs": [],
   "source": [
    "# cut data\n",
    "split_data = spark.sql('select * from new where time_stamp < 1497398399 and time_stamp > 1492732800')"
   ]
  },
  {
   "cell_type": "code",
   "execution_count": 14,
   "metadata": {},
   "outputs": [],
   "source": [
    "split_data.createOrReplaceTempView(\"new_split_data\")"
   ]
  },
  {
   "cell_type": "code",
   "execution_count": 16,
   "metadata": {},
   "outputs": [],
   "source": [
    "new_split_data = spark.sql('select *, user || \"_\" || cate as user_cate from new_split_data')"
   ]
  },
  {
   "cell_type": "code",
   "execution_count": 18,
   "metadata": {},
   "outputs": [],
   "source": [
    "new_split_data.write.csv(\"hdfs:///user/spark/share/splitdata.csv\", header = True)"
   ]
  },
  {
   "cell_type": "code",
   "execution_count": 20,
   "metadata": {},
   "outputs": [
    {
     "name": "stdout",
     "output_type": "stream",
     "text": [
      "+------+----------+----+-----+------+------------+\n",
      "|  user|time_stamp|btag| cate| brand|   user_cate|\n",
      "+------+----------+----+-----+------+------------+\n",
      "|558157|1493741625|  pv| 6250| 91286| 558157_6250|\n",
      "|558157|1493741626|  pv| 6250| 91286| 558157_6250|\n",
      "|558157|1493741627|  pv| 6250| 91286| 558157_6250|\n",
      "|728690|1493776998|  pv|11800| 62353|728690_11800|\n",
      "|332634|1493809895|  pv| 1101|365477| 332634_1101|\n",
      "|857237|1493816945|  pv| 1043|110616| 857237_1043|\n",
      "|619381|1493774638|  pv|  385|428950|  619381_385|\n",
      "|467042|1493772641|  pv| 8237|301299| 467042_8237|\n",
      "|467042|1493772644|  pv| 8237|301299| 467042_8237|\n",
      "|991528|1493780710|  pv| 7270|274795| 991528_7270|\n",
      "|991528|1493780712|  pv| 7270|274795| 991528_7270|\n",
      "|991528|1493780712|  pv| 7270|274795| 991528_7270|\n",
      "|991528|1493780712|  pv| 7270|274795| 991528_7270|\n",
      "|991528|1493780714|  pv| 7270|274795| 991528_7270|\n",
      "|991528|1493780765|  pv| 7270|274795| 991528_7270|\n",
      "|991528|1493780714|  pv| 7270|274795| 991528_7270|\n",
      "|991528|1493780765|  pv| 7270|274795| 991528_7270|\n",
      "|991528|1493780764|  pv| 7270|274795| 991528_7270|\n",
      "|991528|1493780633|  pv| 7270|274795| 991528_7270|\n",
      "|991528|1493780764|  pv| 7270|274795| 991528_7270|\n",
      "+------+----------+----+-----+------+------------+\n",
      "only showing top 20 rows\n",
      "\n"
     ]
    }
   ],
   "source": [
    "spark.read.csv(\"/user/spark/share/splitdata.csv\", header = True).show()"
   ]
  },
  {
   "cell_type": "code",
   "execution_count": null,
   "metadata": {},
   "outputs": [],
   "source": []
  },
  {
   "cell_type": "code",
   "execution_count": 21,
   "metadata": {},
   "outputs": [],
   "source": [
    "df = spark.read.csv(\"/user/spark/share/mergeAdUser.csv\",header=True)"
   ]
  },
  {
   "cell_type": "code",
   "execution_count": 23,
   "metadata": {},
   "outputs": [],
   "source": [
    "df.createOrReplaceTempView(\"new\")"
   ]
  },
  {
   "cell_type": "code",
   "execution_count": 32,
   "metadata": {},
   "outputs": [],
   "source": [
    "new_split_data = spark.sql('select *, user || \"_\" || cate_id as user_cate from new')"
   ]
  },
  {
   "cell_type": "code",
   "execution_count": 33,
   "metadata": {},
   "outputs": [],
   "source": [
    "new_split_data.write.csv(\"hdfs:///user/spark/share/new_mergeAdUser.csv\", header = True)"
   ]
  },
  {
   "cell_type": "code",
   "execution_count": 34,
   "metadata": {},
   "outputs": [
    {
     "name": "stdout",
     "output_type": "stream",
     "text": [
      "+-------+---------+------------+-----------------+---------+------------+--------------+----------+--------------------+----------+----------+-----------+------+---+-------+-----------+--------+------+-----+------------+\n",
      "|   user|cms_segid|cms_group_id|final_gender_code|age_level|pvalue_level|shopping_level|occupation|new_user_class_level|adgroup_id|time_stamp|        pid|nonclk|clk|cate_id|campaign_id|customer| brand|price|   user_cate|\n",
      "+-------+---------+------------+-----------------+---------+------------+--------------+----------+--------------------+----------+----------+-----------+------+---+-------+-----------+--------+------+-----+------------+\n",
      "|1030548|        0|           3|                2|        3|          NA|             3|         0|                   2|    615576|1494412053|430539_1007|     0|  1|   1665|      72281|   84763|  NULL|  159|1030548_1665|\n",
      "|1030548|        0|           3|                2|        3|          NA|             3|         0|                   2|    633388|1494489769|430539_1007|     1|  0|    562|      92467|  147671|  NULL| 32.8| 1030548_562|\n",
      "|1030548|        0|           3|                2|        3|          NA|             3|         0|                   2|    199769|1494378316|430539_1007|     1|  0|   1535|      30695|   26733| 49540|  168|1030548_1535|\n",
      "|1030548|        0|           3|                2|        3|          NA|             3|         0|                   2|    625554|1494374291|430539_1007|     1|  0|   6554|     147285|  157156|  NULL| 91.8|1030548_6554|\n",
      "|1030548|        0|           3|                2|        3|          NA|             3|         0|                   2|    605214|1494374423|430539_1007|     0|  1|   1665|     361020|   13787|  NULL|  144|1030548_1665|\n",
      "|1030548|        0|           3|                2|        3|          NA|             3|         0|                   2|    296700|1494418256|430539_1007|     1|  0|   6426|     198971|  188174|326409|  288|1030548_6426|\n",
      "|1030548|        0|           3|                2|        3|          NA|             3|         0|                   2|    820720|1494248836|430539_1007|     1|  0|   1665|     217092|  208352|  NULL|   98|1030548_1665|\n",
      "|1030548|        0|           3|                2|        3|          NA|             3|         0|                   2|    435570|1494090082|430539_1007|     1|  0|   6554|      77694|  153935|108202|  189|1030548_6554|\n",
      "|1030548|        0|           3|                2|        3|          NA|             3|         0|                   2|    396090|1494399192|430539_1007|     1|  0|   6426|      70152|   51513|348436|  398|1030548_6426|\n",
      "|1030548|        0|           3|                2|        3|          NA|             3|         0|                   2|    737356|1494418960|430539_1007|     1|  0|   1665|     208709|   30199|  NULL|  165|1030548_1665|\n",
      "|1030548|        0|           3|                2|        3|          NA|             3|         0|                   2|    659289|1494418711|430539_1007|     0|  1|   1665|     360936|   13787|  NULL|  162|1030548_1665|\n",
      "|1030548|        0|           3|                2|        3|          NA|             3|         0|                   2|    122154|1494411951|430539_1007|     1|  0|   1535|     170772|  183819| 66110|  198|1030548_1535|\n",
      "|1030548|        0|           3|                2|        3|          NA|             3|         0|                   2|    639986|1494399080|430539_1007|     1|  0|   1665|      76744|   33936|  NULL|   49|1030548_1665|\n",
      "|1030548|        0|           3|                2|        3|          NA|             3|         0|                   2|     81339|1494399296|430539_1007|     1|  0|   5852|     172302|  181810|177287|  298|1030548_5852|\n",
      "|1030548|        0|           3|                2|        3|          NA|             3|         0|                   2|    687446|1494399601|430539_1007|     1|  0|   1665|     138488|   18499|  NULL|  112|1030548_1665|\n",
      "|1030548|        0|           3|                2|        3|          NA|             3|         0|                   2|    694690|1494173538|430539_1007|     1|  0|   6554|     301034|   16346|186516|   69|1030548_6554|\n",
      "|1030548|        0|           3|                2|        3|          NA|             3|         0|                   2|    738468|1494121189|430539_1007|     1|  0|   4521|     317105|  114735|  NULL|   33|1030548_4521|\n",
      "|1030548|        0|           3|                2|        3|          NA|             3|         0|                   2|    623909|1494606914|430539_1007|     1|  0|   4292|     166954|  186065|  NULL|  178|1030548_4292|\n",
      "|1030548|        0|           3|                2|        3|          NA|             3|         0|                   2|    659289|1494386638|430539_1007|     1|  0|   1665|     360936|   13787|  NULL|  162|1030548_1665|\n",
      "|1030548|        0|           3|                2|        3|          NA|             3|         0|                   2|    474012|1494378145|430539_1007|     1|  0|   1535|     238787|  132461|335759|  246|1030548_1535|\n",
      "+-------+---------+------------+-----------------+---------+------------+--------------+----------+--------------------+----------+----------+-----------+------+---+-------+-----------+--------+------+-----+------------+\n",
      "only showing top 20 rows\n",
      "\n"
     ]
    }
   ],
   "source": [
    "spark.read.csv(\"/user/spark/share/new_mergeAdUser.csv\", header = True).show()"
   ]
  }
 ],
 "metadata": {
  "kernelspec": {
   "display_name": "Python 3",
   "language": "python",
   "name": "python3"
  },
  "language_info": {
   "codemirror_mode": {
    "name": "ipython",
    "version": 3
   },
   "file_extension": ".py",
   "mimetype": "text/x-python",
   "name": "python",
   "nbconvert_exporter": "python",
   "pygments_lexer": "ipython3",
   "version": "3.6.6"
  }
 },
 "nbformat": 4,
 "nbformat_minor": 2
}
