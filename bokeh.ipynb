{
 "cells": [
  {
   "cell_type": "code",
   "execution_count": 15,
   "metadata": {},
   "outputs": [],
   "source": [
    "from ipywidgets import interact\n",
    "import numpy as np\n",
    "\n",
    "from bokeh.io import output_file, push_notebook, show, output_notebook\n",
    "from bokeh.plotting import figure\n",
    "from bokeh.layouts import column\n",
    "import pandas as pd\n",
    "from bokeh.models import CustomJS, ColumnDataSource, Slider\n",
    "\n",
    "from bokeh.layouts import widgetbox\n",
    "from bokeh.models.widgets import Dropdown\n",
    "# output_notebook()"
   ]
  },
  {
   "cell_type": "code",
   "execution_count": 4,
   "metadata": {},
   "outputs": [],
   "source": [
    "df_buy1=pd.read_csv(\"dataset/buy_1.csv\")\n",
    "df_buy2=pd.read_csv(\"dataset/buy_2.csv\")\n",
    "df_buy3=pd.read_csv(\"dataset/buy_3.csv\")"
   ]
  },
  {
   "cell_type": "code",
   "execution_count": null,
   "metadata": {},
   "outputs": [],
   "source": [
    "# df_pv1['pv_1']"
   ]
  },
  {
   "cell_type": "code",
   "execution_count": null,
   "metadata": {},
   "outputs": [],
   "source": [
    "# df_pv1 =df_buy1.sort_values(\"pv_1\")\n",
    "# df_fav1=df_fav1.sort_values(\"fav_1\")\n",
    "# df_cart1 =df_cart1.sort_values(\"cart_1\")\n",
    "# df_buy1 =df_buy1.sort_values(\"buy_1\")"
   ]
  },
  {
   "cell_type": "code",
   "execution_count": 5,
   "metadata": {},
   "outputs": [],
   "source": [
    "buy1 = df_buy1['buy_1'].values.tolist()\n",
    "count_buy1 = df_buy1['count'].values.tolist()\n",
    "\n",
    "buy2 = df_buy2['buy_2'].values.tolist()\n",
    "count_buy2 = df_buy2['count'].values.tolist()\n",
    "\n",
    "buy3 = df_buy3['buy_3'].values.tolist()\n",
    "count_buy3 = df_buy3['count'].values.tolist()"
   ]
  },
  {
   "cell_type": "code",
   "execution_count": 8,
   "metadata": {},
   "outputs": [],
   "source": [
    "p = figure(title=\"User 'Buy' Frequency\", plot_width=800,y_axis_type=\"log\",#x_range=(0, 800),# plot_height=300, y_range=(-5,5),,y_axis_type=\"log\"\n",
    "           background_fill_color='#efefef')\n",
    "r = p.vbar(buy1, top= count_buy1, color=\"#8888cc\", width=0.5, bottom=1, alpha=0.8 )"
   ]
  },
  {
   "cell_type": "code",
   "execution_count": 9,
   "metadata": {},
   "outputs": [],
   "source": [
    "def update_btag(f):\n",
    "    if   f == \"time1\":\n",
    "         r.data_source.data['x'] = buy1\n",
    "         r.data_source.data['y'] = count_buy1\n",
    "    elif f == \"time2\":\n",
    "         r.data_source.data['x'] = buy2\n",
    "         r.data_source.data['y'] = count_buy2\n",
    "    elif f == \"time3\":\n",
    "         r.data_source.data['x'] = buy3\n",
    "         r.data_source.data['y'] = count_buy3\n",
    "\n",
    "#     push_notebook()"
   ]
  },
  {
   "cell_type": "code",
   "execution_count": 56,
   "metadata": {},
   "outputs": [
    {
     "name": "stderr",
     "output_type": "stream",
     "text": [
      "C:\\Users\\Student\\Anaconda3\\lib\\site-packages\\bokeh\\models\\sources.py:110: BokehUserWarning: ColumnDataSource's columns must be of the same length. Current lengths: ('time1_buy', 13), ('time1_count', 13), ('time2_buy', 14), ('time2_count', 14), ('time3_buy', 51), ('time3_count', 51)\n",
      "  \"Current lengths: %s\" % \", \".join(sorted(str((k, len(v))) for k, v in data.items())), BokehUserWarning))\n"
     ]
    }
   ],
   "source": [
    "source1 = ColumnDataSource(data=dict(\n",
    "    time1_buy = df_buy1['buy_1'].values.tolist(),\n",
    "    time1_count = df_buy1['count'].values.tolist(),\n",
    "\n",
    "    time2_buy = df_buy2['buy_2'].values.tolist(),\n",
    "    time2_count = df_buy2['count'].values.tolist(),\n",
    "\n",
    "    time3_buy = df_buy3['buy_3'].values.tolist(),\n",
    "    time3_count = df_buy3['count'].values.tolist(),\n",
    "))"
   ]
  },
  {
   "cell_type": "code",
   "execution_count": 57,
   "metadata": {},
   "outputs": [],
   "source": [
    "def MyCallback(source1=time1, source2=time2, source3=time3):\n",
    "     data = source1.data\n",
    "     f = cb_obj.value\n",
    "     data = f\n",
    "     data1 = time1.data\n",
    "     data2 = time2.data\n",
    "     data3 = time3.data\n",
    "     f = cb_obj.value\n",
    "     data.x=f.x\n",
    "     data.y=f.y\n",
    "     source.change.emit()\n"
   ]
  },
  {
   "cell_type": "code",
   "execution_count": 58,
   "metadata": {},
   "outputs": [],
   "source": [
    "menu = [(\"time1\", \"time1\"), (\"time2\", \"time2\"), (\"time3\", \"time3\")]\n",
    "dropdown = Dropdown(label=\"Dropdown button\", button_type=\"warning\", menu=menu, callback = CustomJS.from_py_func(MyCallback))"
   ]
  },
  {
   "cell_type": "code",
   "execution_count": 59,
   "metadata": {},
   "outputs": [],
   "source": [
    "p477 = column(dropdown, p)"
   ]
  },
  {
   "cell_type": "code",
   "execution_count": 60,
   "metadata": {},
   "outputs": [],
   "source": [
    "show(p477)"
   ]
  },
  {
   "cell_type": "code",
   "execution_count": null,
   "metadata": {},
   "outputs": [],
   "source": []
  },
  {
   "cell_type": "code",
   "execution_count": null,
   "metadata": {},
   "outputs": [],
   "source": []
  },
  {
   "cell_type": "code",
   "execution_count": null,
   "metadata": {},
   "outputs": [],
   "source": []
  },
  {
   "cell_type": "code",
   "execution_count": null,
   "metadata": {},
   "outputs": [],
   "source": []
  }
 ],
 "metadata": {
  "kernelspec": {
   "display_name": "Python 3",
   "language": "python",
   "name": "python3"
  },
  "language_info": {
   "codemirror_mode": {
    "name": "ipython",
    "version": 3
   },
   "file_extension": ".py",
   "mimetype": "text/x-python",
   "name": "python",
   "nbconvert_exporter": "python",
   "pygments_lexer": "ipython3",
   "version": "3.6.5"
  }
 },
 "nbformat": 4,
 "nbformat_minor": 2
}
