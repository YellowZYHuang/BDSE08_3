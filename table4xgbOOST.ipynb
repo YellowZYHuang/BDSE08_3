{
 "cells": [
  {
   "cell_type": "code",
   "execution_count": 1,
   "metadata": {},
   "outputs": [
    {
     "name": "stderr",
     "output_type": "stream",
     "text": [
      "C:\\Users\\Student\\Anaconda3\\lib\\site-packages\\sklearn\\cross_validation.py:41: DeprecationWarning: This module was deprecated in version 0.18 in favor of the model_selection module into which all the refactored classes and functions are moved. Also note that the interface of the new CV iterators are different from that of this module. This module will be removed in 0.20.\n",
      "  \"This module will be removed in 0.20.\", DeprecationWarning)\n"
     ]
    }
   ],
   "source": [
    "import pandas as pd\n",
    "import matplotlib.pyplot as plt\n",
    "%matplotlib inline\n",
    "import seaborn as sns\n",
    "sns.set()\n",
    "import numpy as np\n",
    "import re\n",
    "from sklearn.metrics import roc_curve, auc\n",
    "from sklearn import cross_validation, ensemble, preprocessing, metrics\n"
   ]
  },
  {
   "cell_type": "code",
   "execution_count": 2,
   "metadata": {},
   "outputs": [],
   "source": [
    "df=pd.read_csv('dataset/table4.csv') # 載入資料"
   ]
  },
  {
   "cell_type": "code",
   "execution_count": null,
   "metadata": {},
   "outputs": [],
   "source": [
    "df.columns"
   ]
  },
  {
   "cell_type": "code",
   "execution_count": 50,
   "metadata": {},
   "outputs": [
    {
     "data": {
      "text/plain": [
       "(20507, 34)"
      ]
     },
     "execution_count": 50,
     "metadata": {},
     "output_type": "execute_result"
    }
   ],
   "source": [
    "df_10k = df[df.loc[:,'user']<1001]\n",
    "df_10k.shape"
   ]
  },
  {
   "cell_type": "code",
   "execution_count": 51,
   "metadata": {},
   "outputs": [
    {
     "data": {
      "text/plain": [
       "1000"
      ]
     },
     "execution_count": 51,
     "metadata": {},
     "output_type": "execute_result"
    }
   ],
   "source": [
    "len(df_10k.loc[:,'user'].unique())"
   ]
  },
  {
   "cell_type": "code",
   "execution_count": null,
   "metadata": {},
   "outputs": [],
   "source": [
    "df_10k.to_csv('tb4_10k.csv',index = False)"
   ]
  },
  {
   "cell_type": "code",
   "execution_count": null,
   "metadata": {},
   "outputs": [],
   "source": [
    "# df_10k=pd.read_csv('dataset/table3_10k.csv')"
   ]
  },
  {
   "cell_type": "code",
   "execution_count": null,
   "metadata": {},
   "outputs": [],
   "source": [
    "df_10k.shape"
   ]
  },
  {
   "cell_type": "code",
   "execution_count": null,
   "metadata": {},
   "outputs": [],
   "source": [
    "df_10k.head(5)"
   ]
  },
  {
   "cell_type": "code",
   "execution_count": 52,
   "metadata": {},
   "outputs": [
    {
     "name": "stderr",
     "output_type": "stream",
     "text": [
      "Exception ignored in: <bound method DMatrix.__del__ of <xgboost.core.DMatrix object at 0x000001F8D31F54E0>>\n",
      "Traceback (most recent call last):\n",
      "  File \"C:\\Users\\Student\\Anaconda3\\lib\\site-packages\\xgboost\\core.py\", line 482, in __del__\n",
      "    if self.handle is not None:\n",
      "AttributeError: 'DMatrix' object has no attribute 'handle'\n"
     ]
    },
    {
     "data": {
      "text/plain": [
       "user                    False\n",
       "adgroup_id              False\n",
       "pid                     False\n",
       "cate_id                 False\n",
       "campaign_id             False\n",
       "customer                False\n",
       "price                   False\n",
       "cms_segid               False\n",
       "cms_group_id            False\n",
       "final_gender_code       False\n",
       "age_level               False\n",
       "pvalue_level            False\n",
       "shopping_level          False\n",
       "occupation              False\n",
       "new_user_class_level    False\n",
       "user_cate               False\n",
       "pv_1                    False\n",
       "cart_1                  False\n",
       "fav_1                   False\n",
       "buy_1                   False\n",
       "pv_2                    False\n",
       "cart_2                  False\n",
       "fav_2                   False\n",
       "buy_2                   False\n",
       "pv_3                    False\n",
       "cart_3                  False\n",
       "fav_3                   False\n",
       "buy_3                   False\n",
       "brand_New               False\n",
       "user_ad_pid             False\n",
       "cnt_clk                 False\n",
       "cnt_nonclk              False\n",
       "cnt_percentage_total    False\n",
       "click_or_not            False\n",
       "dtype: bool"
      ]
     },
     "execution_count": 52,
     "metadata": {},
     "output_type": "execute_result"
    }
   ],
   "source": [
    "df_10k.isnull().any()"
   ]
  },
  {
   "cell_type": "code",
   "execution_count": 53,
   "metadata": {},
   "outputs": [
    {
     "name": "stdout",
     "output_type": "stream",
     "text": [
      "<class 'pandas.core.frame.DataFrame'>\n",
      "Int64Index: 20507 entries, 1216 to 23241613\n",
      "Data columns (total 34 columns):\n",
      "user                    20507 non-null int64\n",
      "adgroup_id              20507 non-null int64\n",
      "pid                     20507 non-null object\n",
      "cate_id                 20507 non-null int64\n",
      "campaign_id             20507 non-null int64\n",
      "customer                20507 non-null int64\n",
      "price                   20507 non-null float64\n",
      "cms_segid               20507 non-null int64\n",
      "cms_group_id            20507 non-null int64\n",
      "final_gender_code       20507 non-null int64\n",
      "age_level               20507 non-null int64\n",
      "pvalue_level            20507 non-null int64\n",
      "shopping_level          20507 non-null int64\n",
      "occupation              20507 non-null int64\n",
      "new_user_class_level    20507 non-null int64\n",
      "user_cate               20507 non-null object\n",
      "pv_1                    20507 non-null int64\n",
      "cart_1                  20507 non-null int64\n",
      "fav_1                   20507 non-null int64\n",
      "buy_1                   20507 non-null int64\n",
      "pv_2                    20507 non-null int64\n",
      "cart_2                  20507 non-null int64\n",
      "fav_2                   20507 non-null int64\n",
      "buy_2                   20507 non-null int64\n",
      "pv_3                    20507 non-null int64\n",
      "cart_3                  20507 non-null int64\n",
      "fav_3                   20507 non-null int64\n",
      "buy_3                   20507 non-null int64\n",
      "brand_New               20507 non-null int64\n",
      "user_ad_pid             20507 non-null object\n",
      "cnt_clk                 20507 non-null int64\n",
      "cnt_nonclk              20507 non-null int64\n",
      "cnt_percentage_total    20507 non-null float64\n",
      "click_or_not            20507 non-null int64\n",
      "dtypes: float64(2), int64(29), object(3)\n",
      "memory usage: 5.5+ MB\n"
     ]
    }
   ],
   "source": [
    "df_10k.info()"
   ]
  },
  {
   "cell_type": "code",
   "execution_count": null,
   "metadata": {},
   "outputs": [],
   "source": [
    "df_10k.columns"
   ]
  },
  {
   "cell_type": "markdown",
   "metadata": {},
   "source": [
    "## 整理表格"
   ]
  },
  {
   "cell_type": "code",
   "execution_count": 54,
   "metadata": {},
   "outputs": [],
   "source": [
    "df_10k = df_10k.drop('user_cate', axis = 1)\n",
    "df_10k = df_10k.drop('user_ad_pid', axis = 1)\n",
    "df_10k = df_10k.drop('cnt_percentage_total', axis = 1)\n",
    "df_10k = df_10k.drop('cnt_clk', axis = 1)\n",
    "df_10k = df_10k.drop('cnt_nonclk', axis = 1)\n",
    "df_10k = df_10k.drop('pid', axis = 1)"
   ]
  },
  {
   "cell_type": "code",
   "execution_count": null,
   "metadata": {
    "scrolled": true
   },
   "outputs": [],
   "source": [
    "to_Obj =['user', 'adgroup_id', 'pid', 'cate_id', 'campaign_id', 'customer',\n",
    "       'cms_segid', 'cms_group_id', 'final_gender_code', 'age_level',\n",
    "       'pvalue_level', 'shopping_level', 'occupation', 'new_user_class_level',\n",
    "       'brand_New', 'click_or_not']\n",
    "for col in to_Obj:\n",
    "    df_10k[col]=df_10k[col].astype(str)\n"
   ]
  },
  {
   "cell_type": "code",
   "execution_count": 55,
   "metadata": {},
   "outputs": [],
   "source": [
    "to_int8 =['pv_1', 'cart_1',\n",
    "       'fav_1', 'buy_1', 'pv_2', 'cart_2', 'fav_2', 'buy_2', 'pv_3', 'cart_3',\n",
    "       'fav_3', 'buy_3']\n",
    "for col in to_int8:\n",
    "    df_10k[col]=df_10k[col].astype(np.int8)\n"
   ]
  },
  {
   "cell_type": "code",
   "execution_count": 56,
   "metadata": {},
   "outputs": [
    {
     "name": "stdout",
     "output_type": "stream",
     "text": [
      "<class 'pandas.core.frame.DataFrame'>\n",
      "Int64Index: 20507 entries, 1216 to 23241613\n",
      "Data columns (total 28 columns):\n",
      "user                    20507 non-null int64\n",
      "adgroup_id              20507 non-null int64\n",
      "cate_id                 20507 non-null int64\n",
      "campaign_id             20507 non-null int64\n",
      "customer                20507 non-null int64\n",
      "price                   20507 non-null float64\n",
      "cms_segid               20507 non-null int64\n",
      "cms_group_id            20507 non-null int64\n",
      "final_gender_code       20507 non-null int64\n",
      "age_level               20507 non-null int64\n",
      "pvalue_level            20507 non-null int64\n",
      "shopping_level          20507 non-null int64\n",
      "occupation              20507 non-null int64\n",
      "new_user_class_level    20507 non-null int64\n",
      "pv_1                    20507 non-null int8\n",
      "cart_1                  20507 non-null int8\n",
      "fav_1                   20507 non-null int8\n",
      "buy_1                   20507 non-null int8\n",
      "pv_2                    20507 non-null int8\n",
      "cart_2                  20507 non-null int8\n",
      "fav_2                   20507 non-null int8\n",
      "buy_2                   20507 non-null int8\n",
      "pv_3                    20507 non-null int8\n",
      "cart_3                  20507 non-null int8\n",
      "fav_3                   20507 non-null int8\n",
      "buy_3                   20507 non-null int8\n",
      "brand_New               20507 non-null int64\n",
      "click_or_not            20507 non-null int64\n",
      "dtypes: float64(1), int64(15), int8(12)\n",
      "memory usage: 2.9 MB\n"
     ]
    }
   ],
   "source": [
    "df_10k.info()"
   ]
  },
  {
   "cell_type": "markdown",
   "metadata": {},
   "source": [
    "### split to train/test/val"
   ]
  },
  {
   "cell_type": "code",
   "execution_count": 6,
   "metadata": {},
   "outputs": [],
   "source": [
    "from sklearn.model_selection import train_test_split"
   ]
  },
  {
   "cell_type": "code",
   "execution_count": null,
   "metadata": {},
   "outputs": [],
   "source": [
    "df_10k.head(5)"
   ]
  },
  {
   "cell_type": "code",
   "execution_count": 57,
   "metadata": {},
   "outputs": [],
   "source": [
    "#split 'target' in df_train & df_test\n",
    "x = df_10k.drop('click_or_not', axis = 1).values\n",
    "y = df_10k['click_or_not'].values\n",
    "\n",
    "train_x, test_x, train_y, test_y = train_test_split(x, y, test_size=0.3)\n",
    "divtest_x, val_x, divtest_y, val_y = train_test_split(test_x, test_y, test_size=0.5)"
   ]
  },
  {
   "cell_type": "markdown",
   "metadata": {},
   "source": [
    "# XGBoost"
   ]
  },
  {
   "cell_type": "code",
   "execution_count": 58,
   "metadata": {},
   "outputs": [
    {
     "data": {
      "text/plain": [
       "'0.80'"
      ]
     },
     "execution_count": 58,
     "metadata": {},
     "output_type": "execute_result"
    }
   ],
   "source": [
    "import xgboost as xgb\n",
    "from xgboost.sklearn import XGBClassifier\n",
    "xgb.__version__"
   ]
  },
  {
   "cell_type": "code",
   "execution_count": 59,
   "metadata": {},
   "outputs": [],
   "source": [
    "from numpy import loadtxt\n",
    "from xgboost import XGBClassifier\n",
    "from sklearn.model_selection import train_test_split\n",
    "from sklearn.metrics import accuracy_score\n",
    "import decimal"
   ]
  },
  {
   "cell_type": "code",
   "execution_count": null,
   "metadata": {},
   "outputs": [],
   "source": [
    "predictors = [x for x in train.columns]"
   ]
  },
  {
   "cell_type": "code",
   "execution_count": 19,
   "metadata": {},
   "outputs": [],
   "source": [
    "X_train, X_test, y_train, y_test = cross_validation.train_test_split(x,y, test_size=0.3, random_state=1)"
   ]
  },
  {
   "cell_type": "code",
   "execution_count": 60,
   "metadata": {},
   "outputs": [],
   "source": [
    "# 將資料存成xgboost要求的型態\n",
    "data_train = xgb.DMatrix( train_x, label=train_y)\n",
    "data_test  = xgb.DMatrix( test_x, label=test_y)\n",
    "# xgtrain = xgb.DMatrix(train_x[predictors].values, label=train_y.values)"
   ]
  },
  {
   "cell_type": "code",
   "execution_count": 61,
   "metadata": {},
   "outputs": [
    {
     "data": {
      "text/plain": [
       "<xgboost.core.DMatrix at 0x1f8d0eabc18>"
      ]
     },
     "execution_count": 61,
     "metadata": {},
     "output_type": "execute_result"
    }
   ],
   "source": [
    "data_train"
   ]
  },
  {
   "cell_type": "code",
   "execution_count": 81,
   "metadata": {},
   "outputs": [],
   "source": [
    "xgb_cl = XGBClassifier(scale_pos_weight=18,eval_metric='auc')"
   ]
  },
  {
   "cell_type": "code",
   "execution_count": 82,
   "metadata": {},
   "outputs": [
    {
     "name": "stdout",
     "output_type": "stream",
     "text": [
      "[10:37:40] Tree method is selected to be 'hist', which uses a single updater grow_fast_histmaker.\n"
     ]
    }
   ],
   "source": [
    "# model = xgb_cl.fit(train_x, train_y, eval_metric='auc')\n",
    "\n",
    "#給予模型參數，告知演算法該如何訓練模型\n",
    "param = {}\n",
    "param['objective'] = 'reg:linear' # 做線性回歸\n",
    "param['tree_method'] = 'hist'\n",
    "param['silent']=1\n",
    "param['max_depth']=5\n",
    "eval_list  = [(data_train,'train'),(data_test,'test')]\n",
    "num_round = 50\n",
    "eval_history={}\n",
    "\n",
    "# 訓練模型\n",
    "model = xgb.train( param, data_train, num_round,eval_list,\n",
    "                  evals_result=eval_history, verbose_eval=False)"
   ]
  },
  {
   "cell_type": "code",
   "execution_count": 83,
   "metadata": {},
   "outputs": [],
   "source": [
    "# testPredY = model.predict(data_train)\n",
    "trainY_pred = model.predict(data_train)"
   ]
  },
  {
   "cell_type": "code",
   "execution_count": 75,
   "metadata": {},
   "outputs": [
    {
     "data": {
      "text/plain": [
       "array([0.0869121 , 0.02638964, 0.07211601, ..., 0.04598191, 0.0298849 ,\n",
       "       0.06231156], dtype=float32)"
      ]
     },
     "execution_count": 75,
     "metadata": {},
     "output_type": "execute_result"
    }
   ],
   "source": [
    "trainY_pred"
   ]
  },
  {
   "cell_type": "code",
   "execution_count": 84,
   "metadata": {},
   "outputs": [],
   "source": [
    "rmse_train=eval_history['train']['rmse']\n",
    "rmse_test=eval_history['test']['rmse']"
   ]
  },
  {
   "cell_type": "code",
   "execution_count": 85,
   "metadata": {},
   "outputs": [
    {
     "data": {
      "image/png": "[encoded data removed]",
      "text/plain": [
       "<Figure size 432x288 with 1 Axes>"
      ]
     },
     "metadata": {},
     "output_type": "display_data"
    }
   ],
   "source": [
    "plt.plot(rmse_train,ms=10,marker='.',label='train_eval')\n",
    "plt.plot(rmse_test,ms=10,marker='v',label='test_eval')\n",
    "plt.legend()\n",
    "plt.show()"
   ]
  },
  {
   "cell_type": "code",
   "execution_count": 86,
   "metadata": {},
   "outputs": [
    {
     "name": "stdout",
     "output_type": "stream",
     "text": [
      "AUC Score (Train): 0.927405\n"
     ]
    }
   ],
   "source": [
    "print(\"AUC Score (Train): %f\" % metrics.roc_auc_score(train_y, trainY_pred))"
   ]
  },
  {
   "cell_type": "code",
   "execution_count": 89,
   "metadata": {},
   "outputs": [],
   "source": [
    "from sklearn.metrics import confusion_matrix\n",
    "from sklearn.metrics import roc_auc_score, roc_curve, auc, classification_report\n"
   ]
  },
  {
   "cell_type": "code",
   "execution_count": 90,
   "metadata": {},
   "outputs": [
    {
     "ename": "ValueError",
     "evalue": "Classification metrics can't handle a mix of binary and continuous targets",
     "output_type": "error",
     "traceback": [
      "\u001b[1;31m---------------------------------------------------------------------------\u001b[0m",
      "\u001b[1;31mValueError\u001b[0m                                Traceback (most recent call last)",
      "\u001b[1;32m<ipython-input-90-47be980a89df>\u001b[0m in \u001b[0;36m<module>\u001b[1;34m()\u001b[0m\n\u001b[1;32m----> 1\u001b[1;33m \u001b[0mconfusion_matrix\u001b[0m\u001b[1;33m(\u001b[0m\u001b[0mtrain_y\u001b[0m\u001b[1;33m,\u001b[0m \u001b[0mtrainY_pred\u001b[0m\u001b[1;33m)\u001b[0m\u001b[1;33m\u001b[0m\u001b[0m\n\u001b[0m",
      "\u001b[1;32m~\\Anaconda3\\lib\\site-packages\\sklearn\\metrics\\classification.py\u001b[0m in \u001b[0;36mconfusion_matrix\u001b[1;34m(y_true, y_pred, labels, sample_weight)\u001b[0m\n\u001b[0;32m    248\u001b[0m \u001b[1;33m\u001b[0m\u001b[0m\n\u001b[0;32m    249\u001b[0m     \"\"\"\n\u001b[1;32m--> 250\u001b[1;33m     \u001b[0my_type\u001b[0m\u001b[1;33m,\u001b[0m \u001b[0my_true\u001b[0m\u001b[1;33m,\u001b[0m \u001b[0my_pred\u001b[0m \u001b[1;33m=\u001b[0m \u001b[0m_check_targets\u001b[0m\u001b[1;33m(\u001b[0m\u001b[0my_true\u001b[0m\u001b[1;33m,\u001b[0m \u001b[0my_pred\u001b[0m\u001b[1;33m)\u001b[0m\u001b[1;33m\u001b[0m\u001b[0m\n\u001b[0m\u001b[0;32m    251\u001b[0m     \u001b[1;32mif\u001b[0m \u001b[0my_type\u001b[0m \u001b[1;32mnot\u001b[0m \u001b[1;32min\u001b[0m \u001b[1;33m(\u001b[0m\u001b[1;34m\"binary\"\u001b[0m\u001b[1;33m,\u001b[0m \u001b[1;34m\"multiclass\"\u001b[0m\u001b[1;33m)\u001b[0m\u001b[1;33m:\u001b[0m\u001b[1;33m\u001b[0m\u001b[0m\n\u001b[0;32m    252\u001b[0m         \u001b[1;32mraise\u001b[0m \u001b[0mValueError\u001b[0m\u001b[1;33m(\u001b[0m\u001b[1;34m\"%s is not supported\"\u001b[0m \u001b[1;33m%\u001b[0m \u001b[0my_type\u001b[0m\u001b[1;33m)\u001b[0m\u001b[1;33m\u001b[0m\u001b[0m\n",
      "\u001b[1;32m~\\Anaconda3\\lib\\site-packages\\sklearn\\metrics\\classification.py\u001b[0m in \u001b[0;36m_check_targets\u001b[1;34m(y_true, y_pred)\u001b[0m\n\u001b[0;32m     79\u001b[0m     \u001b[1;32mif\u001b[0m \u001b[0mlen\u001b[0m\u001b[1;33m(\u001b[0m\u001b[0my_type\u001b[0m\u001b[1;33m)\u001b[0m \u001b[1;33m>\u001b[0m \u001b[1;36m1\u001b[0m\u001b[1;33m:\u001b[0m\u001b[1;33m\u001b[0m\u001b[0m\n\u001b[0;32m     80\u001b[0m         raise ValueError(\"Classification metrics can't handle a mix of {0} \"\n\u001b[1;32m---> 81\u001b[1;33m                          \"and {1} targets\".format(type_true, type_pred))\n\u001b[0m\u001b[0;32m     82\u001b[0m \u001b[1;33m\u001b[0m\u001b[0m\n\u001b[0;32m     83\u001b[0m     \u001b[1;31m# We can't have more than one value on y_type => The set is no more needed\u001b[0m\u001b[1;33m\u001b[0m\u001b[1;33m\u001b[0m\u001b[0m\n",
      "\u001b[1;31mValueError\u001b[0m: Classification metrics can't handle a mix of binary and continuous targets"
     ]
    }
   ],
   "source": [
    "confusion_matrix(train_y, trainY_pred)"
   ]
  },
  {
   "cell_type": "code",
   "execution_count": null,
   "metadata": {},
   "outputs": [],
   "source": []
  },
  {
   "cell_type": "code",
   "execution_count": null,
   "metadata": {},
   "outputs": [],
   "source": []
  },
  {
   "cell_type": "code",
   "execution_count": null,
   "metadata": {},
   "outputs": [],
   "source": []
  },
  {
   "cell_type": "code",
   "execution_count": null,
   "metadata": {},
   "outputs": [],
   "source": [
    "# %%time\n",
    "\n",
    "# #給予模型參數，告知演算法該如何訓練模型\n",
    "# param = {}\n",
    "# param['objective'] = 'binary:logistic' # 做線性回歸\n",
    "# param['tree_method'] = 'hist'\n",
    "# param['silent']=1\n",
    "# param['max_depth']=10\n",
    "# eval_list  = [(data_train,'train'),(data_test,'test')]\n",
    "# num_round = 50\n",
    "# eval_history={}\n",
    "\n",
    "# # 訓練模型\n",
    "# model = xgb.train( param, data_train, num_round,eval_list,\n",
    "#                   evals_result=eval_history,verbose_eval=False)"
   ]
  },
  {
   "cell_type": "code",
   "execution_count": null,
   "metadata": {},
   "outputs": [],
   "source": [
    "# df_10k['click_or_not']=df_10k['click_or_not'].astype(np.int8)"
   ]
  },
  {
   "cell_type": "code",
   "execution_count": null,
   "metadata": {},
   "outputs": [],
   "source": [
    "train = df_10k\n",
    "target = 'click_or_not'\n",
    "IDcol = ''"
   ]
  },
  {
   "cell_type": "code",
   "execution_count": null,
   "metadata": {},
   "outputs": [],
   "source": [
    "train.info()"
   ]
  },
  {
   "cell_type": "code",
   "execution_count": null,
   "metadata": {},
   "outputs": [],
   "source": [
    "def modelfit(alg, dtrain, predictors,useTrainCV=True, cv_folds=5, early_stopping_rounds=50):\n",
    "    \n",
    "    if useTrainCV:\n",
    "        xgb_param = alg.get_xgb_params()\n",
    "        xgtrain = xgb.DMatrix(dtrain[predictors].values, label=dtrain[target].values)\n",
    "        cvresult = xgb.cv(xgb_param, xgtrain, num_boost_round=alg.get_params()['n_estimators'], nfold=cv_folds,\n",
    "            metrics='auc', early_stopping_rounds=early_stopping_rounds)\n",
    "        alg.set_params(n_estimators=cvresult.shape[0])\n",
    "    \n",
    "    #Fit the algorithm on the data\n",
    "    alg.fit(dtrain[predictors], dtrain[target],eval_metric='auc')\n",
    "        \n",
    "    #Predict training set:\n",
    "    dtrain_predictions = alg.predict(dtrain[predictors])\n",
    "    dtrain_predprob = alg.predict_proba(dtrain[predictors])[:,1]\n",
    "        \n",
    "    #Print model report:\n",
    "    print(\"\\nModel Report\")\n",
    "    print(\"Accuracy : %.4g\" % metrics.accuracy_score(dtrain[target].values, dtrain_predictions))\n",
    "    print(\"AUC Score (Train): %f\" % metrics.roc_auc_score(dtrain[target], dtrain_predprob))\n",
    "                    \n",
    "        \n",
    "        \n",
    "    feat_imp = pd.Series(alg.booster().get_fscore()).sort_values(ascending=False)\n",
    "    feat_imp.plot(kind='bar', title='Feature Importances')\n",
    "    plt.ylabel('Feature Importance Score')"
   ]
  },
  {
   "cell_type": "code",
   "execution_count": null,
   "metadata": {},
   "outputs": [],
   "source": [
    "# Choose all predictors except target & IDcols\n",
    "predictors = [x for x in train.columns if x not in [target, IDcol]]\n",
    "xgb1 = XGBClassifier(\n",
    " learning_rate =0.1,\n",
    " n_estimators=1000,\n",
    " max_depth=5,\n",
    " min_child_weight=1,\n",
    " gamma=0,\n",
    " subsample=0.8,\n",
    " colsample_bytree=0.8,\n",
    " objective= 'binary:logistic',\n",
    " nthread=4,\n",
    " scale_pos_weight=1,\n",
    " seed=27)\n",
    "modelfit(xgb1, train, predictors)\n"
   ]
  },
  {
   "cell_type": "code",
   "execution_count": null,
   "metadata": {},
   "outputs": [],
   "source": []
  }
 ],
 "metadata": {
  "kernelspec": {
   "display_name": "Python 3",
   "language": "python",
   "name": "python3"
  },
  "language_info": {
   "codemirror_mode": {
    "name": "ipython",
    "version": 3
   },
   "file_extension": ".py",
   "mimetype": "text/x-python",
   "name": "python",
   "nbconvert_exporter": "python",
   "pygments_lexer": "ipython3",
   "version": "3.6.5"
  }
 },
 "nbformat": 4,
 "nbformat_minor": 2
}
