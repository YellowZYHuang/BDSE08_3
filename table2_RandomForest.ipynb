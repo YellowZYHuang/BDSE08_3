{
 "cells": [
  {
   "cell_type": "code",
   "execution_count": 1,
   "metadata": {},
   "outputs": [],
   "source": [
    "import pandas as pd\n",
    "import matplotlib.pyplot as plt\n",
    "%matplotlib inline\n",
    "import seaborn as sns\n",
    "sns.set()\n",
    "import numpy as np\n",
    "import re"
   ]
  },
  {
   "cell_type": "code",
   "execution_count": 2,
   "metadata": {},
   "outputs": [],
   "source": [
    "df=pd.read_csv('dataset/table_2_f99.csv') # 載入資料"
   ]
  },
  {
   "cell_type": "code",
   "execution_count": 3,
   "metadata": {},
   "outputs": [
    {
     "name": "stdout",
     "output_type": "stream",
     "text": [
      "<class 'pandas.core.frame.DataFrame'>\n",
      "RangeIndex: 26557961 entries, 0 to 26557960\n",
      "Data columns (total 31 columns):\n",
      "user                    int64\n",
      "time_stamp              int64\n",
      "adgroup_id              int64\n",
      "pid                     object\n",
      "clk                     int64\n",
      "cate_id                 int64\n",
      "campaign_id             int64\n",
      "customer                int64\n",
      "price                   float64\n",
      "cms_segid               int64\n",
      "cms_group_id            int64\n",
      "final_gender_code       int64\n",
      "age_level               int64\n",
      "pvalue_level            int64\n",
      "shopping_level          int64\n",
      "occupation              int64\n",
      "new_user_class_level    int64\n",
      "user_cate               object\n",
      "pv_1                    int64\n",
      "cart_1                  int64\n",
      "fav_1                   int64\n",
      "buy_1                   int64\n",
      "pv_2                    int64\n",
      "cart_2                  int64\n",
      "fav_2                   int64\n",
      "buy_2                   int64\n",
      "pv_3                    int64\n",
      "cart_3                  int64\n",
      "fav_3                   int64\n",
      "buy_3                   int64\n",
      "brand_New               int64\n",
      "dtypes: float64(1), int64(28), object(2)\n",
      "memory usage: 6.1+ GB\n"
     ]
    }
   ],
   "source": [
    "df.info()"
   ]
  },
  {
   "cell_type": "code",
   "execution_count": 4,
   "metadata": {},
   "outputs": [
    {
     "data": {
      "text/plain": [
       "Index(['user', 'time_stamp', 'adgroup_id', 'pid', 'clk', 'cate_id',\n",
       "       'campaign_id', 'customer', 'price', 'cms_segid', 'cms_group_id',\n",
       "       'final_gender_code', 'age_level', 'pvalue_level', 'shopping_level',\n",
       "       'occupation', 'new_user_class_level', 'user_cate', 'pv_1', 'cart_1',\n",
       "       'fav_1', 'buy_1', 'pv_2', 'cart_2', 'fav_2', 'buy_2', 'pv_3', 'cart_3',\n",
       "       'fav_3', 'buy_3', 'brand_New'],\n",
       "      dtype='object')"
      ]
     },
     "execution_count": 4,
     "metadata": {},
     "output_type": "execute_result"
    }
   ],
   "source": [
    "df.columns"
   ]
  },
  {
   "cell_type": "code",
   "execution_count": 5,
   "metadata": {
    "scrolled": true
   },
   "outputs": [],
   "source": [
    "to_Obj =['user', 'adgroup_id', 'pid', 'clk', 'cate_id',\n",
    "       'campaign_id', 'customer', 'cms_segid', 'cms_group_id',\n",
    "       'final_gender_code', 'age_level', 'pvalue_level', 'shopping_level',\n",
    "       'occupation', 'new_user_class_level', 'user_cate','brand_New']\n",
    "for col in to_Obj:\n",
    "    df[col]=df[col].astype(str)\n"
   ]
  },
  {
   "cell_type": "code",
   "execution_count": 6,
   "metadata": {},
   "outputs": [],
   "source": [
    "to_int8 =['pv_1', 'cart_1',\n",
    "       'fav_1', 'buy_1', 'pv_2', 'cart_2', 'fav_2', 'buy_2', 'pv_3', 'cart_3',\n",
    "       'fav_3', 'buy_3']\n",
    "for col in to_int8:\n",
    "    df[col]=df[col].astype(np.int8)\n"
   ]
  },
  {
   "cell_type": "code",
   "execution_count": 7,
   "metadata": {},
   "outputs": [
    {
     "name": "stdout",
     "output_type": "stream",
     "text": [
      "<class 'pandas.core.frame.DataFrame'>\n",
      "RangeIndex: 26557961 entries, 0 to 26557960\n",
      "Data columns (total 31 columns):\n",
      "user                    object\n",
      "time_stamp              int64\n",
      "adgroup_id              object\n",
      "pid                     object\n",
      "clk                     object\n",
      "cate_id                 object\n",
      "campaign_id             object\n",
      "customer                object\n",
      "price                   float64\n",
      "cms_segid               object\n",
      "cms_group_id            object\n",
      "final_gender_code       object\n",
      "age_level               object\n",
      "pvalue_level            object\n",
      "shopping_level          object\n",
      "occupation              object\n",
      "new_user_class_level    object\n",
      "user_cate               object\n",
      "pv_1                    int8\n",
      "cart_1                  int8\n",
      "fav_1                   int8\n",
      "buy_1                   int8\n",
      "pv_2                    int8\n",
      "cart_2                  int8\n",
      "fav_2                   int8\n",
      "buy_2                   int8\n",
      "pv_3                    int8\n",
      "cart_3                  int8\n",
      "fav_3                   int8\n",
      "buy_3                   int8\n",
      "brand_New               object\n",
      "dtypes: float64(1), int64(1), int8(12), object(17)\n",
      "memory usage: 4.1+ GB\n"
     ]
    }
   ],
   "source": [
    "df.info()"
   ]
  },
  {
   "cell_type": "code",
   "execution_count": 43,
   "metadata": {},
   "outputs": [],
   "source": [
    " df['user']=df['user'].astype(int)"
   ]
  },
  {
   "cell_type": "code",
   "execution_count": 44,
   "metadata": {},
   "outputs": [
    {
     "data": {
      "text/plain": [
       "(3192, 31)"
      ]
     },
     "execution_count": 44,
     "metadata": {},
     "output_type": "execute_result"
    }
   ],
   "source": [
    "df_10k = df[df.loc[:,'user']<109]\n",
    "df_10k.shape"
   ]
  },
  {
   "cell_type": "code",
   "execution_count": 45,
   "metadata": {},
   "outputs": [],
   "source": [
    " df['user']=df['user'].astype(str)"
   ]
  },
  {
   "cell_type": "code",
   "execution_count": 46,
   "metadata": {},
   "outputs": [],
   "source": [
    "# df_10k = df.head(2000000)   ##切一小部分data出來試"
   ]
  },
  {
   "cell_type": "code",
   "execution_count": 47,
   "metadata": {},
   "outputs": [],
   "source": [
    "def trainTestValSplit(df):\n",
    "    # 將資料切分為訓練(70%),測試(15%)和驗證(15%)三份。\n",
    "    train=df.sample(frac=0.7)\n",
    "    test=df.drop( train.index )\n",
    "    val=test.sample(frac=0.5)\n",
    "    test=test.drop( val.index)\n",
    "    return train,test,val\n",
    "\n",
    "def dfXYSplit(df,targetName):\n",
    "    # 將特徵和目標變數切成兩份資料。\n",
    "    \n",
    "    dfX=df.drop(columns=targetName)\n",
    "    dfY=df[targetName]\n",
    "    \n",
    "    return dfX,dfY"
   ]
  },
  {
   "cell_type": "code",
   "execution_count": 48,
   "metadata": {},
   "outputs": [],
   "source": [
    "# train,test,val=trainTestValSplit(df)    #將整份data分成 train set, test set, validation set 三份\n",
    "\n",
    "# trainX,trainY=dfXYSplit(train,\"clk\")    #將training set 分成trainX & trainY\n",
    "# testX,testY=dfXYSplit(test,\"clk\")       #將test set 分成trainX & trainY\n",
    "# valX,valY=dfXYSplit(val,\"clk\")          #將validation set 分成trainX & trainY"
   ]
  },
  {
   "cell_type": "code",
   "execution_count": 49,
   "metadata": {},
   "outputs": [],
   "source": [
    "train,test,val=trainTestValSplit(df_10k)    #將整份data分成 train set, test set, validation set 三份\n",
    "\n",
    "trainX,trainY=dfXYSplit(train,\"clk\")    #將training set 分成trainX & trainY\n",
    "testX,testY=dfXYSplit(test,\"clk\")       #將test set 分成trainX & trainY\n",
    "valX,valY=dfXYSplit(val,\"clk\")          #將validation set 分成trainX & trainY"
   ]
  },
  {
   "cell_type": "code",
   "execution_count": null,
   "metadata": {},
   "outputs": [],
   "source": []
  },
  {
   "cell_type": "markdown",
   "metadata": {},
   "source": [
    "### Decision Tree"
   ]
  },
  {
   "cell_type": "code",
   "execution_count": 50,
   "metadata": {},
   "outputs": [],
   "source": [
    "from sklearn import tree\n",
    "from sklearn.metrics import classification_report"
   ]
  },
  {
   "cell_type": "code",
   "execution_count": 51,
   "metadata": {},
   "outputs": [
    {
     "name": "stdout",
     "output_type": "stream",
     "text": [
      "CPU times: user 24 ms, sys: 0 ns, total: 24 ms\n",
      "Wall time: 22 ms\n"
     ]
    }
   ],
   "source": [
    "%%time\n",
    "clf=tree.DecisionTreeClassifier(class_weight=\"balanced\",criterion='gini', max_depth=4,\n",
    "            max_features=None, max_leaf_nodes=None,\n",
    "            min_impurity_decrease=0.0, min_impurity_split=None,\n",
    "            min_samples_leaf=1, min_samples_split=2,\n",
    "            min_weight_fraction_leaf=0.0, presort=False, random_state=None,\n",
    "            splitter='best')\n",
    "model=clf.fit(trainX,trainY)"
   ]
  },
  {
   "cell_type": "code",
   "execution_count": 52,
   "metadata": {},
   "outputs": [
    {
     "name": "stdout",
     "output_type": "stream",
     "text": [
      "             precision    recall  f1-score   support\n",
      "\n",
      "          0       0.98      0.62      0.76       459\n",
      "          1       0.07      0.70      0.14        20\n",
      "\n",
      "avg / total       0.94      0.63      0.74       479\n",
      "\n",
      "             precision    recall  f1-score   support\n",
      "\n",
      "          0       0.97      0.66      0.79       447\n",
      "          1       0.14      0.75      0.23        32\n",
      "\n",
      "avg / total       0.92      0.67      0.75       479\n",
      "\n",
      "CPU times: user 12 ms, sys: 4 ms, total: 16 ms\n",
      "Wall time: 14.3 ms\n"
     ]
    }
   ],
   "source": [
    "%%time\n",
    "testPredY=model.predict(testX)\n",
    "valPredY=model.predict(valX)\n",
    "\n",
    "print( classification_report(testY,testPredY) )\n",
    "print( classification_report(valY,valPredY) )"
   ]
  },
  {
   "cell_type": "code",
   "execution_count": 53,
   "metadata": {},
   "outputs": [
    {
     "data": {
      "text/plain": [
       "DecisionTreeClassifier(class_weight=None, criterion='gini', max_depth=None,\n",
       "            max_features=None, max_leaf_nodes=None,\n",
       "            min_impurity_decrease=0.0, min_impurity_split=None,\n",
       "            min_samples_leaf=1, min_samples_split=2,\n",
       "            min_weight_fraction_leaf=0.0, presort=False, random_state=None,\n",
       "            splitter='best')"
      ]
     },
     "execution_count": 53,
     "metadata": {},
     "output_type": "execute_result"
    }
   ],
   "source": [
    "tree.DecisionTreeClassifier()"
   ]
  },
  {
   "cell_type": "markdown",
   "metadata": {},
   "source": [
    "### Random Forest"
   ]
  },
  {
   "cell_type": "code",
   "execution_count": 54,
   "metadata": {},
   "outputs": [],
   "source": [
    "from sklearn.metrics import classification_report\n",
    "from sklearn import tree\n",
    "from sklearn.ensemble.forest import RandomForestClassifier"
   ]
  },
  {
   "cell_type": "code",
   "execution_count": 55,
   "metadata": {},
   "outputs": [],
   "source": [
    "trainXNew = np.concatenate([trainX,valX],axis=0)\n",
    "trainYNew = np.concatenate([trainY,valY],axis=0)"
   ]
  },
  {
   "cell_type": "code",
   "execution_count": 56,
   "metadata": {},
   "outputs": [],
   "source": [
    "assert valX.shape[0]+trainX.shape[0] == trainXNew.shape[0]\n",
    "assert valY.shape[0]+trainY.shape[0] == trainYNew.shape[0]"
   ]
  },
  {
   "cell_type": "markdown",
   "metadata": {},
   "source": [
    "max_depth=5"
   ]
  },
  {
   "cell_type": "code",
   "execution_count": 57,
   "metadata": {},
   "outputs": [],
   "source": [
    "clf = RandomForestClassifier(bootstrap=True, class_weight='balanced',\n",
    "            criterion='gini', max_depth=5, max_features='auto',\n",
    "            max_leaf_nodes=None, min_impurity_decrease=0.0,\n",
    "            min_impurity_split=None, min_samples_leaf=1,\n",
    "            min_samples_split=2, min_weight_fraction_leaf=0.0,\n",
    "            n_estimators=50, n_jobs=1, oob_score=True, random_state=None,\n",
    "            verbose=0, warm_start=False)\n",
    "model=clf.fit(trainX,trainY)"
   ]
  },
  {
   "cell_type": "code",
   "execution_count": 58,
   "metadata": {},
   "outputs": [
    {
     "data": {
      "text/plain": [
       "RandomForestClassifier(bootstrap=True, class_weight='balanced',\n",
       "            criterion='gini', max_depth=5, max_features='auto',\n",
       "            max_leaf_nodes=None, min_impurity_decrease=0.0,\n",
       "            min_impurity_split=None, min_samples_leaf=1,\n",
       "            min_samples_split=2, min_weight_fraction_leaf=0.0,\n",
       "            n_estimators=50, n_jobs=1, oob_score=True, random_state=None,\n",
       "            verbose=0, warm_start=False)"
      ]
     },
     "execution_count": 58,
     "metadata": {},
     "output_type": "execute_result"
    }
   ],
   "source": [
    "model"
   ]
  },
  {
   "cell_type": "code",
   "execution_count": 59,
   "metadata": {},
   "outputs": [
    {
     "data": {
      "text/plain": [
       "0.8003581020590869"
      ]
     },
     "execution_count": 59,
     "metadata": {},
     "output_type": "execute_result"
    }
   ],
   "source": [
    "model.oob_score_"
   ]
  },
  {
   "cell_type": "code",
   "execution_count": 60,
   "metadata": {
    "scrolled": false
   },
   "outputs": [
    {
     "name": "stdout",
     "output_type": "stream",
     "text": [
      "             precision    recall  f1-score   support\n",
      "\n",
      "          0       0.96      0.82      0.89       459\n",
      "          1       0.06      0.25      0.09        20\n",
      "\n",
      "avg / total       0.92      0.80      0.85       479\n",
      "\n",
      "             precision    recall  f1-score   support\n",
      "\n",
      "          0       0.95      0.83      0.88       447\n",
      "          1       0.12      0.34      0.18        32\n",
      "\n",
      "avg / total       0.89      0.80      0.84       479\n",
      "\n",
      "CPU times: user 32 ms, sys: 0 ns, total: 32 ms\n",
      "Wall time: 30.9 ms\n"
     ]
    }
   ],
   "source": [
    "%%time\n",
    "testPredY=model.predict(testX)\n",
    "valPredY=model.predict(valX)\n",
    "\n",
    "print( classification_report(testY,testPredY) )\n",
    "print( classification_report(valY,valPredY) )"
   ]
  },
  {
   "cell_type": "markdown",
   "metadata": {},
   "source": [
    "n_estimators"
   ]
  },
  {
   "cell_type": "code",
   "execution_count": 61,
   "metadata": {},
   "outputs": [],
   "source": [
    "clf = RandomForestClassifier(bootstrap=True, class_weight='balanced',\n",
    "            criterion='gini', max_depth=5, max_features='auto',\n",
    "            max_leaf_nodes=None, min_impurity_decrease=0.0,\n",
    "            min_impurity_split=None, min_samples_leaf=1,\n",
    "            min_samples_split=2, min_weight_fraction_leaf=0.0,\n",
    "            n_estimators=150, n_jobs=1, oob_score=True, random_state=None,\n",
    "            verbose=0, warm_start=False)\n",
    "model=clf.fit(trainX,trainY)"
   ]
  },
  {
   "cell_type": "code",
   "execution_count": 62,
   "metadata": {},
   "outputs": [
    {
     "data": {
      "text/plain": [
       "RandomForestClassifier(bootstrap=True, class_weight='balanced',\n",
       "            criterion='gini', max_depth=5, max_features='auto',\n",
       "            max_leaf_nodes=None, min_impurity_decrease=0.0,\n",
       "            min_impurity_split=None, min_samples_leaf=1,\n",
       "            min_samples_split=2, min_weight_fraction_leaf=0.0,\n",
       "            n_estimators=150, n_jobs=1, oob_score=True, random_state=None,\n",
       "            verbose=0, warm_start=False)"
      ]
     },
     "execution_count": 62,
     "metadata": {},
     "output_type": "execute_result"
    }
   ],
   "source": [
    "model"
   ]
  },
  {
   "cell_type": "code",
   "execution_count": 63,
   "metadata": {},
   "outputs": [
    {
     "data": {
      "text/plain": [
       "0.7788719785138765"
      ]
     },
     "execution_count": 63,
     "metadata": {},
     "output_type": "execute_result"
    }
   ],
   "source": [
    "model.oob_score_"
   ]
  },
  {
   "cell_type": "code",
   "execution_count": 64,
   "metadata": {
    "scrolled": false
   },
   "outputs": [
    {
     "name": "stdout",
     "output_type": "stream",
     "text": [
      "             precision    recall  f1-score   support\n",
      "\n",
      "          0       0.97      0.81      0.88       459\n",
      "          1       0.09      0.45      0.16        20\n",
      "\n",
      "avg / total       0.93      0.80      0.85       479\n",
      "\n",
      "             precision    recall  f1-score   support\n",
      "\n",
      "          0       0.96      0.82      0.88       447\n",
      "          1       0.17      0.53      0.26        32\n",
      "\n",
      "avg / total       0.91      0.80      0.84       479\n",
      "\n",
      "CPU times: user 60 ms, sys: 0 ns, total: 60 ms\n",
      "Wall time: 56.5 ms\n"
     ]
    }
   ],
   "source": [
    "%%time\n",
    "testPredY=model.predict(testX)\n",
    "valPredY=model.predict(valX)\n",
    "\n",
    "print( classification_report(testY,testPredY) )\n",
    "print( classification_report(valY,valPredY) )"
   ]
  },
  {
   "cell_type": "code",
   "execution_count": 74,
   "metadata": {},
   "outputs": [
    {
     "data": {
      "text/plain": [
       "Index(['user', 'time_stamp', 'adgroup_id', 'pid', 'cate_id', 'campaign_id',\n",
       "       'customer', 'price', 'cms_segid', 'cms_group_id', 'final_gender_code',\n",
       "       'age_level', 'pvalue_level', 'shopping_level', 'occupation',\n",
       "       'new_user_class_level', 'user_cate', 'pv_1', 'cart_1', 'fav_1', 'buy_1',\n",
       "       'pv_2', 'cart_2', 'fav_2', 'buy_2', 'pv_3', 'cart_3', 'fav_3', 'buy_3',\n",
       "       'brand_New'],\n",
       "      dtype='object')"
      ]
     },
     "execution_count": 74,
     "metadata": {},
     "output_type": "execute_result"
    }
   ],
   "source": [
    "testX.columns"
   ]
  },
  {
   "cell_type": "code",
   "execution_count": 65,
   "metadata": {},
   "outputs": [
    {
     "data": {
      "text/plain": [
       "array([0.0888976 , 0.06651828, 0.05622548, 0.00722002, 0.04391669,\n",
       "       0.04718181, 0.05243038, 0.0504163 , 0.02887262, 0.03027889,\n",
       "       0.00674606, 0.01922285, 0.02968942, 0.00911726, 0.01419357,\n",
       "       0.11236504, 0.07722387, 0.0298637 , 0.00458955, 0.00199579,\n",
       "       0.        , 0.05221298, 0.0130674 , 0.00639422, 0.        ,\n",
       "       0.09037976, 0.01709153, 0.00941888, 0.00331887, 0.03115117])"
      ]
     },
     "execution_count": 65,
     "metadata": {},
     "output_type": "execute_result"
    }
   ],
   "source": [
    "model.feature_importances_"
   ]
  },
  {
   "cell_type": "markdown",
   "metadata": {},
   "source": [
    "gridsearch"
   ]
  },
  {
   "cell_type": "code",
   "execution_count": 66,
   "metadata": {},
   "outputs": [],
   "source": [
    "from sklearn.model_selection import GridSearchCV"
   ]
  },
  {
   "cell_type": "code",
   "execution_count": 67,
   "metadata": {},
   "outputs": [],
   "source": [
    "clf = RandomForestClassifier(n_jobs=-1)"
   ]
  },
  {
   "cell_type": "code",
   "execution_count": 68,
   "metadata": {},
   "outputs": [],
   "source": [
    "param_grid = { \n",
    "    'n_estimators': [100, 300],\n",
    "    'max_features': ['auto', 'sqrt', 'log2'],\n",
    "    'max_depth' : [4,5,6,7,8],\n",
    "    'criterion' :['gini', 'entropy'],\n",
    "    \n",
    "}"
   ]
  },
  {
   "cell_type": "code",
   "execution_count": 69,
   "metadata": {},
   "outputs": [
    {
     "data": {
      "text/plain": [
       "GridSearchCV(cv=5, error_score='raise',\n",
       "       estimator=RandomForestClassifier(bootstrap=True, class_weight=None, criterion='gini',\n",
       "            max_depth=None, max_features='auto', max_leaf_nodes=None,\n",
       "            min_impurity_decrease=0.0, min_impurity_split=None,\n",
       "            min_samples_leaf=1, min_samples_split=2,\n",
       "            min_weight_fraction_leaf=0.0, n_estimators=10, n_jobs=-1,\n",
       "            oob_score=False, random_state=None, verbose=0,\n",
       "            warm_start=False),\n",
       "       fit_params=None, iid=True, n_jobs=1,\n",
       "       param_grid={'n_estimators': [100, 300], 'max_features': ['auto', 'sqrt', 'log2'], 'max_depth': [4, 5, 6, 7, 8], 'criterion': ['gini', 'entropy']},\n",
       "       pre_dispatch='2*n_jobs', refit=True, return_train_score='warn',\n",
       "       scoring=None, verbose=0)"
      ]
     },
     "execution_count": 69,
     "metadata": {},
     "output_type": "execute_result"
    }
   ],
   "source": [
    "CV_rfc = GridSearchCV(estimator=clf, param_grid=param_grid, cv= 5)\n",
    "CV_rfc.fit(trainX, trainY)"
   ]
  },
  {
   "cell_type": "code",
   "execution_count": 70,
   "metadata": {},
   "outputs": [
    {
     "name": "stdout",
     "output_type": "stream",
     "text": [
      "             precision    recall  f1-score   support\n",
      "\n",
      "          0       0.96      0.99      0.98       459\n",
      "          1       0.25      0.05      0.08        20\n",
      "\n",
      "avg / total       0.93      0.95      0.94       479\n",
      "\n",
      "             precision    recall  f1-score   support\n",
      "\n",
      "          0       0.93      1.00      0.96       447\n",
      "          1       0.00      0.00      0.00        32\n",
      "\n",
      "avg / total       0.87      0.93      0.90       479\n",
      "\n"
     ]
    }
   ],
   "source": [
    "model=clf.fit(trainX,trainY)\n",
    "\n",
    "testPredY=model.predict(testX)\n",
    "valPredY=model.predict(valX)\n",
    "\n",
    "print( classification_report(testY,testPredY) )\n",
    "print( classification_report(valY,valPredY) )"
   ]
  },
  {
   "cell_type": "code",
   "execution_count": 71,
   "metadata": {},
   "outputs": [
    {
     "data": {
      "text/plain": [
       "{'criterion': 'gini',\n",
       " 'max_depth': 4,\n",
       " 'max_features': 'auto',\n",
       " 'n_estimators': 100}"
      ]
     },
     "execution_count": 71,
     "metadata": {},
     "output_type": "execute_result"
    }
   ],
   "source": [
    "CV_rfc.best_params_"
   ]
  },
  {
   "cell_type": "code",
   "execution_count": 72,
   "metadata": {},
   "outputs": [],
   "source": [
    "rfc1=RandomForestClassifier(max_features='auto', n_estimators= 100, max_depth=4, criterion='gini')"
   ]
  },
  {
   "cell_type": "code",
   "execution_count": 73,
   "metadata": {},
   "outputs": [
    {
     "name": "stdout",
     "output_type": "stream",
     "text": [
      "             precision    recall  f1-score   support\n",
      "\n",
      "          0       0.96      0.98      0.97       459\n",
      "          1       0.00      0.00      0.00        20\n",
      "\n",
      "avg / total       0.92      0.94      0.93       479\n",
      "\n",
      "             precision    recall  f1-score   support\n",
      "\n",
      "          0       0.93      1.00      0.96       447\n",
      "          1       0.00      0.00      0.00        32\n",
      "\n",
      "avg / total       0.87      0.93      0.90       479\n",
      "\n"
     ]
    }
   ],
   "source": [
    "model=clf.fit(trainX,trainY)\n",
    "\n",
    "testPredY=model.predict(testX)\n",
    "valPredY=model.predict(valX)\n",
    "\n",
    "print( classification_report(testY,testPredY) )\n",
    "print( classification_report(valY,valPredY) )"
   ]
  },
  {
   "cell_type": "code",
   "execution_count": null,
   "metadata": {},
   "outputs": [],
   "source": []
  },
  {
   "cell_type": "code",
   "execution_count": null,
   "metadata": {},
   "outputs": [],
   "source": []
  },
  {
   "cell_type": "code",
   "execution_count": null,
   "metadata": {},
   "outputs": [],
   "source": []
  }
 ],
 "metadata": {
  "kernelspec": {
   "display_name": "Python 3",
   "language": "python",
   "name": "python3"
  },
  "language_info": {
   "codemirror_mode": {
    "name": "ipython",
    "version": 3
   },
   "file_extension": ".py",
   "mimetype": "text/x-python",
   "name": "python",
   "nbconvert_exporter": "python",
   "pygments_lexer": "ipython3",
   "version": "3.6.3"
  }
 },
 "nbformat": 4,
 "nbformat_minor": 2
}
