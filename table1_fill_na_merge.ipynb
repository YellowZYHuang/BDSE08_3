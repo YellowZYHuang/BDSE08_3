{
 "cells": [
  {
   "cell_type": "code",
   "execution_count": 1,
   "metadata": {},
   "outputs": [],
   "source": [
    "from pyspark.sql import SparkSession"
   ]
  },
  {
   "cell_type": "code",
   "execution_count": 2,
   "metadata": {},
   "outputs": [],
   "source": [
    "spark = SparkSession.builder.master(\"yarn\").config('spark.executor.instances','100').appName(\"chiang_ct\").getOrCreate()"
   ]
  },
  {
   "cell_type": "code",
   "execution_count": 8,
   "metadata": {},
   "outputs": [
    {
     "name": "stdout",
     "output_type": "stream",
     "text": [
      "CPU times: user 2.28 ms, sys: 447 µs, total: 2.73 ms\n",
      "Wall time: 3.95 s\n"
     ]
    }
   ],
   "source": [
    "%time df_cross= spark.read.csv(\"/user/spark/share/output/table1/cross_all\",header=True)"
   ]
  },
  {
   "cell_type": "code",
   "execution_count": 5,
   "metadata": {},
   "outputs": [],
   "source": [
    "df_merge = spark.read.csv(\"/user/spark/share/output/merge_nc\",header=True)"
   ]
  },
  {
   "cell_type": "markdown",
   "metadata": {},
   "source": [
    "## fill na"
   ]
  },
  {
   "cell_type": "code",
   "execution_count": 10,
   "metadata": {},
   "outputs": [
    {
     "data": {
      "text/plain": [
       "['user_cate', 'pv', 'cart', 'fav', 'buy']"
      ]
     },
     "execution_count": 10,
     "metadata": {},
     "output_type": "execute_result"
    }
   ],
   "source": [
    "df_cross.columns"
   ]
  },
  {
   "cell_type": "code",
   "execution_count": null,
   "metadata": {},
   "outputs": [],
   "source": [
    "from pyspark.sql.functions import isnull"
   ]
  },
  {
   "cell_type": "code",
   "execution_count": 9,
   "metadata": {},
   "outputs": [
    {
     "name": "stdout",
     "output_type": "stream",
     "text": [
      "0 -----> Column<b'user_cate'>\n",
      "727585 -----> Column<b'pv'>\n",
      "48981068 -----> Column<b'cart'>\n",
      "52764629 -----> Column<b'fav'>\n",
      "51300144 -----> Column<b'buy'>\n"
     ]
    }
   ],
   "source": [
    "for col in df_cross:\n",
    "    print(df_cross.filter(isnull(col)).count(),\"----->\",col)"
   ]
  },
  {
   "cell_type": "code",
   "execution_count": 11,
   "metadata": {},
   "outputs": [],
   "source": [
    "df_cross = df_cross.fillna(\"0\")"
   ]
  },
  {
   "cell_type": "code",
   "execution_count": 12,
   "metadata": {},
   "outputs": [
    {
     "name": "stdout",
     "output_type": "stream",
     "text": [
      "0 -----> Column<b'user_cate'>\n",
      "0 -----> Column<b'pv'>\n",
      "0 -----> Column<b'cart'>\n",
      "0 -----> Column<b'fav'>\n",
      "0 -----> Column<b'buy'>\n"
     ]
    }
   ],
   "source": [
    "for col in df_cross:\n",
    "    print(df_cross.filter(isnull(col)).count(),\"----->\",col)"
   ]
  },
  {
   "cell_type": "code",
   "execution_count": 20,
   "metadata": {},
   "outputs": [
    {
     "data": {
      "text/plain": [
       "57259092"
      ]
     },
     "execution_count": 20,
     "metadata": {},
     "output_type": "execute_result"
    }
   ],
   "source": [
    "df_cross.count()"
   ]
  },
  {
   "cell_type": "markdown",
   "metadata": {},
   "source": [
    "## join cross with merge"
   ]
  },
  {
   "cell_type": "code",
   "execution_count": 19,
   "metadata": {},
   "outputs": [
    {
     "data": {
      "text/plain": [
       "['user_cate_c', 'pv', 'cart', 'fav', 'buy']"
      ]
     },
     "execution_count": 19,
     "metadata": {},
     "output_type": "execute_result"
    }
   ],
   "source": [
    "df_cross.columns"
   ]
  },
  {
   "cell_type": "code",
   "execution_count": 18,
   "metadata": {},
   "outputs": [],
   "source": [
    "df_cross = df_cross.selectExpr('user_cate as user_cate_c', 'pv', 'cart', 'fav', 'buy')"
   ]
  },
  {
   "cell_type": "code",
   "execution_count": 21,
   "metadata": {},
   "outputs": [],
   "source": [
    "table1 = df_merge.join(df_cross,(df_merge.user_cate == df_cross.user_cate_c) ,'left_outer')"
   ]
  },
  {
   "cell_type": "code",
   "execution_count": 22,
   "metadata": {},
   "outputs": [
    {
     "data": {
      "text/plain": [
       "26557961"
      ]
     },
     "execution_count": 22,
     "metadata": {},
     "output_type": "execute_result"
    }
   ],
   "source": [
    "table1.count()"
   ]
  },
  {
   "cell_type": "code",
   "execution_count": 23,
   "metadata": {},
   "outputs": [
    {
     "name": "stdout",
     "output_type": "stream",
     "text": [
      "0 -----> Column<b'user'>\n",
      "0 -----> Column<b'time_stamp'>\n",
      "0 -----> Column<b'adgroup_id'>\n",
      "0 -----> Column<b'pid'>\n",
      "0 -----> Column<b'clk'>\n",
      "0 -----> Column<b'cate_id'>\n",
      "0 -----> Column<b'campaign_id'>\n",
      "0 -----> Column<b'customer'>\n",
      "0 -----> Column<b'brand'>\n",
      "0 -----> Column<b'price'>\n",
      "1528526 -----> Column<b'cms_segid'>\n",
      "1528526 -----> Column<b'cms_group_id'>\n",
      "1528526 -----> Column<b'final_gender_code'>\n",
      "1528526 -----> Column<b'age_level'>\n",
      "14552798 -----> Column<b'pvalue_level'>\n",
      "1528526 -----> Column<b'shopping_level'>\n",
      "1528526 -----> Column<b'occupation'>\n",
      "8224829 -----> Column<b'new_user_class_level'>\n",
      "0 -----> Column<b'user_cate'>\n",
      "1141355 -----> Column<b'user_cate_c'>\n",
      "1141355 -----> Column<b'pv'>\n",
      "1141355 -----> Column<b'cart'>\n",
      "1141355 -----> Column<b'fav'>\n",
      "1141355 -----> Column<b'buy'>\n"
     ]
    }
   ],
   "source": [
    "for col in table1:\n",
    "    print(table1.filter(isnull(col)).count(),\"----->\",col)"
   ]
  },
  {
   "cell_type": "code",
   "execution_count": 25,
   "metadata": {},
   "outputs": [
    {
     "data": {
      "text/plain": [
       "['user',\n",
       " 'time_stamp',\n",
       " 'adgroup_id',\n",
       " 'pid',\n",
       " 'clk',\n",
       " 'cate_id',\n",
       " 'campaign_id',\n",
       " 'customer',\n",
       " 'brand',\n",
       " 'price',\n",
       " 'cms_segid',\n",
       " 'cms_group_id',\n",
       " 'final_gender_code',\n",
       " 'age_level',\n",
       " 'pvalue_level',\n",
       " 'shopping_level',\n",
       " 'occupation',\n",
       " 'new_user_class_level',\n",
       " 'user_cate',\n",
       " 'user_cate_c',\n",
       " 'pv',\n",
       " 'cart',\n",
       " 'fav',\n",
       " 'buy']"
      ]
     },
     "execution_count": 25,
     "metadata": {},
     "output_type": "execute_result"
    }
   ],
   "source": [
    "table1.columns"
   ]
  },
  {
   "cell_type": "code",
   "execution_count": 26,
   "metadata": {
    "scrolled": true
   },
   "outputs": [
    {
     "name": "stdout",
     "output_type": "stream",
     "text": [
      "+-------+----------+----------+-----------+---+-------+-----------+--------+------+------+---------+------------+-----------------+---------+------------+--------------+----------+--------------------+-------------+-------------+----+----+----+----+\n",
      "|   user|time_stamp|adgroup_id|        pid|clk|cate_id|campaign_id|customer| brand| price|cms_segid|cms_group_id|final_gender_code|age_level|pvalue_level|shopping_level|occupation|new_user_class_level|    user_cate|  user_cate_c|  pv|cart| fav| buy|\n",
      "+-------+----------+----------+-----------+---+-------+-----------+--------+------+------+---------+------------+-----------------+---------+------------+--------------+----------+--------------------+-------------+-------------+----+----+----+----+\n",
      "|1000080|1494500915|    282550|430539_1007|  1|  10965|     240785|  130530|306014| 130.0|        0|           3|                2|        3|           1|             3|         0|                null|1000080_10965|1000080_10965|  10|   0|   0|   0|\n",
      "|1000124|1494155625|     85419|430548_1007|  0|   7340|      86978|   30214| 95618|   2.4|        7|           2|                2|        2|           1|             3|         0|                   2| 1000124_7340|         null|null|null|null|null|\n",
      "|1000139|1494396156|    183792|430548_1007|  0|   5327|     268362|  227727|201909| 208.0|        0|           8|                1|        2|           2|             3|         0|                null| 1000139_5327|         null|null|null|null|null|\n",
      "|1000139|1494396156|    238938|430548_1007|  0|   5327|     180806|  104672|236224| 350.0|        0|           8|                1|        2|           2|             3|         0|                null| 1000139_5327|         null|null|null|null|null|\n",
      "|1000589|1494130576|    353284|430548_1007|  1|  11915|     334705|  249529|404010|  38.0|        6|           2|                2|        2|           2|             2|         0|                   2|1000589_11915|1000589_11915|   2|   0|   0|   0|\n",
      "|1000059|1494613216|      6027|430548_1007|  0|   2378|     390541|   44698| 62889|  49.0|       64|           9|                1|        3|           1|             3|         1|                   2| 1000059_2378| 1000059_2378|   1|   0|   0|   0|\n",
      "|1000537|1494646508|     76973|430539_1007|  0|   9687|     148846|  132905|255169|7960.0|        0|           4|                2|        4|        null|             3|         0|                   2| 1000537_9687| 1000537_9687|  17|   0|   0|   0|\n",
      "|1000537|1494470142|     76973|430539_1007|  0|   9687|     148846|  132905|255169|7960.0|        0|           4|                2|        4|        null|             3|         0|                   2| 1000537_9687| 1000537_9687|  17|   0|   0|   0|\n",
      "|1000798|1494690276|    844536|430548_1007|  0|   4280|      60271|   96831|222147| 276.0|       16|           3|                2|        3|           1|             3|         0|                   2| 1000798_4280| 1000798_4280|   8|   0|   0|   0|\n",
      "|1000291|1494199792|    638088|430548_1007|  0|   4520|      79837|  144016|447105| 135.0|        0|           2|                2|        2|        null|             3|         0|                   4| 1000291_4520| 1000291_4520|  53|   2|   0|   0|\n",
      "|1000291|1494204518|    689941|430548_1007|  0|   4520|      47897|  129865|  NULL|  20.0|        0|           2|                2|        2|        null|             3|         0|                   4| 1000291_4520| 1000291_4520|  53|   2|   0|   0|\n",
      "|1000291|1494204518|    694418|430548_1007|  0|   4520|     329536|  168529|143597|  29.0|        0|           2|                2|        2|        null|             3|         0|                   4| 1000291_4520| 1000291_4520|  53|   2|   0|   0|\n",
      "|1001507|1494195549|    358722|430548_1007|  0|   9186|     289653|   97796|423070| 588.0|        0|           5|                2|        5|        null|             2|         0|                   2| 1001507_9186| 1001507_9186|  11|   0|   1|   0|\n",
      "|1001507|1494654876|    337521|430548_1007|  0|   9186|     182038|   26833| 30759| 648.0|        0|           5|                2|        5|        null|             2|         0|                   2| 1001507_9186| 1001507_9186|  11|   0|   1|   0|\n",
      "|1000124|1494309881|    650847|430548_1007|  0|   6261|      66836|   15140|318890|124.98|        7|           2|                2|        2|           1|             3|         0|                   2| 1000124_6261| 1000124_6261|  12|   0|   0|   0|\n",
      "| 100003|1494254066|    358208|430548_1007|  0|   4516|     329170|  239734|376749|   7.0|        0|           2|                2|        2|        null|             3|         0|                   2|  100003_4516|  100003_4516|   4|   1|   0|   0|\n",
      "| 100003|1494254066|    582316|430548_1007|  0|   4516|     101926|  169916|  NULL|  32.0|        0|           2|                2|        2|        null|             3|         0|                   2|  100003_4516|  100003_4516|   4|   1|   0|   0|\n",
      "|1000794|1494158054|    125662|430548_1007|  0|   4617|     142994|  118387|425589| 255.0|       81|          10|                1|        4|           2|             3|         0|                   4| 1000794_4617| 1000794_4617|   9|   0|   0|   0|\n",
      "|1000150|1494339723|    325667|430548_1007|  0|   6551|     296972|  142060|224985|  39.8|     null|        null|             null|     null|        null|          null|      null|                null| 1000150_6551| 1000150_6551|  15|   0|   0|   0|\n",
      "|1000112|1494376445|     87027|430548_1007|  0|  10933|      19261|    4019|333696|  10.6|     null|        null|             null|     null|        null|          null|      null|                null|1000112_10933|         null|null|null|null|null|\n",
      "+-------+----------+----------+-----------+---+-------+-----------+--------+------+------+---------+------------+-----------------+---------+------------+--------------+----------+--------------------+-------------+-------------+----+----+----+----+\n",
      "only showing top 20 rows\n",
      "\n"
     ]
    }
   ],
   "source": [
    "table1.show()"
   ]
  },
  {
   "cell_type": "code",
   "execution_count": 28,
   "metadata": {},
   "outputs": [],
   "source": [
    "cross = ['pv', 'cart', 'fav', 'buy']\n",
    "table1_f = table1\n",
    "for col in cross:\n",
    "    table1_f = table1_f.fillna({col:0})"
   ]
  },
  {
   "cell_type": "code",
   "execution_count": 29,
   "metadata": {},
   "outputs": [
    {
     "name": "stdout",
     "output_type": "stream",
     "text": [
      "0 -----> Column<b'user'>\n",
      "0 -----> Column<b'time_stamp'>\n",
      "0 -----> Column<b'adgroup_id'>\n",
      "0 -----> Column<b'pid'>\n",
      "0 -----> Column<b'clk'>\n",
      "0 -----> Column<b'cate_id'>\n",
      "0 -----> Column<b'campaign_id'>\n",
      "0 -----> Column<b'customer'>\n",
      "0 -----> Column<b'brand'>\n",
      "0 -----> Column<b'price'>\n",
      "1528526 -----> Column<b'cms_segid'>\n",
      "1528526 -----> Column<b'cms_group_id'>\n",
      "1528526 -----> Column<b'final_gender_code'>\n",
      "1528526 -----> Column<b'age_level'>\n",
      "14552798 -----> Column<b'pvalue_level'>\n",
      "1528526 -----> Column<b'shopping_level'>\n",
      "1528526 -----> Column<b'occupation'>\n",
      "8224829 -----> Column<b'new_user_class_level'>\n",
      "0 -----> Column<b'user_cate'>\n",
      "1141355 -----> Column<b'user_cate_c'>\n",
      "0 -----> Column<b'pv'>\n",
      "0 -----> Column<b'cart'>\n",
      "0 -----> Column<b'fav'>\n",
      "0 -----> Column<b'buy'>\n"
     ]
    }
   ],
   "source": [
    "for col in table1_f:\n",
    "    print(table1_f.filter(isnull(col)).count(),\"----->\",col)"
   ]
  },
  {
   "cell_type": "code",
   "execution_count": 30,
   "metadata": {},
   "outputs": [],
   "source": [
    "table1_f = table1_f.fillna('999999999')"
   ]
  },
  {
   "cell_type": "code",
   "execution_count": 47,
   "metadata": {},
   "outputs": [
    {
     "data": {
      "text/plain": [
       "8291694"
      ]
     },
     "execution_count": 47,
     "metadata": {},
     "output_type": "execute_result"
    }
   ],
   "source": [
    "table1_f.filter(table1_f.brand=='NULL').count()  ##just checking"
   ]
  },
  {
   "cell_type": "code",
   "execution_count": null,
   "metadata": {},
   "outputs": [],
   "source": []
  },
  {
   "cell_type": "code",
   "execution_count": 33,
   "metadata": {},
   "outputs": [],
   "source": [
    "table1_f = table1_f.drop('user_cate_c')"
   ]
  },
  {
   "cell_type": "code",
   "execution_count": 44,
   "metadata": {},
   "outputs": [],
   "source": [
    "table1 = table1.drop('user_cate_c')"
   ]
  },
  {
   "cell_type": "code",
   "execution_count": 35,
   "metadata": {},
   "outputs": [
    {
     "data": {
      "text/plain": [
       "['user',\n",
       " 'time_stamp',\n",
       " 'adgroup_id',\n",
       " 'pid',\n",
       " 'clk',\n",
       " 'cate_id',\n",
       " 'campaign_id',\n",
       " 'customer',\n",
       " 'brand',\n",
       " 'price',\n",
       " 'cms_segid',\n",
       " 'cms_group_id',\n",
       " 'final_gender_code',\n",
       " 'age_level',\n",
       " 'pvalue_level',\n",
       " 'shopping_level',\n",
       " 'occupation',\n",
       " 'new_user_class_level',\n",
       " 'user_cate',\n",
       " 'pv',\n",
       " 'cart',\n",
       " 'fav',\n",
       " 'buy']"
      ]
     },
     "execution_count": 35,
     "metadata": {},
     "output_type": "execute_result"
    }
   ],
   "source": [
    "table1_f.columns"
   ]
  },
  {
   "cell_type": "code",
   "execution_count": 36,
   "metadata": {},
   "outputs": [
    {
     "name": "stdout",
     "output_type": "stream",
     "text": [
      "0 -----> Column<b'user'>\n",
      "0 -----> Column<b'time_stamp'>\n",
      "0 -----> Column<b'adgroup_id'>\n",
      "0 -----> Column<b'pid'>\n",
      "0 -----> Column<b'clk'>\n",
      "0 -----> Column<b'cate_id'>\n",
      "0 -----> Column<b'campaign_id'>\n",
      "0 -----> Column<b'customer'>\n",
      "0 -----> Column<b'brand'>\n",
      "0 -----> Column<b'price'>\n",
      "0 -----> Column<b'cms_segid'>\n",
      "0 -----> Column<b'cms_group_id'>\n",
      "0 -----> Column<b'final_gender_code'>\n",
      "0 -----> Column<b'age_level'>\n",
      "0 -----> Column<b'pvalue_level'>\n",
      "0 -----> Column<b'shopping_level'>\n",
      "0 -----> Column<b'occupation'>\n",
      "0 -----> Column<b'new_user_class_level'>\n",
      "0 -----> Column<b'user_cate'>\n",
      "0 -----> Column<b'pv'>\n",
      "0 -----> Column<b'cart'>\n",
      "0 -----> Column<b'fav'>\n",
      "0 -----> Column<b'buy'>\n"
     ]
    }
   ],
   "source": [
    "for col in table1_f:\n",
    "    print(table1_f.filter(isnull(col)).count(),\"----->\",col)"
   ]
  },
  {
   "cell_type": "code",
   "execution_count": 45,
   "metadata": {},
   "outputs": [
    {
     "name": "stdout",
     "output_type": "stream",
     "text": [
      "CPU times: user 8.51 ms, sys: 7.5 ms, total: 16 ms\n",
      "Wall time: 56.4 s\n"
     ]
    }
   ],
   "source": [
    "%time table1.write.csv(\"hdfs:///user/spark/share/output/table1/table1\",header=\"true\")"
   ]
  },
  {
   "cell_type": "code",
   "execution_count": 37,
   "metadata": {},
   "outputs": [
    {
     "name": "stdout",
     "output_type": "stream",
     "text": [
      "CPU times: user 10.2 ms, sys: 0 ns, total: 10.2 ms\n",
      "Wall time: 1min 4s\n"
     ]
    }
   ],
   "source": [
    "%time table1_f.write.csv(\"hdfs:///user/spark/share/output/table1/table1_f\",header=\"true\")"
   ]
  },
  {
   "cell_type": "code",
   "execution_count": null,
   "metadata": {},
   "outputs": [],
   "source": []
  },
  {
   "cell_type": "code",
   "execution_count": null,
   "metadata": {},
   "outputs": [],
   "source": []
  },
  {
   "cell_type": "code",
   "execution_count": null,
   "metadata": {},
   "outputs": [],
   "source": []
  }
 ],
 "metadata": {
  "kernelspec": {
   "display_name": "Python 3",
   "language": "python",
   "name": "python3"
  },
  "language_info": {
   "codemirror_mode": {
    "name": "ipython",
    "version": 3
   },
   "file_extension": ".py",
   "mimetype": "text/x-python",
   "name": "python",
   "nbconvert_exporter": "python",
   "pygments_lexer": "ipython3",
   "version": "3.6.6"
  }
 },
 "nbformat": 4,
 "nbformat_minor": 2
}
