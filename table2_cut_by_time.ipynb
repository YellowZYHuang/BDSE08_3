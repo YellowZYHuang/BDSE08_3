{
 "cells": [
  {
   "cell_type": "code",
   "execution_count": 57,
   "metadata": {},
   "outputs": [],
   "source": [
    "from pyspark.sql import SparkSession\n",
    "from pyspark.sql.functions import isnull"
   ]
  },
  {
   "cell_type": "code",
   "execution_count": 2,
   "metadata": {},
   "outputs": [],
   "source": [
    "spark = SparkSession.builder.master(\"yarn\").config('spark.executor.instances','100').appName(\"chiang\").getOrCreate()"
   ]
  },
  {
   "cell_type": "code",
   "execution_count": 3,
   "metadata": {},
   "outputs": [
    {
     "name": "stdout",
     "output_type": "stream",
     "text": [
      "CPU times: user 2.26 ms, sys: 909 µs, total: 3.17 ms\n",
      "Wall time: 9.39 s\n"
     ]
    }
   ],
   "source": [
    "%time df = spark.read.csv(\"/user/spark/share/splitdata.csv\",header=True)"
   ]
  },
  {
   "cell_type": "code",
   "execution_count": 15,
   "metadata": {},
   "outputs": [],
   "source": [
    "df.createOrReplaceTempView('behavior')"
   ]
  },
  {
   "cell_type": "code",
   "execution_count": 58,
   "metadata": {},
   "outputs": [
    {
     "name": "stdout",
     "output_type": "stream",
     "text": [
      "0 -----> Column<b'user'>\n",
      "0 -----> Column<b'time_stamp'>\n",
      "0 -----> Column<b'btag'>\n",
      "0 -----> Column<b'cate'>\n",
      "0 -----> Column<b'brand'>\n",
      "0 -----> Column<b'user_cate'>\n"
     ]
    }
   ],
   "source": [
    "for col in df:\n",
    "    print(df.filter(isnull(col)).count(),\"----->\",col)"
   ]
  },
  {
   "cell_type": "code",
   "execution_count": 31,
   "metadata": {},
   "outputs": [
    {
     "name": "stdout",
     "output_type": "stream",
     "text": [
      "+--------+\n",
      "|count(1)|\n",
      "+--------+\n",
      "|     870|\n",
      "+--------+\n",
      "\n"
     ]
    }
   ],
   "source": [
    "spark.sql('select count(*) from behavior where btag = \"pv\" and user_cate =\"543083_6261\"').show()"
   ]
  },
  {
   "cell_type": "code",
   "execution_count": 60,
   "metadata": {
    "scrolled": false
   },
   "outputs": [
    {
     "name": "stdout",
     "output_type": "stream",
     "text": [
      "+-----------+---+\n",
      "|  user_cate|pv1|\n",
      "+-----------+---+\n",
      "|543083_6261|870|\n",
      "+-----------+---+\n",
      "\n",
      "CPU times: user 32.5 ms, sys: 3.52 ms, total: 36.1 ms\n",
      "Wall time: 3min 42s\n"
     ]
    }
   ],
   "source": [
    "# df.select('user_cate')\n",
    "%time spark.sql('select user_cate , count(*) as pv1 from behavior where btag = \"pv\" group by user_cate').show()"
   ]
  },
  {
   "cell_type": "code",
   "execution_count": 62,
   "metadata": {
    "scrolled": false
   },
   "outputs": [
    {
     "name": "stdout",
     "output_type": "stream",
     "text": [
      "CPU times: user 13.4 ms, sys: 4.36 ms, total: 17.7 ms\n",
      "Wall time: 2min 14s\n"
     ]
    },
    {
     "data": {
      "text/plain": [
       "57259092"
      ]
     },
     "execution_count": 62,
     "metadata": {},
     "output_type": "execute_result"
    }
   ],
   "source": [
    "# df.select('user_cate')\n",
    "%time spark.sql('select user_cate , count(*) as pv1 from behavior group by user_cate').count()"
   ]
  },
  {
   "cell_type": "code",
   "execution_count": 5,
   "metadata": {},
   "outputs": [
    {
     "data": {
      "text/plain": [
       "['user', 'time_stamp', 'btag', 'cate', 'brand', 'user_cate']"
      ]
     },
     "execution_count": 5,
     "metadata": {},
     "output_type": "execute_result"
    }
   ],
   "source": [
    "df.columns"
   ]
  },
  {
   "cell_type": "code",
   "execution_count": null,
   "metadata": {},
   "outputs": [],
   "source": []
  },
  {
   "cell_type": "code",
   "execution_count": 11,
   "metadata": {},
   "outputs": [
    {
     "data": {
      "text/plain": [
       "57259092"
      ]
     },
     "execution_count": 11,
     "metadata": {},
     "output_type": "execute_result"
    }
   ],
   "source": [
    "df.select('user_cate').distinct().count()"
   ]
  },
  {
   "cell_type": "code",
   "execution_count": 10,
   "metadata": {},
   "outputs": [
    {
     "name": "stdout",
     "output_type": "stream",
     "text": [
      "+------------+\n",
      "|   user_cate|\n",
      "+------------+\n",
      "| 653909_8285|\n",
      "| 578152_6428|\n",
      "| 144558_6261|\n",
      "| 916681_6439|\n",
      "| 456089_6807|\n",
      "|1046905_4505|\n",
      "|  329657_856|\n",
      "|370335_11606|\n",
      "| 401739_4280|\n",
      "|153318_11740|\n",
      "|  163180_856|\n",
      "|  753765_856|\n",
      "|911674_11635|\n",
      "|286898_11447|\n",
      "| 356482_5299|\n",
      "|1042482_6261|\n",
      "|1081493_6410|\n",
      "| 590029_4280|\n",
      "| 617197_4283|\n",
      "| 141351_6734|\n",
      "+------------+\n",
      "only showing top 20 rows\n",
      "\n"
     ]
    }
   ],
   "source": [
    "df.select('user_cate').distinct().show()"
   ]
  },
  {
   "cell_type": "code",
   "execution_count": null,
   "metadata": {},
   "outputs": [],
   "source": []
  },
  {
   "cell_type": "code",
   "execution_count": null,
   "metadata": {},
   "outputs": [],
   "source": [
    "df1 = spark.sql(\"select * from behavior where time_stamp < 1493424000\")"
   ]
  },
  {
   "cell_type": "code",
   "execution_count": null,
   "metadata": {},
   "outputs": [],
   "source": [
    "df1 = spark.sql(\"select * from behavior where time_stamp < 1493424000\")"
   ]
  },
  {
   "cell_type": "code",
   "execution_count": null,
   "metadata": {},
   "outputs": [],
   "source": [
    "df2 = spark.sql(\"select * from behavior where time_stamp between 1493424000 and 1494028800\")"
   ]
  },
  {
   "cell_type": "code",
   "execution_count": null,
   "metadata": {},
   "outputs": [],
   "source": [
    "df3 = spark.sql(\"select * from behavior where time_stamp > 1494028800\")"
   ]
  },
  {
   "cell_type": "code",
   "execution_count": null,
   "metadata": {},
   "outputs": [],
   "source": [
    "df.count()"
   ]
  },
  {
   "cell_type": "code",
   "execution_count": null,
   "metadata": {},
   "outputs": [],
   "source": [
    "df.columns"
   ]
  },
  {
   "cell_type": "markdown",
   "metadata": {},
   "source": [
    "output df1"
   ]
  },
  {
   "cell_type": "code",
   "execution_count": null,
   "metadata": {},
   "outputs": [],
   "source": [
    "df1 = df1.stat.crosstab(\"user_cate\",\"btag\")"
   ]
  },
  {
   "cell_type": "code",
   "execution_count": null,
   "metadata": {},
   "outputs": [],
   "source": [
    "df1 = df1.selectExpr(\"user_cate_btag as user_cate\",\"buy as buy_1\",\"cart as cart_1\",\"fav as fav_1\",\"pv as pv_1\" )"
   ]
  },
  {
   "cell_type": "code",
   "execution_count": null,
   "metadata": {},
   "outputs": [],
   "source": [
    "%time df1.write.csv(\"hdfs:///user/spark/share/output/table_2/cross/cross_1\",header=\"true\")"
   ]
  },
  {
   "cell_type": "markdown",
   "metadata": {},
   "source": [
    "output df2"
   ]
  },
  {
   "cell_type": "code",
   "execution_count": null,
   "metadata": {},
   "outputs": [],
   "source": [
    "df2 = df2.stat.crosstab(\"user_cate\",\"btag\")"
   ]
  },
  {
   "cell_type": "code",
   "execution_count": null,
   "metadata": {},
   "outputs": [],
   "source": [
    "df2 = df2.selectExpr(\"user_cate_btag as user_cate\",\"buy as buy_2\",\"cart as cart_2\",\"fav as fav_2\",\"pv as pv_2\" )"
   ]
  },
  {
   "cell_type": "code",
   "execution_count": null,
   "metadata": {},
   "outputs": [],
   "source": [
    "%time df2.write.format(\"csv\").save(\"/user/spark/share/output/table_2/cross/cross_2\",header=\"true\")"
   ]
  },
  {
   "cell_type": "markdown",
   "metadata": {},
   "source": [
    "output df3"
   ]
  },
  {
   "cell_type": "code",
   "execution_count": null,
   "metadata": {},
   "outputs": [],
   "source": [
    "%time df3 = df3.stat.crosstab(\"user_cate\",\"btag\")"
   ]
  },
  {
   "cell_type": "code",
   "execution_count": null,
   "metadata": {},
   "outputs": [],
   "source": [
    "df3 = df3.selectExpr(\"user_cate_btag as user_cate\",\"buy as buy_3\",\"cart as cart_3\",\"fav as fav_3\",\"pv as pv_3\" )"
   ]
  },
  {
   "cell_type": "code",
   "execution_count": null,
   "metadata": {},
   "outputs": [],
   "source": [
    "%time df3.write.format(\"csv\").save(\"/user/spark/share/output/table_2/cross/cross_3\",header=\"true\")"
   ]
  }
 ],
 "metadata": {
  "kernelspec": {
   "display_name": "Python 3",
   "language": "python",
   "name": "python3"
  },
  "language_info": {
   "codemirror_mode": {
    "name": "ipython",
    "version": 3
   },
   "file_extension": ".py",
   "mimetype": "text/x-python",
   "name": "python",
   "nbconvert_exporter": "python",
   "pygments_lexer": "ipython3",
   "version": "3.6.6"
  }
 },
 "nbformat": 4,
 "nbformat_minor": 2
}
