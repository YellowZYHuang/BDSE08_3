{
 "cells": [
  {
   "cell_type": "code",
   "execution_count": 1,
   "metadata": {},
   "outputs": [],
   "source": [
    "from pyspark.sql import SparkSession"
   ]
  },
  {
   "cell_type": "code",
   "execution_count": 2,
   "metadata": {},
   "outputs": [],
   "source": [
    "spark = SparkSession.builder.master(\"yarn\").config('spark.executor.instances','100').appName(\"chiang_ct\").getOrCreate()"
   ]
  },
  {
   "cell_type": "markdown",
   "metadata": {},
   "source": [
    "## Merge"
   ]
  },
  {
   "cell_type": "code",
   "execution_count": 3,
   "metadata": {},
   "outputs": [],
   "source": [
    "df_cross_all = spark.read.csv(\"/user/spark/share/output/table2/cross/tb2_cross_all\",header=\"true\")"
   ]
  },
  {
   "cell_type": "code",
   "execution_count": 9,
   "metadata": {},
   "outputs": [
    {
     "data": {
      "text/plain": [
       "['user_cate',\n",
       " 'user_cate_pv1',\n",
       " 'pv_1',\n",
       " 'user_cate_cart1',\n",
       " 'cart_1',\n",
       " 'user_cate_fav1',\n",
       " 'fav_1',\n",
       " 'user_cate_buy1',\n",
       " 'buy_1',\n",
       " 'user_cate_pv2',\n",
       " 'pv_2',\n",
       " 'user_cate_cart2',\n",
       " 'cart_2',\n",
       " 'user_cate_fav2',\n",
       " 'fav_2',\n",
       " 'user_cate_buy2',\n",
       " 'buy_2',\n",
       " 'user_cate_pv3',\n",
       " 'pv_3',\n",
       " 'user_cate_cart3',\n",
       " 'cart_3',\n",
       " 'user_cate_fav3',\n",
       " 'fav_3',\n",
       " 'user_cate_buy3',\n",
       " 'buy_3']"
      ]
     },
     "execution_count": 9,
     "metadata": {},
     "output_type": "execute_result"
    }
   ],
   "source": [
    "df_cross_all.columns"
   ]
  },
  {
   "cell_type": "code",
   "execution_count": 4,
   "metadata": {},
   "outputs": [],
   "source": [
    "df_cross_all = df_cross_all.fillna(\"0\")"
   ]
  },
  {
   "cell_type": "code",
   "execution_count": 5,
   "metadata": {},
   "outputs": [],
   "source": [
    "df_cross_all.createOrReplaceTempView('df_cross_all_table')"
   ]
  },
  {
   "cell_type": "code",
   "execution_count": 7,
   "metadata": {},
   "outputs": [],
   "source": [
    "#choose only those columns we need\n",
    "df_cross_all_table = spark.sql(\"\"\"select user_cate as user_cate_c, pv_1, cart_1, fav_1, buy_1, \\\n",
    "                            pv_2, cart_2, fav_2, buy_2, pv_3, cart_3, fav_3, buy_3  from df_cross_all_table\"\"\")"
   ]
  },
  {
   "cell_type": "code",
   "execution_count": 10,
   "metadata": {},
   "outputs": [
    {
     "name": "stdout",
     "output_type": "stream",
     "text": [
      "+-------------+----+------+-----+-----+----+------+-----+-----+----+------+-----+-----+\n",
      "|  user_cate_c|pv_1|cart_1|fav_1|buy_1|pv_2|cart_2|fav_2|buy_2|pv_3|cart_3|fav_3|buy_3|\n",
      "+-------------+----+------+-----+-----+----+------+-----+-----+----+------+-----+-----+\n",
      "| 1000007_4384|   0|     0|    0|    0|   2|     0|    0|    0|   0|     0|    0|    0|\n",
      "|  1000009_589|   0|     0|    0|    0|   1|     0|    0|    0|   0|     0|    0|    0|\n",
      "|1000011_12698|   0|     0|    0|    0|   0|     0|    0|    0|   3|     1|    0|    0|\n",
      "|1000012_10725|   0|     0|    0|    0|   2|     0|    0|    0|   0|     0|    0|    0|\n",
      "| 1000014_7146|   0|     0|    0|    0|   1|     0|    0|    0|   1|     0|    0|    0|\n",
      "|   1000019_10|   0|     0|    0|    0|   0|     0|    0|    0|   8|     1|    0|    0|\n",
      "| 1000026_9101|   0|     0|    0|    0|   8|     0|    0|    0|   0|     0|    0|    0|\n",
      "| 1000027_5954|   0|     0|    0|    0|   0|     0|    0|    0|   1|     0|    0|    0|\n",
      "| 1000029_5944|   0|     0|    0|    0|   1|     0|    0|    0|   0|     0|    0|    0|\n",
      "| 1000029_6428|   0|     0|    0|    0|   0|     0|    0|    0|   5|     0|    1|    0|\n",
      "| 1000043_4281|   1|     0|    0|    0|   0|     0|    0|    0|   1|     0|    0|    0|\n",
      "| 1000045_5989|   0|     0|    0|    0|   4|     0|    0|    0|   0|     0|    0|    0|\n",
      "| 1000048_4316|   0|     0|    0|    0|   0|     0|    0|    0|  24|     0|    0|    0|\n",
      "|1000052_11134|   0|     0|    0|    0|   0|     0|    0|    0|   1|     0|    0|    0|\n",
      "| 1000057_8275|   1|     0|    0|    0|   2|     0|    0|    0|   0|     0|    0|    0|\n",
      "| 1000062_6423|  12|     0|    1|    0|   0|     0|    0|    0|   0|     0|    0|    0|\n",
      "| 1000065_4624|   0|     0|    0|    0|   0|     0|    0|    0|   4|     0|    0|    0|\n",
      "| 1000065_6300|   1|     0|    0|    0|   0|     0|    0|    0|   5|     0|    0|    0|\n",
      "| 1000074_4505|   0|     0|    0|    0|  24|     3|    0|    0|   1|     0|    0|    0|\n",
      "| 1000074_6734|   0|     0|    0|    0|   5|     0|    0|    0|   2|     0|    0|    0|\n",
      "+-------------+----+------+-----+-----+----+------+-----+-----+----+------+-----+-----+\n",
      "only showing top 20 rows\n",
      "\n"
     ]
    }
   ],
   "source": [
    "df_cross_all_table.show()"
   ]
  },
  {
   "cell_type": "code",
   "execution_count": 12,
   "metadata": {},
   "outputs": [
    {
     "name": "stdout",
     "output_type": "stream",
     "text": [
      "0 -----> Column<b'user_cate_c'>\n",
      "0 -----> Column<b'pv_1'>\n",
      "0 -----> Column<b'cart_1'>\n",
      "0 -----> Column<b'fav_1'>\n",
      "0 -----> Column<b'buy_1'>\n",
      "0 -----> Column<b'pv_2'>\n",
      "0 -----> Column<b'cart_2'>\n",
      "0 -----> Column<b'fav_2'>\n",
      "0 -----> Column<b'buy_2'>\n",
      "0 -----> Column<b'pv_3'>\n",
      "0 -----> Column<b'cart_3'>\n",
      "0 -----> Column<b'fav_3'>\n",
      "0 -----> Column<b'buy_3'>\n"
     ]
    }
   ],
   "source": [
    "from pyspark.sql.functions import isnull\n",
    "for col in df_cross_all_table:\n",
    "    print(df_cross_all_table.filter(isnull(col)).count(),\"----->\",col)"
   ]
  },
  {
   "cell_type": "markdown",
   "metadata": {},
   "source": [
    "### join cross with merge"
   ]
  },
  {
   "cell_type": "code",
   "execution_count": 13,
   "metadata": {},
   "outputs": [],
   "source": [
    "df_merge = spark.read.csv(\"/user/spark/share/output/merge_nc\",header=True)"
   ]
  },
  {
   "cell_type": "code",
   "execution_count": 15,
   "metadata": {},
   "outputs": [],
   "source": [
    "table2 = df_merge.join(df_cross_all_table,(df_merge.user_cate == df_cross_all_table.user_cate_c) ,'left_outer')"
   ]
  },
  {
   "cell_type": "code",
   "execution_count": 17,
   "metadata": {},
   "outputs": [
    {
     "data": {
      "text/plain": [
       "['user',\n",
       " 'time_stamp',\n",
       " 'adgroup_id',\n",
       " 'pid',\n",
       " 'clk',\n",
       " 'cate_id',\n",
       " 'campaign_id',\n",
       " 'customer',\n",
       " 'brand',\n",
       " 'price',\n",
       " 'cms_segid',\n",
       " 'cms_group_id',\n",
       " 'final_gender_code',\n",
       " 'age_level',\n",
       " 'pvalue_level',\n",
       " 'shopping_level',\n",
       " 'occupation',\n",
       " 'new_user_class_level',\n",
       " 'user_cate',\n",
       " 'user_cate_c',\n",
       " 'pv_1',\n",
       " 'cart_1',\n",
       " 'fav_1',\n",
       " 'buy_1',\n",
       " 'pv_2',\n",
       " 'cart_2',\n",
       " 'fav_2',\n",
       " 'buy_2',\n",
       " 'pv_3',\n",
       " 'cart_3',\n",
       " 'fav_3',\n",
       " 'buy_3']"
      ]
     },
     "execution_count": 17,
     "metadata": {},
     "output_type": "execute_result"
    }
   ],
   "source": [
    "table2.columns"
   ]
  },
  {
   "cell_type": "code",
   "execution_count": 18,
   "metadata": {},
   "outputs": [],
   "source": [
    "table2_drop = table2.drop('user_cate_c')"
   ]
  },
  {
   "cell_type": "code",
   "execution_count": 19,
   "metadata": {},
   "outputs": [
    {
     "name": "stdout",
     "output_type": "stream",
     "text": [
      "0 -----> Column<b'user'>\n",
      "0 -----> Column<b'time_stamp'>\n",
      "0 -----> Column<b'adgroup_id'>\n",
      "0 -----> Column<b'pid'>\n",
      "0 -----> Column<b'clk'>\n",
      "0 -----> Column<b'cate_id'>\n",
      "0 -----> Column<b'campaign_id'>\n",
      "0 -----> Column<b'customer'>\n",
      "0 -----> Column<b'brand'>\n",
      "0 -----> Column<b'price'>\n",
      "1528526 -----> Column<b'cms_segid'>\n",
      "1528526 -----> Column<b'cms_group_id'>\n",
      "1528526 -----> Column<b'final_gender_code'>\n",
      "1528526 -----> Column<b'age_level'>\n",
      "14552798 -----> Column<b'pvalue_level'>\n",
      "1528526 -----> Column<b'shopping_level'>\n",
      "1528526 -----> Column<b'occupation'>\n",
      "8224829 -----> Column<b'new_user_class_level'>\n",
      "0 -----> Column<b'user_cate'>\n",
      "1141355 -----> Column<b'pv_1'>\n",
      "1141355 -----> Column<b'cart_1'>\n",
      "1141355 -----> Column<b'fav_1'>\n",
      "1141355 -----> Column<b'buy_1'>\n",
      "1141355 -----> Column<b'pv_2'>\n",
      "1141355 -----> Column<b'cart_2'>\n",
      "1141355 -----> Column<b'fav_2'>\n",
      "1141355 -----> Column<b'buy_2'>\n",
      "1141355 -----> Column<b'pv_3'>\n",
      "1141355 -----> Column<b'cart_3'>\n",
      "1141355 -----> Column<b'fav_3'>\n",
      "1141355 -----> Column<b'buy_3'>\n"
     ]
    }
   ],
   "source": [
    "for col in table2_drop:\n",
    "    print(table2_drop.filter(isnull(col)).count(),\"----->\",col)"
   ]
  },
  {
   "cell_type": "code",
   "execution_count": 21,
   "metadata": {},
   "outputs": [
    {
     "data": {
      "text/plain": [
       "26557961"
      ]
     },
     "execution_count": 21,
     "metadata": {},
     "output_type": "execute_result"
    }
   ],
   "source": [
    "table2_drop.count()"
   ]
  },
  {
   "cell_type": "code",
   "execution_count": 23,
   "metadata": {},
   "outputs": [],
   "source": [
    "table2_drop.write.csv(\"hdfs:///user/spark/share/output/table2/lovefengyi/table_2\",header=\"true\")"
   ]
  },
  {
   "cell_type": "markdown",
   "metadata": {},
   "source": [
    "## fill na"
   ]
  },
  {
   "cell_type": "code",
   "execution_count": 37,
   "metadata": {},
   "outputs": [],
   "source": [
    "cross = ['pv_1', 'cart_1', 'fav_1', 'buy_1', 'pv_2', 'cart_2', 'fav_2', 'buy_2', 'pv_3', 'cart_3', 'fav_3', 'buy_3']\n",
    "table2_f = table2_drop\n",
    "for col in cross:\n",
    "    table2_f = table2_f.fillna({col:0})"
   ]
  },
  {
   "cell_type": "code",
   "execution_count": 38,
   "metadata": {},
   "outputs": [
    {
     "name": "stdout",
     "output_type": "stream",
     "text": [
      "0\n"
     ]
    }
   ],
   "source": [
    "print(table2_f.filter(isnull('cart_1')).count())"
   ]
  },
  {
   "cell_type": "code",
   "execution_count": 39,
   "metadata": {},
   "outputs": [],
   "source": [
    "table2_f = table2_f.fillna('999999999')"
   ]
  },
  {
   "cell_type": "code",
   "execution_count": 45,
   "metadata": {},
   "outputs": [
    {
     "data": {
      "text/plain": [
       "0"
      ]
     },
     "execution_count": 45,
     "metadata": {},
     "output_type": "execute_result"
    }
   ],
   "source": [
    "table2_f.filter(table2_f.cart_1==999999999).count()"
   ]
  },
  {
   "cell_type": "code",
   "execution_count": 46,
   "metadata": {},
   "outputs": [],
   "source": [
    "table2_f.write.csv(\"hdfs:///user/spark/share/output/table2/lovefengyi/table_2_f\",header=\"true\")"
   ]
  },
  {
   "cell_type": "code",
   "execution_count": 47,
   "metadata": {},
   "outputs": [
    {
     "data": {
      "text/plain": [
       "26557961"
      ]
     },
     "execution_count": 47,
     "metadata": {},
     "output_type": "execute_result"
    }
   ],
   "source": [
    "table2_f.count()"
   ]
  },
  {
   "cell_type": "code",
   "execution_count": 48,
   "metadata": {},
   "outputs": [
    {
     "name": "stdout",
     "output_type": "stream",
     "text": [
      "0 -----> Column<b'user'>\n",
      "0 -----> Column<b'time_stamp'>\n",
      "0 -----> Column<b'adgroup_id'>\n",
      "0 -----> Column<b'pid'>\n",
      "0 -----> Column<b'clk'>\n",
      "0 -----> Column<b'cate_id'>\n",
      "0 -----> Column<b'campaign_id'>\n",
      "0 -----> Column<b'customer'>\n",
      "0 -----> Column<b'brand'>\n",
      "0 -----> Column<b'price'>\n",
      "0 -----> Column<b'cms_segid'>\n",
      "0 -----> Column<b'cms_group_id'>\n",
      "0 -----> Column<b'final_gender_code'>\n",
      "0 -----> Column<b'age_level'>\n",
      "0 -----> Column<b'pvalue_level'>\n",
      "0 -----> Column<b'shopping_level'>\n",
      "0 -----> Column<b'occupation'>\n",
      "0 -----> Column<b'new_user_class_level'>\n",
      "0 -----> Column<b'user_cate'>\n",
      "0 -----> Column<b'pv_1'>\n",
      "0 -----> Column<b'cart_1'>\n",
      "0 -----> Column<b'fav_1'>\n",
      "0 -----> Column<b'buy_1'>\n",
      "0 -----> Column<b'pv_2'>\n",
      "0 -----> Column<b'cart_2'>\n",
      "0 -----> Column<b'fav_2'>\n",
      "0 -----> Column<b'buy_2'>\n",
      "0 -----> Column<b'pv_3'>\n",
      "0 -----> Column<b'cart_3'>\n",
      "0 -----> Column<b'fav_3'>\n",
      "0 -----> Column<b'buy_3'>\n"
     ]
    }
   ],
   "source": [
    "for col in table2_f:\n",
    "    print(table2_f.filter(isnull(col)).count(),\"----->\",col)"
   ]
  }
 ],
 "metadata": {
  "kernelspec": {
   "display_name": "Python 3",
   "language": "python",
   "name": "python3"
  },
  "language_info": {
   "codemirror_mode": {
    "name": "ipython",
    "version": 3
   },
   "file_extension": ".py",
   "mimetype": "text/x-python",
   "name": "python",
   "nbconvert_exporter": "python",
   "pygments_lexer": "ipython3",
   "version": "3.6.6"
  }
 },
 "nbformat": 4,
 "nbformat_minor": 2
}
