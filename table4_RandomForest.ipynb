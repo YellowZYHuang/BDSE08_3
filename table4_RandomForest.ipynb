{
 "cells": [
  {
   "cell_type": "code",
   "execution_count": 3,
   "metadata": {},
   "outputs": [],
   "source": [
    "import pandas as pd\n",
    "import matplotlib.pyplot as plt\n",
    "%matplotlib inline\n",
    "import seaborn as sns\n",
    "sns.set()\n",
    "import numpy as np\n",
    "import re\n",
    "from sklearn.metrics import roc_curve, auc\n",
    "from sklearn import ensemble, preprocessing, metrics\n"
   ]
  },
  {
   "cell_type": "code",
   "execution_count": 4,
   "metadata": {},
   "outputs": [],
   "source": [
    "df=pd.read_csv('dataset/table4.csv') # 載入資料"
   ]
  },
  {
   "cell_type": "code",
   "execution_count": null,
   "metadata": {},
   "outputs": [],
   "source": [
    "df.columns"
   ]
  },
  {
   "cell_type": "code",
   "execution_count": 5,
   "metadata": {},
   "outputs": [
    {
     "data": {
      "text/plain": [
       "(108588, 34)"
      ]
     },
     "execution_count": 5,
     "metadata": {},
     "output_type": "execute_result"
    }
   ],
   "source": [
    "df_10k = df[df.loc[:,'user']<5001]\n",
    "df_10k.shape"
   ]
  },
  {
   "cell_type": "code",
   "execution_count": 6,
   "metadata": {},
   "outputs": [
    {
     "data": {
      "text/plain": [
       "5000"
      ]
     },
     "execution_count": 6,
     "metadata": {},
     "output_type": "execute_result"
    }
   ],
   "source": [
    "len(df_10k.loc[:,'user'].unique())"
   ]
  },
  {
   "cell_type": "code",
   "execution_count": 7,
   "metadata": {},
   "outputs": [],
   "source": [
    "df_10k.to_csv('tb4_10k.csv',index = False)"
   ]
  },
  {
   "cell_type": "code",
   "execution_count": 8,
   "metadata": {},
   "outputs": [],
   "source": [
    "# df_10k=pd.read_csv('dataset/table3_10k.csv')"
   ]
  },
  {
   "cell_type": "code",
   "execution_count": 9,
   "metadata": {},
   "outputs": [
    {
     "data": {
      "text/plain": [
       "(108588, 34)"
      ]
     },
     "execution_count": 9,
     "metadata": {},
     "output_type": "execute_result"
    }
   ],
   "source": [
    "df_10k.shape"
   ]
  },
  {
   "cell_type": "code",
   "execution_count": 10,
   "metadata": {},
   "outputs": [
    {
     "data": {
      "text/html": [
       "<div>\n",
       "<style scoped>\n",
       "    .dataframe tbody tr th:only-of-type {\n",
       "        vertical-align: middle;\n",
       "    }\n",
       "\n",
       "    .dataframe tbody tr th {\n",
       "        vertical-align: top;\n",
       "    }\n",
       "\n",
       "    .dataframe thead th {\n",
       "        text-align: right;\n",
       "    }\n",
       "</style>\n",
       "<table border=\"1\" class=\"dataframe\">\n",
       "  <thead>\n",
       "    <tr style=\"text-align: right;\">\n",
       "      <th></th>\n",
       "      <th>user</th>\n",
       "      <th>adgroup_id</th>\n",
       "      <th>pid</th>\n",
       "      <th>cate_id</th>\n",
       "      <th>campaign_id</th>\n",
       "      <th>customer</th>\n",
       "      <th>price</th>\n",
       "      <th>cms_segid</th>\n",
       "      <th>cms_group_id</th>\n",
       "      <th>final_gender_code</th>\n",
       "      <th>...</th>\n",
       "      <th>pv_3</th>\n",
       "      <th>cart_3</th>\n",
       "      <th>fav_3</th>\n",
       "      <th>buy_3</th>\n",
       "      <th>brand_New</th>\n",
       "      <th>user_ad_pid</th>\n",
       "      <th>cnt_clk</th>\n",
       "      <th>cnt_nonclk</th>\n",
       "      <th>cnt_percentage_total</th>\n",
       "      <th>click_or_not</th>\n",
       "    </tr>\n",
       "  </thead>\n",
       "  <tbody>\n",
       "    <tr>\n",
       "      <th>16</th>\n",
       "      <td>1029</td>\n",
       "      <td>715052</td>\n",
       "      <td>430539_1007</td>\n",
       "      <td>1665</td>\n",
       "      <td>353703</td>\n",
       "      <td>164557</td>\n",
       "      <td>299.0</td>\n",
       "      <td>92</td>\n",
       "      <td>11</td>\n",
       "      <td>1</td>\n",
       "      <td>...</td>\n",
       "      <td>22</td>\n",
       "      <td>0</td>\n",
       "      <td>0</td>\n",
       "      <td>0</td>\n",
       "      <td>999999999</td>\n",
       "      <td>1029_715052_430539_1007</td>\n",
       "      <td>0</td>\n",
       "      <td>1</td>\n",
       "      <td>0.0</td>\n",
       "      <td>0</td>\n",
       "    </tr>\n",
       "    <tr>\n",
       "      <th>209</th>\n",
       "      <td>3829</td>\n",
       "      <td>218591</td>\n",
       "      <td>430548_1007</td>\n",
       "      <td>6736</td>\n",
       "      <td>275364</td>\n",
       "      <td>34256</td>\n",
       "      <td>169.0</td>\n",
       "      <td>0</td>\n",
       "      <td>2</td>\n",
       "      <td>2</td>\n",
       "      <td>...</td>\n",
       "      <td>0</td>\n",
       "      <td>0</td>\n",
       "      <td>0</td>\n",
       "      <td>0</td>\n",
       "      <td>999999999</td>\n",
       "      <td>3829_218591_430548_1007</td>\n",
       "      <td>0</td>\n",
       "      <td>1</td>\n",
       "      <td>0.0</td>\n",
       "      <td>0</td>\n",
       "    </tr>\n",
       "    <tr>\n",
       "      <th>235</th>\n",
       "      <td>4418</td>\n",
       "      <td>735368</td>\n",
       "      <td>430539_1007</td>\n",
       "      <td>6300</td>\n",
       "      <td>118727</td>\n",
       "      <td>9197</td>\n",
       "      <td>333.0</td>\n",
       "      <td>34</td>\n",
       "      <td>4</td>\n",
       "      <td>2</td>\n",
       "      <td>...</td>\n",
       "      <td>6</td>\n",
       "      <td>0</td>\n",
       "      <td>0</td>\n",
       "      <td>0</td>\n",
       "      <td>422876</td>\n",
       "      <td>4418_735368_430539_1007</td>\n",
       "      <td>0</td>\n",
       "      <td>1</td>\n",
       "      <td>0.0</td>\n",
       "      <td>0</td>\n",
       "    </tr>\n",
       "    <tr>\n",
       "      <th>682</th>\n",
       "      <td>2483</td>\n",
       "      <td>102655</td>\n",
       "      <td>430548_1007</td>\n",
       "      <td>9713</td>\n",
       "      <td>189503</td>\n",
       "      <td>185484</td>\n",
       "      <td>24.0</td>\n",
       "      <td>0</td>\n",
       "      <td>4</td>\n",
       "      <td>2</td>\n",
       "      <td>...</td>\n",
       "      <td>16</td>\n",
       "      <td>0</td>\n",
       "      <td>0</td>\n",
       "      <td>0</td>\n",
       "      <td>999999999</td>\n",
       "      <td>2483_102655_430548_1007</td>\n",
       "      <td>0</td>\n",
       "      <td>1</td>\n",
       "      <td>0.0</td>\n",
       "      <td>0</td>\n",
       "    </tr>\n",
       "    <tr>\n",
       "      <th>1216</th>\n",
       "      <td>167</td>\n",
       "      <td>502180</td>\n",
       "      <td>430548_1007</td>\n",
       "      <td>8111</td>\n",
       "      <td>107738</td>\n",
       "      <td>51598</td>\n",
       "      <td>258.0</td>\n",
       "      <td>7</td>\n",
       "      <td>2</td>\n",
       "      <td>2</td>\n",
       "      <td>...</td>\n",
       "      <td>30</td>\n",
       "      <td>0</td>\n",
       "      <td>0</td>\n",
       "      <td>0</td>\n",
       "      <td>21837</td>\n",
       "      <td>167_502180_430548_1007</td>\n",
       "      <td>0</td>\n",
       "      <td>1</td>\n",
       "      <td>0.0</td>\n",
       "      <td>0</td>\n",
       "    </tr>\n",
       "  </tbody>\n",
       "</table>\n",
       "<p>5 rows × 34 columns</p>\n",
       "</div>"
      ],
      "text/plain": [
       "      user  adgroup_id          pid  cate_id  campaign_id  customer  price  \\\n",
       "16    1029      715052  430539_1007     1665       353703    164557  299.0   \n",
       "209   3829      218591  430548_1007     6736       275364     34256  169.0   \n",
       "235   4418      735368  430539_1007     6300       118727      9197  333.0   \n",
       "682   2483      102655  430548_1007     9713       189503    185484   24.0   \n",
       "1216   167      502180  430548_1007     8111       107738     51598  258.0   \n",
       "\n",
       "      cms_segid  cms_group_id  final_gender_code      ...       pv_3  cart_3  \\\n",
       "16           92            11                  1      ...         22       0   \n",
       "209           0             2                  2      ...          0       0   \n",
       "235          34             4                  2      ...          6       0   \n",
       "682           0             4                  2      ...         16       0   \n",
       "1216          7             2                  2      ...         30       0   \n",
       "\n",
       "      fav_3  buy_3  brand_New              user_ad_pid  cnt_clk  cnt_nonclk  \\\n",
       "16        0      0  999999999  1029_715052_430539_1007        0           1   \n",
       "209       0      0  999999999  3829_218591_430548_1007        0           1   \n",
       "235       0      0     422876  4418_735368_430539_1007        0           1   \n",
       "682       0      0  999999999  2483_102655_430548_1007        0           1   \n",
       "1216      0      0      21837   167_502180_430548_1007        0           1   \n",
       "\n",
       "      cnt_percentage_total  click_or_not  \n",
       "16                     0.0             0  \n",
       "209                    0.0             0  \n",
       "235                    0.0             0  \n",
       "682                    0.0             0  \n",
       "1216                   0.0             0  \n",
       "\n",
       "[5 rows x 34 columns]"
      ]
     },
     "execution_count": 10,
     "metadata": {},
     "output_type": "execute_result"
    }
   ],
   "source": [
    "df_10k.head(5)"
   ]
  },
  {
   "cell_type": "code",
   "execution_count": 11,
   "metadata": {},
   "outputs": [
    {
     "data": {
      "text/plain": [
       "user                    False\n",
       "adgroup_id              False\n",
       "pid                     False\n",
       "cate_id                 False\n",
       "campaign_id             False\n",
       "customer                False\n",
       "price                   False\n",
       "cms_segid               False\n",
       "cms_group_id            False\n",
       "final_gender_code       False\n",
       "age_level               False\n",
       "pvalue_level            False\n",
       "shopping_level          False\n",
       "occupation              False\n",
       "new_user_class_level    False\n",
       "user_cate               False\n",
       "pv_1                    False\n",
       "cart_1                  False\n",
       "fav_1                   False\n",
       "buy_1                   False\n",
       "pv_2                    False\n",
       "cart_2                  False\n",
       "fav_2                   False\n",
       "buy_2                   False\n",
       "pv_3                    False\n",
       "cart_3                  False\n",
       "fav_3                   False\n",
       "buy_3                   False\n",
       "brand_New               False\n",
       "user_ad_pid             False\n",
       "cnt_clk                 False\n",
       "cnt_nonclk              False\n",
       "cnt_percentage_total    False\n",
       "click_or_not            False\n",
       "dtype: bool"
      ]
     },
     "execution_count": 11,
     "metadata": {},
     "output_type": "execute_result"
    }
   ],
   "source": [
    "df_10k.isnull().any()"
   ]
  },
  {
   "cell_type": "code",
   "execution_count": 12,
   "metadata": {},
   "outputs": [
    {
     "name": "stdout",
     "output_type": "stream",
     "text": [
      "<class 'pandas.core.frame.DataFrame'>\n",
      "Int64Index: 108588 entries, 16 to 23241904\n",
      "Data columns (total 34 columns):\n",
      "user                    108588 non-null int64\n",
      "adgroup_id              108588 non-null int64\n",
      "pid                     108588 non-null object\n",
      "cate_id                 108588 non-null int64\n",
      "campaign_id             108588 non-null int64\n",
      "customer                108588 non-null int64\n",
      "price                   108588 non-null float64\n",
      "cms_segid               108588 non-null int64\n",
      "cms_group_id            108588 non-null int64\n",
      "final_gender_code       108588 non-null int64\n",
      "age_level               108588 non-null int64\n",
      "pvalue_level            108588 non-null int64\n",
      "shopping_level          108588 non-null int64\n",
      "occupation              108588 non-null int64\n",
      "new_user_class_level    108588 non-null int64\n",
      "user_cate               108588 non-null object\n",
      "pv_1                    108588 non-null int64\n",
      "cart_1                  108588 non-null int64\n",
      "fav_1                   108588 non-null int64\n",
      "buy_1                   108588 non-null int64\n",
      "pv_2                    108588 non-null int64\n",
      "cart_2                  108588 non-null int64\n",
      "fav_2                   108588 non-null int64\n",
      "buy_2                   108588 non-null int64\n",
      "pv_3                    108588 non-null int64\n",
      "cart_3                  108588 non-null int64\n",
      "fav_3                   108588 non-null int64\n",
      "buy_3                   108588 non-null int64\n",
      "brand_New               108588 non-null int64\n",
      "user_ad_pid             108588 non-null object\n",
      "cnt_clk                 108588 non-null int64\n",
      "cnt_nonclk              108588 non-null int64\n",
      "cnt_percentage_total    108588 non-null float64\n",
      "click_or_not            108588 non-null int64\n",
      "dtypes: float64(2), int64(29), object(3)\n",
      "memory usage: 29.0+ MB\n"
     ]
    }
   ],
   "source": [
    "df_10k.info()"
   ]
  },
  {
   "cell_type": "code",
   "execution_count": 13,
   "metadata": {},
   "outputs": [
    {
     "data": {
      "text/plain": [
       "Index(['user', 'adgroup_id', 'pid', 'cate_id', 'campaign_id', 'customer',\n",
       "       'price', 'cms_segid', 'cms_group_id', 'final_gender_code', 'age_level',\n",
       "       'pvalue_level', 'shopping_level', 'occupation', 'new_user_class_level',\n",
       "       'user_cate', 'pv_1', 'cart_1', 'fav_1', 'buy_1', 'pv_2', 'cart_2',\n",
       "       'fav_2', 'buy_2', 'pv_3', 'cart_3', 'fav_3', 'buy_3', 'brand_New',\n",
       "       'user_ad_pid', 'cnt_clk', 'cnt_nonclk', 'cnt_percentage_total',\n",
       "       'click_or_not'],\n",
       "      dtype='object')"
      ]
     },
     "execution_count": 13,
     "metadata": {},
     "output_type": "execute_result"
    }
   ],
   "source": [
    "df_10k.columns"
   ]
  },
  {
   "cell_type": "markdown",
   "metadata": {},
   "source": [
    "## 整理表格"
   ]
  },
  {
   "cell_type": "code",
   "execution_count": 14,
   "metadata": {},
   "outputs": [],
   "source": [
    "df_10k = df_10k.drop('user_cate', axis = 1)\n",
    "df_10k = df_10k.drop('user_ad_pid', axis = 1)\n",
    "df_10k = df_10k.drop('cnt_percentage_total', axis = 1)\n",
    "df_10k = df_10k.drop('cnt_clk', axis = 1)\n",
    "df_10k = df_10k.drop('cnt_nonclk', axis = 1)"
   ]
  },
  {
   "cell_type": "code",
   "execution_count": 15,
   "metadata": {
    "scrolled": true
   },
   "outputs": [],
   "source": [
    "to_Obj =['user', 'adgroup_id', 'pid', 'cate_id', 'campaign_id', 'customer',\n",
    "       'cms_segid', 'cms_group_id', 'final_gender_code', 'age_level',\n",
    "       'pvalue_level', 'shopping_level', 'occupation', 'new_user_class_level',\n",
    "       'brand_New', 'click_or_not']\n",
    "for col in to_Obj:\n",
    "    df_10k[col]=df_10k[col].astype(str)\n"
   ]
  },
  {
   "cell_type": "code",
   "execution_count": 16,
   "metadata": {},
   "outputs": [],
   "source": [
    "to_int8 =['pv_1', 'cart_1',\n",
    "       'fav_1', 'buy_1', 'pv_2', 'cart_2', 'fav_2', 'buy_2', 'pv_3', 'cart_3',\n",
    "       'fav_3', 'buy_3']\n",
    "for col in to_int8:\n",
    "    df_10k[col]=df_10k[col].astype(np.int8)\n"
   ]
  },
  {
   "cell_type": "code",
   "execution_count": 17,
   "metadata": {},
   "outputs": [
    {
     "name": "stdout",
     "output_type": "stream",
     "text": [
      "<class 'pandas.core.frame.DataFrame'>\n",
      "Int64Index: 108588 entries, 16 to 23241904\n",
      "Data columns (total 29 columns):\n",
      "user                    108588 non-null object\n",
      "adgroup_id              108588 non-null object\n",
      "pid                     108588 non-null object\n",
      "cate_id                 108588 non-null object\n",
      "campaign_id             108588 non-null object\n",
      "customer                108588 non-null object\n",
      "price                   108588 non-null float64\n",
      "cms_segid               108588 non-null object\n",
      "cms_group_id            108588 non-null object\n",
      "final_gender_code       108588 non-null object\n",
      "age_level               108588 non-null object\n",
      "pvalue_level            108588 non-null object\n",
      "shopping_level          108588 non-null object\n",
      "occupation              108588 non-null object\n",
      "new_user_class_level    108588 non-null object\n",
      "pv_1                    108588 non-null int8\n",
      "cart_1                  108588 non-null int8\n",
      "fav_1                   108588 non-null int8\n",
      "buy_1                   108588 non-null int8\n",
      "pv_2                    108588 non-null int8\n",
      "cart_2                  108588 non-null int8\n",
      "fav_2                   108588 non-null int8\n",
      "buy_2                   108588 non-null int8\n",
      "pv_3                    108588 non-null int8\n",
      "cart_3                  108588 non-null int8\n",
      "fav_3                   108588 non-null int8\n",
      "buy_3                   108588 non-null int8\n",
      "brand_New               108588 non-null object\n",
      "click_or_not            108588 non-null object\n",
      "dtypes: float64(1), int8(12), object(16)\n",
      "memory usage: 16.2+ MB\n"
     ]
    }
   ],
   "source": [
    "df_10k.info()"
   ]
  },
  {
   "cell_type": "markdown",
   "metadata": {},
   "source": [
    "### split to train/test/val"
   ]
  },
  {
   "cell_type": "code",
   "execution_count": 18,
   "metadata": {},
   "outputs": [],
   "source": [
    "from sklearn.model_selection import train_test_split"
   ]
  },
  {
   "cell_type": "code",
   "execution_count": 19,
   "metadata": {},
   "outputs": [
    {
     "data": {
      "text/html": [
       "<div>\n",
       "<style scoped>\n",
       "    .dataframe tbody tr th:only-of-type {\n",
       "        vertical-align: middle;\n",
       "    }\n",
       "\n",
       "    .dataframe tbody tr th {\n",
       "        vertical-align: top;\n",
       "    }\n",
       "\n",
       "    .dataframe thead th {\n",
       "        text-align: right;\n",
       "    }\n",
       "</style>\n",
       "<table border=\"1\" class=\"dataframe\">\n",
       "  <thead>\n",
       "    <tr style=\"text-align: right;\">\n",
       "      <th></th>\n",
       "      <th>user</th>\n",
       "      <th>adgroup_id</th>\n",
       "      <th>pid</th>\n",
       "      <th>cate_id</th>\n",
       "      <th>campaign_id</th>\n",
       "      <th>customer</th>\n",
       "      <th>price</th>\n",
       "      <th>cms_segid</th>\n",
       "      <th>cms_group_id</th>\n",
       "      <th>final_gender_code</th>\n",
       "      <th>...</th>\n",
       "      <th>pv_2</th>\n",
       "      <th>cart_2</th>\n",
       "      <th>fav_2</th>\n",
       "      <th>buy_2</th>\n",
       "      <th>pv_3</th>\n",
       "      <th>cart_3</th>\n",
       "      <th>fav_3</th>\n",
       "      <th>buy_3</th>\n",
       "      <th>brand_New</th>\n",
       "      <th>click_or_not</th>\n",
       "    </tr>\n",
       "  </thead>\n",
       "  <tbody>\n",
       "    <tr>\n",
       "      <th>16</th>\n",
       "      <td>1029</td>\n",
       "      <td>715052</td>\n",
       "      <td>430539_1007</td>\n",
       "      <td>1665</td>\n",
       "      <td>353703</td>\n",
       "      <td>164557</td>\n",
       "      <td>299.0</td>\n",
       "      <td>92</td>\n",
       "      <td>11</td>\n",
       "      <td>1</td>\n",
       "      <td>...</td>\n",
       "      <td>35</td>\n",
       "      <td>0</td>\n",
       "      <td>0</td>\n",
       "      <td>0</td>\n",
       "      <td>22</td>\n",
       "      <td>0</td>\n",
       "      <td>0</td>\n",
       "      <td>0</td>\n",
       "      <td>999999999</td>\n",
       "      <td>0</td>\n",
       "    </tr>\n",
       "    <tr>\n",
       "      <th>209</th>\n",
       "      <td>3829</td>\n",
       "      <td>218591</td>\n",
       "      <td>430548_1007</td>\n",
       "      <td>6736</td>\n",
       "      <td>275364</td>\n",
       "      <td>34256</td>\n",
       "      <td>169.0</td>\n",
       "      <td>0</td>\n",
       "      <td>2</td>\n",
       "      <td>2</td>\n",
       "      <td>...</td>\n",
       "      <td>0</td>\n",
       "      <td>0</td>\n",
       "      <td>0</td>\n",
       "      <td>0</td>\n",
       "      <td>0</td>\n",
       "      <td>0</td>\n",
       "      <td>0</td>\n",
       "      <td>0</td>\n",
       "      <td>999999999</td>\n",
       "      <td>0</td>\n",
       "    </tr>\n",
       "    <tr>\n",
       "      <th>235</th>\n",
       "      <td>4418</td>\n",
       "      <td>735368</td>\n",
       "      <td>430539_1007</td>\n",
       "      <td>6300</td>\n",
       "      <td>118727</td>\n",
       "      <td>9197</td>\n",
       "      <td>333.0</td>\n",
       "      <td>34</td>\n",
       "      <td>4</td>\n",
       "      <td>2</td>\n",
       "      <td>...</td>\n",
       "      <td>10</td>\n",
       "      <td>0</td>\n",
       "      <td>0</td>\n",
       "      <td>0</td>\n",
       "      <td>6</td>\n",
       "      <td>0</td>\n",
       "      <td>0</td>\n",
       "      <td>0</td>\n",
       "      <td>422876</td>\n",
       "      <td>0</td>\n",
       "    </tr>\n",
       "    <tr>\n",
       "      <th>682</th>\n",
       "      <td>2483</td>\n",
       "      <td>102655</td>\n",
       "      <td>430548_1007</td>\n",
       "      <td>9713</td>\n",
       "      <td>189503</td>\n",
       "      <td>185484</td>\n",
       "      <td>24.0</td>\n",
       "      <td>0</td>\n",
       "      <td>4</td>\n",
       "      <td>2</td>\n",
       "      <td>...</td>\n",
       "      <td>0</td>\n",
       "      <td>0</td>\n",
       "      <td>0</td>\n",
       "      <td>0</td>\n",
       "      <td>16</td>\n",
       "      <td>0</td>\n",
       "      <td>0</td>\n",
       "      <td>0</td>\n",
       "      <td>999999999</td>\n",
       "      <td>0</td>\n",
       "    </tr>\n",
       "    <tr>\n",
       "      <th>1216</th>\n",
       "      <td>167</td>\n",
       "      <td>502180</td>\n",
       "      <td>430548_1007</td>\n",
       "      <td>8111</td>\n",
       "      <td>107738</td>\n",
       "      <td>51598</td>\n",
       "      <td>258.0</td>\n",
       "      <td>7</td>\n",
       "      <td>2</td>\n",
       "      <td>2</td>\n",
       "      <td>...</td>\n",
       "      <td>17</td>\n",
       "      <td>0</td>\n",
       "      <td>0</td>\n",
       "      <td>0</td>\n",
       "      <td>30</td>\n",
       "      <td>0</td>\n",
       "      <td>0</td>\n",
       "      <td>0</td>\n",
       "      <td>21837</td>\n",
       "      <td>0</td>\n",
       "    </tr>\n",
       "  </tbody>\n",
       "</table>\n",
       "<p>5 rows × 29 columns</p>\n",
       "</div>"
      ],
      "text/plain": [
       "      user adgroup_id          pid cate_id campaign_id customer  price  \\\n",
       "16    1029     715052  430539_1007    1665      353703   164557  299.0   \n",
       "209   3829     218591  430548_1007    6736      275364    34256  169.0   \n",
       "235   4418     735368  430539_1007    6300      118727     9197  333.0   \n",
       "682   2483     102655  430548_1007    9713      189503   185484   24.0   \n",
       "1216   167     502180  430548_1007    8111      107738    51598  258.0   \n",
       "\n",
       "     cms_segid cms_group_id final_gender_code      ...      pv_2 cart_2 fav_2  \\\n",
       "16          92           11                 1      ...        35      0     0   \n",
       "209          0            2                 2      ...         0      0     0   \n",
       "235         34            4                 2      ...        10      0     0   \n",
       "682          0            4                 2      ...         0      0     0   \n",
       "1216         7            2                 2      ...        17      0     0   \n",
       "\n",
       "     buy_2 pv_3  cart_3  fav_3  buy_3  brand_New  click_or_not  \n",
       "16       0   22       0      0      0  999999999             0  \n",
       "209      0    0       0      0      0  999999999             0  \n",
       "235      0    6       0      0      0     422876             0  \n",
       "682      0   16       0      0      0  999999999             0  \n",
       "1216     0   30       0      0      0      21837             0  \n",
       "\n",
       "[5 rows x 29 columns]"
      ]
     },
     "execution_count": 19,
     "metadata": {},
     "output_type": "execute_result"
    }
   ],
   "source": [
    "df_10k.head(5)"
   ]
  },
  {
   "cell_type": "code",
   "execution_count": 20,
   "metadata": {},
   "outputs": [],
   "source": [
    "#split 'target' in df_train & df_test\n",
    "x = df_10k.drop('click_or_not', axis = 1).values\n",
    "y = df_10k['click_or_not'].values\n",
    "\n",
    "train_x, test_x, train_y, test_y = train_test_split(x, y, test_size=0.3)\n",
    "divtest_x, val_x, divtest_y, val_y = train_test_split(test_x, test_y, test_size=0.5)"
   ]
  },
  {
   "cell_type": "code",
   "execution_count": 22,
   "metadata": {},
   "outputs": [],
   "source": [
    "df_10k_t1 = df_10k.drop('adgroup_id', axis = 1)\n",
    "df_10k_t1 = df_10k.drop('pid', axis = 1)\n",
    "df_10k_t1 = df_10k.drop('pvalue_level', axis = 1)\n",
    "df_10k_t1 = df_10k.drop('user', axis = 1)\n",
    "\n",
    "\n",
    "x1 = df_10k_t1.drop('click_or_not', axis = 1).values\n",
    "y1 = df_10k_t1['click_or_not'].values\n",
    "\n",
    "train1_x, test1_x, train1_y, test1_y = train_test_split(x1, y1, test_size=0.3)\n",
    "divtest1_x, val1_x, divtest1_y, val1_y = train_test_split(test1_x, test1_y, test_size=0.5)"
   ]
  },
  {
   "cell_type": "markdown",
   "metadata": {},
   "source": [
    "### Decision Tree"
   ]
  },
  {
   "cell_type": "code",
   "execution_count": 23,
   "metadata": {},
   "outputs": [],
   "source": [
    "from sklearn import tree\n",
    "from sklearn.metrics import classification_report"
   ]
  },
  {
   "cell_type": "code",
   "execution_count": 24,
   "metadata": {},
   "outputs": [
    {
     "name": "stdout",
     "output_type": "stream",
     "text": [
      "Wall time: 1.18 s\n"
     ]
    }
   ],
   "source": [
    "%%time\n",
    "clf=tree.DecisionTreeClassifier(class_weight=\"balanced\",criterion='gini', max_depth=6,\n",
    "            max_features=None, max_leaf_nodes=None,\n",
    "            min_impurity_decrease=0.0, min_impurity_split=None,\n",
    "            min_samples_leaf=1, min_samples_split=2,\n",
    "            min_weight_fraction_leaf=0.0, presort=False, random_state=1,\n",
    "            splitter='best')\n",
    "model=clf.fit(train_x,train_y)"
   ]
  },
  {
   "cell_type": "code",
   "execution_count": 25,
   "metadata": {},
   "outputs": [
    {
     "name": "stdout",
     "output_type": "stream",
     "text": [
      "             precision    recall  f1-score   support\n",
      "\n",
      "          0       0.96      0.53      0.69     71770\n",
      "          1       0.08      0.67      0.14      4241\n",
      "\n",
      "avg / total       0.92      0.54      0.66     76011\n",
      "\n",
      "             precision    recall  f1-score   support\n",
      "\n",
      "          0       0.96      0.52      0.68     15387\n",
      "          1       0.07      0.61      0.13       901\n",
      "\n",
      "avg / total       0.91      0.53      0.65     16288\n",
      "\n",
      "             precision    recall  f1-score   support\n",
      "\n",
      "          0       0.96      0.52      0.68     15332\n",
      "          1       0.08      0.64      0.14       957\n",
      "\n",
      "avg / total       0.91      0.53      0.65     16289\n",
      "\n",
      "Wall time: 1.52 s\n"
     ]
    }
   ],
   "source": [
    "%%time\n",
    "trainPredY=model.predict(train_x)\n",
    "testPredY=model.predict(divtest_x)\n",
    "valPredY=model.predict(val_x)\n",
    "\n",
    "print( classification_report(train_y,trainPredY) )\n",
    "print( classification_report(divtest_y,testPredY) )\n",
    "print( classification_report(val_y,valPredY) )"
   ]
  },
  {
   "cell_type": "markdown",
   "metadata": {},
   "source": [
    "# Random Forest"
   ]
  },
  {
   "cell_type": "code",
   "execution_count": 27,
   "metadata": {},
   "outputs": [],
   "source": [
    "from sklearn.metrics import classification_report\n",
    "from sklearn import tree\n",
    "from sklearn.ensemble.forest import RandomForestClassifier"
   ]
  },
  {
   "cell_type": "markdown",
   "metadata": {},
   "source": [
    "## param1: max_depth=5"
   ]
  },
  {
   "cell_type": "code",
   "execution_count": 28,
   "metadata": {},
   "outputs": [],
   "source": [
    "clf = RandomForestClassifier(bootstrap=True, class_weight='balanced',\n",
    "            criterion='gini', max_depth=4, max_features='auto',\n",
    "            max_leaf_nodes=None, min_impurity_decrease=0.0,\n",
    "            min_impurity_split=None, min_samples_leaf=1,\n",
    "            min_samples_split=2, min_weight_fraction_leaf=0.0,\n",
    "            n_estimators=100, n_jobs=1, oob_score=True, random_state=None,\n",
    "            verbose=0, warm_start=False)\n",
    "model=clf.fit(train_x,train_y)"
   ]
  },
  {
   "cell_type": "code",
   "execution_count": 29,
   "metadata": {},
   "outputs": [
    {
     "data": {
      "text/plain": [
       "0.49227085553406746"
      ]
     },
     "execution_count": 29,
     "metadata": {},
     "output_type": "execute_result"
    }
   ],
   "source": [
    "model.oob_score_"
   ]
  },
  {
   "cell_type": "code",
   "execution_count": 30,
   "metadata": {
    "scrolled": false
   },
   "outputs": [
    {
     "name": "stdout",
     "output_type": "stream",
     "text": [
      "             precision    recall  f1-score   support\n",
      "\n",
      "          0       0.97      0.48      0.64     71770\n",
      "          1       0.08      0.71      0.14      4241\n",
      "\n",
      "avg / total       0.92      0.50      0.62     76011\n",
      "\n",
      "             precision    recall  f1-score   support\n",
      "\n",
      "          0       0.96      0.47      0.63     15387\n",
      "          1       0.07      0.65      0.12       901\n",
      "\n",
      "avg / total       0.91      0.48      0.61     16288\n",
      "\n",
      "             precision    recall  f1-score   support\n",
      "\n",
      "          0       0.96      0.48      0.64     15332\n",
      "          1       0.08      0.68      0.14       957\n",
      "\n",
      "avg / total       0.91      0.49      0.61     16289\n",
      "\n",
      "Wall time: 2.37 s\n"
     ]
    }
   ],
   "source": [
    "%%time\n",
    "trainPredY=model.predict(train_x)\n",
    "testPredY=model.predict(divtest_x)\n",
    "valPredY=model.predict(val_x)\n",
    "\n",
    "print( classification_report(train_y,trainPredY) )\n",
    "print( classification_report(divtest_y,testPredY) )\n",
    "print( classification_report(val_y,valPredY) )"
   ]
  },
  {
   "cell_type": "markdown",
   "metadata": {},
   "source": [
    "#### feature importance"
   ]
  },
  {
   "cell_type": "code",
   "execution_count": 31,
   "metadata": {},
   "outputs": [
    {
     "data": {
      "text/plain": [
       "array([2.95212429e-02, 4.14430860e-02, 8.37830480e-04, 2.48860335e-02,\n",
       "       1.59164838e-02, 1.44382557e-02, 7.59366755e-02, 9.55114130e-03,\n",
       "       8.72683299e-03, 2.94955746e-03, 8.10391194e-03, 5.06819831e-03,\n",
       "       4.05763314e-03, 9.69363720e-04, 6.06167940e-03, 4.31733632e-02,\n",
       "       7.04245925e-03, 9.01059938e-03, 0.00000000e+00, 6.36034339e-02,\n",
       "       1.03043635e-02, 2.82623345e-02, 1.22012440e-04, 4.01817906e-01,\n",
       "       5.74215359e-02, 9.05877558e-02, 1.02197624e-02, 2.99665471e-02])"
      ]
     },
     "execution_count": 31,
     "metadata": {},
     "output_type": "execute_result"
    }
   ],
   "source": [
    "model.feature_importances_"
   ]
  },
  {
   "cell_type": "code",
   "execution_count": 32,
   "metadata": {},
   "outputs": [
    {
     "data": {
      "image/png": "[encoded data removed]",
      "text/plain": [
       "<Figure size 1296x576 with 1 Axes>"
      ]
     },
     "metadata": {},
     "output_type": "display_data"
    }
   ],
   "source": [
    "features = df_10k.drop('click_or_not', axis = 1).columns\n",
    "importances = model.feature_importances_\n",
    "indices = np.argsort(importances)\n",
    "plt.figure(figsize=(18,8))\n",
    "plt.title('Feature Importances')\n",
    "plt.barh(range(len(indices)), importances[indices], color='b', align='center')\n",
    "plt.yticks(range(len(indices)), [features[i] for i in indices])\n",
    "plt.xlabel('Relative Importance')\n",
    "plt.show()"
   ]
  },
  {
   "cell_type": "code",
   "execution_count": 33,
   "metadata": {},
   "outputs": [
    {
     "data": {
      "image/png": "[encoded data removed]",
      "text/plain": [
       "<Figure size 432x288 with 1 Axes>"
      ]
     },
     "metadata": {},
     "output_type": "display_data"
    }
   ],
   "source": [
    "train_y_ture = np.array(train_y)\n",
    "train_y_pred = model.oob_decision_function_ [:,1]\n",
    "train_fpr, train_tpr, thresholds = metrics.roc_curve(train_y_ture, train_y_pred, pos_label='1')\n",
    "train_auc = metrics.auc(train_fpr, train_tpr)\n",
    "\n",
    "test_y_ture = np.array(divtest_y)\n",
    "test_y_pred = model.predict_proba(divtest_x)[:,1]\n",
    "test_fpr, test_tpr, test_thresholds = metrics.roc_curve(test_y_ture, test_y_pred, pos_label='1')\n",
    "test_auc = metrics.auc(test_fpr, test_tpr)\n",
    "\n",
    "val_y_ture = np.array(val_y)\n",
    "val_y_pred = model.predict_proba(val_x)[:,1]\n",
    "val_fpr, val_tpr, val_thresholds = metrics.roc_curve(val_y_ture, val_y_pred, pos_label='1')\n",
    "val_auc = metrics.auc(val_fpr, val_tpr)\n",
    "\n",
    "plt.title('ROC Validation')\n",
    "plt.plot(train_fpr,train_tpr,'g',label='Train AUC = %0.2f'%train_auc)\n",
    "plt.plot(test_fpr,test_tpr,'b',label='Test AUC = %0.2f'%test_auc)\n",
    "plt.plot(val_fpr,val_tpr,'c',label='Test AUC = %0.2f'%val_auc)\n",
    "\n",
    "\n",
    "plt.legend(loc='lower right')\n",
    "plt.plot([0,1],[0,1],'r--')\n",
    "plt.xlim([0,1])\n",
    "plt.ylim([0,1])\n",
    "plt.ylabel('True Positive Rate')\n",
    "plt.xlabel('False Positive Rate')\n",
    "plt.show()"
   ]
  },
  {
   "cell_type": "code",
   "execution_count": null,
   "metadata": {},
   "outputs": [],
   "source": []
  },
  {
   "cell_type": "markdown",
   "metadata": {},
   "source": [
    "## param 2: n_estimators"
   ]
  },
  {
   "cell_type": "code",
   "execution_count": 34,
   "metadata": {},
   "outputs": [],
   "source": [
    "clf = RandomForestClassifier(bootstrap=True, class_weight='balanced',\n",
    "            criterion='gini', max_depth=5, max_features='auto',\n",
    "            max_leaf_nodes=None, min_impurity_decrease=0.0,\n",
    "            min_impurity_split=None, min_samples_leaf=1,\n",
    "            min_samples_split=2, min_weight_fraction_leaf=0.0,\n",
    "            n_estimators=150, n_jobs=1, oob_score=True, random_state=None,\n",
    "            verbose=0, warm_start=False)"
   ]
  },
  {
   "cell_type": "code",
   "execution_count": 35,
   "metadata": {
    "scrolled": false
   },
   "outputs": [
    {
     "name": "stdout",
     "output_type": "stream",
     "text": [
      "  test_auc: 0.6252642489995164\n",
      "  odel.oob_score_ : 0.526844798779124\n",
      "             precision    recall  f1-score   support\n",
      "\n",
      "          0       0.97      0.52      0.68     71770\n",
      "          1       0.08      0.71      0.14      4241\n",
      "\n",
      "avg / total       0.92      0.53      0.65     76011\n",
      "\n",
      "             precision    recall  f1-score   support\n",
      "\n",
      "          0       0.96      0.52      0.67     30719\n",
      "          1       0.07      0.64      0.13      1858\n",
      "\n",
      "avg / total       0.91      0.52      0.64     32577\n",
      "\n"
     ]
    }
   ],
   "source": [
    "model=clf.fit(train_x,train_y)\n",
    "trainPredY=model.predict(train_x)\n",
    "testPredY=model.predict(test_x)\n",
    "\n",
    "test_y_ture = np.array(test_y)\n",
    "test_y_pred = model.predict_proba(test_x)[:,1]\n",
    "test_fpr, test_tpr, test_thresholds = metrics.roc_curve(test_y_ture, test_y_pred, pos_label='1')\n",
    "test_auc = metrics.auc(test_fpr, test_tpr)\n",
    "\n",
    "print('  test_auc:',test_auc)\n",
    "print('  odel.oob_score_ :',model.oob_score_)\n",
    "print( classification_report(train_y,trainPredY) )\n",
    "print( classification_report(test_y,testPredY) )"
   ]
  },
  {
   "cell_type": "code",
   "execution_count": 36,
   "metadata": {},
   "outputs": [
    {
     "data": {
      "image/png": "[encoded data removed]",
      "text/plain": [
       "<Figure size 1296x576 with 1 Axes>"
      ]
     },
     "metadata": {},
     "output_type": "display_data"
    }
   ],
   "source": [
    "features = df_10k.drop('click_or_not', axis = 1).columns\n",
    "importances = model.feature_importances_\n",
    "indices = np.argsort(importances)\n",
    "plt.figure(figsize=(18,8))\n",
    "plt.title('Feature Importances')\n",
    "plt.barh(range(len(indices)), importances[indices], color='b', align='center')\n",
    "plt.yticks(range(len(indices)), [features[i] for i in indices])\n",
    "plt.xlabel('Relative Importance')\n",
    "plt.show()"
   ]
  },
  {
   "cell_type": "code",
   "execution_count": 37,
   "metadata": {},
   "outputs": [
    {
     "data": {
      "image/png": "[encoded data removed]",
      "text/plain": [
       "<Figure size 432x288 with 1 Axes>"
      ]
     },
     "metadata": {},
     "output_type": "display_data"
    }
   ],
   "source": [
    "train_y_ture = np.array(train_y)\n",
    "train_y_pred = model.oob_decision_function_ [:,1]\n",
    "train_fpr, train_tpr, thresholds = metrics.roc_curve(train_y_ture, train_y_pred, pos_label='1')\n",
    "train_auc = metrics.auc(train_fpr, train_tpr)\n",
    "\n",
    "test_y_ture = np.array(test_y)\n",
    "test_y_pred = model.predict_proba(test_x)[:,1]\n",
    "test_fpr, test_tpr, test_thresholds = metrics.roc_curve(test_y_ture, test_y_pred, pos_label='1')\n",
    "test_auc = metrics.auc(test_fpr, test_tpr)\n",
    "\n",
    "plt.title('ROC Validation')\n",
    "plt.plot(train_fpr,train_tpr,'b',label='Train AUC = %0.2f'%train_auc, color = 'green')\n",
    "plt.plot(test_fpr,test_tpr,'b',label='Test AUC = %0.2f'%test_auc)\n",
    "\n",
    "plt.legend(loc='lower right')\n",
    "plt.plot([0,1],[0,1],'r--')\n",
    "plt.xlim([0,1])\n",
    "plt.ylim([0,1])\n",
    "plt.ylabel('True Positive Rate')\n",
    "plt.xlabel('False Positive Rate')\n",
    "plt.show()"
   ]
  },
  {
   "cell_type": "code",
   "execution_count": null,
   "metadata": {},
   "outputs": [],
   "source": []
  },
  {
   "cell_type": "markdown",
   "metadata": {},
   "source": [
    "## gridsearch"
   ]
  },
  {
   "cell_type": "code",
   "execution_count": null,
   "metadata": {},
   "outputs": [],
   "source": [
    "from sklearn.model_selection import GridSearchCV"
   ]
  },
  {
   "cell_type": "code",
   "execution_count": null,
   "metadata": {},
   "outputs": [],
   "source": [
    "clf = RandomForestClassifier(bootstrap=True, class_weight='balanced',\n",
    "            criterion='entropy',max_features='auto',\n",
    "            max_leaf_nodes=None, min_impurity_decrease=0.0,\n",
    "            min_impurity_split=None, min_samples_leaf=105,\n",
    "            min_samples_split=2, min_weight_fraction_leaf=0.0,\n",
    "            n_jobs=1, oob_score=True, random_state=1,\n",
    "            verbose=0, warm_start=False)"
   ]
  },
  {
   "cell_type": "code",
   "execution_count": null,
   "metadata": {},
   "outputs": [],
   "source": [
    "param_grid = { \n",
    "    'n_estimators': [150, 200],\n",
    "    'max_depth' : [4,5,6,7,8],\n",
    "    \n",
    "}"
   ]
  },
  {
   "cell_type": "code",
   "execution_count": null,
   "metadata": {},
   "outputs": [],
   "source": [
    "CV_rfc = GridSearchCV(estimator=clf, param_grid=param_grid, cv= 5)\n",
    "CV_rfc.fit(train_x, train_y)"
   ]
  },
  {
   "cell_type": "code",
   "execution_count": null,
   "metadata": {},
   "outputs": [],
   "source": [
    "CV_rfc.best_params_"
   ]
  },
  {
   "cell_type": "markdown",
   "metadata": {},
   "source": [
    "## param3"
   ]
  },
  {
   "cell_type": "code",
   "execution_count": null,
   "metadata": {},
   "outputs": [],
   "source": [
    "# n_estimators =[150,250,200,250]\n",
    "# for i in n_estimators:\n",
    "#     clf = RandomForestClassifier(bootstrap=True, class_weight='balanced_subsample',\n",
    "#                 criterion='entropy', max_depth=5, max_features='auto',\n",
    "#                 max_leaf_nodes=None, min_impurity_decrease=0.0,\n",
    "#                 min_impurity_split=None, min_samples_leaf=50,\n",
    "#                 min_samples_split=2, min_weight_fraction_leaf=0.0,\n",
    "#                 n_estimators=i, n_jobs=1, oob_score=True, random_state=1,\n",
    "#                 verbose=0, warm_start=False)\n",
    "\n",
    "#     model=clf.fit(train_x,train_y)\n",
    "#     trainPredY=model.predict(train_x)\n",
    "#     testPredY=model.predict(test_x)\n",
    "#     test_y_ture = np.array(test_y)\n",
    "#     test_y_pred = model.predict_proba(test_x)[:,1]\n",
    "#     test_fpr, test_tpr, test_thresholds = metrics.roc_curve(test_y_ture, test_y_pred, pos_label='1')\n",
    "#     test_auc = metrics.auc(test_fpr, test_tpr)\n",
    "\n",
    "#     print('max_depth -------------------->', i)\n",
    "#     print('  test_auc:',test_auc)\n",
    "#     print('model.oob_score_ :',model.oob_score_)\n",
    "# #     print( classification_report(train_y,trainPredY) )\n",
    "#     print( classification_report(test_y,testPredY) )"
   ]
  },
  {
   "cell_type": "code",
   "execution_count": 38,
   "metadata": {},
   "outputs": [],
   "source": [
    "clf = RandomForestClassifier(bootstrap=True, class_weight='balanced',\n",
    "            criterion='entropy', max_depth=6, max_features='auto',\n",
    "            max_leaf_nodes=None, min_impurity_decrease=0.0,\n",
    "            min_impurity_split=None, min_samples_leaf=250,\n",
    "            min_samples_split=2, min_weight_fraction_leaf=0.0,\n",
    "            n_estimators=100, n_jobs=1, oob_score=True, random_state=1,\n",
    "            verbose=0, warm_start=False)"
   ]
  },
  {
   "cell_type": "code",
   "execution_count": 39,
   "metadata": {},
   "outputs": [
    {
     "name": "stdout",
     "output_type": "stream",
     "text": [
      "  test_auc: 0.6277028876389898\n",
      "  model.oob_score_ : 0.5359092762889581\n",
      "             precision    recall  f1-score   support\n",
      "\n",
      "          0       0.97      0.53      0.69     71770\n",
      "          1       0.08      0.71      0.15      4241\n",
      "\n",
      "avg / total       0.92      0.54      0.66     76011\n",
      "\n",
      "             precision    recall  f1-score   support\n",
      "\n",
      "          0       0.96      0.53      0.68     30719\n",
      "          1       0.08      0.65      0.14      1858\n",
      "\n",
      "avg / total       0.91      0.53      0.65     32577\n",
      "\n"
     ]
    }
   ],
   "source": [
    "model=clf.fit(train_x,train_y)\n",
    "trainPredY=model.predict(train_x)\n",
    "testPredY=model.predict(test_x)\n",
    "\n",
    "test_y_ture = np.array(test_y)\n",
    "test_y_pred = model.predict_proba(test_x)[:,1]\n",
    "test_fpr, test_tpr, test_thresholds = metrics.roc_curve(test_y_ture, test_y_pred, pos_label='1')\n",
    "test_auc = metrics.auc(test_fpr, test_tpr)\n",
    "\n",
    "print('  test_auc:',test_auc)\n",
    "print('  model.oob_score_ :',model.oob_score_)\n",
    "print( classification_report(train_y,trainPredY) )\n",
    "print( classification_report(test_y,testPredY) )"
   ]
  },
  {
   "cell_type": "code",
   "execution_count": 40,
   "metadata": {},
   "outputs": [
    {
     "data": {
      "image/png": "[encoded data removed]",
      "text/plain": [
       "<Figure size 432x288 with 1 Axes>"
      ]
     },
     "metadata": {},
     "output_type": "display_data"
    }
   ],
   "source": [
    "train_y_ture = np.array(train_y)\n",
    "train_y_pred = model.oob_decision_function_ [:,1]\n",
    "train_fpr, train_tpr, thresholds = metrics.roc_curve(train_y_ture, train_y_pred, pos_label='1')\n",
    "train_auc = metrics.auc(train_fpr, train_tpr)\n",
    "\n",
    "\n",
    "test_y_ture = np.array(test_y)\n",
    "test_y_pred = model.predict_proba(test_x)[:,1]\n",
    "test_fpr, test_tpr, test_thresholds = metrics.roc_curve(test_y_ture, test_y_pred, pos_label='1')\n",
    "test_auc = metrics.auc(test_fpr, test_tpr)\n",
    "\n",
    "plt.title('ROC Validation')\n",
    "plt.plot(train_fpr,train_tpr,'b',label='Train AUC = %0.2f'%train_auc, color = 'green')\n",
    "plt.plot(test_fpr,test_tpr,'b',label='Test AUC = %0.2f'%test_auc)\n",
    "plt.legend(loc='lower right')\n",
    "plt.plot([0,1],[0,1],'r--')\n",
    "plt.xlim([0,1]); plt.ylim([0,1])\n",
    "plt.ylabel('True Positive Rate'); plt.xlabel('False Positive Rate')\n",
    "plt.show()"
   ]
  },
  {
   "cell_type": "code",
   "execution_count": 41,
   "metadata": {},
   "outputs": [],
   "source": [
    "from sklearn.metrics import accuracy_score, confusion_matrix, precision_recall_fscore_support"
   ]
  },
  {
   "cell_type": "code",
   "execution_count": 48,
   "metadata": {},
   "outputs": [
    {
     "data": {
      "image/png": "[encoded data removed]",
      "text/plain": [
       "<Figure size 396x288 with 2 Axes>"
      ]
     },
     "metadata": {},
     "output_type": "display_data"
    }
   ],
   "source": [
    "# Creates a confusion matrix\n",
    "cm = confusion_matrix(test_y, testPredY) \n",
    "\n",
    "# Transform to df for easier plotting\n",
    "cm_df = pd.DataFrame(cm,\n",
    "                     index = ['0','1'], \n",
    "                     columns = ['0','1'])\n",
    "\n",
    "plt.figure(figsize=(5.5,4))\n",
    "sns.heatmap(cm_df, annot=True)\n",
    "plt.title('Random Forest \\nAccuracy:{0:.3f}'.format(accuracy_score(test_y, testPredY)))\n",
    "plt.ylabel('True label')\n",
    "plt.xlabel('Predicted label')\n",
    "plt.show()\n"
   ]
  },
  {
   "cell_type": "code",
   "execution_count": null,
   "metadata": {},
   "outputs": [],
   "source": [
    "model.feature_importances_"
   ]
  },
  {
   "cell_type": "code",
   "execution_count": null,
   "metadata": {},
   "outputs": [],
   "source": []
  },
  {
   "cell_type": "code",
   "execution_count": null,
   "metadata": {},
   "outputs": [],
   "source": []
  },
  {
   "cell_type": "code",
   "execution_count": null,
   "metadata": {},
   "outputs": [],
   "source": []
  },
  {
   "cell_type": "code",
   "execution_count": null,
   "metadata": {},
   "outputs": [],
   "source": []
  },
  {
   "cell_type": "markdown",
   "metadata": {},
   "source": [
    "# test1"
   ]
  },
  {
   "cell_type": "code",
   "execution_count": null,
   "metadata": {},
   "outputs": [],
   "source": [
    "# n_estimators =[150,250,200,250]\n",
    "# for i in n_estimators:\n",
    "#     clf = RandomForestClassifier(bootstrap=True, class_weight='balanced_subsample',\n",
    "#                 criterion='entropy', max_depth=5, max_features='auto',\n",
    "#                 max_leaf_nodes=None, min_impurity_decrease=0.0,\n",
    "#                 min_impurity_split=None, min_samples_leaf=50,\n",
    "#                 min_samples_split=2, min_weight_fraction_leaf=0.0,\n",
    "#                 n_estimators=i, n_jobs=1, oob_score=True, random_state=1,\n",
    "#                 verbose=0, warm_start=False)\n",
    "\n",
    "#     model=clf.fit(train_x,train_y)\n",
    "#     trainPredY=model.predict(train_x)\n",
    "#     testPredY=model.predict(test_x)\n",
    "#     test_y_ture = np.array(test_y)\n",
    "#     test_y_pred = model.predict_proba(test_x)[:,1]\n",
    "#     test_fpr, test_tpr, test_thresholds = metrics.roc_curve(test_y_ture, test_y_pred, pos_label='1')\n",
    "#     test_auc = metrics.auc(test_fpr, test_tpr)\n",
    "\n",
    "#     print('max_depth -------------------->', i)\n",
    "#     print('  test_auc:',test_auc)\n",
    "#     print('model.oob_score_ :',model.oob_score_)\n",
    "# #     print( classification_report(train_y,trainPredY) )\n",
    "#     print( classification_report(test_y,testPredY) )"
   ]
  },
  {
   "cell_type": "code",
   "execution_count": 58,
   "metadata": {},
   "outputs": [],
   "source": [
    "clf = RandomForestClassifier(bootstrap=True, class_weight='balanced',\n",
    "            criterion='entropy', max_depth=5, max_features='auto',\n",
    "            max_leaf_nodes=None, min_impurity_decrease=0.0,\n",
    "            min_impurity_split=None, min_samples_leaf=100,\n",
    "            min_samples_split=2, min_weight_fraction_leaf=0.0,\n",
    "            n_estimators=50, n_jobs=1, oob_score=True, random_state=1,\n",
    "            verbose=0, warm_start=False)"
   ]
  },
  {
   "cell_type": "code",
   "execution_count": 59,
   "metadata": {},
   "outputs": [
    {
     "name": "stdout",
     "output_type": "stream",
     "text": [
      "  test_auc: 0.6248019526144633\n",
      "  model.oob_score_ : 0.5221086421702122\n",
      "             precision    recall  f1-score   support\n",
      "\n",
      "          0       0.94      0.50      0.66     71770\n",
      "          1       0.06      0.50      0.10      4241\n",
      "\n",
      "avg / total       0.90      0.50      0.63     76011\n",
      "\n",
      "             precision    recall  f1-score   support\n",
      "\n",
      "          0       0.94      0.50      0.66     30719\n",
      "          1       0.06      0.49      0.10      1858\n",
      "\n",
      "avg / total       0.89      0.50      0.62     32577\n",
      "\n"
     ]
    }
   ],
   "source": [
    "model=clf.fit(train1_x,train1_y)\n",
    "trainPredY=model.predict(train1_x)\n",
    "testPredY=model.predict(test1_x)\n",
    "\n",
    "test_y_ture = np.array(test1_y)\n",
    "test_y_pred = model.predict_proba(test1_x)[:,1]\n",
    "test_fpr, test_tpr, test_thresholds = metrics.roc_curve(test_y_ture, test_y_pred, pos_label='1')\n",
    "test_auc = metrics.auc(test_fpr, test_tpr)\n",
    "\n",
    "print('  test_auc:',test_auc)\n",
    "print('  model.oob_score_ :',model.oob_score_)\n",
    "print( classification_report(train_y,trainPredY) )\n",
    "print( classification_report(test_y,testPredY) )"
   ]
  },
  {
   "cell_type": "code",
   "execution_count": 54,
   "metadata": {},
   "outputs": [
    {
     "data": {
      "image/png": "[encoded data removed]",
      "text/plain": [
       "<Figure size 432x288 with 1 Axes>"
      ]
     },
     "metadata": {},
     "output_type": "display_data"
    }
   ],
   "source": [
    "train_y_ture = np.array(train1_y)\n",
    "train_y_pred = model.oob_decision_function_ [:,1]\n",
    "train_fpr, train_tpr, thresholds = metrics.roc_curve(train_y_ture, train_y_pred, pos_label='1')\n",
    "train_auc = metrics.auc(train_fpr, train_tpr)\n",
    "\n",
    "\n",
    "test_y_ture = np.array(test1_y)\n",
    "test_y_pred = model.predict_proba(test1_x)[:,1]\n",
    "test_fpr, test_tpr, test_thresholds = metrics.roc_curve(test_y_ture, test_y_pred, pos_label='1')\n",
    "test_auc = metrics.auc(test_fpr, test_tpr)\n",
    "\n",
    "plt.title('ROC Validation')\n",
    "plt.plot(train_fpr,train_tpr,'b',label='Train AUC = %0.2f'%train_auc, color = 'green')\n",
    "plt.plot(test_fpr,test_tpr,'b',label='Test AUC = %0.2f'%test_auc)\n",
    "plt.legend(loc='lower right')\n",
    "plt.plot([0,1],[0,1],'r--')\n",
    "plt.xlim([0,1]); plt.ylim([0,1])\n",
    "plt.ylabel('True Positive Rate'); plt.xlabel('False Positive Rate')\n",
    "plt.show()"
   ]
  },
  {
   "cell_type": "code",
   "execution_count": 41,
   "metadata": {},
   "outputs": [],
   "source": [
    "from sklearn.metrics import accuracy_score, confusion_matrix, precision_recall_fscore_support"
   ]
  },
  {
   "cell_type": "code",
   "execution_count": 48,
   "metadata": {},
   "outputs": [
    {
     "data": {
      "image/png": "[encoded data removed]",
      "text/plain": [
       "<Figure size 396x288 with 2 Axes>"
      ]
     },
     "metadata": {},
     "output_type": "display_data"
    }
   ],
   "source": [
    "# Creates a confusion matrix\n",
    "cm = confusion_matrix(test_y, testPredY) \n",
    "\n",
    "# Transform to df for easier plotting\n",
    "cm_df = pd.DataFrame(cm,\n",
    "                     index = ['0','1'], \n",
    "                     columns = ['0','1'])\n",
    "\n",
    "plt.figure(figsize=(5.5,4))\n",
    "sns.heatmap(cm_df, annot=True)\n",
    "plt.title('Random Forest \\nAccuracy:{0:.3f}'.format(accuracy_score(test_y, testPredY)))\n",
    "plt.ylabel('True label')\n",
    "plt.xlabel('Predicted label')\n",
    "plt.show()\n"
   ]
  },
  {
   "cell_type": "code",
   "execution_count": null,
   "metadata": {},
   "outputs": [],
   "source": [
    "model.feature_importances_"
   ]
  }
 ],
 "metadata": {
  "kernelspec": {
   "display_name": "Python 3",
   "language": "python",
   "name": "python3"
  },
  "language_info": {
   "codemirror_mode": {
    "name": "ipython",
    "version": 3
   },
   "file_extension": ".py",
   "mimetype": "text/x-python",
   "name": "python",
   "nbconvert_exporter": "python",
   "pygments_lexer": "ipython3",
   "version": "3.6.5"
  }
 },
 "nbformat": 4,
 "nbformat_minor": 2
}
