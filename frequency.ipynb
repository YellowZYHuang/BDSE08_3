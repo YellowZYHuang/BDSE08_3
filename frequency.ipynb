{
 "cells": [
  {
   "cell_type": "code",
   "execution_count": 1,
   "metadata": {},
   "outputs": [],
   "source": [
    "import pandas as pd\n",
    "import matplotlib.pyplot as plt\n",
    "import seaborn as sns\n",
    "sns.set()\n",
    "import numpy as np\n",
    "from bokeh.io import output_file,show,output_notebook,push_notebook\n",
    "from bokeh.plotting import output_file,show,figure\n",
    "from bokeh.models import ColumnDataSource,HoverTool,CategoricalColorMapper\n",
    "from bokeh.layouts import row,column,gridplot\n",
    "from bokeh.models.widgets import Tabs,Panel"
   ]
  },
  {
   "cell_type": "code",
   "execution_count": null,
   "metadata": {},
   "outputs": [],
   "source": [
    "# plot = figure(x_axis_label = \"x\",y_axis_label = \"y\")\n",
    "# plot.circle(x=[5,4,3,2,1],y=[1,2,3,4,5],size = 10,color = \"black\",alpha = 0.7)\n",
    "# output_file(\"my_first_bokeh_plot_relative.html\", mode = 'inline')\n",
    "# show(plot)"
   ]
  },
  {
   "cell_type": "code",
   "execution_count": 2,
   "metadata": {},
   "outputs": [],
   "source": [
    "col_nullcnt_y = [0,0,0,0,0,0,0,0,8291694,0,1528526,1528526,1528526,1528526,14552798, \\\n",
    "                 1528526,1528526,8224829,0,1141355,1141355,1141355,1141355,1141355,1141355,\\\n",
    "                 1141355,1141355,1141355,1141355,1141355,1141355]"
   ]
  },
  {
   "cell_type": "code",
   "execution_count": 3,
   "metadata": {},
   "outputs": [],
   "source": [
    "col_nullcnt_x = ['user', 'time_stamp', 'adgroup_id', 'pid', 'clk', 'cate_id', 'campaign_id', 'customer', 'brand',\\\n",
    "               'price', 'cms_segid', 'cms_group_id', 'final_gender_code', 'age_level', 'pvalue_level', 'shopping_level',\\\n",
    "               'occupation', 'new_user_class_level', 'user_cate', 'pv_1', 'cart_1', 'fav_1', 'buy_1', 'pv_2', 'cart_2',\\\n",
    "               'fav_2', 'buy_2', 'pv_3', 'cart_3', 'fav_3', 'buy_3']"
   ]
  },
  {
   "cell_type": "code",
   "execution_count": 4,
   "metadata": {},
   "outputs": [],
   "source": [
    "plot = figure(x_axis_label = \"x\",y_axis_label = \"y\")\n",
    "plot.circle(x = col_nullcnt_x,y = col_nullcnt_y,size = 10,color = \"black\",alpha = 0.7)\n",
    "output_file(\"missing_value.html\", mode = 'inline')\n",
    "show(plot)"
   ]
  }
 ],
 "metadata": {
  "kernelspec": {
   "display_name": "Python 3",
   "language": "python",
   "name": "python3"
  },
  "language_info": {
   "codemirror_mode": {
    "name": "ipython",
    "version": 3
   },
   "file_extension": ".py",
   "mimetype": "text/x-python",
   "name": "python",
   "nbconvert_exporter": "python",
   "pygments_lexer": "ipython3",
   "version": "3.6.3"
  }
 },
 "nbformat": 4,
 "nbformat_minor": 2
}
